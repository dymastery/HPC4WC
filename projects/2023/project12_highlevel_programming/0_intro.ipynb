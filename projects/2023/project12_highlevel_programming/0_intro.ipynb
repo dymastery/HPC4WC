{
 "cells": [
  {
   "cell_type": "markdown",
   "id": "239716ed-5e80-43e7-bab6-8bfa27944aeb",
   "metadata": {},
   "source": [
    "This notebook tests that required modules can be imported. It also contains a few examples of the functions in `common.py` to initialize the fields, and calculations of the theoretical peaks that will be used in the following notebooks."
   ]
  },
  {
   "cell_type": "markdown",
   "id": "f8605542-b86d-4675-9bf0-a12e364db41e",
   "metadata": {},
   "source": [
    "# Testing the setup"
   ]
  },
  {
   "cell_type": "code",
   "execution_count": null,
   "id": "2a5218f8-0fac-4d83-9eaa-b3ced875a8f5",
   "metadata": {},
   "outputs": [],
   "source": [
    "import os\n",
    "# Remove warning when importing Taichi due to old glibc\n",
    "os.environ[\"TI_MANYLINUX2014_OK\"] = \"1\"\n",
    "import time\n",
    "import numpy\n",
    "import numba\n",
    "import numexpr\n",
    "import taichi\n",
    "import matplotlib\n",
    "import gt4py"
   ]
  },
  {
   "cell_type": "markdown",
   "id": "1a516344-d146-4a71-9b5d-08b88bc8d8e3",
   "metadata": {},
   "source": [
    "# Initializing fields"
   ]
  },
  {
   "cell_type": "code",
   "execution_count": null,
   "id": "ead461bc-b4f9-4b25-84e8-f42e91ae718e",
   "metadata": {},
   "outputs": [],
   "source": [
    "from common import initialize_field, plot_field, save_result, compare_results"
   ]
  },
  {
   "cell_type": "code",
   "execution_count": null,
   "id": "6ae776aa-7b74-4142-88a1-633fede9be63",
   "metadata": {},
   "outputs": [],
   "source": [
    "NX = 128\n",
    "NY = 128\n",
    "NZ = 80"
   ]
  },
  {
   "cell_type": "markdown",
   "id": "4ad805b5-68df-4846-8fdc-db2f7606db54",
   "metadata": {},
   "source": [
    "### Initial values\n",
    "\n",
    "We can initialize the 3D fields with a few different patterns: random, horizontal bars, vertical bars and a square."
   ]
  },
  {
   "cell_type": "code",
   "execution_count": null,
   "id": "c80a9e50-5d18-4957-bf2f-b6cfeae9d81c",
   "metadata": {},
   "outputs": [],
   "source": [
    "field = initialize_field(NX, NY, NZ, mode=\"random\")\n",
    "plot_field(field)"
   ]
  },
  {
   "cell_type": "code",
   "execution_count": null,
   "id": "8b2a1407-ba2e-4387-aa57-f96a1f340d89",
   "metadata": {},
   "outputs": [],
   "source": [
    "field = initialize_field(NX, NY, NZ, mode=\"random\", num_halo=10)\n",
    "plot_field(field)"
   ]
  },
  {
   "cell_type": "code",
   "execution_count": null,
   "id": "134c4683-485c-4562-a943-7b2260a8eb60",
   "metadata": {},
   "outputs": [],
   "source": [
    "field = initialize_field(NX, NY, NZ, mode=\"horizontal-bars\")\n",
    "plot_field(field)"
   ]
  },
  {
   "cell_type": "code",
   "execution_count": null,
   "id": "62157694-64e0-4ab8-be05-64428d468133",
   "metadata": {},
   "outputs": [],
   "source": [
    "field = initialize_field(NX, NY, NZ, mode=\"horizontal-bars\", num_halo=10)\n",
    "plot_field(field)"
   ]
  },
  {
   "cell_type": "code",
   "execution_count": null,
   "id": "070e2292-0b51-4be9-8b2b-d60aa0e12a65",
   "metadata": {},
   "outputs": [],
   "source": [
    "field = initialize_field(NX, NY, NZ, mode=\"vertical-bars\")\n",
    "plot_field(field)"
   ]
  },
  {
   "cell_type": "code",
   "execution_count": null,
   "id": "8a165a4a-4afd-446f-8189-71d807f387c4",
   "metadata": {},
   "outputs": [],
   "source": [
    "field = initialize_field(NX, NY, NZ, mode=\"vertical-bars\", num_halo=10)\n",
    "plot_field(field)"
   ]
  },
  {
   "cell_type": "code",
   "execution_count": null,
   "id": "cb26ff64-bd22-4735-8820-e7b3d858be96",
   "metadata": {},
   "outputs": [],
   "source": [
    "field = initialize_field(NX, NY, NZ, mode=\"square\")\n",
    "plot_field(field)"
   ]
  },
  {
   "cell_type": "markdown",
   "id": "943cd415-606d-4c1f-8622-74aa6ad3535a",
   "metadata": {},
   "source": [
    "### Dimensions order"
   ]
  },
  {
   "cell_type": "markdown",
   "id": "95baa8e6-7264-4322-9438-64bfb4d177f9",
   "metadata": {},
   "source": [
    "The underlying order of the dimensions in the NumPy arrays can be changed to any of the 6 possible permutations by using the kwarg `dim_order`. Plotting the field will still work as expected if we use the same kwarg there."
   ]
  },
  {
   "cell_type": "code",
   "execution_count": null,
   "id": "f6931dfd-d782-4872-a1ce-a88ce254b1c8",
   "metadata": {},
   "outputs": [],
   "source": [
    "dim_order = \"ZXY\"\n",
    "field = initialize_field(NX, NY, NZ, dim_order=dim_order, mode=\"horizontal-bars\")\n",
    "plot_field(field, dim_order=dim_order)\n",
    "field.shape"
   ]
  },
  {
   "cell_type": "code",
   "execution_count": null,
   "id": "8fd547c3-b8dc-4cdd-8653-b4cc2157fe09",
   "metadata": {},
   "outputs": [],
   "source": [
    "dim_order = \"YZX\"\n",
    "field = initialize_field(NX, NY, NZ, dim_order=dim_order, mode=\"horizontal-bars\")\n",
    "plot_field(field, dim_order=dim_order)\n",
    "field.shape"
   ]
  },
  {
   "cell_type": "markdown",
   "id": "a05ee346-c1f3-4963-9668-eb699861212d",
   "metadata": {},
   "source": [
    "### C-style (row-major) and Fortran-style (col-major) arrays\n",
    "\n",
    "Finally, NumPy arrays can be stored row-major or col-major. More details for N-dimensional arrays will be explained in the [lists and NumPy notebook](./1_lists_numpy.ipynb)"
   ]
  },
  {
   "cell_type": "code",
   "execution_count": null,
   "id": "4229cb2c-3ed4-4eb5-8575-2e4ede60b6d1",
   "metadata": {},
   "outputs": [],
   "source": [
    "field = initialize_field(NX, NY, NZ, array_order=\"C\")\n",
    "print(field.flags)\n",
    "print(field.shape)\n",
    "print(field.strides)"
   ]
  },
  {
   "cell_type": "code",
   "execution_count": null,
   "id": "cc15a2c8-30d4-4cf8-8217-35d79f77b9f0",
   "metadata": {},
   "outputs": [],
   "source": [
    "field = initialize_field(NX, NY, NZ, array_order=\"F\")\n",
    "print(field.flags)\n",
    "print(field.shape)\n",
    "print(field.strides)"
   ]
  },
  {
   "cell_type": "markdown",
   "id": "30072188-97b7-4d4b-b427-b28820d8eb4c",
   "metadata": {},
   "source": [
    "# Benchmarking in Jupyter\n",
    "\n",
    "\n",
    "### Measuring running times\n",
    "\n",
    "Since we will be working with Python code all the project, we will run all the tests, examples and benchmarks in Jupyter notebooks. In order to measure benchmark we will use the built-in magic commands `%timeit` and`%%timeit`.\n",
    "\n",
    "According to [the IPython documentation](https://ipython.readthedocs.io/en/stable/interactive/magics.html#magic-timeit)\n",
    "\n",
    "> In cell mode, the statement in the first line is used as setup code (executed but not timed) and the body of the cell is timed. The cell body has access to any variables created in the setup code.\n",
    "\n",
    "Let's quickly verify this"
   ]
  },
  {
   "cell_type": "code",
   "execution_count": null,
   "id": "fdd90494-f6e4-4938-8b62-5bb49c3288f2",
   "metadata": {},
   "outputs": [],
   "source": [
    "%%timeit\n",
    "1 + 1"
   ]
  },
  {
   "cell_type": "code",
   "execution_count": null,
   "id": "600d84cc-d25c-4517-8d71-06f3e37c1f15",
   "metadata": {},
   "outputs": [],
   "source": [
    "%%timeit\n",
    "time.sleep(1)  # This line is executed and measured\n",
    "1 + 1"
   ]
  },
  {
   "cell_type": "code",
   "execution_count": null,
   "id": "1c3246c9-e355-4de3-9d71-cd195d767412",
   "metadata": {},
   "outputs": [],
   "source": [
    "%%timeit time.sleep(1)  # This line is executed but not measured\n",
    "1 + 1"
   ]
  },
  {
   "cell_type": "markdown",
   "id": "b9f8788f-2268-480a-b620-4b598aaf38e8",
   "metadata": {},
   "source": [
    "For slow cells (>5s) we will limit the number of repetitions to just 3 using `%%timeit -n1 -r3`"
   ]
  },
  {
   "cell_type": "code",
   "execution_count": null,
   "id": "492da633-a936-4002-8adf-90507f077e28",
   "metadata": {},
   "outputs": [],
   "source": [
    "%%timeit -n1 -r3\n",
    "time.sleep(3)  # By default, %%timeit would repeat this cell 7 times"
   ]
  },
  {
   "cell_type": "markdown",
   "id": "c9e7b3a6-9c08-4646-8a9f-78489d28b6be",
   "metadata": {},
   "source": [
    "The output of the magic command can be saved to a variable using the other built-in magic command `%capture`"
   ]
  },
  {
   "cell_type": "code",
   "execution_count": null,
   "id": "8d6e72b3-d053-4f62-8b04-ef35d8ed1019",
   "metadata": {},
   "outputs": [],
   "source": [
    "%%capture result\n",
    "%%timeit -n1 -r3\n",
    "time.sleep(3)"
   ]
  },
  {
   "cell_type": "code",
   "execution_count": null,
   "id": "9ce3ef9c-b123-4a08-aa02-56e70859a025",
   "metadata": {},
   "outputs": [],
   "source": [
    "print(type(result))\n",
    "print(result)"
   ]
  },
  {
   "cell_type": "markdown",
   "id": "7f338582-4cb3-4135-9856-d099c8e858dc",
   "metadata": {},
   "source": [
    "However, it is more useful, to store the output as a `TimeitResult`, so that we can access the avergage and standard deviation values as floats."
   ]
  },
  {
   "cell_type": "code",
   "execution_count": null,
   "id": "b2b2c7bd-115f-47c0-935e-336e98d0265f",
   "metadata": {},
   "outputs": [],
   "source": [
    "%%timeit -n1 -r3 -o\n",
    "time.sleep(3)"
   ]
  },
  {
   "cell_type": "code",
   "execution_count": null,
   "id": "f391f368-44fa-4080-a86b-fc4ff6d42641",
   "metadata": {},
   "outputs": [],
   "source": [
    "result = _"
   ]
  },
  {
   "cell_type": "code",
   "execution_count": null,
   "id": "ed156a6e-8a53-427b-a88f-49e865aa78bb",
   "metadata": {},
   "outputs": [],
   "source": [
    "print(type(result))\n",
    "print(result.average)\n",
    "print(result.stdev)"
   ]
  },
  {
   "cell_type": "markdown",
   "id": "c802b155-730b-4d71-b853-74e6c2ce4a1f",
   "metadata": {},
   "source": [
    "### Saving results\n",
    "\n",
    "In order to automatize saving the benchmark results we have written the function `save_result()`. The first time we call the function, or if we want to overwrite previous results we can pass `overwrite=True` and `header=True`. Later, we can ommit them and new results will be appended at the end of the file."
   ]
  },
  {
   "cell_type": "code",
   "execution_count": null,
   "id": "d805c979-72c1-43cd-8f6a-33199dbc4022",
   "metadata": {},
   "outputs": [],
   "source": [
    "save_result(result, \"test_3s_sleep\", overwrite=True, header=True)"
   ]
  },
  {
   "cell_type": "code",
   "execution_count": null,
   "id": "2f4b6d37-6230-4753-8d40-846f4e603fe5",
   "metadata": {},
   "outputs": [],
   "source": [
    "save_result(result, \"test_3s_sleep_bis\")"
   ]
  },
  {
   "cell_type": "code",
   "execution_count": null,
   "id": "9fa4c4f8-f9ee-4400-95e1-672de90c88b5",
   "metadata": {},
   "outputs": [],
   "source": [
    "!cat results.csv"
   ]
  },
  {
   "cell_type": "markdown",
   "id": "68dafa4c-c841-40a9-890a-16ecc7a02a92",
   "metadata": {},
   "source": [
    "Let's clean the file and just add the header"
   ]
  },
  {
   "cell_type": "code",
   "execution_count": null,
   "id": "415e0f63-ea5d-4758-892b-660944f7acbd",
   "metadata": {},
   "outputs": [],
   "source": [
    "save_result(None, overwrite=True, header=True)"
   ]
  },
  {
   "cell_type": "code",
   "execution_count": null,
   "id": "abab2e03-4b00-43fd-a7e4-16b507ee3066",
   "metadata": {},
   "outputs": [],
   "source": [
    "!cat results.csv"
   ]
  },
  {
   "cell_type": "markdown",
   "id": "b010f4ea-fd1a-4e7d-964a-62dfad10ab9a",
   "metadata": {},
   "source": [
    "### Comparing results\n",
    "\n",
    "To avoid confusion about expressions like *\"A is x times faster than B\"*, \"B is y times slower than A\", or *\"A is z % slower than B\"*, in all our notebooks we will only use these two expressions to compare benchmarking times: \n",
    "\n",
    "A is x times as fast as B, i.e., $B = xA$, and\n",
    "\n",
    "A is x % faster than B, i.e., $B - A = \\dfrac{xA}{100}$"
   ]
  },
  {
   "cell_type": "markdown",
   "id": "eb07f0db-b10f-466f-a432-4f564a88dbee",
   "metadata": {},
   "source": [
    "Example: computing a stencil takes 15.3 seconds on a laptop (A) and 6.5 on a desktop (B)"
   ]
  },
  {
   "cell_type": "code",
   "execution_count": null,
   "id": "a014eb74-445a-4ab5-9552-43bb7dec61c3",
   "metadata": {},
   "outputs": [],
   "source": [
    "A = 15.3\n",
    "B = 6.5\n",
    "\n",
    "print(f'The desktop is {compare_results(B, A, \"faster\")} times as fast as the laptop')\n",
    "print(f'The desktop is {compare_results(B, A, \"faster-%\")} faster than the laptop')"
   ]
  },
  {
   "cell_type": "markdown",
   "id": "a90dcd80-1563-420e-a9ab-34a0704f6dda",
   "metadata": {},
   "source": [
    "Example: A = 42 ms and B = 1.07 s"
   ]
  },
  {
   "cell_type": "code",
   "execution_count": null,
   "id": "03d23a5f-19f2-4bd9-bd56-f28a4d90498a",
   "metadata": {},
   "outputs": [],
   "source": [
    "A = 42e-3\n",
    "B = 1.07\n",
    "\n",
    "print(f'A is {compare_results(A, B, \"faster\")} times as fast as B')\n",
    "print(f'A is {compare_results(A, B, \"faster-%\")} faster than B')"
   ]
  },
  {
   "cell_type": "code",
   "execution_count": null,
   "id": "59f2ee10-5a83-4974-9ba4-6c45da053bc5",
   "metadata": {},
   "outputs": [],
   "source": [
    "A = 42e-3\n",
    "B = 58e-3\n",
    "\n",
    "print(f'A is {compare_results(A, B, \"faster\")} times as fast as B')\n",
    "print(f'A is {compare_results(A, B, \"faster-%\")} faster than B')"
   ]
  },
  {
   "cell_type": "markdown",
   "id": "ecfdd330-daed-4228-9a77-44201024d60f",
   "metadata": {},
   "source": [
    "# Theoretical peaks\n",
    "\n",
    "TODO"
   ]
  }
 ],
 "metadata": {
  "kernelspec": {
   "display_name": "Python 3 (ipykernel)",
   "language": "python",
   "name": "python3"
  },
  "language_info": {
   "codemirror_mode": {
    "name": "ipython",
    "version": 3
   },
   "file_extension": ".py",
   "mimetype": "text/x-python",
   "name": "python",
   "nbconvert_exporter": "python",
   "pygments_lexer": "ipython3",
   "version": "3.11.3"
  }
 },
 "nbformat": 4,
 "nbformat_minor": 5
}
