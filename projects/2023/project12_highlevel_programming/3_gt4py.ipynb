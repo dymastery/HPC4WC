{
 "cells": [
  {
   "cell_type": "code",
   "execution_count": 1,
   "id": "d2f9be3a",
   "metadata": {},
   "outputs": [],
   "source": [
    "import random\n",
    "import math\n",
    "import timeit\n",
    "import numpy as np\n",
    "import matplotlib.pyplot as plt\n",
    "import gt4py as gt\n",
    "import gt4py.cartesian.gtscript as gtscript"
   ]
  },
  {
   "cell_type": "code",
   "execution_count": 2,
   "id": "268f0dd0",
   "metadata": {},
   "outputs": [],
   "source": [
    "from common import (\n",
    "    initialize_fields,\n",
    "    plot_field,\n",
    "    array_to_gt_storage\n",
    ")"
   ]
  },
  {
   "cell_type": "code",
   "execution_count": 3,
   "id": "499af0db",
   "metadata": {},
   "outputs": [],
   "source": [
    "NX = 128\n",
    "NY = 128\n",
    "NZ = 80\n",
    "N_ITER = 50"
   ]
  },
  {
   "cell_type": "markdown",
   "id": "27f7ee21",
   "metadata": {},
   "source": [
    "# Accelerate with GT4Py"
   ]
  },
  {
   "cell_type": "markdown",
   "id": "c8952b27",
   "metadata": {},
   "source": [
    "We've already learnt about GT4Py on class. Here we explore its performance and other features under the new package version GT4Py 1.0.1. It needs to be marked here that the numpy version is 1.21.6, and python 3.9.4."
   ]
  },
  {
   "cell_type": "markdown",
   "id": "e0f76860",
   "metadata": {},
   "source": [
    "## Copy Stencils"
   ]
  },
  {
   "cell_type": "code",
   "execution_count": 4,
   "id": "80f61d0d",
   "metadata": {
    "tags": []
   },
   "outputs": [],
   "source": [
    "def gt4py_copy_row_def(\n",
    "    in_field: gtscript.Field[np.float64],\n",
    "    out_field: gtscript.Field[np.float64],\n",
    "):\n",
    "\n",
    "    from __gtscript__ import PARALLEL, computation, interval\n",
    "    \n",
    "    with computation(PARALLEL), interval(...):\n",
    "        out_field = in_field\n",
    "\n",
    "def gt4py_copy_row_apply(in_field, out_field, N_ITER=1):\n",
    "    # Define origin and domain for the stencil\n",
    "    origin = (0, 0, 0)\n",
    "    domain = (\n",
    "        in_field.shape[0],\n",
    "        in_field.shape[1],\n",
    "        in_field.shape[2]\n",
    "    )\n",
    "    # Iteration\n",
    "    for iter in range(N_ITER):\n",
    "        \n",
    "        gt4py_copy_row_stencil(\n",
    "            in_field=in_field,\n",
    "            out_field=out_field,\n",
    "            origin=origin,\n",
    "            domain=domain\n",
    "        )\n",
    "        \n",
    "        if iter < N_ITER - 1:\n",
    "            in_field, out_field = out_field, in_field\n",
    "        \n",
    "        return out_field"
   ]
  },
  {
   "cell_type": "code",
   "execution_count": 5,
   "id": "9532466c",
   "metadata": {},
   "outputs": [],
   "source": [
    "backend = \"numpy\"\n",
    "gt4py_copy_row_stencil = gtscript.stencil(backend=backend, definition=gt4py_copy_row_def)"
   ]
  },
  {
   "cell_type": "code",
   "execution_count": 6,
   "id": "2274dfd9",
   "metadata": {},
   "outputs": [
    {
     "data": {
      "image/png": "[encoded data removed]",
      "text/plain": [
       "<Figure size 432x288 with 2 Axes>"
      ]
     },
     "metadata": {
      "needs_background": "light"
     },
     "output_type": "display_data"
    }
   ],
   "source": [
    "in_field, out_field = initialize_fields(NX, NY, NZ, mode=\"square\",ifirst=True)\n",
    "in_field, out_field = array_to_gt_storage(in_field, out_field, backend=backend, index=(0, 0, 0))\n",
    "out_field = gt4py_copy_row_apply(in_field, out_field, N_ITER=N_ITER)\n",
    "plot_field(out_field,ifirst=True)"
   ]
  },
  {
   "cell_type": "code",
   "execution_count": 7,
   "id": "173c9b60",
   "metadata": {},
   "outputs": [
    {
     "name": "stdout",
     "output_type": "stream",
     "text": [
      "14 ms ± 68.5 µs per loop (mean ± std. dev. of 7 runs, 100 loops each)\n"
     ]
    }
   ],
   "source": [
    "%%timeit\n",
    "in_field, out_field = initialize_fields(NX, NY, NZ, mode=\"square\",ifirst=True)\n",
    "in_field, out_field = array_to_gt_storage(in_field, out_field, backend=backend, index=(0, 0, 0))\n",
    "gt4py_copy_row_apply(in_field, out_field, N_ITER=N_ITER)"
   ]
  },
  {
   "cell_type": "markdown",
   "id": "b358a4ce",
   "metadata": {},
   "source": [
    "In the case above we define origin (starting index) and domain (computation region without halos) manually, like we've learnt in class. Let's see if the performance change if we just use the default setting, which is possible in the new GT4Py 1.0.1. This greatly simplify the function and looks much more intuitive."
   ]
  },
  {
   "cell_type": "code",
   "execution_count": 8,
   "id": "b6563318",
   "metadata": {
    "tags": []
   },
   "outputs": [],
   "source": [
    "def gt4py_copy_row_default_apply(in_field, out_field, N_ITER=1):\n",
    "\n",
    "    for iter in range(N_ITER):\n",
    "        gt4py_copy_row_stencil(\n",
    "            in_field=in_field,\n",
    "            out_field=out_field\n",
    "        )\n",
    "        \n",
    "        if iter < N_ITER - 1:\n",
    "            in_field, out_field = out_field, in_field\n",
    "        \n",
    "        return out_field"
   ]
  },
  {
   "cell_type": "markdown",
   "id": "85254954",
   "metadata": {},
   "source": [
    "Here the stencil function is the same as the previous one, so we don't need to compile again."
   ]
  },
  {
   "cell_type": "code",
   "execution_count": 9,
   "id": "a289b01e",
   "metadata": {},
   "outputs": [
    {
     "data": {
      "image/png": "[encoded data removed]",
      "text/plain": [
       "<Figure size 432x288 with 2 Axes>"
      ]
     },
     "metadata": {
      "needs_background": "light"
     },
     "output_type": "display_data"
    }
   ],
   "source": [
    "in_field, out_field = initialize_fields(NX, NY, NZ, mode=\"square\", ifirst=True)\n",
    "in_field, out_field = array_to_gt_storage(in_field, out_field, backend=backend, index=(0, 0, 0))\n",
    "out_field = gt4py_copy_row_default_apply(in_field, out_field, N_ITER=N_ITER)\n",
    "plot_field(out_field, ifirst=True)"
   ]
  },
  {
   "cell_type": "code",
   "execution_count": 10,
   "id": "ee6690e2",
   "metadata": {},
   "outputs": [
    {
     "name": "stdout",
     "output_type": "stream",
     "text": [
      "13.9 ms ± 97.6 µs per loop (mean ± std. dev. of 7 runs, 100 loops each)\n"
     ]
    }
   ],
   "source": [
    "%%timeit\n",
    "in_field, out_field = initialize_fields(NX, NY, NZ, mode=\"square\", ifirst=True)\n",
    "in_field, out_field = array_to_gt_storage(in_field, out_field, backend=backend, index=(0, 0, 0))\n",
    "gt4py_copy_row_default_apply(in_field, out_field, N_ITER=N_ITER)"
   ]
  },
  {
   "cell_type": "markdown",
   "id": "53ac06f8",
   "metadata": {},
   "source": [
    "It seems decent as it's only under numpy mode (other modes like \"gt:cpu_ifirst\" is not working), but still slower than plain numpy or numba, probably due to the setup overheads.\n",
    "The result also shows that in this case the index and domain information can be omitted, and GT4Py will find itself, which has no impact on execution time."
   ]
  },
  {
   "cell_type": "markdown",
   "id": "20e407dc",
   "metadata": {
    "tags": []
   },
   "source": [
    "It's hard to implement Sin function using GT4Py, as functions like math.sin and np.sin cannot be imported inside a stencil, so there will not be any acceleration on sin calculation."
   ]
  },
  {
   "cell_type": "markdown",
   "id": "5714af1f",
   "metadata": {},
   "source": [
    "## 1D Stencils"
   ]
  },
  {
   "cell_type": "markdown",
   "id": "1510ac7a",
   "metadata": {},
   "source": [
    "Now we apply GT4Py to 1D stencil calculation. First is columnwise direction:"
   ]
  },
  {
   "cell_type": "markdown",
   "id": "4bc30b97",
   "metadata": {},
   "source": [
    "###  Same column: $a(i,j) = \\frac{1}{2} \\Big[b(i+1,j) - b(i,j)\\Big]$"
   ]
  },
  {
   "cell_type": "code",
   "execution_count": 16,
   "id": "7761b5d5",
   "metadata": {},
   "outputs": [],
   "source": [
    "def gt4py_1D_col_def(\n",
    "    in_field: gtscript.Field[np.float64],\n",
    "    out_field: gtscript.Field[np.float64],\n",
    "):\n",
    "\n",
    "    from __gtscript__ import PARALLEL, computation, interval\n",
    "    \n",
    "    with computation(PARALLEL), interval(...):\n",
    "        # Apply 1D stencil in gt4py style\n",
    "        out_field = 0.5 * (in_field[1, 0, 0] - in_field[0, 0, 0])\n",
    "\n",
    "def gt4py_1D_col_apply(in_field, out_field, N_ITER=1):\n",
    "    # Define origin and domain for the stencil\n",
    "    origin = (0, 0, 0)\n",
    "    nx = in_field.shape[0] - 1\n",
    "    domain = (\n",
    "        nx,\n",
    "        in_field.shape[1],\n",
    "        in_field.shape[2]\n",
    "    )\n",
    "    # Iteration\n",
    "    for iter in range(N_ITER):\n",
    "        # Update halo value\n",
    "        in_field[nx, :, :] = in_field[0, :, :]\n",
    "        \n",
    "        gt4py_1D_col_stencil(\n",
    "            in_field=in_field,\n",
    "            out_field=out_field,\n",
    "            origin=origin,\n",
    "            domain=domain\n",
    "        )\n",
    "        \n",
    "        if iter < N_ITER - 1:\n",
    "            in_field, out_field = out_field, in_field\n",
    "        \n",
    "    return out_field"
   ]
  },
  {
   "cell_type": "code",
   "execution_count": 17,
   "id": "03087a00",
   "metadata": {},
   "outputs": [],
   "source": [
    "backend = \"numpy\"\n",
    "gt4py_1D_col_stencil = gtscript.stencil(backend=backend, definition=gt4py_1D_col_def)"
   ]
  },
  {
   "cell_type": "code",
   "execution_count": 13,
   "id": "082a5f09",
   "metadata": {},
   "outputs": [
    {
     "data": {
      "image/png": "[encoded data removed]",
      "text/plain": [
       "<Figure size 432x288 with 2 Axes>"
      ]
     },
     "metadata": {
      "needs_background": "light"
     },
     "output_type": "display_data"
    }
   ],
   "source": [
    "in_field, out_field = initialize_fields(NX+1, NY, NZ, mode=\"horizontal-bars\", order=\"C\", ifirst=True)\n",
    "in_field, out_field = array_to_gt_storage(in_field, out_field, backend=backend, index=(0, 0, 0))\n",
    "out_field = gt4py_1D_col_apply(in_field, out_field, N_ITER=N_ITER)\n",
    "plot_field(out_field, ifirst=True)"
   ]
  },
  {
   "cell_type": "code",
   "execution_count": 28,
   "id": "86b7eb4b",
   "metadata": {},
   "outputs": [
    {
     "name": "stdout",
     "output_type": "stream",
     "text": [
      "234 ms ± 1.02 ms per loop (mean ± std. dev. of 7 runs, 1 loop each)\n"
     ]
    }
   ],
   "source": [
    "%%timeit\n",
    "in_field, out_field = initialize_fields(NX+1, NY, NZ, mode=\"horizontal-bars\", order=\"C\", ifirst=True)\n",
    "in_field, out_field = array_to_gt_storage(in_field, out_field, backend=backend, index=(0, 0, 0))\n",
    "gt4py_1D_col_apply(in_field, out_field, N_ITER=N_ITER)"
   ]
  },
  {
   "cell_type": "markdown",
   "id": "68ab53a6",
   "metadata": {},
   "source": [
    "Then we change the memory order to Fortran style to see if the duration change."
   ]
  },
  {
   "cell_type": "code",
   "execution_count": 29,
   "id": "3460be13",
   "metadata": {},
   "outputs": [
    {
     "name": "stdout",
     "output_type": "stream",
     "text": [
      "242 ms ± 1.25 ms per loop (mean ± std. dev. of 7 runs, 1 loop each)\n"
     ]
    }
   ],
   "source": [
    "%%timeit\n",
    "in_field, out_field = initialize_fields(NX+1, NY, NZ, mode=\"horizontal-bars\", order=\"F\", ifirst=True)\n",
    "in_field, out_field = array_to_gt_storage(in_field, out_field, backend=backend, index=(0, 0, 0))\n",
    "gt4py_1D_col_apply(in_field, out_field, N_ITER=N_ITER)"
   ]
  },
  {
   "cell_type": "markdown",
   "id": "15995874",
   "metadata": {},
   "source": [
    "The Fortran-style memory layout drags GT4Py a little bit but not much. This is quite impressive as it's the literally slower way to store the data. Other than here by GT4Py, only Numpy row-like methods close this gap perfectly."
   ]
  },
  {
   "cell_type": "markdown",
   "id": "635605e0",
   "metadata": {},
   "source": [
    "Now let's check its performance with rowwise setup:"
   ]
  },
  {
   "cell_type": "markdown",
   "id": "82b09e91",
   "metadata": {},
   "source": [
    "###  Same column: $a(i,j) = \\frac{1}{2} \\Big[b(i,j+1) - b(i,j)\\Big]$"
   ]
  },
  {
   "cell_type": "code",
   "execution_count": 19,
   "id": "67aa1c8c",
   "metadata": {},
   "outputs": [],
   "source": [
    "def gt4py_1D_row_def(\n",
    "    in_field: gtscript.Field[np.float64],\n",
    "    out_field: gtscript.Field[np.float64],\n",
    "):\n",
    "\n",
    "    from __gtscript__ import PARALLEL, computation, interval\n",
    "    \n",
    "    with computation(PARALLEL), interval(...):\n",
    "        # Apply 1D stencil in gt4py style\n",
    "        out_field = 0.5 * (in_field[0, 1, 0] - in_field[0, 0, 0])\n",
    "\n",
    "def gt4py_1D_row_apply(in_field, out_field, N_ITER=1):\n",
    "    # Define origin and domain for the stencil\n",
    "    origin = (0, 0, 0)\n",
    "    ny = in_field.shape[1] - 1\n",
    "    domain = (\n",
    "        in_field.shape[0],\n",
    "        ny,\n",
    "        in_field.shape[2]\n",
    "    )\n",
    "    # Iteration\n",
    "    for iter in range(N_ITER):\n",
    "        # Update halo value\n",
    "        in_field[:, ny, :] = in_field[:, 0, :]\n",
    "        \n",
    "        gt4py_1D_row_stencil(\n",
    "            in_field=in_field,\n",
    "            out_field=out_field,\n",
    "            origin=origin,\n",
    "            domain=domain\n",
    "        )\n",
    "        \n",
    "        if iter < N_ITER - 1:\n",
    "            in_field, out_field = out_field, in_field\n",
    "        \n",
    "    return out_field"
   ]
  },
  {
   "cell_type": "code",
   "execution_count": 20,
   "id": "952c8cb2",
   "metadata": {},
   "outputs": [],
   "source": [
    "backend = \"numpy\"\n",
    "gt4py_1D_row_stencil = gtscript.stencil(backend=backend, definition=gt4py_1D_row_def)"
   ]
  },
  {
   "cell_type": "code",
   "execution_count": 22,
   "id": "f1f3aaeb",
   "metadata": {},
   "outputs": [
    {
     "data": {
      "image/png": "[encoded data removed]",
      "text/plain": [
       "<Figure size 432x288 with 2 Axes>"
      ]
     },
     "metadata": {
      "needs_background": "light"
     },
     "output_type": "display_data"
    }
   ],
   "source": [
    "in_field, out_field = initialize_fields(NX, NY+1, NZ, mode=\"vertical-bars\", order=\"C\", ifirst=True)\n",
    "in_field, out_field = array_to_gt_storage(in_field, out_field, backend=backend, index=(0, 0, 0))\n",
    "out_field = gt4py_1D_row_apply(in_field, out_field, N_ITER=N_ITER)\n",
    "plot_field(out_field, ifirst=True)"
   ]
  },
  {
   "cell_type": "code",
   "execution_count": 30,
   "id": "520c8cbc",
   "metadata": {},
   "outputs": [
    {
     "name": "stdout",
     "output_type": "stream",
     "text": [
      "193 ms ± 571 µs per loop (mean ± std. dev. of 7 runs, 1 loop each)\n"
     ]
    }
   ],
   "source": [
    "%%timeit\n",
    "in_field, out_field = initialize_fields(NX+1, NY, NZ, mode=\"vertical-bars\", order=\"C\", ifirst=True)\n",
    "in_field, out_field = array_to_gt_storage(in_field, out_field, backend=backend, index=(0, 0, 0))\n",
    "gt4py_1D_row_apply(in_field, out_field, N_ITER=N_ITER)"
   ]
  },
  {
   "cell_type": "code",
   "execution_count": 31,
   "id": "5bc45d94",
   "metadata": {},
   "outputs": [
    {
     "name": "stdout",
     "output_type": "stream",
     "text": [
      "200 ms ± 1.61 ms per loop (mean ± std. dev. of 7 runs, 1 loop each)\n"
     ]
    }
   ],
   "source": [
    "%%timeit\n",
    "in_field, out_field = initialize_fields(NX+1, NY, NZ, mode=\"vertical-bars\", order=\"F\", ifirst=True)\n",
    "in_field, out_field = array_to_gt_storage(in_field, out_field, backend=backend, index=(0, 0, 0))\n",
    "gt4py_1D_row_apply(in_field, out_field, N_ITER=N_ITER)"
   ]
  },
  {
   "cell_type": "markdown",
   "id": "c0a7cb01",
   "metadata": {},
   "source": [
    "Interestingly, the Fortran-style memory layout is always a bit slower, even though in theory it should be faster with a rowwise stencil. It seems that GT4Py makes some specific optimization to a C-style layout."
   ]
  },
  {
   "cell_type": "markdown",
   "id": "29e38d1c",
   "metadata": {},
   "source": [
    "## ToDo:\n",
    "Complete 2D stencil \\\n",
    "Look for Taichi"
   ]
  }
 ],
 "metadata": {
  "kernelspec": {
   "display_name": "Python 3",
   "language": "python",
   "name": "python3"
  },
  "language_info": {
   "codemirror_mode": {
    "name": "ipython",
    "version": 3
   },
   "file_extension": ".py",
   "mimetype": "text/x-python",
   "name": "python",
   "nbconvert_exporter": "python",
   "pygments_lexer": "ipython3",
   "version": "3.9.17"
  }
 },
 "nbformat": 4,
 "nbformat_minor": 5
}
