{
 "cells": [
  {
   "cell_type": "code",
   "execution_count": 1,
   "id": "9fe49a01",
   "metadata": {},
   "outputs": [],
   "source": [
    "import random\n",
    "import math\n",
    "import timeit\n",
    "import numpy as np\n",
    "import matplotlib.pyplot as plt\n",
    "import gt4py as gt\n",
    "import gt4py.cartesian.gtscript as gtscript"
   ]
  },
  {
   "cell_type": "code",
   "execution_count": 6,
   "id": "3fd3078b",
   "metadata": {},
   "outputs": [],
   "source": [
    "from common import (\n",
    "    initialize_fields,\n",
    "    plot_field,\n",
    "    array_to_gt_storage\n",
    ")"
   ]
  },
  {
   "cell_type": "code",
   "execution_count": 8,
   "id": "e822eb53",
   "metadata": {},
   "outputs": [],
   "source": [
    "NX = 128\n",
    "NY = 128\n",
    "NZ = 80\n",
    "N_ITER = 50"
   ]
  },
  {
   "cell_type": "code",
   "execution_count": 11,
   "id": "42122f2d",
   "metadata": {},
   "outputs": [],
   "source": [
    "in_field, out_field = initialize_fields(NX, NY, NZ, mode=\"square\")"
   ]
  },
  {
   "cell_type": "code",
   "execution_count": 14,
   "id": "fb0d57d4",
   "metadata": {},
   "outputs": [
    {
     "data": {
      "text/plain": [
       "(80, 128, 128)"
      ]
     },
     "execution_count": 14,
     "metadata": {},
     "output_type": "execute_result"
    }
   ],
   "source": [
    "in_field.shape"
   ]
  },
  {
   "cell_type": "code",
   "execution_count": 13,
   "id": "4f8d0971",
   "metadata": {},
   "outputs": [
    {
     "data": {
      "text/plain": [
       "(128, 128, 80)"
      ]
     },
     "execution_count": 13,
     "metadata": {},
     "output_type": "execute_result"
    }
   ],
   "source": [
    "in_field.swapaxes(0,2).shape"
   ]
  },
  {
   "cell_type": "code",
   "execution_count": 10,
   "id": "f91f8329",
   "metadata": {},
   "outputs": [
    {
     "data": {
      "text/plain": [
       "dtype('float64')"
      ]
     },
     "execution_count": 10,
     "metadata": {},
     "output_type": "execute_result"
    }
   ],
   "source": [
    "in_field.dtype"
   ]
  },
  {
   "cell_type": "markdown",
   "id": "b37c3121",
   "metadata": {},
   "source": [
    "# Accelerate with GT4Py"
   ]
  },
  {
   "cell_type": "markdown",
   "id": "b29bddb5",
   "metadata": {},
   "source": [
    "It is very important to declare the backends of GT4Py in the first place."
   ]
  },
  {
   "cell_type": "code",
   "execution_count": null,
   "id": "9f2a0ffa",
   "metadata": {},
   "outputs": [],
   "source": [
    "def gt4py_1D_row_def(\n",
    "    in_field: gtscript.Field[np.float64],\n",
    "    out_field: gtscript.Field[np.float64],\n",
    "):\n",
    "\n",
    "    from __gtscript__ import PARALLEL, computation, interval\n",
    "    \n",
    "    with computation(PARALLEL), interval(...):\n",
    "        # Apply 1D stencil in gt4py style\n",
    "        out_field = 0.5 * (in_field[1, 0, 0] - in_field[0, 0, 0])\n",
    "\n",
    "def gt4py_1D_row_apply(in_field, out_field, N_ITER=1):\n",
    "    NX = in_field.shape[0] - 1\n",
    "    # Define origin and domain for the stencil\n",
    "    origin = (0, 0, 0)\n",
    "    domain = (\n",
    "        NX,\n",
    "        in_field.shape[1],\n",
    "        in_field.shape[2]\n",
    "    )\n",
    "    # Iteration\n",
    "    for iter in range(N_ITER):\n",
    "        # Update halo value\n",
    "        in_field[NX, :, :] = in_field[0, :, :]\n",
    "        \n",
    "        gt4py_1D_row_stencil(\n",
    "            in_field=in_field,\n",
    "            out_field=out_field,\n",
    "            origin=origin,\n",
    "            domain=domain\n",
    "        )\n",
    "        \n",
    "        if iter < N_ITER - 1:\n",
    "            in_field, out_field = out_field, in_field\n",
    "        else:\n",
    "            in_field[NX, :, :] = in_field[0, :, :]\n"
   ]
  },
  {
   "cell_type": "code",
   "execution_count": null,
   "id": "6de49546",
   "metadata": {},
   "outputs": [],
   "source": [
    "backend = \"numpy\"\n",
    "gt4py_1D_row_stencil = gtscript.stencil(backend=backend, definition=gt4py_1D_row_def)"
   ]
  },
  {
   "cell_type": "code",
   "execution_count": null,
   "id": "2888753a",
   "metadata": {},
   "outputs": [],
   "source": [
    "%%timeit\n",
    "in_field, out_field = initialize_fields(NX+1, NY, NZ, mode=\"horizontal-bars\")\n",
    "array_to_gt_storage(in_field, out_field, backend=backend, index=(0, 0, 0))\n",
    "gt4py_1D_row_apply(in_field, out_field, N_ITER=N_ITER)"
   ]
  },
  {
   "cell_type": "markdown",
   "id": "162f5e8d",
   "metadata": {},
   "source": [
    "## Copy Stencil"
   ]
  },
  {
   "cell_type": "code",
   "execution_count": null,
   "id": "8eed2736",
   "metadata": {},
   "outputs": [],
   "source": [
    "def gt4py_copy(in_field: gtscript.Field[]):"
   ]
  }
 ],
 "metadata": {
  "kernelspec": {
   "display_name": "Python 3",
   "language": "python",
   "name": "python3"
  },
  "language_info": {
   "codemirror_mode": {
    "name": "ipython",
    "version": 3
   },
   "file_extension": ".py",
   "mimetype": "text/x-python",
   "name": "python",
   "nbconvert_exporter": "python",
   "pygments_lexer": "ipython3",
   "version": "3.9.17"
  }
 },
 "nbformat": 4,
 "nbformat_minor": 5
}
