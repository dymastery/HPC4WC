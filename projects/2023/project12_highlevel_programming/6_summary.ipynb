{
 "cells": [
  {
   "cell_type": "markdown",
   "id": "01a48bb2-9c71-448e-b77b-921d5814441e",
   "metadata": {},
   "source": [
    "# `6_summary.ipynb`\n",
    "\n",
    "In this notebook results from all previous notebooks are shown and compared."
   ]
  },
  {
   "cell_type": "code",
   "execution_count": 1,
   "id": "a3f305ee-d24f-4cb1-9e85-1b107028c55d",
   "metadata": {},
   "outputs": [],
   "source": [
    "import numpy as np\n",
    "import pandas as pd\n",
    "import matplotlib.pyplot as plt"
   ]
  },
  {
   "cell_type": "code",
   "execution_count": 2,
   "id": "06477355-6a00-4113-bd26-198736206776",
   "metadata": {},
   "outputs": [],
   "source": [
    "from common import read_results"
   ]
  },
  {
   "cell_type": "code",
   "execution_count": 3,
   "id": "39e8759e-7e07-4795-b280-0237ff063a3d",
   "metadata": {},
   "outputs": [],
   "source": [
    "results = pd.read_csv(\"results.csv\")"
   ]
  },
  {
   "cell_type": "markdown",
   "id": "c1ef9ddb-4b97-4153-9d7f-4e1c68a4bbda",
   "metadata": {},
   "source": [
    "## `results.csv`"
   ]
  },
  {
   "cell_type": "markdown",
   "id": "11af0ba1-b873-43a7-a819-51fe139ef42f",
   "metadata": {},
   "source": [
    "There are all the times we got in the different benchmarks sorted from slowest to fastest."
   ]
  },
  {
   "cell_type": "code",
   "execution_count": 4,
   "id": "cafdcdd1-9da2-47fc-8e16-4dd88b0d5440",
   "metadata": {},
   "outputs": [
    {
     "data": {
      "text/html": [
       "<div>\n",
       "<style scoped>\n",
       "    .dataframe tbody tr th:only-of-type {\n",
       "        vertical-align: middle;\n",
       "    }\n",
       "\n",
       "    .dataframe tbody tr th {\n",
       "        vertical-align: top;\n",
       "    }\n",
       "\n",
       "    .dataframe thead th {\n",
       "        text-align: right;\n",
       "    }\n",
       "</style>\n",
       "<table border=\"1\" class=\"dataframe\">\n",
       "  <thead>\n",
       "    <tr style=\"text-align: right;\">\n",
       "      <th></th>\n",
       "      <th>timestamp</th>\n",
       "      <th>hostname</th>\n",
       "      <th>test</th>\n",
       "      <th>timeit_avg</th>\n",
       "      <th>timeit_std</th>\n",
       "    </tr>\n",
       "  </thead>\n",
       "  <tbody>\n",
       "    <tr>\n",
       "      <th>0</th>\n",
       "      <td>2023-08-26 17:16:28.518379</td>\n",
       "      <td>nid06343</td>\n",
       "      <td>list_pointwise</td>\n",
       "      <td>8.210000</td>\n",
       "      <td>8.510000e-03</td>\n",
       "    </tr>\n",
       "    <tr>\n",
       "      <th>1</th>\n",
       "      <td>2023-08-26 17:22:33.012298</td>\n",
       "      <td>nid06343</td>\n",
       "      <td>list_sin_pointwise</td>\n",
       "      <td>14.500000</td>\n",
       "      <td>2.910000e-02</td>\n",
       "    </tr>\n",
       "    <tr>\n",
       "      <th>2</th>\n",
       "      <td>2023-08-26 17:23:40.702632</td>\n",
       "      <td>nid06343</td>\n",
       "      <td>array_pointwise</td>\n",
       "      <td>15.100000</td>\n",
       "      <td>7.570000e-03</td>\n",
       "    </tr>\n",
       "    <tr>\n",
       "      <th>3</th>\n",
       "      <td>2023-08-26 17:29:25.304445</td>\n",
       "      <td>nid06343</td>\n",
       "      <td>array_sin_pointwise</td>\n",
       "      <td>22.600000</td>\n",
       "      <td>5.140000e-02</td>\n",
       "    </tr>\n",
       "    <tr>\n",
       "      <th>4</th>\n",
       "      <td>2023-08-26 17:29:28.692230</td>\n",
       "      <td>nid06343</td>\n",
       "      <td>numpy_pointwise</td>\n",
       "      <td>0.000036</td>\n",
       "      <td>5.170000e-07</td>\n",
       "    </tr>\n",
       "    <tr>\n",
       "      <th>5</th>\n",
       "      <td>2023-08-26 17:29:35.943303</td>\n",
       "      <td>nid06343</td>\n",
       "      <td>numpy_sin_pointwise</td>\n",
       "      <td>0.875000</td>\n",
       "      <td>7.880000e-03</td>\n",
       "    </tr>\n",
       "    <tr>\n",
       "      <th>6</th>\n",
       "      <td>2023-08-26 17:32:45.917669</td>\n",
       "      <td>nid06343</td>\n",
       "      <td>list_1D_same_col_ZYX</td>\n",
       "      <td>14.900000</td>\n",
       "      <td>3.840000e-03</td>\n",
       "    </tr>\n",
       "    <tr>\n",
       "      <th>7</th>\n",
       "      <td>2023-08-26 17:35:29.327149</td>\n",
       "      <td>nid06343</td>\n",
       "      <td>numpy_1D_same_col</td>\n",
       "      <td>0.113000</td>\n",
       "      <td>5.310000e-04</td>\n",
       "    </tr>\n",
       "    <tr>\n",
       "      <th>8</th>\n",
       "      <td>2023-08-26 17:40:40.493204</td>\n",
       "      <td>nid06343</td>\n",
       "      <td>list_1D_same_row_ZXY</td>\n",
       "      <td>14.900000</td>\n",
       "      <td>1.360000e-02</td>\n",
       "    </tr>\n",
       "    <tr>\n",
       "      <th>9</th>\n",
       "      <td>2023-08-26 17:41:42.083038</td>\n",
       "      <td>nid06343</td>\n",
       "      <td>numpy_1D_same_row</td>\n",
       "      <td>0.099800</td>\n",
       "      <td>1.710000e-05</td>\n",
       "    </tr>\n",
       "    <tr>\n",
       "      <th>10</th>\n",
       "      <td>2023-08-26 17:41:52.519922</td>\n",
       "      <td>nid06343</td>\n",
       "      <td>numpy_2D</td>\n",
       "      <td>1.070000</td>\n",
       "      <td>2.720000e-03</td>\n",
       "    </tr>\n",
       "    <tr>\n",
       "      <th>11</th>\n",
       "      <td>2023-08-26 17:50:54.922882</td>\n",
       "      <td>nid06343</td>\n",
       "      <td>numba_pointwise</td>\n",
       "      <td>0.031600</td>\n",
       "      <td>7.360000e-05</td>\n",
       "    </tr>\n",
       "    <tr>\n",
       "      <th>12</th>\n",
       "      <td>2023-08-26 17:51:10.859389</td>\n",
       "      <td>nid06343</td>\n",
       "      <td>numba_sin_pointwise</td>\n",
       "      <td>0.835000</td>\n",
       "      <td>3.260000e-03</td>\n",
       "    </tr>\n",
       "    <tr>\n",
       "      <th>13</th>\n",
       "      <td>2023-08-26 17:51:16.957805</td>\n",
       "      <td>nid06343</td>\n",
       "      <td>numba_parallel_sin_pointwise</td>\n",
       "      <td>0.061600</td>\n",
       "      <td>9.280000e-04</td>\n",
       "    </tr>\n",
       "    <tr>\n",
       "      <th>14</th>\n",
       "      <td>2023-08-26 17:51:20.779342</td>\n",
       "      <td>nid06343</td>\n",
       "      <td>numba_parallel_pointwise</td>\n",
       "      <td>0.003250</td>\n",
       "      <td>1.030000e-04</td>\n",
       "    </tr>\n",
       "    <tr>\n",
       "      <th>15</th>\n",
       "      <td>2023-08-26 17:51:28.441437</td>\n",
       "      <td>nid06343</td>\n",
       "      <td>numba_vectorized_sin_pointwise</td>\n",
       "      <td>0.079100</td>\n",
       "      <td>4.210000e-03</td>\n",
       "    </tr>\n",
       "    <tr>\n",
       "      <th>16</th>\n",
       "      <td>2023-08-26 17:51:41.747766</td>\n",
       "      <td>nid06343</td>\n",
       "      <td>numba_1D_same_col</td>\n",
       "      <td>0.003550</td>\n",
       "      <td>1.750000e-04</td>\n",
       "    </tr>\n",
       "    <tr>\n",
       "      <th>17</th>\n",
       "      <td>2023-08-26 17:51:52.192552</td>\n",
       "      <td>nid06343</td>\n",
       "      <td>numba_vectorized_1D_same_col</td>\n",
       "      <td>0.010600</td>\n",
       "      <td>3.700000e-04</td>\n",
       "    </tr>\n",
       "    <tr>\n",
       "      <th>18</th>\n",
       "      <td>2023-08-26 17:52:33.702458</td>\n",
       "      <td>nid06343</td>\n",
       "      <td>numba_1D_same_row</td>\n",
       "      <td>0.003770</td>\n",
       "      <td>2.160000e-04</td>\n",
       "    </tr>\n",
       "    <tr>\n",
       "      <th>19</th>\n",
       "      <td>2023-08-26 17:52:58.217166</td>\n",
       "      <td>nid06343</td>\n",
       "      <td>numba_2D</td>\n",
       "      <td>0.022500</td>\n",
       "      <td>5.260000e-04</td>\n",
       "    </tr>\n",
       "    <tr>\n",
       "      <th>20</th>\n",
       "      <td>2023-08-26 22:12:47.334350</td>\n",
       "      <td>nid02688</td>\n",
       "      <td>numexpr_pointwise</td>\n",
       "      <td>0.012800</td>\n",
       "      <td>3.470000e-04</td>\n",
       "    </tr>\n",
       "    <tr>\n",
       "      <th>21</th>\n",
       "      <td>2023-08-26 22:12:55.003378</td>\n",
       "      <td>nid02688</td>\n",
       "      <td>numexpr_sin_pointwise</td>\n",
       "      <td>0.086700</td>\n",
       "      <td>6.410000e-04</td>\n",
       "    </tr>\n",
       "    <tr>\n",
       "      <th>22</th>\n",
       "      <td>2023-08-26 22:13:03.504443</td>\n",
       "      <td>nid02688</td>\n",
       "      <td>numexpr_1D_same_col</td>\n",
       "      <td>0.097700</td>\n",
       "      <td>1.850000e-03</td>\n",
       "    </tr>\n",
       "    <tr>\n",
       "      <th>23</th>\n",
       "      <td>2023-08-27 10:13:32.811841</td>\n",
       "      <td>nid02814</td>\n",
       "      <td>gt4py_numpy_pointwise</td>\n",
       "      <td>0.002920</td>\n",
       "      <td>1.150000e-05</td>\n",
       "    </tr>\n",
       "    <tr>\n",
       "      <th>24</th>\n",
       "      <td>2023-08-27 10:13:37.324662</td>\n",
       "      <td>nid02814</td>\n",
       "      <td>gt4py_ifirst_pointwise</td>\n",
       "      <td>0.004870</td>\n",
       "      <td>5.680000e-05</td>\n",
       "    </tr>\n",
       "    <tr>\n",
       "      <th>25</th>\n",
       "      <td>2023-08-27 10:13:42.153498</td>\n",
       "      <td>nid02814</td>\n",
       "      <td>gt4py_kfirst_pointwise</td>\n",
       "      <td>0.005180</td>\n",
       "      <td>6.210000e-05</td>\n",
       "    </tr>\n",
       "    <tr>\n",
       "      <th>26</th>\n",
       "      <td>2023-08-27 10:13:56.857112</td>\n",
       "      <td>nid02814</td>\n",
       "      <td>gt4py_numpy_1D_same_col</td>\n",
       "      <td>0.115000</td>\n",
       "      <td>1.030000e-03</td>\n",
       "    </tr>\n",
       "    <tr>\n",
       "      <th>27</th>\n",
       "      <td>2023-08-27 10:14:16.119951</td>\n",
       "      <td>nid02814</td>\n",
       "      <td>gt4py_ifirst_1D_same_col</td>\n",
       "      <td>0.011000</td>\n",
       "      <td>9.000000e-05</td>\n",
       "    </tr>\n",
       "    <tr>\n",
       "      <th>28</th>\n",
       "      <td>2023-08-27 10:14:22.560189</td>\n",
       "      <td>nid02814</td>\n",
       "      <td>gt4py_kfirst_1D_same_col</td>\n",
       "      <td>0.007290</td>\n",
       "      <td>7.530000e-05</td>\n",
       "    </tr>\n",
       "    <tr>\n",
       "      <th>29</th>\n",
       "      <td>2023-08-27 10:15:59.183688</td>\n",
       "      <td>nid02814</td>\n",
       "      <td>gt4py_numpy_1D_same_row</td>\n",
       "      <td>0.109000</td>\n",
       "      <td>4.720000e-05</td>\n",
       "    </tr>\n",
       "    <tr>\n",
       "      <th>30</th>\n",
       "      <td>2023-08-27 10:16:14.136713</td>\n",
       "      <td>nid02814</td>\n",
       "      <td>gt4py_ifirst_1D_same_row</td>\n",
       "      <td>0.007110</td>\n",
       "      <td>5.810000e-05</td>\n",
       "    </tr>\n",
       "    <tr>\n",
       "      <th>31</th>\n",
       "      <td>2023-08-27 10:16:20.938194</td>\n",
       "      <td>nid02814</td>\n",
       "      <td>gt4py_kfirst_1D_same_row</td>\n",
       "      <td>0.008090</td>\n",
       "      <td>4.890000e-05</td>\n",
       "    </tr>\n",
       "    <tr>\n",
       "      <th>32</th>\n",
       "      <td>2023-08-27 10:17:34.258051</td>\n",
       "      <td>nid02814</td>\n",
       "      <td>gt4py_numpy_2D</td>\n",
       "      <td>4.580000</td>\n",
       "      <td>1.610000e-02</td>\n",
       "    </tr>\n",
       "    <tr>\n",
       "      <th>33</th>\n",
       "      <td>2023-08-27 10:18:12.509995</td>\n",
       "      <td>nid02814</td>\n",
       "      <td>gt4py_ifirst_2D</td>\n",
       "      <td>0.032600</td>\n",
       "      <td>5.670000e-04</td>\n",
       "    </tr>\n",
       "    <tr>\n",
       "      <th>34</th>\n",
       "      <td>2023-08-27 10:18:44.835402</td>\n",
       "      <td>nid02814</td>\n",
       "      <td>gt4py_kfirst_2D</td>\n",
       "      <td>0.054700</td>\n",
       "      <td>5.470000e-04</td>\n",
       "    </tr>\n",
       "  </tbody>\n",
       "</table>\n",
       "</div>"
      ],
      "text/plain": [
       "                     timestamp  hostname                            test  \\\n",
       "0   2023-08-26 17:16:28.518379  nid06343                  list_pointwise   \n",
       "1   2023-08-26 17:22:33.012298  nid06343              list_sin_pointwise   \n",
       "2   2023-08-26 17:23:40.702632  nid06343                 array_pointwise   \n",
       "3   2023-08-26 17:29:25.304445  nid06343             array_sin_pointwise   \n",
       "4   2023-08-26 17:29:28.692230  nid06343                 numpy_pointwise   \n",
       "5   2023-08-26 17:29:35.943303  nid06343             numpy_sin_pointwise   \n",
       "6   2023-08-26 17:32:45.917669  nid06343            list_1D_same_col_ZYX   \n",
       "7   2023-08-26 17:35:29.327149  nid06343               numpy_1D_same_col   \n",
       "8   2023-08-26 17:40:40.493204  nid06343            list_1D_same_row_ZXY   \n",
       "9   2023-08-26 17:41:42.083038  nid06343               numpy_1D_same_row   \n",
       "10  2023-08-26 17:41:52.519922  nid06343                        numpy_2D   \n",
       "11  2023-08-26 17:50:54.922882  nid06343                 numba_pointwise   \n",
       "12  2023-08-26 17:51:10.859389  nid06343             numba_sin_pointwise   \n",
       "13  2023-08-26 17:51:16.957805  nid06343    numba_parallel_sin_pointwise   \n",
       "14  2023-08-26 17:51:20.779342  nid06343        numba_parallel_pointwise   \n",
       "15  2023-08-26 17:51:28.441437  nid06343  numba_vectorized_sin_pointwise   \n",
       "16  2023-08-26 17:51:41.747766  nid06343               numba_1D_same_col   \n",
       "17  2023-08-26 17:51:52.192552  nid06343    numba_vectorized_1D_same_col   \n",
       "18  2023-08-26 17:52:33.702458  nid06343               numba_1D_same_row   \n",
       "19  2023-08-26 17:52:58.217166  nid06343                        numba_2D   \n",
       "20  2023-08-26 22:12:47.334350  nid02688               numexpr_pointwise   \n",
       "21  2023-08-26 22:12:55.003378  nid02688           numexpr_sin_pointwise   \n",
       "22  2023-08-26 22:13:03.504443  nid02688             numexpr_1D_same_col   \n",
       "23  2023-08-27 10:13:32.811841  nid02814           gt4py_numpy_pointwise   \n",
       "24  2023-08-27 10:13:37.324662  nid02814          gt4py_ifirst_pointwise   \n",
       "25  2023-08-27 10:13:42.153498  nid02814          gt4py_kfirst_pointwise   \n",
       "26  2023-08-27 10:13:56.857112  nid02814         gt4py_numpy_1D_same_col   \n",
       "27  2023-08-27 10:14:16.119951  nid02814        gt4py_ifirst_1D_same_col   \n",
       "28  2023-08-27 10:14:22.560189  nid02814        gt4py_kfirst_1D_same_col   \n",
       "29  2023-08-27 10:15:59.183688  nid02814         gt4py_numpy_1D_same_row   \n",
       "30  2023-08-27 10:16:14.136713  nid02814        gt4py_ifirst_1D_same_row   \n",
       "31  2023-08-27 10:16:20.938194  nid02814        gt4py_kfirst_1D_same_row   \n",
       "32  2023-08-27 10:17:34.258051  nid02814                  gt4py_numpy_2D   \n",
       "33  2023-08-27 10:18:12.509995  nid02814                 gt4py_ifirst_2D   \n",
       "34  2023-08-27 10:18:44.835402  nid02814                 gt4py_kfirst_2D   \n",
       "\n",
       "    timeit_avg    timeit_std  \n",
       "0     8.210000  8.510000e-03  \n",
       "1    14.500000  2.910000e-02  \n",
       "2    15.100000  7.570000e-03  \n",
       "3    22.600000  5.140000e-02  \n",
       "4     0.000036  5.170000e-07  \n",
       "5     0.875000  7.880000e-03  \n",
       "6    14.900000  3.840000e-03  \n",
       "7     0.113000  5.310000e-04  \n",
       "8    14.900000  1.360000e-02  \n",
       "9     0.099800  1.710000e-05  \n",
       "10    1.070000  2.720000e-03  \n",
       "11    0.031600  7.360000e-05  \n",
       "12    0.835000  3.260000e-03  \n",
       "13    0.061600  9.280000e-04  \n",
       "14    0.003250  1.030000e-04  \n",
       "15    0.079100  4.210000e-03  \n",
       "16    0.003550  1.750000e-04  \n",
       "17    0.010600  3.700000e-04  \n",
       "18    0.003770  2.160000e-04  \n",
       "19    0.022500  5.260000e-04  \n",
       "20    0.012800  3.470000e-04  \n",
       "21    0.086700  6.410000e-04  \n",
       "22    0.097700  1.850000e-03  \n",
       "23    0.002920  1.150000e-05  \n",
       "24    0.004870  5.680000e-05  \n",
       "25    0.005180  6.210000e-05  \n",
       "26    0.115000  1.030000e-03  \n",
       "27    0.011000  9.000000e-05  \n",
       "28    0.007290  7.530000e-05  \n",
       "29    0.109000  4.720000e-05  \n",
       "30    0.007110  5.810000e-05  \n",
       "31    0.008090  4.890000e-05  \n",
       "32    4.580000  1.610000e-02  \n",
       "33    0.032600  5.670000e-04  \n",
       "34    0.054700  5.470000e-04  "
      ]
     },
     "execution_count": 4,
     "metadata": {},
     "output_type": "execute_result"
    }
   ],
   "source": [
    "results"
   ]
  },
  {
   "cell_type": "markdown",
   "id": "cd170868-c0a0-4322-9804-cfd53aeccdb4",
   "metadata": {},
   "source": [
    "## Summary plots"
   ]
  },
  {
   "cell_type": "code",
   "execution_count": 5,
   "id": "143c1afa-8567-4325-a9ba-467d92afbfed",
   "metadata": {
    "jupyter": {
     "source_hidden": true
    },
    "tags": []
   },
   "outputs": [],
   "source": [
    "def comparison_plot(test_names, times_avg, title=None):\n",
    "    assert len(test_names) == len(times_avg)\n",
    "    assert isinstance(title, str)\n",
    "\n",
    "    fig, ax = plt.subplots(figsize=(7, 5), dpi=100)\n",
    "\n",
    "    y_pos = np.arange(len(test_names))\n",
    "\n",
    "    ax.barh(y_pos, times_avg, align='center')\n",
    "    ax.set_yticks(y_pos, labels=test_names)\n",
    "    ax.invert_yaxis()  # labels read top-to-bottom\n",
    "    ax.set_xlabel('Times (s)')\n",
    "    ax.set_xscale('log')\n",
    "    ax.set_title(title)"
   ]
  },
  {
   "cell_type": "markdown",
   "id": "622e901d-7775-4be1-a3b4-7b9aae69e10f",
   "metadata": {},
   "source": [
    "### Pointwise copy stencil"
   ]
  },
  {
   "cell_type": "code",
   "execution_count": 6,
   "id": "49ad257c-54aa-4c24-a106-fa189509e4aa",
   "metadata": {
    "jupyter": {
     "source_hidden": true
    },
    "tags": []
   },
   "outputs": [],
   "source": [
    "test_names = [\n",
    "    \"list_pointwise\", \"array_pointwise\", \"numpy_pointwise\", \"numba_pointwise\",\n",
    "    \"numba_parallel_pointwise\", \"numexpr_pointwise\", \"gt4py_numpy_pointwise\",\n",
    "    \"gt4py_ifirst_pointwise\", \"gt4py_kfirst_pointwise\"\n",
    "]\n",
    "times_avg = [read_results(test) for test in test_names]"
   ]
  },
  {
   "cell_type": "code",
   "execution_count": 7,
   "id": "fd8f03cd-3929-492d-ac3c-21d9e51a155c",
   "metadata": {},
   "outputs": [
    {
     "data": {
      "image/png": "[encoded data removed]",
      "text/plain": [
       "<Figure size 700x500 with 1 Axes>"
      ]
     },
     "metadata": {
      "needs_background": "light"
     },
     "output_type": "display_data"
    }
   ],
   "source": [
    "comparison_plot(test_names, times_avg, title=\"Pointwise copy stencil\")"
   ]
  },
  {
   "cell_type": "markdown",
   "id": "a1a2fb03-4ba3-4b33-a371-00d6edcfa3a6",
   "metadata": {},
   "source": [
    "### Pointwise sine stencil"
   ]
  },
  {
   "cell_type": "code",
   "execution_count": 8,
   "id": "e3c4a07a-9f45-47e0-9e27-a3a1a9fad1bf",
   "metadata": {
    "jupyter": {
     "source_hidden": true
    },
    "tags": []
   },
   "outputs": [],
   "source": [
    "test_names = [\n",
    "    \"list_sin_pointwise\", \"array_sin_pointwise\", \"numpy_sin_pointwise\", \"numba_sin_pointwise\",\n",
    "    \"numba_parallel_sin_pointwise\", \"numexpr_sin_pointwise\"\n",
    "]\n",
    "times_avg = [read_results(test) for test in test_names]"
   ]
  },
  {
   "cell_type": "code",
   "execution_count": 9,
   "id": "7fae4b7c-78e4-49a6-a07c-1996a7949706",
   "metadata": {},
   "outputs": [
    {
     "data": {
      "image/png": "[encoded data removed]",
      "text/plain": [
       "<Figure size 700x500 with 1 Axes>"
      ]
     },
     "metadata": {
      "needs_background": "light"
     },
     "output_type": "display_data"
    }
   ],
   "source": [
    "comparison_plot(test_names, times_avg, title=\"Pointwise sine stencil\")"
   ]
  },
  {
   "cell_type": "markdown",
   "id": "39d9fd3f-2b58-4bfd-9df0-8c4deff2be50",
   "metadata": {},
   "source": [
    "### 1D stencil"
   ]
  },
  {
   "cell_type": "code",
   "execution_count": 10,
   "id": "e3a66a6d-f5bf-4534-af73-402a0b843b4e",
   "metadata": {
    "jupyter": {
     "source_hidden": true
    },
    "tags": []
   },
   "outputs": [],
   "source": [
    "test_names = [\n",
    "    \"list_1D_same_col_ZYX\", \"numpy_1D_same_col\", \"numba_1D_same_col\", \"numexpr_1D_same_col\",\n",
    "    \"gt4py_numpy_1D_same_col\", \"gt4py_ifirst_1D_same_col\", \"gt4py_kfirst_1D_same_col\"\n",
    "]\n",
    "times_avg = [read_results(test) for test in test_names]"
   ]
  },
  {
   "cell_type": "code",
   "execution_count": 11,
   "id": "21b599ec-b097-4963-88c4-167c326684d2",
   "metadata": {},
   "outputs": [
    {
     "data": {
      "image/png": "[encoded data removed]",
      "text/plain": [
       "<Figure size 700x500 with 1 Axes>"
      ]
     },
     "metadata": {
      "needs_background": "light"
     },
     "output_type": "display_data"
    }
   ],
   "source": [
    "comparison_plot(test_names, times_avg, title=\"1D same column stencil\")"
   ]
  },
  {
   "cell_type": "markdown",
   "id": "3d95c864-8d26-473f-b5ea-7058221893fe",
   "metadata": {},
   "source": [
    "### 2D stencil"
   ]
  },
  {
   "cell_type": "code",
   "execution_count": 12,
   "id": "c5243e6c-7729-412f-823f-4cc485864011",
   "metadata": {},
   "outputs": [],
   "source": [
    "test_names = [\n",
    "    \"numpy_2D\", \"numba_2D\", \"numba_1D_same_col\", \"gt4py_numpy_2D\",\n",
    "    \"gt4py_ifirst_2D\", \"gt4py_kfirst_2D\"\n",
    "]\n",
    "times_avg = [read_results(test) for test in test_names]"
   ]
  },
  {
   "cell_type": "code",
   "execution_count": 13,
   "id": "20b0c26f-a114-4249-991e-04c45025339b",
   "metadata": {},
   "outputs": [
    {
     "data": {
      "image/png": "[encoded data removed]",
      "text/plain": [
       "<Figure size 700x500 with 1 Axes>"
      ]
     },
     "metadata": {
      "needs_background": "light"
     },
     "output_type": "display_data"
    }
   ],
   "source": [
    "comparison_plot(test_names, times_avg, title=\"2D stencil\")"
   ]
  }
 ],
 "metadata": {
  "kernelspec": {
   "display_name": "HPC4WC_project12_kernel",
   "language": "python",
   "name": "hpc4wc_project12_kernel"
  },
  "language_info": {
   "codemirror_mode": {
    "name": "ipython",
    "version": 3
   },
   "file_extension": ".py",
   "mimetype": "text/x-python",
   "name": "python",
   "nbconvert_exporter": "python",
   "pygments_lexer": "ipython3",
   "version": "3.9.4"
  }
 },
 "nbformat": 4,
 "nbformat_minor": 5
}
