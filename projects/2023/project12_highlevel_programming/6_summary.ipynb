{
 "cells": [
  {
   "cell_type": "markdown",
   "id": "01a48bb2-9c71-448e-b77b-921d5814441e",
   "metadata": {},
   "source": [
    "# `6_summary.ipynb`\n",
    "\n",
    "In this notebook results from all previous notebooks are shown and compared."
   ]
  },
  {
   "cell_type": "code",
   "execution_count": 1,
   "id": "a3f305ee-d24f-4cb1-9e85-1b107028c55d",
   "metadata": {},
   "outputs": [],
   "source": [
    "import numpy as np\n",
    "import pandas as pd\n",
    "import matplotlib.pyplot as plt"
   ]
  },
  {
   "cell_type": "code",
   "execution_count": 2,
   "id": "06477355-6a00-4113-bd26-198736206776",
   "metadata": {},
   "outputs": [],
   "source": [
    "from common import read_results"
   ]
  },
  {
   "cell_type": "code",
   "execution_count": 3,
   "id": "39e8759e-7e07-4795-b280-0237ff063a3d",
   "metadata": {},
   "outputs": [],
   "source": [
    "results = pd.read_csv(\"results.csv\")"
   ]
  },
  {
   "cell_type": "markdown",
   "id": "c1ef9ddb-4b97-4153-9d7f-4e1c68a4bbda",
   "metadata": {},
   "source": [
    "## `results.csv`"
   ]
  },
  {
   "cell_type": "markdown",
   "id": "11af0ba1-b873-43a7-a819-51fe139ef42f",
   "metadata": {},
   "source": [
    "There are all the times we got in the different benchmarks sorted from slowest to fastest."
   ]
  },
  {
   "cell_type": "code",
   "execution_count": 4,
   "id": "cafdcdd1-9da2-47fc-8e16-4dd88b0d5440",
   "metadata": {},
   "outputs": [
    {
     "data": {
      "text/html": [
       "<div>\n",
       "<style scoped>\n",
       "    .dataframe tbody tr th:only-of-type {\n",
       "        vertical-align: middle;\n",
       "    }\n",
       "\n",
       "    .dataframe tbody tr th {\n",
       "        vertical-align: top;\n",
       "    }\n",
       "\n",
       "    .dataframe thead th {\n",
       "        text-align: right;\n",
       "    }\n",
       "</style>\n",
       "<table border=\"1\" class=\"dataframe\">\n",
       "  <thead>\n",
       "    <tr style=\"text-align: right;\">\n",
       "      <th></th>\n",
       "      <th>timestamp</th>\n",
       "      <th>hostname</th>\n",
       "      <th>test</th>\n",
       "      <th>timeit_avg</th>\n",
       "      <th>timeit_std</th>\n",
       "    </tr>\n",
       "  </thead>\n",
       "  <tbody>\n",
       "    <tr>\n",
       "      <th>0</th>\n",
       "      <td>2023-08-28 06:46:08.470641</td>\n",
       "      <td>nid06416</td>\n",
       "      <td>list_pointwise</td>\n",
       "      <td>8.220000</td>\n",
       "      <td>4.830000e-03</td>\n",
       "    </tr>\n",
       "    <tr>\n",
       "      <th>1</th>\n",
       "      <td>2023-08-28 06:52:14.407401</td>\n",
       "      <td>nid06416</td>\n",
       "      <td>list_sin_pointwise</td>\n",
       "      <td>14.300000</td>\n",
       "      <td>1.270000e-02</td>\n",
       "    </tr>\n",
       "    <tr>\n",
       "      <th>2</th>\n",
       "      <td>2023-08-28 06:53:21.944404</td>\n",
       "      <td>nid06416</td>\n",
       "      <td>array_pointwise</td>\n",
       "      <td>15.000000</td>\n",
       "      <td>1.830000e-02</td>\n",
       "    </tr>\n",
       "    <tr>\n",
       "      <th>3</th>\n",
       "      <td>2023-08-28 06:59:04.973466</td>\n",
       "      <td>nid06416</td>\n",
       "      <td>array_sin_pointwise</td>\n",
       "      <td>22.400000</td>\n",
       "      <td>7.560000e-02</td>\n",
       "    </tr>\n",
       "    <tr>\n",
       "      <th>4</th>\n",
       "      <td>2023-08-28 06:59:08.424226</td>\n",
       "      <td>nid06416</td>\n",
       "      <td>numpy_pointwise</td>\n",
       "      <td>0.000036</td>\n",
       "      <td>3.180000e-07</td>\n",
       "    </tr>\n",
       "    <tr>\n",
       "      <th>5</th>\n",
       "      <td>2023-08-28 06:59:15.692670</td>\n",
       "      <td>nid06416</td>\n",
       "      <td>numpy_sin_pointwise</td>\n",
       "      <td>0.868000</td>\n",
       "      <td>1.670000e-04</td>\n",
       "    </tr>\n",
       "    <tr>\n",
       "      <th>6</th>\n",
       "      <td>2023-08-28 07:02:26.281812</td>\n",
       "      <td>nid06416</td>\n",
       "      <td>list_1D_same_col_ZYX</td>\n",
       "      <td>14.900000</td>\n",
       "      <td>8.910000e-03</td>\n",
       "    </tr>\n",
       "    <tr>\n",
       "      <th>7</th>\n",
       "      <td>2023-08-28 07:05:10.700202</td>\n",
       "      <td>nid06416</td>\n",
       "      <td>numpy_1D_same_col</td>\n",
       "      <td>0.117000</td>\n",
       "      <td>2.920000e-04</td>\n",
       "    </tr>\n",
       "    <tr>\n",
       "      <th>8</th>\n",
       "      <td>2023-08-28 07:10:27.407807</td>\n",
       "      <td>nid06416</td>\n",
       "      <td>list_1D_same_row_ZXY</td>\n",
       "      <td>14.900000</td>\n",
       "      <td>2.050000e-02</td>\n",
       "    </tr>\n",
       "    <tr>\n",
       "      <th>9</th>\n",
       "      <td>2023-08-28 07:11:29.792252</td>\n",
       "      <td>nid06416</td>\n",
       "      <td>numpy_1D_same_row</td>\n",
       "      <td>0.105000</td>\n",
       "      <td>1.160000e-05</td>\n",
       "    </tr>\n",
       "    <tr>\n",
       "      <th>10</th>\n",
       "      <td>2023-08-28 07:11:40.414976</td>\n",
       "      <td>nid06416</td>\n",
       "      <td>numpy_2D</td>\n",
       "      <td>1.100000</td>\n",
       "      <td>2.700000e-03</td>\n",
       "    </tr>\n",
       "    <tr>\n",
       "      <th>11</th>\n",
       "      <td>2023-08-28 07:27:45.944574</td>\n",
       "      <td>nid06416</td>\n",
       "      <td>numba_pointwise</td>\n",
       "      <td>0.031900</td>\n",
       "      <td>2.330000e-05</td>\n",
       "    </tr>\n",
       "    <tr>\n",
       "      <th>12</th>\n",
       "      <td>2023-08-28 07:28:01.913656</td>\n",
       "      <td>nid06416</td>\n",
       "      <td>numba_sin_pointwise</td>\n",
       "      <td>0.834000</td>\n",
       "      <td>4.470000e-03</td>\n",
       "    </tr>\n",
       "    <tr>\n",
       "      <th>13</th>\n",
       "      <td>2023-08-28 07:28:08.121811</td>\n",
       "      <td>nid06416</td>\n",
       "      <td>numba_parallel_sin_pointwise</td>\n",
       "      <td>0.061600</td>\n",
       "      <td>6.210000e-04</td>\n",
       "    </tr>\n",
       "    <tr>\n",
       "      <th>14</th>\n",
       "      <td>2023-08-28 07:28:11.950623</td>\n",
       "      <td>nid06416</td>\n",
       "      <td>numba_parallel_pointwise</td>\n",
       "      <td>0.003330</td>\n",
       "      <td>4.910000e-05</td>\n",
       "    </tr>\n",
       "    <tr>\n",
       "      <th>15</th>\n",
       "      <td>2023-08-28 07:28:19.557257</td>\n",
       "      <td>nid06416</td>\n",
       "      <td>numba_vectorized_sin_pointwise</td>\n",
       "      <td>0.077600</td>\n",
       "      <td>3.880000e-03</td>\n",
       "    </tr>\n",
       "    <tr>\n",
       "      <th>16</th>\n",
       "      <td>2023-08-28 07:28:32.814287</td>\n",
       "      <td>nid06416</td>\n",
       "      <td>numba_1D_same_col</td>\n",
       "      <td>0.003670</td>\n",
       "      <td>1.330000e-04</td>\n",
       "    </tr>\n",
       "    <tr>\n",
       "      <th>17</th>\n",
       "      <td>2023-08-28 07:28:42.922103</td>\n",
       "      <td>nid06416</td>\n",
       "      <td>numba_vectorized_1D_same_col</td>\n",
       "      <td>0.010200</td>\n",
       "      <td>9.400000e-04</td>\n",
       "    </tr>\n",
       "    <tr>\n",
       "      <th>18</th>\n",
       "      <td>2023-08-28 07:29:23.883688</td>\n",
       "      <td>nid06416</td>\n",
       "      <td>numba_1D_same_row</td>\n",
       "      <td>0.003580</td>\n",
       "      <td>1.350000e-04</td>\n",
       "    </tr>\n",
       "    <tr>\n",
       "      <th>19</th>\n",
       "      <td>2023-08-28 07:29:48.996685</td>\n",
       "      <td>nid06416</td>\n",
       "      <td>numba_2D</td>\n",
       "      <td>0.022300</td>\n",
       "      <td>5.360000e-04</td>\n",
       "    </tr>\n",
       "    <tr>\n",
       "      <th>20</th>\n",
       "      <td>2023-08-28 07:34:09.911592</td>\n",
       "      <td>nid06416</td>\n",
       "      <td>gt4py_numpy_pointwise</td>\n",
       "      <td>0.002910</td>\n",
       "      <td>3.700000e-05</td>\n",
       "    </tr>\n",
       "    <tr>\n",
       "      <th>21</th>\n",
       "      <td>2023-08-28 07:34:14.710336</td>\n",
       "      <td>nid06416</td>\n",
       "      <td>gt4py_ifirst_pointwise</td>\n",
       "      <td>0.005150</td>\n",
       "      <td>3.970000e-04</td>\n",
       "    </tr>\n",
       "    <tr>\n",
       "      <th>22</th>\n",
       "      <td>2023-08-28 07:34:19.763959</td>\n",
       "      <td>nid06416</td>\n",
       "      <td>gt4py_kfirst_pointwise</td>\n",
       "      <td>0.005470</td>\n",
       "      <td>2.900000e-04</td>\n",
       "    </tr>\n",
       "    <tr>\n",
       "      <th>23</th>\n",
       "      <td>2023-08-28 07:34:34.619437</td>\n",
       "      <td>nid06416</td>\n",
       "      <td>gt4py_numpy_1D_same_col</td>\n",
       "      <td>0.114000</td>\n",
       "      <td>2.340000e-04</td>\n",
       "    </tr>\n",
       "    <tr>\n",
       "      <th>24</th>\n",
       "      <td>2023-08-28 07:34:53.806372</td>\n",
       "      <td>nid06416</td>\n",
       "      <td>gt4py_ifirst_1D_same_col</td>\n",
       "      <td>0.010900</td>\n",
       "      <td>1.120000e-04</td>\n",
       "    </tr>\n",
       "    <tr>\n",
       "      <th>25</th>\n",
       "      <td>2023-08-28 07:35:00.627013</td>\n",
       "      <td>nid06416</td>\n",
       "      <td>gt4py_kfirst_1D_same_col</td>\n",
       "      <td>0.007670</td>\n",
       "      <td>1.440000e-04</td>\n",
       "    </tr>\n",
       "    <tr>\n",
       "      <th>26</th>\n",
       "      <td>2023-08-28 07:36:39.144440</td>\n",
       "      <td>nid06416</td>\n",
       "      <td>gt4py_numpy_1D_same_row</td>\n",
       "      <td>0.104000</td>\n",
       "      <td>2.980000e-05</td>\n",
       "    </tr>\n",
       "    <tr>\n",
       "      <th>27</th>\n",
       "      <td>2023-08-28 07:36:54.036475</td>\n",
       "      <td>nid06416</td>\n",
       "      <td>gt4py_ifirst_1D_same_row</td>\n",
       "      <td>0.007480</td>\n",
       "      <td>1.720000e-04</td>\n",
       "    </tr>\n",
       "    <tr>\n",
       "      <th>28</th>\n",
       "      <td>2023-08-28 07:37:01.130761</td>\n",
       "      <td>nid06416</td>\n",
       "      <td>gt4py_kfirst_1D_same_row</td>\n",
       "      <td>0.008400</td>\n",
       "      <td>8.030000e-05</td>\n",
       "    </tr>\n",
       "    <tr>\n",
       "      <th>29</th>\n",
       "      <td>2023-08-28 07:38:15.032501</td>\n",
       "      <td>nid06416</td>\n",
       "      <td>gt4py_numpy_2D</td>\n",
       "      <td>4.620000</td>\n",
       "      <td>1.240000e-03</td>\n",
       "    </tr>\n",
       "    <tr>\n",
       "      <th>30</th>\n",
       "      <td>2023-08-28 07:38:43.438546</td>\n",
       "      <td>nid06416</td>\n",
       "      <td>gt4py_ifirst_2D</td>\n",
       "      <td>0.033200</td>\n",
       "      <td>7.530000e-04</td>\n",
       "    </tr>\n",
       "    <tr>\n",
       "      <th>31</th>\n",
       "      <td>2023-08-28 07:39:16.303469</td>\n",
       "      <td>nid06416</td>\n",
       "      <td>gt4py_kfirst_2D</td>\n",
       "      <td>0.054200</td>\n",
       "      <td>6.420000e-04</td>\n",
       "    </tr>\n",
       "    <tr>\n",
       "      <th>32</th>\n",
       "      <td>2023-08-28 08:07:54.028060</td>\n",
       "      <td>nid06416</td>\n",
       "      <td>numexpr_pointwise</td>\n",
       "      <td>0.011400</td>\n",
       "      <td>3.170000e-04</td>\n",
       "    </tr>\n",
       "    <tr>\n",
       "      <th>33</th>\n",
       "      <td>2023-08-28 08:08:01.637651</td>\n",
       "      <td>nid06416</td>\n",
       "      <td>numexpr_sin_pointwise</td>\n",
       "      <td>0.086100</td>\n",
       "      <td>2.640000e-04</td>\n",
       "    </tr>\n",
       "    <tr>\n",
       "      <th>34</th>\n",
       "      <td>2023-08-28 08:08:10.146056</td>\n",
       "      <td>nid06416</td>\n",
       "      <td>numexpr_1D_same_col</td>\n",
       "      <td>0.096800</td>\n",
       "      <td>1.490000e-03</td>\n",
       "    </tr>\n",
       "  </tbody>\n",
       "</table>\n",
       "</div>"
      ],
      "text/plain": [
       "                     timestamp  hostname                            test  \\\n",
       "0   2023-08-28 06:46:08.470641  nid06416                  list_pointwise   \n",
       "1   2023-08-28 06:52:14.407401  nid06416              list_sin_pointwise   \n",
       "2   2023-08-28 06:53:21.944404  nid06416                 array_pointwise   \n",
       "3   2023-08-28 06:59:04.973466  nid06416             array_sin_pointwise   \n",
       "4   2023-08-28 06:59:08.424226  nid06416                 numpy_pointwise   \n",
       "5   2023-08-28 06:59:15.692670  nid06416             numpy_sin_pointwise   \n",
       "6   2023-08-28 07:02:26.281812  nid06416            list_1D_same_col_ZYX   \n",
       "7   2023-08-28 07:05:10.700202  nid06416               numpy_1D_same_col   \n",
       "8   2023-08-28 07:10:27.407807  nid06416            list_1D_same_row_ZXY   \n",
       "9   2023-08-28 07:11:29.792252  nid06416               numpy_1D_same_row   \n",
       "10  2023-08-28 07:11:40.414976  nid06416                        numpy_2D   \n",
       "11  2023-08-28 07:27:45.944574  nid06416                 numba_pointwise   \n",
       "12  2023-08-28 07:28:01.913656  nid06416             numba_sin_pointwise   \n",
       "13  2023-08-28 07:28:08.121811  nid06416    numba_parallel_sin_pointwise   \n",
       "14  2023-08-28 07:28:11.950623  nid06416        numba_parallel_pointwise   \n",
       "15  2023-08-28 07:28:19.557257  nid06416  numba_vectorized_sin_pointwise   \n",
       "16  2023-08-28 07:28:32.814287  nid06416               numba_1D_same_col   \n",
       "17  2023-08-28 07:28:42.922103  nid06416    numba_vectorized_1D_same_col   \n",
       "18  2023-08-28 07:29:23.883688  nid06416               numba_1D_same_row   \n",
       "19  2023-08-28 07:29:48.996685  nid06416                        numba_2D   \n",
       "20  2023-08-28 07:34:09.911592  nid06416           gt4py_numpy_pointwise   \n",
       "21  2023-08-28 07:34:14.710336  nid06416          gt4py_ifirst_pointwise   \n",
       "22  2023-08-28 07:34:19.763959  nid06416          gt4py_kfirst_pointwise   \n",
       "23  2023-08-28 07:34:34.619437  nid06416         gt4py_numpy_1D_same_col   \n",
       "24  2023-08-28 07:34:53.806372  nid06416        gt4py_ifirst_1D_same_col   \n",
       "25  2023-08-28 07:35:00.627013  nid06416        gt4py_kfirst_1D_same_col   \n",
       "26  2023-08-28 07:36:39.144440  nid06416         gt4py_numpy_1D_same_row   \n",
       "27  2023-08-28 07:36:54.036475  nid06416        gt4py_ifirst_1D_same_row   \n",
       "28  2023-08-28 07:37:01.130761  nid06416        gt4py_kfirst_1D_same_row   \n",
       "29  2023-08-28 07:38:15.032501  nid06416                  gt4py_numpy_2D   \n",
       "30  2023-08-28 07:38:43.438546  nid06416                 gt4py_ifirst_2D   \n",
       "31  2023-08-28 07:39:16.303469  nid06416                 gt4py_kfirst_2D   \n",
       "32  2023-08-28 08:07:54.028060  nid06416               numexpr_pointwise   \n",
       "33  2023-08-28 08:08:01.637651  nid06416           numexpr_sin_pointwise   \n",
       "34  2023-08-28 08:08:10.146056  nid06416             numexpr_1D_same_col   \n",
       "\n",
       "    timeit_avg    timeit_std  \n",
       "0     8.220000  4.830000e-03  \n",
       "1    14.300000  1.270000e-02  \n",
       "2    15.000000  1.830000e-02  \n",
       "3    22.400000  7.560000e-02  \n",
       "4     0.000036  3.180000e-07  \n",
       "5     0.868000  1.670000e-04  \n",
       "6    14.900000  8.910000e-03  \n",
       "7     0.117000  2.920000e-04  \n",
       "8    14.900000  2.050000e-02  \n",
       "9     0.105000  1.160000e-05  \n",
       "10    1.100000  2.700000e-03  \n",
       "11    0.031900  2.330000e-05  \n",
       "12    0.834000  4.470000e-03  \n",
       "13    0.061600  6.210000e-04  \n",
       "14    0.003330  4.910000e-05  \n",
       "15    0.077600  3.880000e-03  \n",
       "16    0.003670  1.330000e-04  \n",
       "17    0.010200  9.400000e-04  \n",
       "18    0.003580  1.350000e-04  \n",
       "19    0.022300  5.360000e-04  \n",
       "20    0.002910  3.700000e-05  \n",
       "21    0.005150  3.970000e-04  \n",
       "22    0.005470  2.900000e-04  \n",
       "23    0.114000  2.340000e-04  \n",
       "24    0.010900  1.120000e-04  \n",
       "25    0.007670  1.440000e-04  \n",
       "26    0.104000  2.980000e-05  \n",
       "27    0.007480  1.720000e-04  \n",
       "28    0.008400  8.030000e-05  \n",
       "29    4.620000  1.240000e-03  \n",
       "30    0.033200  7.530000e-04  \n",
       "31    0.054200  6.420000e-04  \n",
       "32    0.011400  3.170000e-04  \n",
       "33    0.086100  2.640000e-04  \n",
       "34    0.096800  1.490000e-03  "
      ]
     },
     "execution_count": 4,
     "metadata": {},
     "output_type": "execute_result"
    }
   ],
   "source": [
    "results"
   ]
  },
  {
   "cell_type": "markdown",
   "id": "cd170868-c0a0-4322-9804-cfd53aeccdb4",
   "metadata": {},
   "source": [
    "## Summary plots"
   ]
  },
  {
   "cell_type": "code",
   "execution_count": 5,
   "id": "143c1afa-8567-4325-a9ba-467d92afbfed",
   "metadata": {
    "tags": []
   },
   "outputs": [],
   "source": [
    "def comparison_plot(test_names, times_avg, title=None, save=False):\n",
    "    assert len(test_names) == len(times_avg)\n",
    "    assert isinstance(title, str)\n",
    "\n",
    "    fig, ax = plt.subplots(figsize=(7, 5), dpi=100)\n",
    "\n",
    "    y_pos = np.arange(len(test_names))\n",
    "\n",
    "    ax.barh(y_pos, times_avg, align='center')\n",
    "    ax.set_yticks(y_pos, labels=test_names)\n",
    "    ax.invert_yaxis()  # labels read top-to-bottom\n",
    "    ax.set_xlabel('Times (s)')\n",
    "    ax.set_xscale('log')\n",
    "    ax.set_title(title)\n",
    "    \n",
    "    if save:\n",
    "        filename = title.lower().replace(\" \", \"_\")\n",
    "        plt.savefig(f\"plots/{filename}.png\", dpi=300, bbox_inches=\"tight\")\n",
    "        plt.savefig(f\"plots/{filename}.eps\", dpi=300, bbox_inches=\"tight\")"
   ]
  },
  {
   "cell_type": "markdown",
   "id": "622e901d-7775-4be1-a3b4-7b9aae69e10f",
   "metadata": {},
   "source": [
    "### Pointwise copy stencil"
   ]
  },
  {
   "cell_type": "code",
   "execution_count": 6,
   "id": "49ad257c-54aa-4c24-a106-fa189509e4aa",
   "metadata": {
    "jupyter": {
     "source_hidden": true
    },
    "tags": []
   },
   "outputs": [],
   "source": [
    "test_names = [\n",
    "    \"list_pointwise\", \"array_pointwise\", \"numpy_pointwise\", \"numba_pointwise\",\n",
    "    \"numba_parallel_pointwise\", \"numexpr_pointwise\", \"gt4py_numpy_pointwise\",\n",
    "    \"gt4py_ifirst_pointwise\", \"gt4py_kfirst_pointwise\"\n",
    "]\n",
    "times_avg = [read_results(test) for test in test_names]"
   ]
  },
  {
   "cell_type": "code",
   "execution_count": 7,
   "id": "fd8f03cd-3929-492d-ac3c-21d9e51a155c",
   "metadata": {},
   "outputs": [
    {
     "data": {
      "image/png": "[encoded data removed]",
      "text/plain": [
       "<Figure size 700x500 with 1 Axes>"
      ]
     },
     "metadata": {
      "needs_background": "light"
     },
     "output_type": "display_data"
    }
   ],
   "source": [
    "comparison_plot(test_names, times_avg, title=\"Pointwise copy stencil\", save=True)"
   ]
  },
  {
   "cell_type": "markdown",
   "id": "a1a2fb03-4ba3-4b33-a371-00d6edcfa3a6",
   "metadata": {},
   "source": [
    "### Pointwise sine stencil"
   ]
  },
  {
   "cell_type": "code",
   "execution_count": 8,
   "id": "e3c4a07a-9f45-47e0-9e27-a3a1a9fad1bf",
   "metadata": {
    "jupyter": {
     "source_hidden": true
    },
    "tags": []
   },
   "outputs": [],
   "source": [
    "test_names = [\n",
    "    \"list_sin_pointwise\", \"array_sin_pointwise\", \"numpy_sin_pointwise\", \"numba_sin_pointwise\",\n",
    "    \"numba_parallel_sin_pointwise\", \"numexpr_sin_pointwise\"\n",
    "]\n",
    "times_avg = [read_results(test) for test in test_names]"
   ]
  },
  {
   "cell_type": "code",
   "execution_count": 9,
   "id": "7fae4b7c-78e4-49a6-a07c-1996a7949706",
   "metadata": {},
   "outputs": [
    {
     "data": {
      "image/png": "[encoded data removed]",
      "text/plain": [
       "<Figure size 700x500 with 1 Axes>"
      ]
     },
     "metadata": {
      "needs_background": "light"
     },
     "output_type": "display_data"
    }
   ],
   "source": [
    "comparison_plot(test_names, times_avg, title=\"Pointwise sine stencil\", save=True)"
   ]
  },
  {
   "cell_type": "markdown",
   "id": "39d9fd3f-2b58-4bfd-9df0-8c4deff2be50",
   "metadata": {},
   "source": [
    "### 1D stencil"
   ]
  },
  {
   "cell_type": "code",
   "execution_count": 10,
   "id": "e3a66a6d-f5bf-4534-af73-402a0b843b4e",
   "metadata": {
    "jupyter": {
     "source_hidden": true
    },
    "tags": []
   },
   "outputs": [],
   "source": [
    "test_names = [\n",
    "    \"list_1D_same_col_ZYX\", \"numpy_1D_same_col\", \"numba_1D_same_col\", \"numexpr_1D_same_col\",\n",
    "    \"gt4py_numpy_1D_same_col\", \"gt4py_ifirst_1D_same_col\", \"gt4py_kfirst_1D_same_col\"\n",
    "]\n",
    "times_avg = [read_results(test) for test in test_names]"
   ]
  },
  {
   "cell_type": "code",
   "execution_count": 11,
   "id": "21b599ec-b097-4963-88c4-167c326684d2",
   "metadata": {},
   "outputs": [
    {
     "data": {
      "image/png": "[encoded data removed]",
      "text/plain": [
       "<Figure size 700x500 with 1 Axes>"
      ]
     },
     "metadata": {
      "needs_background": "light"
     },
     "output_type": "display_data"
    }
   ],
   "source": [
    "comparison_plot(test_names, times_avg, title=\"1D same column stencil\", save=True)"
   ]
  },
  {
   "cell_type": "markdown",
   "id": "3d95c864-8d26-473f-b5ea-7058221893fe",
   "metadata": {},
   "source": [
    "### 2D stencil"
   ]
  },
  {
   "cell_type": "code",
   "execution_count": 12,
   "id": "c5243e6c-7729-412f-823f-4cc485864011",
   "metadata": {
    "jupyter": {
     "source_hidden": true
    },
    "tags": []
   },
   "outputs": [],
   "source": [
    "test_names = [\n",
    "    \"numpy_2D\", \"numba_2D\", \"numba_1D_same_col\", \"gt4py_numpy_2D\",\n",
    "    \"gt4py_ifirst_2D\", \"gt4py_kfirst_2D\"\n",
    "]\n",
    "times_avg = [read_results(test) for test in test_names]"
   ]
  },
  {
   "cell_type": "code",
   "execution_count": 13,
   "id": "20b0c26f-a114-4249-991e-04c45025339b",
   "metadata": {},
   "outputs": [
    {
     "data": {
      "image/png": "[encoded data removed]",
      "text/plain": [
       "<Figure size 700x500 with 1 Axes>"
      ]
     },
     "metadata": {
      "needs_background": "light"
     },
     "output_type": "display_data"
    }
   ],
   "source": [
    "comparison_plot(test_names, times_avg, title=\"2D stencil\", save=True)"
   ]
  }
 ],
 "metadata": {
  "kernelspec": {
   "display_name": "HPC4WC_project12_kernel",
   "language": "python",
   "name": "hpc4wc_project12_kernel"
  },
  "language_info": {
   "codemirror_mode": {
    "name": "ipython",
    "version": 3
   },
   "file_extension": ".py",
   "mimetype": "text/x-python",
   "name": "python",
   "nbconvert_exporter": "python",
   "pygments_lexer": "ipython3",
   "version": "3.9.4"
  }
 },
 "nbformat": 4,
 "nbformat_minor": 5
}
