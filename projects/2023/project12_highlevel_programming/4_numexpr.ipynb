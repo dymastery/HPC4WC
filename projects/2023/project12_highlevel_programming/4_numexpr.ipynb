{
 "cells": [
  {
   "cell_type": "markdown",
   "id": "d3e1f9ee-0f77-498d-8076-0290d5fcf8f0",
   "metadata": {},
   "source": [
    "# `4_numexpr.ipynb`\n",
    "\n",
    "This notebook focuses on accelerating the stencil computations presented in the [lists and NumPy notebook](./1_lists_numpy.ipynb) using [NumExpr](https://github.com/pydata/numexpr)."
   ]
  },
  {
   "cell_type": "code",
   "execution_count": 1,
   "id": "1f97b3c4-3b07-4897-92b8-3d8e1d9debd2",
   "metadata": {},
   "outputs": [],
   "source": [
    "import os\n",
    "import math\n",
    "import numpy as np\n",
    "os.environ['NUMEXPR_MAX_THREADS'] = '24'\n",
    "os.environ['NUMEXPR_NUM_THREADS'] = '12'\n",
    "import numexpr as ne\n",
    "import numba\n",
    "from IPython.display import Markdown as md"
   ]
  },
  {
   "cell_type": "code",
   "execution_count": 2,
   "id": "805f895f-9fbc-4ccf-9c01-91230865ff11",
   "metadata": {},
   "outputs": [],
   "source": [
    "from common import initialize_field, plot_field, save_result, compare_results, read_results"
   ]
  },
  {
   "cell_type": "code",
   "execution_count": 3,
   "id": "229d3139-a4af-4aeb-9b34-25a865c1b891",
   "metadata": {},
   "outputs": [],
   "source": [
    "NX = 128\n",
    "NY = 128\n",
    "NZ = 80\n",
    "N_ITER = 50"
   ]
  },
  {
   "cell_type": "markdown",
   "id": "19998405-555a-47df-82c4-b55e040275c8",
   "metadata": {},
   "source": [
    "## Introduction\n",
    "\n",
    "NumExpr focuses on accelerating elementwise operations on NumPy arrays. Let's say, for example, that we have two arrays `a` and `b`, and we want to compute `0.5*sin(a)**2 + 0.5*cos(b)**2`. There are two extremes to do this."
   ]
  },
  {
   "cell_type": "markdown",
   "id": "a462afc5-d4ae-4f57-9afa-e6e406f4eeb8",
   "metadata": {},
   "source": [
    "### The NumPy way"
   ]
  },
  {
   "cell_type": "code",
   "execution_count": 4,
   "id": "346b6bf9-c2b4-48c2-81df-0c6013c674ad",
   "metadata": {},
   "outputs": [],
   "source": [
    "def numpy_test(a, b):\n",
    "    return 0.5 * np.sin(a)**2 + 0.5 * np.cos(b)**2"
   ]
  },
  {
   "cell_type": "code",
   "execution_count": 5,
   "id": "982fccd7-37bc-4761-9dd5-e42cd07f3385",
   "metadata": {},
   "outputs": [
    {
     "name": "stdout",
     "output_type": "stream",
     "text": [
      "40.1 ms ± 439 µs per loop (mean ± std. dev. of 7 runs, 10 loops each)\n"
     ]
    },
    {
     "data": {
      "text/plain": [
       "<TimeitResult : 40.1 ms ± 439 µs per loop (mean ± std. dev. of 7 runs, 10 loops each)>"
      ]
     },
     "execution_count": 5,
     "metadata": {},
     "output_type": "execute_result"
    }
   ],
   "source": [
    "%%timeit -o a = initialize_field(NX, NY, NZ); b = initialize_field(NX, NY, NZ)\n",
    "c = numpy_test(a, b)"
   ]
  },
  {
   "cell_type": "code",
   "execution_count": 6,
   "id": "189d65db-6d13-4527-b557-d313e47669d7",
   "metadata": {},
   "outputs": [],
   "source": [
    "result_numpy_test = _"
   ]
  },
  {
   "cell_type": "markdown",
   "id": "524cd317-341f-498e-8cdb-1b347fea7112",
   "metadata": {},
   "source": [
    "### The Python way"
   ]
  },
  {
   "cell_type": "code",
   "execution_count": 7,
   "id": "7485c3b3-ba67-45b2-a718-0ced1d597dea",
   "metadata": {},
   "outputs": [],
   "source": [
    "def python_test(a, b):\n",
    "    c = np.empty_like(a)\n",
    "    for k in range(NZ):\n",
    "        for j in range(NY):\n",
    "            for i in range(NX):\n",
    "                c[k, j, i] = 0.5 * math.sin(a[k, j, i])**2 + 0.5 * math.cos(b[k, j, i])**2\n",
    "    return c"
   ]
  },
  {
   "cell_type": "code",
   "execution_count": 8,
   "id": "8df8979e-3a11-4496-905a-b6bbd9b837b8",
   "metadata": {},
   "outputs": [
    {
     "name": "stdout",
     "output_type": "stream",
     "text": [
      "1.05 s ± 5.48 ms per loop (mean ± std. dev. of 7 runs, 1 loop each)\n"
     ]
    },
    {
     "data": {
      "text/plain": [
       "<TimeitResult : 1.05 s ± 5.48 ms per loop (mean ± std. dev. of 7 runs, 1 loop each)>"
      ]
     },
     "execution_count": 8,
     "metadata": {},
     "output_type": "execute_result"
    }
   ],
   "source": [
    "%%timeit -o a = initialize_field(NX, NY, NZ); b = initialize_field(NX, NY, NZ)\n",
    "c = python_test(a, b)"
   ]
  },
  {
   "cell_type": "code",
   "execution_count": 9,
   "id": "768f09b3-ccaa-4e9c-b18b-cb9258250752",
   "metadata": {},
   "outputs": [],
   "source": [
    "result_python_test = _"
   ]
  },
  {
   "cell_type": "markdown",
   "id": "42fe02fe-7f7d-4b13-a0bb-c84e974a9503",
   "metadata": {},
   "source": [
    "The two approaches are completely opposite. The problem with the NumPy way is that is uses temporary arrays as large as `a` and `b` to do the calculation, which may be a problem if these arrays are huge. Memory-wise this approach is not very efficient and it is also not ideal for a good use of the CPU cache. For example, the results of `0.5 * sin(a)**2` and `0.5 * cos(b)**2` will not be in cache when they need to be added to obtain the final result.\n",
    "\n",
    "On the other hand, the python approach is very slow because of the large overhead due to the `for` loops. In [the Numba notebook](./2_numba.ipynb) we have seen how to overcome this by compiling certain parts of the code on runtime. In this notebook we will see how to do something similar with NumExpr."
   ]
  },
  {
   "cell_type": "markdown",
   "id": "9adb0506-c327-4798-88b3-eaa6c866e7a5",
   "metadata": {},
   "source": [
    "### The NumExpr way"
   ]
  },
  {
   "cell_type": "code",
   "execution_count": 10,
   "id": "48be955f-bd3a-411d-8b8a-7ce8c7f0492a",
   "metadata": {},
   "outputs": [],
   "source": [
    "def numexpr_aggressive_test(a, b):\n",
    "    return ne.evaluate(\"0.5 * sin(a)**2 + 0.5 * cos(b)**2\", optimization=\"aggressive\")\n",
    "\n",
    "def numexpr_moderate_test(a, b):\n",
    "    return ne.evaluate(\"0.5 * sin(a)**2 + 0.5 * cos(b)**2\", optimization=\"moderate\")"
   ]
  },
  {
   "cell_type": "markdown",
   "id": "112e1941-3ea3-40c5-bedc-4c82070ccc3a",
   "metadata": {},
   "source": [
    "The principal routine of NumExpr is `evaluate()`. At least, we should pass a string forming a valid expression. NumExpr will translate the `str` to the actual arrays using `sys._getframe()`, although it is also possible to explicitly pass a `local_dict` or a `global_dict` to the function, mapping the strings used in the expression with the desired Python variables.\n",
    "\n",
    "Finally, there is the kwarg `optimization`, which can take the values `\"moderate\"` or `\"aggressive\"` (default). The difference between these two modes is that in the former the expression will not be rewritten in a way that precision could be affected, while in the later some changes (e.g. `x**3` -> `x*x*`) are done to achieve better performance. In any case, the precision differences should be always small no matter what optimization mode we choose.\n",
    "\n",
    "NumExpr aims to achieve better performance than NumPy by avoiding allocating memory for intermediate results. Additionally, although it will not be tested in this project, it can take advantage of the Intel MKL library."
   ]
  },
  {
   "cell_type": "markdown",
   "id": "772eaba8-ae4c-4197-a827-df756142d6c2",
   "metadata": {},
   "source": [
    "### Benchmark time"
   ]
  },
  {
   "cell_type": "code",
   "execution_count": 11,
   "id": "1aa20643-c21f-4cde-b1f5-91e24572b922",
   "metadata": {},
   "outputs": [],
   "source": [
    "# No benchmark, let's run once just so that NumExpr can optimize/compile the code\n",
    "a = initialize_field(NX, NY, NZ)\n",
    "b = initialize_field(NX, NY, NZ)\n",
    "c1 = numexpr_aggressive_test(a, b)\n",
    "c2 = numexpr_moderate_test(a, b)"
   ]
  },
  {
   "cell_type": "code",
   "execution_count": 12,
   "id": "739d7228-fe1a-4fdb-8cad-06057ca9e265",
   "metadata": {},
   "outputs": [
    {
     "name": "stdout",
     "output_type": "stream",
     "text": [
      "3.66 ms ± 3.19 µs per loop (mean ± std. dev. of 7 runs, 100 loops each)\n"
     ]
    },
    {
     "data": {
      "text/plain": [
       "<TimeitResult : 3.66 ms ± 3.19 µs per loop (mean ± std. dev. of 7 runs, 100 loops each)>"
      ]
     },
     "execution_count": 12,
     "metadata": {},
     "output_type": "execute_result"
    }
   ],
   "source": [
    "%%timeit -o a = initialize_field(NX, NY, NZ); b = initialize_field(NX, NY, NZ)\n",
    "c = numexpr_aggressive_test(a, b)"
   ]
  },
  {
   "cell_type": "code",
   "execution_count": 13,
   "id": "82a485f1-a2ad-45dd-8f2b-7d2d4766c6fb",
   "metadata": {},
   "outputs": [],
   "source": [
    "result_numexpr_test_aggressive = _"
   ]
  },
  {
   "cell_type": "code",
   "execution_count": 14,
   "id": "a01af14e-1d46-48a3-9dd9-9d60d82aff49",
   "metadata": {},
   "outputs": [
    {
     "name": "stdout",
     "output_type": "stream",
     "text": [
      "3.83 ms ± 44.3 µs per loop (mean ± std. dev. of 7 runs, 100 loops each)\n"
     ]
    },
    {
     "data": {
      "text/plain": [
       "<TimeitResult : 3.83 ms ± 44.3 µs per loop (mean ± std. dev. of 7 runs, 100 loops each)>"
      ]
     },
     "execution_count": 14,
     "metadata": {},
     "output_type": "execute_result"
    }
   ],
   "source": [
    "%%timeit -o a = initialize_field(NX, NY, NZ); b = initialize_field(NX, NY, NZ)\n",
    "c = numexpr_moderate_test(a, b)"
   ]
  },
  {
   "cell_type": "code",
   "execution_count": 15,
   "id": "6730c9e4-c30c-47e0-b11b-8577b25d5364",
   "metadata": {},
   "outputs": [],
   "source": [
    "result_numexpr_test_moderate = _"
   ]
  },
  {
   "cell_type": "code",
   "execution_count": 16,
   "id": "f8faf492-ff9f-4c48-b3a9-39331985dd47",
   "metadata": {
    "jupyter": {
     "source_hidden": true
    },
    "tags": []
   },
   "outputs": [
    {
     "data": {
      "text/markdown": [
       "\n",
       "With this quick test we observe that code accelerated with NumExpr is **~11 times faster\n",
       "than the NumPy code**, and **~286 times faster than the Python code** with loops.\n"
      ],
      "text/plain": [
       "<IPython.core.display.Markdown object>"
      ]
     },
     "execution_count": 16,
     "metadata": {},
     "output_type": "execute_result"
    }
   ],
   "source": [
    "best_numexpr = min(result_numexpr_test_aggressive.average, result_numexpr_test_moderate.average)\n",
    "numexpr_vs_numpy = compare_results(best_numexpr, result_numpy_test.average, \"faster\")\n",
    "numexpr_vs_python = compare_results(best_numexpr, result_python_test.average, \"faster\")\n",
    "\n",
    "md(f\"\"\"\n",
    "With this quick test we observe that code accelerated with NumExpr is **{numexpr_vs_numpy} times faster\n",
    "than the NumPy code**, and **{numexpr_vs_python} times faster than the Python code** with loops.\n",
    "\"\"\")"
   ]
  },
  {
   "cell_type": "markdown",
   "id": "e118a035-e757-487a-a8e2-dd8113133b55",
   "metadata": {},
   "source": [
    "Let's check the same test with Numba to have a quick first comparison between these two packages."
   ]
  },
  {
   "cell_type": "code",
   "execution_count": 17,
   "id": "62b0a098-44c4-4df2-bf27-18f835652c41",
   "metadata": {},
   "outputs": [],
   "source": [
    "@numba.jit(nopython=True, parallel=True)\n",
    "def numba_test(a, b):\n",
    "    c = np.empty_like(a)\n",
    "    for k in numba.prange(NZ):\n",
    "        for j in range(NY):\n",
    "            for i in range(NX):\n",
    "                c[k, j, i] = 0.5 * math.sin(a[k, j, i])**2 + 0.5 * math.cos(b[k, j, i])**2\n",
    "    return c"
   ]
  },
  {
   "cell_type": "code",
   "execution_count": 18,
   "id": "e545231e-024a-4cbc-a297-7e9f53f0044b",
   "metadata": {},
   "outputs": [],
   "source": [
    "# Let Numba compile before benchmarking\n",
    "a = initialize_field(NX, NY, NZ)\n",
    "b = initialize_field(NX, NY, NZ)\n",
    "c = numba_test(a, b)"
   ]
  },
  {
   "cell_type": "code",
   "execution_count": 19,
   "id": "5cc421ac-6aa2-42ea-a3cb-d6be1dfc0527",
   "metadata": {},
   "outputs": [
    {
     "name": "stdout",
     "output_type": "stream",
     "text": [
      "3.56 ms ± 326 µs per loop (mean ± std. dev. of 7 runs, 100 loops each)\n"
     ]
    },
    {
     "data": {
      "text/plain": [
       "<TimeitResult : 3.56 ms ± 326 µs per loop (mean ± std. dev. of 7 runs, 100 loops each)>"
      ]
     },
     "execution_count": 19,
     "metadata": {},
     "output_type": "execute_result"
    }
   ],
   "source": [
    "%%timeit -o a = initialize_field(NX, NY, NZ); b = initialize_field(NX, NY, NZ)\n",
    "c = numba_test(a, b)"
   ]
  },
  {
   "cell_type": "code",
   "execution_count": 20,
   "id": "88d67718-1bf3-4de4-b14f-f840c9c15b08",
   "metadata": {},
   "outputs": [],
   "source": [
    "result_numba_test = _"
   ]
  },
  {
   "cell_type": "markdown",
   "id": "e065f5fa-87fd-480d-bff8-3dd65468d870",
   "metadata": {},
   "source": [
    "NumExpr and Numba achieve a very similar performance gain. This makes NumExpr a good candidate to accelerate code that does elementwise operations. However, as we will see later, NumExpr is not ideal to work with the most general stencil computations."
   ]
  },
  {
   "cell_type": "markdown",
   "id": "d923d190-fa62-42e6-9063-c622ab96a9d5",
   "metadata": {},
   "source": [
    "## Pointwise stencil"
   ]
  },
  {
   "cell_type": "markdown",
   "id": "acdbd06d-ab85-4ace-852b-d3e06fa145a1",
   "metadata": {},
   "source": [
    "### $a(i) = b(i)$"
   ]
  },
  {
   "cell_type": "code",
   "execution_count": 21,
   "id": "06333a20-7307-4b8b-aee5-b3e411c5a033",
   "metadata": {},
   "outputs": [],
   "source": [
    "def numexpr_pointwise(in_field):\n",
    "    for n in range(N_ITER):\n",
    "        out_field = ne.evaluate(\"in_field\")\n",
    "    return out_field"
   ]
  },
  {
   "cell_type": "code",
   "execution_count": 22,
   "id": "4b6e5416-d1a9-4d82-a403-38dc21c77a76",
   "metadata": {},
   "outputs": [
    {
     "data": {
      "image/png": "[encoded data removed]",
      "text/plain": [
       "<Figure size 700x500 with 2 Axes>"
      ]
     },
     "metadata": {
      "needs_background": "light"
     },
     "output_type": "display_data"
    }
   ],
   "source": [
    "# first call to optimize/compile\n",
    "in_field = initialize_field(NX, NY, NZ, mode=\"square\")\n",
    "out_field = numexpr_pointwise(in_field)\n",
    "plot_field(out_field)"
   ]
  },
  {
   "cell_type": "code",
   "execution_count": 23,
   "id": "9977f669-9bc4-4be7-b4ec-d28c49667487",
   "metadata": {},
   "outputs": [
    {
     "name": "stdout",
     "output_type": "stream",
     "text": [
      "12 ms ± 117 µs per loop (mean ± std. dev. of 7 runs, 100 loops each)\n"
     ]
    },
    {
     "data": {
      "text/plain": [
       "<TimeitResult : 12 ms ± 117 µs per loop (mean ± std. dev. of 7 runs, 100 loops each)>"
      ]
     },
     "execution_count": 23,
     "metadata": {},
     "output_type": "execute_result"
    }
   ],
   "source": [
    "%%timeit -o in_field = initialize_field(NX, NY, NZ)\n",
    "out_field = numexpr_pointwise(in_field)"
   ]
  },
  {
   "cell_type": "code",
   "execution_count": 24,
   "id": "7be7b360-014e-43aa-a742-86da895d192c",
   "metadata": {},
   "outputs": [],
   "source": [
    "result_numexpr_pointwise = _\n",
    "save_result(result_numexpr_pointwise, \"numexpr_pointwise\")"
   ]
  },
  {
   "cell_type": "code",
   "execution_count": 25,
   "id": "5b5b86d0-f192-4dd3-aa98-1c396bdcf3a3",
   "metadata": {
    "jupyter": {
     "source_hidden": true
    },
    "tags": []
   },
   "outputs": [
    {
     "data": {
      "text/markdown": [
       "\n",
       "| Function                     |  Time                                           |\n",
       "|:-----------------------------|------------------------------------------------:|\n",
       "| `list_pointwise()`           |  8.23s                         |\n",
       "| `numpy_pointwise()`          |  36.3μs             |\n",
       "| `numba_parallel_pointwise()` |  3.3ms    |\n",
       "| `numexpr_pointwise()`        |  12.0ms |\n"
      ],
      "text/plain": [
       "<IPython.core.display.Markdown object>"
      ]
     },
     "execution_count": 25,
     "metadata": {},
     "output_type": "execute_result"
    }
   ],
   "source": [
    "time_list_pointwise = read_results(\"list_pointwise\")\n",
    "time_numpy_pointwise = read_results(\"numpy_pointwise\")\n",
    "time_numba_parallel_pointwise = read_results(\"numba_parallel_pointwise\")\n",
    "\n",
    "md(f\"\"\"\n",
    "| Function                     |  Time                                           |\n",
    "|:-----------------------------|------------------------------------------------:|\n",
    "| `list_pointwise()`           |  {time_list_pointwise}s                         |\n",
    "| `numpy_pointwise()`          |  {time_numpy_pointwise * 1e6:.1f}μs             |\n",
    "| `numba_parallel_pointwise()` |  {time_numba_parallel_pointwise * 1e3:.1f}ms    |\n",
    "| `numexpr_pointwise()`        |  {result_numexpr_pointwise.average * 1e3:.1f}ms |\n",
    "\"\"\")"
   ]
  },
  {
   "cell_type": "code",
   "execution_count": 26,
   "id": "aaa0dae2-3381-428e-8be4-3e6d0a79ce4b",
   "metadata": {
    "jupyter": {
     "source_hidden": true
    },
    "tags": []
   },
   "outputs": [
    {
     "data": {
      "text/markdown": [
       "\n",
       "NumExpr code for the copy stencil is slower than Numba. In particular, Numba code using `@njit(parallel=True)`\n",
       "is **~3.6 times faster than NumExpr**.\n"
      ],
      "text/plain": [
       "<IPython.core.display.Markdown object>"
      ]
     },
     "execution_count": 26,
     "metadata": {},
     "output_type": "execute_result"
    }
   ],
   "source": [
    "numexpr_vs_numba = compare_results(time_numba_parallel_pointwise, result_numexpr_pointwise.average, \"faster\")\n",
    "\n",
    "md(f\"\"\"\n",
    "NumExpr code for the copy stencil is slower than Numba. In particular, Numba code using `@njit(parallel=True)`\n",
    "is **{numexpr_vs_numba} times faster than NumExpr**.\n",
    "\"\"\")"
   ]
  },
  {
   "cell_type": "markdown",
   "id": "95310a40-a6e4-4e4c-8869-ce0b75262c96",
   "metadata": {},
   "source": [
    "### $a(i) = \\sin(b(i))$"
   ]
  },
  {
   "cell_type": "code",
   "execution_count": 27,
   "id": "f22130a7-7ec1-4784-ba2f-ec3e3d0591a3",
   "metadata": {},
   "outputs": [],
   "source": [
    "def numexpr_sin_pointwise(in_field):\n",
    "    for n in range(N_ITER):\n",
    "        out_field = ne.evaluate(\"sin(in_field)\")\n",
    "        if n < N_ITER - 1:\n",
    "            in_field, out_field = out_field, in_field\n",
    "    return out_field"
   ]
  },
  {
   "cell_type": "code",
   "execution_count": 28,
   "id": "f0e2bc28-092e-4c60-8c99-a19e50f3dc41",
   "metadata": {},
   "outputs": [
    {
     "data": {
      "image/png": "[encoded data removed]",
      "text/plain": [
       "<Figure size 700x500 with 2 Axes>"
      ]
     },
     "metadata": {
      "needs_background": "light"
     },
     "output_type": "display_data"
    }
   ],
   "source": [
    "# first call to optimize/compile\n",
    "in_field = initialize_field(NX, NY, NZ, mode=\"square\")\n",
    "out_field = numexpr_sin_pointwise(in_field)\n",
    "plot_field(out_field)"
   ]
  },
  {
   "cell_type": "code",
   "execution_count": 29,
   "id": "67df7672-0dca-43ee-8224-a2e3ba9bf631",
   "metadata": {},
   "outputs": [
    {
     "name": "stdout",
     "output_type": "stream",
     "text": [
      "86.7 ms ± 516 µs per loop (mean ± std. dev. of 7 runs, 10 loops each)\n"
     ]
    },
    {
     "data": {
      "text/plain": [
       "<TimeitResult : 86.7 ms ± 516 µs per loop (mean ± std. dev. of 7 runs, 10 loops each)>"
      ]
     },
     "execution_count": 29,
     "metadata": {},
     "output_type": "execute_result"
    }
   ],
   "source": [
    "%%timeit -o in_field = initialize_field(NX, NY, NZ)\n",
    "out_field = numexpr_sin_pointwise(in_field)"
   ]
  },
  {
   "cell_type": "code",
   "execution_count": 30,
   "id": "27f9905d-2eb9-4b94-9970-f3249e322602",
   "metadata": {},
   "outputs": [],
   "source": [
    "result_numexpr_sin_pointwise = _\n",
    "save_result(result_numexpr_sin_pointwise, \"numexpr_sin_pointwise\")"
   ]
  },
  {
   "cell_type": "code",
   "execution_count": 31,
   "id": "021238ed-70dc-4088-ad70-ddcc639cea83",
   "metadata": {
    "jupyter": {
     "source_hidden": true
    },
    "tags": []
   },
   "outputs": [
    {
     "data": {
      "text/markdown": [
       "\n",
       "The pointwise `sin()` stencil accelerated with **NumExpr is ~73 times faster than using NumPy vectorized code**.\n",
       "But, once again, **Numba is ~1.4 times faster than NumExpr**.\n"
      ],
      "text/plain": [
       "<IPython.core.display.Markdown object>"
      ]
     },
     "execution_count": 31,
     "metadata": {},
     "output_type": "execute_result"
    }
   ],
   "source": [
    "time_numpy_sin_pointwise = read_results(\"numpy_sin_pointwise\")\n",
    "time_numba_sin_pointwise = read_results(\"numba_parallel_sin_pointwise\")\n",
    "numexpr_vs_numpy = compare_results(result_numexpr_pointwise.average, time_numpy_sin_pointwise, \"faster\")\n",
    "numexpr_vs_numba = compare_results(time_numba_sin_pointwise, result_numexpr_sin_pointwise.average, \"faster\")\n",
    "\n",
    "md(f\"\"\"\n",
    "The pointwise `sin()` stencil accelerated with **NumExpr is {numexpr_vs_numpy} times faster than using NumPy vectorized code**.\n",
    "But, once again, **Numba is {numexpr_vs_numba} times faster than NumExpr**.\n",
    "\"\"\")"
   ]
  },
  {
   "cell_type": "code",
   "execution_count": 32,
   "id": "38873db0-cd18-4a0c-94ce-f6d468f052f9",
   "metadata": {
    "jupyter": {
     "source_hidden": true
    },
    "tags": []
   },
   "outputs": [
    {
     "data": {
      "text/markdown": [
       "\n",
       "| Function                    |  Time                                               |\n",
       "|:----------------------------|----------------------------------------------------:|\n",
       "| `numpy_sin_pointwise()`     |  873ms             |\n",
       "| `numba_sin_pointwise()`     |  62.1ms             |\n",
       "| `numexpr_sin_pointwise()`   |  86.7ms |\n"
      ],
      "text/plain": [
       "<IPython.core.display.Markdown object>"
      ]
     },
     "execution_count": 32,
     "metadata": {},
     "output_type": "execute_result"
    }
   ],
   "source": [
    "md(f\"\"\"\n",
    "| Function                    |  Time                                               |\n",
    "|:----------------------------|----------------------------------------------------:|\n",
    "| `numpy_sin_pointwise()`     |  {time_numpy_sin_pointwise * 1e3:.0f}ms             |\n",
    "| `numba_sin_pointwise()`     |  {time_numba_sin_pointwise * 1e3:.1f}ms             |\n",
    "| `numexpr_sin_pointwise()`   |  {result_numexpr_sin_pointwise.average * 1e3:.1f}ms |\n",
    "\"\"\")"
   ]
  },
  {
   "cell_type": "markdown",
   "id": "3c9dc58f-bd69-44d4-be07-245cbdf77a3d",
   "metadata": {},
   "source": [
    "We could conclude already that there seems to be no reason to prefer NumExpr over Numba. Accelerating code with Numba is easier (we just need to wrap a function with a decorator) and way more flexible since we can accelerate any computation and not just pointwise calculations. For very especific (and complex) calculations, NumExpr could potentially lead to better performance gains, but with these two stencils we have observed that Numba code is faster than NumExpr."
   ]
  },
  {
   "cell_type": "markdown",
   "id": "c931023f-8eb9-49ab-876c-2bb535efef6d",
   "metadata": {},
   "source": [
    "## 1D stencils\n",
    "\n",
    "The remaining stencils cannot be done with NumExpr directly. But we will try to use NumPy views to achieve the same results. The idea is to have just one base array, and create multiple shifted views assigned to different variables, so that we can pass this to the `evaluate()` routine. In the case of the 1D stencils, we only need two views."
   ]
  },
  {
   "cell_type": "markdown",
   "id": "15ed42b2-119f-4104-a62c-de896a736222",
   "metadata": {},
   "source": [
    "###  Same column: $a(i,j) = \\frac{1}{2} \\Big[b(i+1,j) - b(i,j)\\Big]$"
   ]
  },
  {
   "cell_type": "code",
   "execution_count": 33,
   "id": "f2af8753-281a-4f93-bd85-e847b2db4a37",
   "metadata": {},
   "outputs": [],
   "source": [
    "def numexpr_1D_same_col(in_field):\n",
    "    out_field = np.empty_like(in_field)\n",
    "    for n in range(N_ITER):\n",
    "        # Views of arrays to pass to NumExpr\n",
    "        a = in_field[:, :, 1:]\n",
    "        b = in_field[:, :, :-1]\n",
    "        # Line accelerated with NumExpr\n",
    "        out_field[:, :, :-1] = ne.evaluate(\"0.5 * a - 0.5 * b\")\n",
    "        # Periodic boundary condition\n",
    "        out_field[:, :, -1] = 0.5 * (in_field[:, :, 0] - in_field[:, :, -1])\n",
    "        if n < N_ITER - 1:\n",
    "            in_field, out_field = out_field, in_field\n",
    "    return out_field"
   ]
  },
  {
   "cell_type": "code",
   "execution_count": 34,
   "id": "2f2505d9-8b62-486a-8a84-22568dade477",
   "metadata": {},
   "outputs": [
    {
     "data": {
      "image/png": "[encoded data removed]",
      "text/plain": [
       "<Figure size 700x500 with 2 Axes>"
      ]
     },
     "metadata": {
      "needs_background": "light"
     },
     "output_type": "display_data"
    }
   ],
   "source": [
    "in_field = initialize_field(NX, NY, NZ, mode=\"vertical-bars\")\n",
    "out_field = numexpr_1D_same_col(in_field)\n",
    "plot_field(out_field)"
   ]
  },
  {
   "cell_type": "markdown",
   "id": "36f0e1d2-3cd0-4496-8b5d-be238130918a",
   "metadata": {},
   "source": [
    "Using the same pattern of vertical bars as in previous notebooks, we can see that the result is correct. This means that the trick of using NumPy views to trick NumExpr to do calculations involving different gridpoints works. Let's check if we can observe any performance gain, or if this trick cancels the benefits of NumExpr."
   ]
  },
  {
   "cell_type": "code",
   "execution_count": 35,
   "id": "fc319e26-40c8-4695-aec2-c548d6bb3015",
   "metadata": {},
   "outputs": [
    {
     "name": "stdout",
     "output_type": "stream",
     "text": [
      "97.8 ms ± 1.9 ms per loop (mean ± std. dev. of 7 runs, 10 loops each)\n"
     ]
    },
    {
     "data": {
      "text/plain": [
       "<TimeitResult : 97.8 ms ± 1.9 ms per loop (mean ± std. dev. of 7 runs, 10 loops each)>"
      ]
     },
     "execution_count": 35,
     "metadata": {},
     "output_type": "execute_result"
    }
   ],
   "source": [
    "%%timeit -o in_field = initialize_field(NX, NY, NZ)\n",
    "out_field = numexpr_1D_same_col(in_field)"
   ]
  },
  {
   "cell_type": "code",
   "execution_count": 36,
   "id": "1410adad-a1b2-4884-bfff-8d81845cc119",
   "metadata": {},
   "outputs": [],
   "source": [
    "result_numexpr_1D_same_col = _\n",
    "save_result(result_numexpr_1D_same_col, \"numexpr_1D_same_col\")"
   ]
  },
  {
   "cell_type": "code",
   "execution_count": 37,
   "id": "20af26d1-edee-479d-a02d-073b25228af0",
   "metadata": {
    "jupyter": {
     "source_hidden": true
    },
    "tags": []
   },
   "outputs": [
    {
     "data": {
      "text/markdown": [
       "\n",
       "| Function                |  Time                                             |\n",
       "|:------------------------|--------------------------------------------------:|\n",
       "| `numpy_1D_same_col()`   |  108ms             |\n",
       "| `numba_1D_same_col()`   |  3.7ms             |\n",
       "| `numexpr_1D_same_col()` |  98ms |\n"
      ],
      "text/plain": [
       "<IPython.core.display.Markdown object>"
      ]
     },
     "execution_count": 37,
     "metadata": {},
     "output_type": "execute_result"
    }
   ],
   "source": [
    "time_numpy_1D_same_col = read_results(\"numpy_1D_same_col\")\n",
    "time_numba_1D_same_col = read_results(\"numba_1D_same_col\")\n",
    "\n",
    "md(f\"\"\"\n",
    "| Function                |  Time                                             |\n",
    "|:------------------------|--------------------------------------------------:|\n",
    "| `numpy_1D_same_col()`   |  {time_numpy_1D_same_col * 1e3:.0f}ms             |\n",
    "| `numba_1D_same_col()`   |  {time_numba_1D_same_col * 1e3:.1f}ms             |\n",
    "| `numexpr_1D_same_col()` |  {result_numexpr_1D_same_col.average * 1e3:.0f}ms |\n",
    "\"\"\")"
   ]
  },
  {
   "cell_type": "code",
   "execution_count": 38,
   "id": "598bb212-a445-44fa-9e2e-7e4b25e9f94b",
   "metadata": {
    "jupyter": {
     "source_hidden": true
    },
    "tags": []
   },
   "outputs": [
    {
     "data": {
      "text/markdown": [
       "\n",
       "NumExpr code is **only ~10% faster** than vectorized NumPy code.\n",
       "And Numba is almost one order of magnitude faster, **Numba is ~26 times faster than NumExpr**.\n"
      ],
      "text/plain": [
       "<IPython.core.display.Markdown object>"
      ]
     },
     "execution_count": 38,
     "metadata": {},
     "output_type": "execute_result"
    }
   ],
   "source": [
    "numexpr_vs_numpy = compare_results(result_numexpr_1D_same_col.average, time_numpy_1D_same_col, \"faster-%\")\n",
    "numexpr_vs_numba = compare_results(time_numba_1D_same_col, result_numexpr_1D_same_col.average, \"faster\")\n",
    "\n",
    "md(f\"\"\"\n",
    "NumExpr code is **only {numexpr_vs_numpy} faster** than vectorized NumPy code.\n",
    "And Numba is almost one order of magnitude faster, **Numba is {numexpr_vs_numba} times faster than NumExpr**.\n",
    "\"\"\")"
   ]
  },
  {
   "cell_type": "markdown",
   "id": "f18438fa-109d-4bc3-8239-be1d5eaf8ec7",
   "metadata": {},
   "source": [
    "Based on these results, we don't expect NumExpr to produce any significant performance increase with respect to Numba in the case of the 2D stencil.\n",
    "Instead, we will explore the following open questions:\n",
    "\n",
    "- What is the impact of using Fortran-style arrays instead of C-style?\n",
    "- Can NumExpr be interesting for other (larger) fields?"
   ]
  },
  {
   "cell_type": "markdown",
   "id": "e3b38447-c55f-4d38-afcc-fe763fed59ca",
   "metadata": {},
   "source": [
    "## NumExpr with Fortran-style arrays"
   ]
  },
  {
   "cell_type": "markdown",
   "id": "44db7762-3d45-49da-a3a6-6597b0f9011f",
   "metadata": {},
   "source": [
    "Let's fix all the dimensions to the same value, and let's run the benchmark of the sine pointwise stencil with both C-style and Fortran-style arrays."
   ]
  },
  {
   "cell_type": "code",
   "execution_count": 39,
   "id": "df0469dd-6585-4c21-9f5c-041050a06847",
   "metadata": {},
   "outputs": [],
   "source": [
    "NZ = NY = NX = 128"
   ]
  },
  {
   "cell_type": "code",
   "execution_count": 40,
   "id": "e5f2c496-8f5b-4c10-8a98-c9c0ee6d31db",
   "metadata": {},
   "outputs": [
    {
     "name": "stdout",
     "output_type": "stream",
     "text": [
      "137 ms ± 810 µs per loop (mean ± std. dev. of 7 runs, 10 loops each)\n"
     ]
    },
    {
     "data": {
      "text/plain": [
       "<TimeitResult : 137 ms ± 810 µs per loop (mean ± std. dev. of 7 runs, 10 loops each)>"
      ]
     },
     "execution_count": 40,
     "metadata": {},
     "output_type": "execute_result"
    }
   ],
   "source": [
    "%%timeit -o in_field = initialize_field(NX, NY, NZ, array_order=\"C\")\n",
    "out_field = numexpr_sin_pointwise(in_field)"
   ]
  },
  {
   "cell_type": "code",
   "execution_count": 41,
   "id": "0c9b8271-fa59-4bd6-8ea7-d03df56683e1",
   "metadata": {},
   "outputs": [
    {
     "name": "stdout",
     "output_type": "stream",
     "text": [
      "134 ms ± 656 µs per loop (mean ± std. dev. of 7 runs, 10 loops each)\n"
     ]
    },
    {
     "data": {
      "text/plain": [
       "<TimeitResult : 134 ms ± 656 µs per loop (mean ± std. dev. of 7 runs, 10 loops each)>"
      ]
     },
     "execution_count": 41,
     "metadata": {},
     "output_type": "execute_result"
    }
   ],
   "source": [
    "%%timeit -o in_field = initialize_field(NX, NY, NZ, array_order=\"F\")\n",
    "out_field = numexpr_sin_pointwise(in_field)"
   ]
  },
  {
   "cell_type": "markdown",
   "id": "46b3eafd-976c-467d-abae-67312af815f4",
   "metadata": {},
   "source": [
    "Contrary to what we observed with Numba, there seems to be little or no difference wheter we use row-major o col-major arrays."
   ]
  },
  {
   "cell_type": "markdown",
   "id": "6a45df5d-b0f0-4f3e-b42d-d063dc220b5f",
   "metadata": {},
   "source": [
    "## NumExpr vs Numba for larger fields"
   ]
  },
  {
   "cell_type": "markdown",
   "id": "e46e7387-c2dc-4bf8-b0d9-0b0304640981",
   "metadata": {},
   "source": [
    "We have seen that Numba seems to be faster than NumExpr, but we have only tested for a fix size. Let's rerun the pointwise sine stencil for difference sizes. We need to redefine and recompile the Numba function every time because NZ, NY and NX are constants in that code. If we don't do that, the machine code would only compute with the original dimension values and we would obtain a constant run time no matter how large we initialize the fields."
   ]
  },
  {
   "cell_type": "code",
   "execution_count": 42,
   "id": "ef3e735a-dd6d-4f99-bcae-575192ce2310",
   "metadata": {},
   "outputs": [],
   "source": [
    "NZ = NY = NX = 200"
   ]
  },
  {
   "cell_type": "code",
   "execution_count": 43,
   "id": "5f305490-df42-46a3-afe3-e05dc538f9ad",
   "metadata": {},
   "outputs": [
    {
     "name": "stdout",
     "output_type": "stream",
     "text": [
      "697 ms ± 2.58 ms per loop (mean ± std. dev. of 7 runs, 1 loop each)\n"
     ]
    }
   ],
   "source": [
    "%%timeit in_field = initialize_field(NX, NY, NZ)\n",
    "out_field = numexpr_sin_pointwise(in_field)"
   ]
  },
  {
   "cell_type": "code",
   "execution_count": 44,
   "id": "b52dc820-0596-4f53-ae7e-33212df6a3ba",
   "metadata": {
    "jupyter": {
     "source_hidden": true
    },
    "tags": []
   },
   "outputs": [],
   "source": [
    "@numba.jit(nopython=True, parallel=True)\n",
    "def numba_parallel_sin_pointwise(in_field, out_field):\n",
    "    for n in range(N_ITER):\n",
    "        for k in numba.prange(NZ):\n",
    "            for j in range(NY):\n",
    "                for i in range(NX):\n",
    "                    out_field[k, j, i] = math.sin(in_field[k, j, i])\n",
    "        if n < N_ITER - 1:\n",
    "            in_field, out_field = out_field, in_field\n",
    "    return out_field\n",
    "\n",
    "in_field = initialize_field(NX, NY, NZ)\n",
    "out_field = np.zeros_like(in_field)\n",
    "out_field = numba_parallel_sin_pointwise(in_field, out_field)"
   ]
  },
  {
   "cell_type": "code",
   "execution_count": 45,
   "id": "0dcc7da9-e598-4a67-9101-effbb56c16ad",
   "metadata": {},
   "outputs": [
    {
     "name": "stdout",
     "output_type": "stream",
     "text": [
      "446 ms ± 8.05 ms per loop (mean ± std. dev. of 7 runs, 1 loop each)\n"
     ]
    }
   ],
   "source": [
    "%%timeit in_field = initialize_field(NX, NY, NZ); out_field = np.zeros_like(in_field)\n",
    "out_field = numba_parallel_sin_pointwise(in_field, out_field)"
   ]
  },
  {
   "cell_type": "code",
   "execution_count": 46,
   "id": "f21ba25e-7a20-44e0-b151-d4f8452e0241",
   "metadata": {},
   "outputs": [],
   "source": [
    "NZ = NY = NX = 300"
   ]
  },
  {
   "cell_type": "code",
   "execution_count": 47,
   "id": "b2abb5af-bafe-4943-90b9-807c47baa24b",
   "metadata": {},
   "outputs": [
    {
     "name": "stdout",
     "output_type": "stream",
     "text": [
      "2.29 s ± 19.8 ms per loop (mean ± std. dev. of 7 runs, 1 loop each)\n"
     ]
    }
   ],
   "source": [
    "%%timeit in_field = initialize_field(NX, NY, NZ)\n",
    "out_field = numexpr_sin_pointwise(in_field)"
   ]
  },
  {
   "cell_type": "code",
   "execution_count": 48,
   "id": "3e31bbfc-17a9-47a7-bc3e-4a8e427926a4",
   "metadata": {
    "jupyter": {
     "source_hidden": true
    },
    "tags": []
   },
   "outputs": [],
   "source": [
    "@numba.jit(nopython=True, parallel=True)\n",
    "def numba_parallel_sin_pointwise(in_field, out_field):\n",
    "    for n in range(N_ITER):\n",
    "        for k in numba.prange(NZ):\n",
    "            for j in range(NY):\n",
    "                for i in range(NX):\n",
    "                    out_field[k, j, i] = math.sin(in_field[k, j, i])\n",
    "        if n < N_ITER - 1:\n",
    "            in_field, out_field = out_field, in_field\n",
    "    return out_field\n",
    "\n",
    "in_field = initialize_field(NX, NY, NZ)\n",
    "out_field = np.zeros_like(in_field)\n",
    "out_field = numba_parallel_sin_pointwise(in_field, out_field)"
   ]
  },
  {
   "cell_type": "code",
   "execution_count": 49,
   "id": "c1c1115e-cd56-4c9c-9d9e-8c227547517c",
   "metadata": {},
   "outputs": [
    {
     "name": "stdout",
     "output_type": "stream",
     "text": [
      "1.45 s ± 6.8 ms per loop (mean ± std. dev. of 7 runs, 1 loop each)\n"
     ]
    }
   ],
   "source": [
    "%%timeit in_field = initialize_field(NX, NY, NZ); out_field = np.zeros_like(in_field)\n",
    "out_field = numba_parallel_sin_pointwise(in_field, out_field)"
   ]
  },
  {
   "cell_type": "code",
   "execution_count": 50,
   "id": "b057410e-7880-46ca-8ec4-03b2987e4785",
   "metadata": {},
   "outputs": [],
   "source": [
    "NZ = NY = NX = 400"
   ]
  },
  {
   "cell_type": "code",
   "execution_count": 51,
   "id": "0b199e7a-8e44-4a6e-a235-5ff86c422d88",
   "metadata": {},
   "outputs": [
    {
     "name": "stdout",
     "output_type": "stream",
     "text": [
      "5.34 s ± 15.3 ms per loop (mean ± std. dev. of 7 runs, 1 loop each)\n"
     ]
    }
   ],
   "source": [
    "%%timeit in_field = initialize_field(NX, NY, NZ)\n",
    "out_field = numexpr_sin_pointwise(in_field)"
   ]
  },
  {
   "cell_type": "code",
   "execution_count": 52,
   "id": "301bc715-1bd9-4427-addf-ce92751fdb0b",
   "metadata": {
    "jupyter": {
     "source_hidden": true
    },
    "tags": []
   },
   "outputs": [],
   "source": [
    "@numba.jit(nopython=True, parallel=True)\n",
    "def numba_parallel_sin_pointwise(in_field, out_field):\n",
    "    for n in range(N_ITER):\n",
    "        for k in numba.prange(NZ):\n",
    "            for j in range(NY):\n",
    "                for i in range(NX):\n",
    "                    out_field[k, j, i] = math.sin(in_field[k, j, i])\n",
    "        if n < N_ITER - 1:\n",
    "            in_field, out_field = out_field, in_field\n",
    "    return out_field\n",
    "\n",
    "in_field = initialize_field(NX, NY, NZ)\n",
    "out_field = np.zeros_like(in_field)\n",
    "out_field = numba_parallel_sin_pointwise(in_field, out_field)"
   ]
  },
  {
   "cell_type": "code",
   "execution_count": 53,
   "id": "028762c1-350d-4336-b53a-2b3ce016645c",
   "metadata": {},
   "outputs": [
    {
     "name": "stdout",
     "output_type": "stream",
     "text": [
      "3.46 s ± 23.1 ms per loop (mean ± std. dev. of 7 runs, 1 loop each)\n"
     ]
    }
   ],
   "source": [
    "%%timeit in_field = initialize_field(NX, NY, NZ); out_field = np.zeros_like(in_field)\n",
    "out_field = numba_parallel_sin_pointwise(in_field, out_field)"
   ]
  },
  {
   "cell_type": "markdown",
   "id": "d4c1fd5d-4554-47bf-b45c-6f37a70af0f3",
   "metadata": {},
   "source": [
    "There doesn't seem to be a size at which NumExpr could perform better than Numba for this simple stencil."
   ]
  },
  {
   "cell_type": "markdown",
   "id": "416e781b-1d72-4303-8d2d-c3c23f71a871",
   "metadata": {},
   "source": [
    "### NumExpr 1D vs 3D arrays"
   ]
  },
  {
   "cell_type": "markdown",
   "id": "a7369f9a-a0ec-447e-8e3d-314b41df0e3f",
   "metadata": {},
   "source": [
    "The last thing we will test is whether the shape of the arrays can impact the performance of NumExpr. In the documentation they always show examples with 1D arrays, so let's check if we can measure any difference."
   ]
  },
  {
   "cell_type": "code",
   "execution_count": 54,
   "id": "f246e4cc-9c27-4e63-9e2f-16d40df00aa9",
   "metadata": {},
   "outputs": [],
   "source": [
    "NZ = NY = NX = 200\n",
    "size_array = 200**3\n",
    "\n",
    "rng = np.random.default_rng(1337)"
   ]
  },
  {
   "cell_type": "code",
   "execution_count": 55,
   "id": "5ca1d525-0470-41c2-9560-39b5d8581f17",
   "metadata": {},
   "outputs": [
    {
     "name": "stdout",
     "output_type": "stream",
     "text": [
      "618 ms ± 2.75 ms per loop (mean ± std. dev. of 7 runs, 1 loop each)\n"
     ]
    }
   ],
   "source": [
    "%%timeit in_field = rng.random(size=(NZ, NY, NX))\n",
    "out_field = numexpr_sin_pointwise(in_field)"
   ]
  },
  {
   "cell_type": "code",
   "execution_count": 56,
   "id": "c0cf5ae4-a639-4313-8781-afdd87620506",
   "metadata": {},
   "outputs": [
    {
     "name": "stdout",
     "output_type": "stream",
     "text": [
      "617 ms ± 2.6 ms per loop (mean ± std. dev. of 7 runs, 1 loop each)\n"
     ]
    }
   ],
   "source": [
    "%%timeit in_field = rng.random(size_array)\n",
    "out_field = numexpr_sin_pointwise(in_field)"
   ]
  },
  {
   "cell_type": "markdown",
   "id": "21f95bb1-0ef1-4218-a34b-48f2ff7cea00",
   "metadata": {},
   "source": [
    "There is no difference between having a multidimensional array and a single dimension array."
   ]
  }
 ],
 "metadata": {
  "kernelspec": {
   "display_name": "HPC4WC_project12_kernel",
   "language": "python",
   "name": "hpc4wc_project12_kernel"
  },
  "language_info": {
   "codemirror_mode": {
    "name": "ipython",
    "version": 3
   },
   "file_extension": ".py",
   "mimetype": "text/x-python",
   "name": "python",
   "nbconvert_exporter": "python",
   "pygments_lexer": "ipython3",
   "version": "3.9.4"
  }
 },
 "nbformat": 4,
 "nbformat_minor": 5
}
