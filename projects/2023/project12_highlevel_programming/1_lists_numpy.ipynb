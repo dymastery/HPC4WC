{
 "cells": [
  {
   "cell_type": "markdown",
   "id": "c24f2f76-c257-465b-9009-94e831362cd5",
   "metadata": {},
   "source": [
    "# `1_lists_numpy.ipynb`\n",
    "\n",
    "This notebok benchmarks different simple stencils (pointwise, 1D, 2D) usin pure Python code (lists), NumPy arrays keeping `for` loops, and NumPy vectorized code."
   ]
  },
  {
   "cell_type": "code",
   "execution_count": 1,
   "id": "29a838a8-c1a9-4cd3-a586-74937c12be70",
   "metadata": {},
   "outputs": [],
   "source": [
    "import math\n",
    "import numpy as np\n",
    "from IPython.display import Markdown as md"
   ]
  },
  {
   "cell_type": "code",
   "execution_count": 2,
   "id": "9b847e0f-cd8d-42b6-abc8-ec40f8afe855",
   "metadata": {},
   "outputs": [],
   "source": [
    "from common import initialize_field, plot_field, save_result, compare_results, read_results"
   ]
  },
  {
   "cell_type": "code",
   "execution_count": 3,
   "id": "eb102997-3577-4c61-9efc-8cb88796775f",
   "metadata": {},
   "outputs": [],
   "source": [
    "NX = 128\n",
    "NY = 128\n",
    "NZ = 80\n",
    "N_ITER = 50"
   ]
  },
  {
   "cell_type": "markdown",
   "id": "94de7da0-929b-4acc-be34-14ed9ff40e31",
   "metadata": {},
   "source": [
    "## Pointwise stencils\n",
    "\n",
    "We consider two pointwise stencil models: a simple copy, and applying the `sin` function.\n",
    "\n",
    "$$\n",
    "a(i) = b(i)\n",
    "$$\n",
    "\n",
    "$$\n",
    "a(i) = \\sin(b(i))\n",
    "$$"
   ]
  },
  {
   "cell_type": "markdown",
   "id": "64286139-525f-4137-8a4e-456486d5beea",
   "metadata": {},
   "source": [
    "### Nested lists and `for` loops"
   ]
  },
  {
   "cell_type": "code",
   "execution_count": 4,
   "id": "7a4cd203-0c69-4c9a-beda-e3a78484c742",
   "metadata": {},
   "outputs": [],
   "source": [
    "def list_pointwise(in_field, out_field):\n",
    "    for n in range(N_ITER):\n",
    "        for k in range(NZ):\n",
    "            for j in range(NY):\n",
    "                for i in range(NX):\n",
    "                    out_field[k][j][i] = in_field[k][j][i]\n",
    "        if n < N_ITER - 1:\n",
    "            in_field, out_field = out_field, in_field"
   ]
  },
  {
   "cell_type": "code",
   "execution_count": 5,
   "id": "a2e910c0-bff1-4c12-879b-483ece435f13",
   "metadata": {},
   "outputs": [
    {
     "data": {
      "image/png": "[encoded data removed]",
      "text/plain": [
       "<Figure size 700x500 with 2 Axes>"
      ]
     },
     "metadata": {
      "needs_background": "light"
     },
     "output_type": "display_data"
    }
   ],
   "source": [
    "in_field = initialize_field(NX, NY, NZ, mode=\"square\")\n",
    "# We initialized out_field as zeros to verify that the copy was done correctly\n",
    "out_field = np.zeros_like(in_field).tolist()\n",
    "in_field = in_field.tolist()\n",
    "list_pointwise(in_field, out_field)\n",
    "# To check if the copy was done\n",
    "plot_field(out_field)"
   ]
  },
  {
   "cell_type": "markdown",
   "id": "cbb2aa51-b271-40e1-9ae5-a6e4c84fa835",
   "metadata": {},
   "source": [
    "Before running the first benchmark, let's have a look at how Python lists are stored in memory."
   ]
  },
  {
   "cell_type": "markdown",
   "id": "a486aeb1-7075-46ee-9b2b-8351d1a85cd1",
   "metadata": {},
   "source": [
    "Python lists are totally different from arrays or buffers. Under the hood, the CPython implementation of the list object is a vector of pointers, so each element of a list is by itself a proper Python object (any!) and a pointer to it is what is stored in the list object. Essentially, after removing some comments, the implementation that can be found in [listobject.h](https://github.com/python/cpython/blob/main/Include/cpython/listobject.h) is the following:\n",
    "\n",
    "```C\n",
    "typedef struct {\n",
    "    PyObject_VAR_HEAD\n",
    "    PyObject **ob_item;\n",
    "    Py_ssize_t allocated;\n",
    "} PyListObject;\n",
    "```\n",
    "\n",
    "So our 3D fields are in fact a list containing 80 lists (dimension Z), each of these lists containing 128 lists (dimension Y), and finally each of these lists containing 128 floats. Python lists can be enlarge, reduced, and new elements can be inserted or deleted at arbitrary positions. All these make these objects extremely cache unfriendly. When accessing the field element (x,y,z) with `field[z][y][x]` a bunch of pointers have to be followed, and therefore the chances that subsequent values remain in the cache are minimal."
   ]
  },
  {
   "cell_type": "code",
   "execution_count": 6,
   "id": "0b267336-1d54-4a1c-bbbc-8116a740ad29",
   "metadata": {},
   "outputs": [
    {
     "name": "stdout",
     "output_type": "stream",
     "text": [
      "8.23 s ± 4.21 ms per loop (mean ± std. dev. of 3 runs, 1 loop each)\n"
     ]
    },
    {
     "data": {
      "text/plain": [
       "<TimeitResult : 8.23 s ± 4.21 ms per loop (mean ± std. dev. of 3 runs, 1 loop each)>"
      ]
     },
     "execution_count": 6,
     "metadata": {},
     "output_type": "execute_result"
    }
   ],
   "source": [
    "%%timeit -n1 -r3 -o in_field = initialize_field(NX, NY, NZ); out_field = np.zeros_like(in_field).tolist(); in_field = in_field.tolist(); \n",
    "list_pointwise(in_field, out_field)"
   ]
  },
  {
   "cell_type": "code",
   "execution_count": 7,
   "id": "9988461a-13b9-4cdb-a9b3-f297a7a53263",
   "metadata": {},
   "outputs": [],
   "source": [
    "result_list_pointwise = _\n",
    "save_result(result_list_pointwise, \"list_pointwise\")"
   ]
  },
  {
   "cell_type": "markdown",
   "id": "151f8a14-aaa0-48e4-8ed3-676303287b3b",
   "metadata": {},
   "source": [
    "Even though Python lists are not ideal to maximize cache hits, it is still expected to see a difference depending on the order of the `for` loops. Let's verify this trying all the possible permutations to itereate over the 3D fields: ZYX (done above), XYZ, XZY, ZXY, YXZ, YZX."
   ]
  },
  {
   "cell_type": "code",
   "execution_count": 8,
   "id": "0305991e-9e35-4da8-959b-ad797b0fb5b3",
   "metadata": {
    "jupyter": {
     "source_hidden": true
    },
    "tags": []
   },
   "outputs": [],
   "source": [
    "def list_pointwise_XYZ(in_field, out_field):\n",
    "    for n in range(N_ITER):\n",
    "        for i in range(NX):\n",
    "            for j in range(NY):\n",
    "                for k in range(NZ):\n",
    "                    out_field[k][j][i] = in_field[k][j][i]\n",
    "        if n < N_ITER - 1:\n",
    "            in_field, out_field = out_field, in_field\n",
    "\n",
    "def list_pointwise_XZY(in_field, out_field):\n",
    "    for n in range(N_ITER):\n",
    "        for i in range(NX):\n",
    "            for k in range(NZ):\n",
    "                for j in range(NY):\n",
    "                    out_field[k][j][i] = in_field[k][j][i]\n",
    "        if n < N_ITER - 1:\n",
    "            in_field, out_field = out_field, in_field\n",
    "\n",
    "def list_pointwise_ZXY(in_field, out_field):\n",
    "    for n in range(N_ITER):\n",
    "        for k in range(NZ):\n",
    "            for i in range(NX):\n",
    "                for j in range(NY):\n",
    "                    out_field[k][j][i] = in_field[k][j][i]\n",
    "        if n < N_ITER - 1:\n",
    "            in_field, out_field = out_field, in_field\n",
    "\n",
    "def list_pointwise_YXZ(in_field, out_field, plot=False):\n",
    "    for n in range(N_ITER):\n",
    "        for j in range(NY):\n",
    "            for i in range(NX):\n",
    "                for k in range(NZ):\n",
    "                    out_field[k][j][i] = in_field[k][j][i]\n",
    "        if n < N_ITER - 1:\n",
    "            in_field, out_field = out_field, in_field\n",
    "\n",
    "\n",
    "def list_pointwise_YZX(in_field, out_field):\n",
    "    for n in range(N_ITER):\n",
    "        for j in range(NY):\n",
    "            for k in range(NZ):\n",
    "                for i in range(NX):\n",
    "                    out_field[k][j][i] = in_field[k][j][i]\n",
    "        if n < N_ITER - 1:\n",
    "            in_field, out_field = out_field, in_field"
   ]
  },
  {
   "cell_type": "code",
   "execution_count": 9,
   "id": "ab36e028-ec07-4c8a-ad13-bc720cb46f27",
   "metadata": {},
   "outputs": [
    {
     "name": "stdout",
     "output_type": "stream",
     "text": [
      "14.8 s ± 5.49 ms per loop (mean ± std. dev. of 3 runs, 1 loop each)\n"
     ]
    }
   ],
   "source": [
    "%%timeit -n1 -r3 in_field = initialize_field(NX, NY, NZ); out_field = np.zeros_like(in_field).tolist(); in_field = in_field.tolist(); \n",
    "list_pointwise_XYZ(in_field, out_field)"
   ]
  },
  {
   "cell_type": "code",
   "execution_count": 10,
   "id": "13f71d3e-342f-407a-adbf-5882655202b9",
   "metadata": {},
   "outputs": [
    {
     "name": "stdout",
     "output_type": "stream",
     "text": [
      "11.7 s ± 9.46 ms per loop (mean ± std. dev. of 3 runs, 1 loop each)\n"
     ]
    }
   ],
   "source": [
    "%%timeit -n1 -r3 in_field = initialize_field(NX, NY, NZ); out_field = np.zeros_like(in_field).tolist(); in_field = in_field.tolist(); \n",
    "list_pointwise_XZY(in_field, out_field)"
   ]
  },
  {
   "cell_type": "code",
   "execution_count": 11,
   "id": "0c352745-4626-4014-b893-0e06d2dbc0ea",
   "metadata": {},
   "outputs": [
    {
     "name": "stdout",
     "output_type": "stream",
     "text": [
      "9.85 s ± 36 ms per loop (mean ± std. dev. of 3 runs, 1 loop each)\n"
     ]
    }
   ],
   "source": [
    "%%timeit -n1 -r3 in_field = initialize_field(NX, NY, NZ); out_field = np.zeros_like(in_field).tolist(); in_field = in_field.tolist(); \n",
    "list_pointwise_ZXY(in_field, out_field)"
   ]
  },
  {
   "cell_type": "code",
   "execution_count": 12,
   "id": "63e4fcd7-e798-43c7-8b6d-ba5daa5fa5ce",
   "metadata": {},
   "outputs": [
    {
     "name": "stdout",
     "output_type": "stream",
     "text": [
      "12.2 s ± 17.4 ms per loop (mean ± std. dev. of 3 runs, 1 loop each)\n"
     ]
    }
   ],
   "source": [
    "%%timeit -n1 -r3 in_field = initialize_field(NX, NY, NZ); out_field = np.zeros_like(in_field).tolist(); in_field = in_field.tolist(); \n",
    "list_pointwise_YXZ(in_field, out_field)"
   ]
  },
  {
   "cell_type": "code",
   "execution_count": 13,
   "id": "dcb993a6-6da8-4520-ac25-64faa089a9a1",
   "metadata": {},
   "outputs": [
    {
     "name": "stdout",
     "output_type": "stream",
     "text": [
      "8.7 s ± 2.98 ms per loop (mean ± std. dev. of 3 runs, 1 loop each)\n"
     ]
    }
   ],
   "source": [
    "%%timeit -n1 -r3 in_field = initialize_field(NX, NY, NZ); out_field = np.zeros_like(in_field).tolist(); in_field = in_field.tolist(); \n",
    "list_pointwise_YZX(in_field, out_field)"
   ]
  },
  {
   "cell_type": "markdown",
   "id": "e141329d-a1a7-486f-ae47-0402a62f8313",
   "metadata": {},
   "source": [
    "Clearly, by looking at these times, with nested lists we should iterate in the same order as we have nested the lists, i.e., the first level should be looped the slowest, and the innermost level should be looped the fastest. The explanation for this is that to access the element `field[k][j][i+1]` the information (pointers) required to access the innermost list, i.e., `field[k][j]`, is already in the cache, while to get `field[i+1][j][k]` we have to follow a whole new path of pointers, which most likely are not in the cache if the list is large enough.\n",
    "\n",
    "Furthermore, we would expect that if the fields are initialized with the same order of the nested lists as the loop order, we should obtain similar performance. Let's check this for the cases XYZ and YZX."
   ]
  },
  {
   "cell_type": "code",
   "execution_count": 14,
   "id": "c8dc3370-bc20-41e4-91ed-ee4290627b25",
   "metadata": {},
   "outputs": [],
   "source": [
    "def list_pointwise_XYZ_alt(in_field, out_field):\n",
    "    for n in range(N_ITER):\n",
    "        for i in range(NX):\n",
    "            for j in range(NY):\n",
    "                for k in range(NZ):\n",
    "                    # Notice the different order to access field elements\n",
    "                    out_field[i][j][k] = in_field[i][j][k]\n",
    "        if n < N_ITER - 1:\n",
    "            in_field, out_field = out_field, in_field\n",
    "\n",
    "def list_pointwise_YZX_alt(in_field, out_field):\n",
    "    for n in range(N_ITER):\n",
    "        for j in range(NY):\n",
    "            for k in range(NZ):\n",
    "                for i in range(NX):\n",
    "                    out_field[j][k][i] = in_field[j][k][i]\n",
    "        if n < N_ITER - 1:\n",
    "            in_field, out_field = out_field, in_field"
   ]
  },
  {
   "cell_type": "code",
   "execution_count": 15,
   "id": "bc3dc992-5436-4aba-939b-ec59da584957",
   "metadata": {},
   "outputs": [
    {
     "name": "stdout",
     "output_type": "stream",
     "text": [
      "8.32 s ± 11.1 ms per loop (mean ± std. dev. of 3 runs, 1 loop each)\n"
     ]
    }
   ],
   "source": [
    "%%timeit -n1 -r3 in_field = initialize_field(NX, NY, NZ, dim_order=\"XYZ\"); out_field = np.zeros_like(in_field).tolist(); in_field = in_field.tolist();\n",
    "list_pointwise_XYZ_alt(in_field, out_field)"
   ]
  },
  {
   "cell_type": "code",
   "execution_count": 16,
   "id": "01fa43e8-33bc-43db-862c-bc6dd7eb117f",
   "metadata": {},
   "outputs": [
    {
     "name": "stdout",
     "output_type": "stream",
     "text": [
      "8.22 s ± 7.87 ms per loop (mean ± std. dev. of 3 runs, 1 loop each)\n"
     ]
    }
   ],
   "source": [
    "%%timeit -n1 -r3 in_field = initialize_field(NX, NY, NZ, dim_order=\"YZX\"); out_field = np.zeros_like(in_field).tolist(); in_field = in_field.tolist();\n",
    "list_pointwise_YZX_alt(in_field, out_field)"
   ]
  },
  {
   "cell_type": "markdown",
   "id": "bd76cc83-914b-4569-b942-046cc6d4bc51",
   "metadata": {},
   "source": [
    "Similarly, we could replicate the worst results by using the opposite list structure to the loop order. Let's try this with the two best results from above: ZYX and and YZX."
   ]
  },
  {
   "cell_type": "code",
   "execution_count": 17,
   "id": "04aed28a-3abb-403c-b135-4560d78ad9e9",
   "metadata": {},
   "outputs": [],
   "source": [
    "def list_pointwise_ZYX_alt(in_field, out_field):\n",
    "    for n in range(N_ITER):\n",
    "        for k in range(NZ):\n",
    "            for j in range(NY):\n",
    "                for i in range(NX):\n",
    "                    # Loop ZYX, access XYZ\n",
    "                    out_field[i][j][k] = in_field[i][j][k]\n",
    "        if n < N_ITER - 1:\n",
    "            in_field, out_field = out_field, in_field\n",
    "\n",
    "def list_pointwise_YZX_alt(in_field, out_field):\n",
    "    for n in range(N_ITER):\n",
    "        for j in range(NY):\n",
    "            for k in range(NZ):\n",
    "                for i in range(NX):\n",
    "                    # Loop YZX, access XZY\n",
    "                    out_field[i][k][j] = in_field[i][k][j]\n",
    "        if n < N_ITER - 1:\n",
    "            in_field, out_field = out_field, in_field"
   ]
  },
  {
   "cell_type": "code",
   "execution_count": 18,
   "id": "e963498c-d747-451e-9d6d-664c3a8d6f04",
   "metadata": {},
   "outputs": [
    {
     "name": "stdout",
     "output_type": "stream",
     "text": [
      "15.8 s ± 98.7 ms per loop (mean ± std. dev. of 3 runs, 1 loop each)\n"
     ]
    }
   ],
   "source": [
    "%%timeit -n1 -r3 in_field = initialize_field(NX, NY, NZ, dim_order=\"XYZ\"); out_field = np.zeros_like(in_field).tolist(); in_field = in_field.tolist();\n",
    "list_pointwise_ZYX_alt(in_field, out_field)"
   ]
  },
  {
   "cell_type": "code",
   "execution_count": 19,
   "id": "162bea93-cc30-4d92-b6b7-1562c7d05951",
   "metadata": {},
   "outputs": [
    {
     "name": "stdout",
     "output_type": "stream",
     "text": [
      "16.3 s ± 23.4 ms per loop (mean ± std. dev. of 3 runs, 1 loop each)\n"
     ]
    }
   ],
   "source": [
    "%%timeit -n1 -r3 in_field = initialize_field(NX, NY, NZ, dim_order=\"XZY\"); out_field = np.zeros_like(in_field).tolist(); in_field = in_field.tolist();\n",
    "list_pointwise_YZX_alt(in_field, out_field)"
   ]
  },
  {
   "cell_type": "markdown",
   "id": "896dc307-cd0e-4ba4-81e4-30e9f0b6fcc5",
   "metadata": {},
   "source": [
    "All these results agree with our previous explanation."
   ]
  },
  {
   "cell_type": "markdown",
   "id": "e5538ee4-c589-418f-a2e1-2d9e299b1f0b",
   "metadata": {},
   "source": [
    "Let's now check the other simple pointwise stencil computation. In this case, instead of just copying all the values, we will compute the sine of each gridpoint."
   ]
  },
  {
   "cell_type": "code",
   "execution_count": 20,
   "id": "54e25f42-622e-4503-9167-52e7b0ffdb38",
   "metadata": {},
   "outputs": [],
   "source": [
    "def list_sin_pointwise(in_field, out_field):\n",
    "    for n in range(N_ITER):\n",
    "        for k in range(NZ):\n",
    "            for j in range(NY):\n",
    "                for i in range(NX):\n",
    "                    # numpy.sin() is ~7 times slower than math.sin() when applied to single values\n",
    "                    # Check Appendix at end of notebook for more details\n",
    "                    out_field[k][j][i] = math.sin(in_field[k][j][i])\n",
    "        if n < N_ITER - 1:\n",
    "            in_field, out_field = out_field, in_field"
   ]
  },
  {
   "cell_type": "code",
   "execution_count": 21,
   "id": "c5a653f3-c1e9-4524-a142-62fec2a9cab2",
   "metadata": {},
   "outputs": [
    {
     "name": "stdout",
     "output_type": "stream",
     "text": [
      "14.3 s ± 14.1 ms per loop (mean ± std. dev. of 3 runs, 1 loop each)\n"
     ]
    },
    {
     "data": {
      "text/plain": [
       "<TimeitResult : 14.3 s ± 14.1 ms per loop (mean ± std. dev. of 3 runs, 1 loop each)>"
      ]
     },
     "execution_count": 21,
     "metadata": {},
     "output_type": "execute_result"
    }
   ],
   "source": [
    "%%timeit -n1 -r3 -o in_field = initialize_field(NX, NY, NZ); out_field = np.zeros_like(in_field).tolist(); in_field = in_field.tolist(); \n",
    "list_sin_pointwise(in_field, out_field)"
   ]
  },
  {
   "cell_type": "code",
   "execution_count": 22,
   "id": "21e04738-3514-4b07-af0b-cd134575764f",
   "metadata": {},
   "outputs": [],
   "source": [
    "result_list_sin_pointwise = _\n",
    "save_result(result_list_sin_pointwise, \"list_sin_pointwise\")"
   ]
  },
  {
   "cell_type": "markdown",
   "id": "3439c01f-75f9-46ab-8d95-1999f14d9c89",
   "metadata": {},
   "source": [
    "Since we are iterating over the field in the optimal permutation, the difference in time with respect to our copy stencil can be attributed to `math.sin()`. We can check this by timing how much it takes to compute a single `math.sin()` operation and multiplying by the number of such calculations."
   ]
  },
  {
   "cell_type": "code",
   "execution_count": 23,
   "id": "0ba35e7b-63ac-47bf-b121-067761f86266",
   "metadata": {},
   "outputs": [
    {
     "name": "stdout",
     "output_type": "stream",
     "text": [
      "6.081922880684337\n"
     ]
    }
   ],
   "source": [
    "time_diff = result_list_sin_pointwise.average - result_list_pointwise.average\n",
    "print(time_diff)"
   ]
  },
  {
   "cell_type": "code",
   "execution_count": 24,
   "id": "57c9d288-f04f-4113-b8eb-084b93b36177",
   "metadata": {},
   "outputs": [
    {
     "name": "stdout",
     "output_type": "stream",
     "text": [
      "80 ns ± 0.429 ns per loop (mean ± std. dev. of 7 runs, 10,000,000 loops each)\n"
     ]
    },
    {
     "data": {
      "text/plain": [
       "<TimeitResult : 80 ns ± 0.429 ns per loop (mean ± std. dev. of 7 runs, 10,000,000 loops each)>"
      ]
     },
     "execution_count": 24,
     "metadata": {},
     "output_type": "execute_result"
    }
   ],
   "source": [
    "%%timeit -o import random; x = random.random()\n",
    "y = math.sin(x)"
   ]
  },
  {
   "cell_type": "code",
   "execution_count": 25,
   "id": "6087a9d2-da13-4731-bd83-21533b401625",
   "metadata": {},
   "outputs": [],
   "source": [
    "time_sin = _"
   ]
  },
  {
   "cell_type": "code",
   "execution_count": 26,
   "id": "529e8532-45a2-4d8c-b0c6-791887625eea",
   "metadata": {},
   "outputs": [
    {
     "data": {
      "text/plain": [
       "5.239705084664481"
      ]
     },
     "execution_count": 26,
     "metadata": {},
     "output_type": "execute_result"
    }
   ],
   "source": [
    "time_sin.average * NZ * NY * NX * N_ITER"
   ]
  },
  {
   "cell_type": "markdown",
   "id": "1d244687-fd0f-4e04-adf4-6aacc75d9b42",
   "metadata": {},
   "source": [
    "### NumPy arrays and `for` loops"
   ]
  },
  {
   "cell_type": "markdown",
   "id": "c2c1d43b-2ad3-4b49-8bb7-9e136ae938ab",
   "metadata": {},
   "source": [
    "The following code will show the worst we can do when trying to work with NumPy arrays. Surprisingly, as we will see in [the Numba notebook](./2_numba.ipynb), this is the preferred way to write code that will be later compiled by Numba."
   ]
  },
  {
   "cell_type": "code",
   "execution_count": 27,
   "id": "56bfe1bc-b415-42a5-ae0e-a33c5447f399",
   "metadata": {},
   "outputs": [],
   "source": [
    "def array_pointwise(in_field, out_field):\n",
    "    for n in range(N_ITER):\n",
    "        for k in range(NZ):\n",
    "            for j in range(NY):\n",
    "                for i in range(NX):\n",
    "                    out_field[k, j, i] = in_field[k, j, i]\n",
    "        if n < N_ITER - 1:\n",
    "            in_field, out_field = out_field, in_field\n",
    "    return out_field"
   ]
  },
  {
   "cell_type": "code",
   "execution_count": 28,
   "id": "b835c6de-e05e-48bf-94bf-e8c758aee8ec",
   "metadata": {},
   "outputs": [
    {
     "data": {
      "image/png": "[encoded data removed]",
      "text/plain": [
       "<Figure size 700x500 with 2 Axes>"
      ]
     },
     "metadata": {
      "needs_background": "light"
     },
     "output_type": "display_data"
    }
   ],
   "source": [
    "in_field = initialize_field(NX, NY, NZ, mode=\"square\")\n",
    "out_field = np.zeros_like(in_field)\n",
    "out_field = array_pointwise(in_field, out_field)\n",
    "# To check that the copy was done\n",
    "plot_field(out_field)"
   ]
  },
  {
   "cell_type": "code",
   "execution_count": 29,
   "id": "bb22c682-d182-4643-936d-42e8ae0d9c0f",
   "metadata": {},
   "outputs": [
    {
     "name": "stdout",
     "output_type": "stream",
     "text": [
      "15.1 s ± 4 ms per loop (mean ± std. dev. of 3 runs, 1 loop each)\n"
     ]
    },
    {
     "data": {
      "text/plain": [
       "<TimeitResult : 15.1 s ± 4 ms per loop (mean ± std. dev. of 3 runs, 1 loop each)>"
      ]
     },
     "execution_count": 29,
     "metadata": {},
     "output_type": "execute_result"
    }
   ],
   "source": [
    "%%timeit -n1 -r3 -o in_field = initialize_field(NX, NY, NZ); out_field = np.zeros_like(in_field)\n",
    "out_field = array_pointwise(in_field, out_field)"
   ]
  },
  {
   "cell_type": "code",
   "execution_count": 30,
   "id": "f4b48918-d76f-4f92-83a2-a96b3bc2efc2",
   "metadata": {},
   "outputs": [],
   "source": [
    "result_array_pointwise = _\n",
    "save_result(result_array_pointwise, \"array_pointwise\")"
   ]
  },
  {
   "cell_type": "markdown",
   "id": "428d19c1-ec6d-4bf2-8805-d1af3b817eab",
   "metadata": {},
   "source": [
    "However, it is still interesting to try all the possible permutations of the `for` loops. Hopefully, this will give us some hints about how NumPy arrays are stored in memory."
   ]
  },
  {
   "cell_type": "code",
   "execution_count": 31,
   "id": "27b60092-4f35-48b5-9043-ca08c77a667e",
   "metadata": {
    "jupyter": {
     "source_hidden": true
    },
    "tags": []
   },
   "outputs": [],
   "source": [
    "def array_pointwise_ZYX(in_field, out_field):\n",
    "    for n in range(N_ITER):\n",
    "        for k in range(NZ):\n",
    "            for j in range(NY):\n",
    "                for i in range(NX):\n",
    "                    out_field[k, j, i] = in_field[k, j, i]\n",
    "        if n < N_ITER - 1:\n",
    "            in_field, out_field = out_field, in_field\n",
    "    return out_field\n",
    "\n",
    "def array_pointwise_XYZ(in_field, out_field):\n",
    "    for n in range(N_ITER):\n",
    "        for i in range(NX):\n",
    "            for j in range(NY):\n",
    "                for k in range(NZ):\n",
    "                    out_field[k, j, i] = in_field[k, j, i]\n",
    "        if n < N_ITER - 1:\n",
    "            in_field, out_field = out_field, in_field\n",
    "    return out_field\n",
    "\n",
    "def array_pointwise_XZY(in_field, out_field):\n",
    "    for n in range(N_ITER):\n",
    "        for i in range(NX):\n",
    "            for k in range(NZ):\n",
    "                for j in range(NY):\n",
    "                    out_field[k, j, i] = in_field[k, j, i]\n",
    "        if n < N_ITER - 1:\n",
    "            in_field, out_field = out_field, in_field\n",
    "    return out_field\n",
    "            \n",
    "def array_pointwise_ZXY(in_field, out_field):\n",
    "    for n in range(N_ITER):\n",
    "        for k in range(NZ):\n",
    "            for i in range(NX):\n",
    "                for j in range(NY):\n",
    "                    out_field[k, j, i] = in_field[k, j, i]\n",
    "        if n < N_ITER - 1:\n",
    "            in_field, out_field = out_field, in_field\n",
    "    return out_field\n",
    "            \n",
    "def array_pointwise_YXZ(in_field, out_field):\n",
    "    for n in range(N_ITER):\n",
    "        for j in range(NY):\n",
    "            for i in range(NX):\n",
    "                for k in range(NZ):\n",
    "                    out_field[k, j, i] = in_field[k, j, i]\n",
    "        if n < N_ITER - 1:\n",
    "            in_field, out_field = out_field, in_field\n",
    "    return out_field\n",
    "\n",
    "def array_pointwise_YZX(in_field, out_field):\n",
    "    for n in range(N_ITER):\n",
    "        for j in range(NY):\n",
    "            for k in range(NZ):\n",
    "                for i in range(NX):\n",
    "                    out_field[k, j, i] = in_field[k, j, i]\n",
    "        if n < N_ITER - 1:\n",
    "            in_field, out_field = out_field, in_field\n",
    "    return out_field"
   ]
  },
  {
   "cell_type": "code",
   "execution_count": 32,
   "id": "9b93fd07-0aef-4d52-b934-b4829be272fd",
   "metadata": {},
   "outputs": [
    {
     "name": "stdout",
     "output_type": "stream",
     "text": [
      "15.2 s ± 71.5 ms per loop (mean ± std. dev. of 3 runs, 1 loop each)\n"
     ]
    }
   ],
   "source": [
    "%%timeit -n1 -r3 in_field = initialize_field(NX, NY, NZ); out_field = np.zeros_like(in_field)\n",
    "out_field = array_pointwise_ZYX(in_field, out_field)"
   ]
  },
  {
   "cell_type": "code",
   "execution_count": 33,
   "id": "5f6fead1-4967-4912-953e-ade409a74d41",
   "metadata": {},
   "outputs": [
    {
     "name": "stdout",
     "output_type": "stream",
     "text": [
      "15.6 s ± 92.5 ms per loop (mean ± std. dev. of 3 runs, 1 loop each)\n"
     ]
    }
   ],
   "source": [
    "%%timeit -n1 -r3 in_field = initialize_field(NX, NY, NZ); out_field = np.zeros_like(in_field)\n",
    "out_field = array_pointwise_XYZ(in_field, out_field)"
   ]
  },
  {
   "cell_type": "code",
   "execution_count": 34,
   "id": "8386f863-b89a-415e-b135-e30b570a822d",
   "metadata": {},
   "outputs": [
    {
     "name": "stdout",
     "output_type": "stream",
     "text": [
      "15.3 s ± 16.4 ms per loop (mean ± std. dev. of 3 runs, 1 loop each)\n"
     ]
    }
   ],
   "source": [
    "%%timeit -n1 -r3 in_field = initialize_field(NX, NY, NZ); out_field = np.zeros_like(in_field)\n",
    "out_field = array_pointwise_XZY(in_field, out_field)"
   ]
  },
  {
   "cell_type": "code",
   "execution_count": 35,
   "id": "42475a33-72c8-495a-838f-368f13cffcde",
   "metadata": {},
   "outputs": [
    {
     "name": "stdout",
     "output_type": "stream",
     "text": [
      "15.2 s ± 76.1 ms per loop (mean ± std. dev. of 3 runs, 1 loop each)\n"
     ]
    }
   ],
   "source": [
    "%%timeit -n1 -r3 in_field = initialize_field(NX, NY, NZ); out_field = np.zeros_like(in_field)\n",
    "out_field = array_pointwise_ZXY(in_field, out_field)"
   ]
  },
  {
   "cell_type": "code",
   "execution_count": 36,
   "id": "388427cd-e8a2-4b17-a635-51faa0e4c996",
   "metadata": {},
   "outputs": [
    {
     "name": "stdout",
     "output_type": "stream",
     "text": [
      "15.5 s ± 14.9 ms per loop (mean ± std. dev. of 3 runs, 1 loop each)\n"
     ]
    }
   ],
   "source": [
    "%%timeit -n1 -r3 in_field = initialize_field(NX, NY, NZ); out_field = np.zeros_like(in_field)\n",
    "out_field = array_pointwise_YXZ(in_field, out_field)"
   ]
  },
  {
   "cell_type": "code",
   "execution_count": 37,
   "id": "d3282aaf-afd5-4eea-b8a5-c480a322b154",
   "metadata": {},
   "outputs": [
    {
     "name": "stdout",
     "output_type": "stream",
     "text": [
      "15.1 s ± 7.98 ms per loop (mean ± std. dev. of 3 runs, 1 loop each)\n"
     ]
    }
   ],
   "source": [
    "%%timeit -n1 -r3 in_field = initialize_field(NX, NY, NZ); out_field = np.zeros_like(in_field)\n",
    "out_field = array_pointwise_YZX(in_field, out_field)"
   ]
  },
  {
   "cell_type": "markdown",
   "id": "0eb6d445-c88e-4184-be25-81877dd768cc",
   "metadata": {},
   "source": [
    "We observe some differences between some of the loop permutations. However, the important result is that **they are all much slower than when working with lists**. A possible explanation for this is that NumPy arrays are, by design, not cache frienly when accessed element by element. To actually understand this result we need to dig a bit deeper, and understand how NumPy arrays are stored in memory."
   ]
  },
  {
   "cell_type": "markdown",
   "id": "b13d3943-1eb7-4bd8-8020-859abb3fc49a",
   "metadata": {},
   "source": [
    "NumPy arrays are objects with two very different parts: a data buffer (a contiguous and fixed block of memory containing fixed-sized data items) and a metadata block about the data buffer. The data buffer is very close to what C/Fortran developers would call an array. The metadata contains all the required information so that NumPy can correctly interpret the data buffer (e.g. strides, dim order, byte order, dtype, ...). NumPy deals with changes in arrays very efficiently avoiding unncessary copies. For example, reshaping an array only do changes to the metadata block but leaves the data buffer untouched. This is great, but it is something one has to keep in mind when trying to optimize NumPy code or trying to explain some results.\n",
    "\n",
    "With this brief explanation we are ready to explain why previous tests were so terribly slow. The main reason is that every time we call `out_field[k, j, i] = in_field[k, j, i]` the metadata of both `in_field` and `out_field` arrays have to be read just to figure out how to access the desired element fields. Then, the relevant part of the data buffer is copied to cache. However, when we try to copy the next point, the metadata has to be loaded again to cache, evicting the data buffer from cache, and so on. This code does not make good use of our CPU cache."
   ]
  },
  {
   "cell_type": "markdown",
   "id": "636b225a-3cb8-4dd5-9ba2-b0f17c3a4c8a",
   "metadata": {},
   "source": [
    "Now let's run the benchmark for the `sin()` stencil and save the results."
   ]
  },
  {
   "cell_type": "code",
   "execution_count": 38,
   "id": "a45fabdc-6c4a-4d79-9bff-98e40a30a93e",
   "metadata": {},
   "outputs": [],
   "source": [
    "def array_sin_pointwise(in_field, out_field):\n",
    "    for n in range(N_ITER):\n",
    "        for k in range(NZ):\n",
    "            for j in range(NY):\n",
    "                for i in range(NX):\n",
    "                    out_field[k, j, i] = math.sin(in_field[k, j, i])\n",
    "        if n < N_ITER - 1:\n",
    "            in_field, out_field = out_field, in_field\n",
    "    return out_field"
   ]
  },
  {
   "cell_type": "code",
   "execution_count": 39,
   "id": "e99ba649-16b8-405b-98a5-d73b4fb719f1",
   "metadata": {},
   "outputs": [
    {
     "name": "stdout",
     "output_type": "stream",
     "text": [
      "22.3 s ± 23.6 ms per loop (mean ± std. dev. of 3 runs, 1 loop each)\n"
     ]
    },
    {
     "data": {
      "text/plain": [
       "<TimeitResult : 22.3 s ± 23.6 ms per loop (mean ± std. dev. of 3 runs, 1 loop each)>"
      ]
     },
     "execution_count": 39,
     "metadata": {},
     "output_type": "execute_result"
    }
   ],
   "source": [
    "%%timeit -n1 -r3 -o in_field = initialize_field(NX, NY, NZ); out_field = np.zeros_like(in_field)\n",
    "out_field = array_sin_pointwise(in_field, out_field)"
   ]
  },
  {
   "cell_type": "code",
   "execution_count": 40,
   "id": "b5f54291-30cc-4450-9357-442e3a1ee9e8",
   "metadata": {},
   "outputs": [],
   "source": [
    "result_array_sin_pointwise = _\n",
    "save_result(result_array_sin_pointwise, \"array_sin_pointwise\")"
   ]
  },
  {
   "cell_type": "markdown",
   "id": "7e3cbabb-875e-4868-8e63-06b0bb5e433b",
   "metadata": {},
   "source": [
    "Since we are using the `math.sin()` function and not the vectorized `numpy.sin()`, the difference in time should be roughly the same we observed when working with lists."
   ]
  },
  {
   "cell_type": "code",
   "execution_count": 41,
   "id": "ab8cb054-f6ed-4ffe-91f0-7afeef1ad325",
   "metadata": {},
   "outputs": [
    {
     "name": "stdout",
     "output_type": "stream",
     "text": [
      "7.213846367939066\n"
     ]
    }
   ],
   "source": [
    "time_diff = result_array_sin_pointwise.average - result_array_pointwise.average\n",
    "print(time_diff)"
   ]
  },
  {
   "cell_type": "markdown",
   "id": "70149852-347e-468f-a598-b4a850f2c06e",
   "metadata": {},
   "source": [
    "This is even slower, and probably the reason is that the float number has to first be copied from the data buffer to a Python float object."
   ]
  },
  {
   "cell_type": "markdown",
   "id": "dc4f04d6-623a-4981-8329-147fd7ec6edd",
   "metadata": {},
   "source": [
    "### NumPy arrays with vectorized code\n",
    "\n",
    "Now we test the performance of the same two pointwise stencils using NumPy vectorized code that does not use `for` loops to iterate over the three spatial dimensions.\n",
    "\n",
    "This is how NumPy should be used. Leaving aside the overhead of Python `for` loops, this code is cache friendly because the metadata of both arrays is read only once, and subsequently only the data buffers are read to make the actual copy. Because of this, large chuncks of the array can be copied by reading directly from the cache instead of memory."
   ]
  },
  {
   "cell_type": "code",
   "execution_count": 42,
   "id": "b75ae958-3d3d-46ce-9eb6-610cf4d1abef",
   "metadata": {},
   "outputs": [],
   "source": [
    "def numpy_pointwise(in_field, out_field):\n",
    "    for n in range(N_ITER):\n",
    "        out_field[:, :, :] = in_field[:, :, :]\n",
    "        if n < N_ITER - 1:\n",
    "            in_field, out_field = out_field, in_field\n",
    "    return out_field"
   ]
  },
  {
   "cell_type": "code",
   "execution_count": 43,
   "id": "0b6f2a62-85e7-41c6-95f8-c42e11cb196d",
   "metadata": {},
   "outputs": [
    {
     "name": "stdout",
     "output_type": "stream",
     "text": [
      "36.3 µs ± 104 ns per loop (mean ± std. dev. of 7 runs, 10,000 loops each)\n"
     ]
    },
    {
     "data": {
      "text/plain": [
       "<TimeitResult : 36.3 µs ± 104 ns per loop (mean ± std. dev. of 7 runs, 10,000 loops each)>"
      ]
     },
     "execution_count": 43,
     "metadata": {},
     "output_type": "execute_result"
    }
   ],
   "source": [
    "%%timeit -o in_field = initialize_field(NX, NY, NZ); out_field = np.zeros_like(in_field)\n",
    "out_field = numpy_pointwise(in_field, out_field)"
   ]
  },
  {
   "cell_type": "code",
   "execution_count": 44,
   "id": "2b95cc07-d0cb-4cb1-9821-9b40a660d2da",
   "metadata": {},
   "outputs": [],
   "source": [
    "result_numpy_pointwise = _\n",
    "save_result(result_numpy_pointwise, \"numpy_pointwise\")"
   ]
  },
  {
   "cell_type": "markdown",
   "id": "ea5a5330-a6c4-4b1d-8dc1-abfe3e7b7dfc",
   "metadata": {},
   "source": [
    "This is extremely fast! Clearly, NumPy is loading all the data buffer into the cache and not reading from memory to make the whole copy. In [this Appendix](#appendix-L3) we explore how to use this timing to estimate the size of the L3 cache."
   ]
  },
  {
   "cell_type": "code",
   "execution_count": 45,
   "id": "22ae216b-22b8-4dc0-90f7-fa85469aca68",
   "metadata": {},
   "outputs": [],
   "source": [
    "def numpy_sin_pointwise(in_field, out_field):\n",
    "    for n in range(N_ITER):\n",
    "        out_field = np.sin(in_field)\n",
    "        if n < N_ITER - 1:\n",
    "            in_field, out_field = out_field, in_field\n",
    "    return out_field"
   ]
  },
  {
   "cell_type": "code",
   "execution_count": 46,
   "id": "470c8a18-fc60-4d74-bcd7-026a1fa5184b",
   "metadata": {},
   "outputs": [
    {
     "name": "stdout",
     "output_type": "stream",
     "text": [
      "873 ms ± 4.4 ms per loop (mean ± std. dev. of 7 runs, 1 loop each)\n"
     ]
    },
    {
     "data": {
      "text/plain": [
       "<TimeitResult : 873 ms ± 4.4 ms per loop (mean ± std. dev. of 7 runs, 1 loop each)>"
      ]
     },
     "execution_count": 46,
     "metadata": {},
     "output_type": "execute_result"
    }
   ],
   "source": [
    "%%timeit -o in_field = initialize_field(NX, NY, NZ); out_field = np.zeros_like(in_field)\n",
    "out_field = numpy_sin_pointwise(in_field, out_field)"
   ]
  },
  {
   "cell_type": "code",
   "execution_count": 47,
   "id": "5b31c772-303a-4451-a2ad-31480262a1e2",
   "metadata": {},
   "outputs": [],
   "source": [
    "result_numpy_sin_pointwise = _\n",
    "save_result(result_numpy_sin_pointwise, \"numpy_sin_pointwise\")"
   ]
  },
  {
   "cell_type": "code",
   "execution_count": 48,
   "id": "e0644a5d-e29f-4c1d-92c9-235834789ea7",
   "metadata": {
    "jupyter": {
     "source_hidden": true
    },
    "tags": []
   },
   "outputs": [
    {
     "data": {
      "text/markdown": [
       "\n",
       "The conclusion of these first tests with pointwise stencils is that Python loops are **terribly slow**.\n",
       "Python lists are not cache friendly but, nevertheless, they are surprisingly fast if one takes into\n",
       "account how flexible they are.\n",
       "\n",
       "As a matter of fact, NumPy arrays can make things worse if they are used incorrectly, e.g., by iterating over the arrays,\n",
       "because they are even less cache friendly than lists. However, when combined with vectorized code, performance\n",
       "can be increased a lot. For example, the pointwise stencil applying `sin()` using NumPy vectorized code is\n",
       "**~16x faster** than using Python lists. \n"
      ],
      "text/plain": [
       "<IPython.core.display.Markdown object>"
      ]
     },
     "execution_count": 48,
     "metadata": {},
     "output_type": "execute_result"
    }
   ],
   "source": [
    "numpy_vs_lists_sin = compare_results(result_numpy_sin_pointwise.average, result_list_sin_pointwise.average, \"faster\")\n",
    "\n",
    "md(f\"\"\"\n",
    "The conclusion of these first tests with pointwise stencils is that Python loops are **terribly slow**.\n",
    "Python lists are not cache friendly but, nevertheless, they are surprisingly fast if one takes into\n",
    "account how flexible they are.\n",
    "\n",
    "As a matter of fact, NumPy arrays can make things worse if they are used incorrectly, e.g., by iterating over the arrays,\n",
    "because they are even less cache friendly than lists. However, when combined with vectorized code, performance\n",
    "can be increased a lot. For example, the pointwise stencil applying `sin()` using NumPy vectorized code is\n",
    "**{numpy_vs_lists_sin}x faster** than using Python lists. \n",
    "\"\"\")"
   ]
  },
  {
   "cell_type": "markdown",
   "id": "cec9655c-a9ae-40fb-b162-b0d504390185",
   "metadata": {},
   "source": [
    "## 1D stencils\n",
    "\n",
    "1D stencils updating with values from the same row or same colum only and with periodic boundary conditions.\n",
    "\n",
    "$$\n",
    "a(i,j) = \\frac{1}{2} \\Big[b(i+1,j) - b(i,j)\\Big]\n",
    "$$\n",
    "\n",
    "$$\n",
    "a(i,j) = \\frac{1}{2} \\Big[b(i,j+1) - b(i,j)\\Big]\n",
    "$$\n",
    "\n",
    "The factor 1/2 is to avoid getting huge numbers when `N_ITER` is large with the simple initialization patterns we defined before."
   ]
  },
  {
   "cell_type": "markdown",
   "id": "ce78abea-9043-452b-b25d-6dfee0a14260",
   "metadata": {},
   "source": [
    "The 1D stencils are the perfect opportunity to validate our explanation about why Python lists are slow. We should be able to observe and measure the effects of writing more or less cache friendly code by changing the order of the `for` loops and the order of how the lists are nested."
   ]
  },
  {
   "cell_type": "markdown",
   "id": "e0ea3341-39c4-4228-a0bc-66ba39bb16b6",
   "metadata": {},
   "source": [
    "###  Same column: $a(i,j) = \\frac{1}{2} \\Big[b(i+1,j) - b(i,j)\\Big]$\n",
    "\n",
    "This stencil updates each gridpoint with the current value and the value in the next column. For this reason, the optimal code will be the one that iterates the lists in the ZYX order, with the nested lists also stored in that order."
   ]
  },
  {
   "cell_type": "markdown",
   "id": "fa4d34c7-99d3-452b-b2db-64ca7f0b2cec",
   "metadata": {},
   "source": [
    "But let's start with our default list order, i.e. ZYX, and the ZXY order for the `for` loops."
   ]
  },
  {
   "cell_type": "code",
   "execution_count": 49,
   "id": "a687c19b-9579-4f94-ab55-5c1067e2b6a6",
   "metadata": {},
   "outputs": [],
   "source": [
    "def list_1D_same_col_ZXY(in_field, out_field):\n",
    "    for n in range(N_ITER):\n",
    "        for k in range(NZ):\n",
    "            for i in range(NX - 1):\n",
    "                for j in range(NY):\n",
    "                    out_field[k][j][i] = 0.5 * (in_field[k][j][i+1] - in_field[k][j][i])\n",
    "                    # Periodic boundary condition\n",
    "                    out_field[k][j][NX-1] = 0.5 * (in_field[k][j][0] - in_field[k][j][NX-1])\n",
    "        if n < N_ITER - 1:\n",
    "            in_field, out_field = out_field, in_field"
   ]
  },
  {
   "cell_type": "code",
   "execution_count": 50,
   "id": "66eb00c1-1246-4e45-87ca-ca5f43d48d87",
   "metadata": {},
   "outputs": [
    {
     "data": {
      "image/png": "[encoded data removed]",
      "text/plain": [
       "<Figure size 700x500 with 2 Axes>"
      ]
     },
     "metadata": {
      "needs_background": "light"
     },
     "output_type": "display_data"
    }
   ],
   "source": [
    "# We can use the pattern of vertical bars to check the correctness\n",
    "# but later in the benchmarks we will always use random fields\n",
    "in_field = initialize_field(NX, NY, NZ, mode=\"vertical-bars\")\n",
    "out_field = np.zeros_like(in_field).tolist()\n",
    "in_field = in_field.tolist()\n",
    "list_1D_same_col_ZXY(in_field, out_field)\n",
    "plot_field(out_field)"
   ]
  },
  {
   "cell_type": "code",
   "execution_count": 51,
   "id": "b3eb18a2-4212-4baa-a526-dbc3230cc8c3",
   "metadata": {},
   "outputs": [
    {
     "name": "stdout",
     "output_type": "stream",
     "text": [
      "36.1 s ± 12.9 ms per loop (mean ± std. dev. of 3 runs, 1 loop each)\n"
     ]
    }
   ],
   "source": [
    "%%timeit -n1 -r3 in_field = initialize_field(NX, NY, NZ); out_field = np.zeros_like(in_field).tolist(); in_field = in_field.tolist(); \n",
    "list_1D_same_col_ZXY(in_field, out_field)"
   ]
  },
  {
   "cell_type": "code",
   "execution_count": 52,
   "id": "48fc5425-e110-467a-9ad3-e54d9ad59922",
   "metadata": {},
   "outputs": [],
   "source": [
    "def list_1D_same_col_ZYX(in_field, out_field):\n",
    "    for n in range(N_ITER):\n",
    "        for k in range(NZ):\n",
    "            for j in range(NY):\n",
    "                for i in range(NX - 1):\n",
    "                    out_field[k][j][i] = 0.5 * (in_field[k][j][i+1] - in_field[k][j][i])\n",
    "                out_field[k][j][NX-1] = 0.5 * (in_field[k][j][0] - in_field[k][j][NX-1])\n",
    "        if n < N_ITER - 1:\n",
    "            in_field, out_field = out_field, in_field"
   ]
  },
  {
   "cell_type": "code",
   "execution_count": 53,
   "id": "f663b5c9-4a33-4300-bb23-1d2e0c0efa8b",
   "metadata": {},
   "outputs": [
    {
     "name": "stdout",
     "output_type": "stream",
     "text": [
      "14.9 s ± 28.7 ms per loop (mean ± std. dev. of 3 runs, 1 loop each)\n"
     ]
    },
    {
     "data": {
      "text/plain": [
       "<TimeitResult : 14.9 s ± 28.7 ms per loop (mean ± std. dev. of 3 runs, 1 loop each)>"
      ]
     },
     "execution_count": 53,
     "metadata": {},
     "output_type": "execute_result"
    }
   ],
   "source": [
    "%%timeit -n1 -r3 -o in_field = initialize_field(NX, NY, NZ); out_field = np.zeros_like(in_field).tolist(); in_field = in_field.tolist(); \n",
    "list_1D_same_col_ZYX(in_field, out_field)"
   ]
  },
  {
   "cell_type": "code",
   "execution_count": 54,
   "id": "32d40933-d023-4493-884c-cf063cc1e96d",
   "metadata": {},
   "outputs": [],
   "source": [
    "result_list_1D_same_col_ZYX = _\n",
    "save_result(result_list_1D_same_col_ZYX, \"list_1D_same_col_ZYX\")"
   ]
  },
  {
   "cell_type": "markdown",
   "id": "f3b175cd-fb45-429d-aa7b-45cfdbba7ced",
   "metadata": {},
   "source": [
    "By looking at the identation of the code, we can also realize that by choosing the optimal way to iterate and nest the lists, we can save a few operations by only updating the boundary conditions once every `NX` times. This, together with the higher cache hit ratio, explains the better performance of this scenario. We can quickly check the impact of the extra operations by identing the single line so that it belongs to the innermost loop."
   ]
  },
  {
   "cell_type": "code",
   "execution_count": 55,
   "id": "121be82d-f847-4b5f-a84f-3e0a58dbbbe5",
   "metadata": {},
   "outputs": [],
   "source": [
    "def list_1D_same_col_ZYX_alt(in_field, out_field):\n",
    "    for n in range(N_ITER):\n",
    "        for k in range(NZ):\n",
    "            for j in range(NY):\n",
    "                for i in range(NX - 1):\n",
    "                    out_field[k][j][i] = 0.5 * (in_field[k][j][i+1] - in_field[k][j][i])\n",
    "                    out_field[k][j][NX-1] = 0.5 * (in_field[k][j][0] - in_field[k][j][NX-1])\n",
    "        if n < N_ITER - 1:\n",
    "            in_field, out_field = out_field, in_field"
   ]
  },
  {
   "cell_type": "code",
   "execution_count": 56,
   "id": "f6d9eedc-589c-4d62-9d12-3c2c9a695371",
   "metadata": {},
   "outputs": [
    {
     "name": "stdout",
     "output_type": "stream",
     "text": [
      "32.3 s ± 92.3 ms per loop (mean ± std. dev. of 3 runs, 1 loop each)\n"
     ]
    }
   ],
   "source": [
    "%%timeit -n1 -r3 in_field = initialize_field(NX, NY, NZ); out_field = np.zeros_like(in_field).tolist(); in_field = in_field.tolist(); \n",
    "list_1D_same_col_ZYX_alt(in_field, out_field)"
   ]
  },
  {
   "cell_type": "markdown",
   "id": "57317738-f201-44c8-9fea-29fd44565bf2",
   "metadata": {},
   "source": [
    "Finally, let's verify our hypothesis that the order of the two outer loops should not afffect performance as long as the nested lists follow the same order."
   ]
  },
  {
   "cell_type": "code",
   "execution_count": 57,
   "id": "d3bbe1ac-f62c-4b8c-8fd8-c8e03cd495ae",
   "metadata": {},
   "outputs": [],
   "source": [
    "def list_1D_same_col_YZX(in_field, out_field):\n",
    "    for n in range(N_ITER):\n",
    "        for j in range(NY):\n",
    "            for k in range(NZ):\n",
    "                for i in range(NX - 1):\n",
    "                    out_field[k][j][i] = 0.5 * (in_field[k][j][i+1] - in_field[k][j][i])\n",
    "                out_field[k][j][NX-1] = 0.5 * (in_field[k][j][0] - in_field[k][j][NX-1])\n",
    "        if n < N_ITER - 1:\n",
    "            in_field, out_field = out_field, in_field"
   ]
  },
  {
   "cell_type": "code",
   "execution_count": 58,
   "id": "9300f180-b37d-44e6-a55c-ed199f321bcd",
   "metadata": {},
   "outputs": [
    {
     "name": "stdout",
     "output_type": "stream",
     "text": [
      "15.2 s ± 13.4 ms per loop (mean ± std. dev. of 3 runs, 1 loop each)\n"
     ]
    }
   ],
   "source": [
    "%%timeit -n1 -r3 in_field = initialize_field(NX, NY, NZ); out_field = np.zeros_like(in_field).tolist(); in_field = in_field.tolist(); \n",
    "list_1D_same_col_YZX(in_field, out_field)"
   ]
  },
  {
   "cell_type": "markdown",
   "id": "e6ccbbe4-b7ad-4e4b-8e49-865f48fe8384",
   "metadata": {},
   "source": [
    "Next, we will not benchmark NumPy arrays with `for` loops because we already know from the tests using pointwise stencils that this will be much worse than lists. So we will jump directly to explore the 1D stencil using vectorized NumPy code."
   ]
  },
  {
   "cell_type": "code",
   "execution_count": 59,
   "id": "7b2deb09-dffb-4d5e-852d-793a6031e263",
   "metadata": {},
   "outputs": [],
   "source": [
    "def numpy_1D_same_col(in_field, out_field):\n",
    "    for n in range(N_ITER):\n",
    "        out_field[:, :, :-1] = 0.5 * (in_field[:, :, 1:] - in_field[:, :, :-1])\n",
    "        # Periodic boundary condition\n",
    "        out_field[:, :, -1] = 0.5 * (in_field[:, :, 0] - in_field[:, :, -1])\n",
    "        if n < N_ITER - 1:\n",
    "            in_field, out_field = out_field, in_field\n",
    "    return out_field"
   ]
  },
  {
   "cell_type": "markdown",
   "id": "6d89150e-118b-40d0-8dcb-507124230295",
   "metadata": {},
   "source": [
    "With vectorized code we cannot test different loop orders. The iteration over arrays is done internally by NumPy. However, we can explore the effects of storing the data in the data buffer differently. A first test we can do is to initialize the arrays using the Fortran-style rather than the C-style (default), and check whether this affects performance or not."
   ]
  },
  {
   "cell_type": "code",
   "execution_count": 60,
   "id": "8d17fb46-7ba0-4fea-92ea-915264bd4df1",
   "metadata": {},
   "outputs": [
    {
     "name": "stdout",
     "output_type": "stream",
     "text": [
      "171 ms ± 506 µs per loop (mean ± std. dev. of 7 runs, 10 loops each)\n"
     ]
    }
   ],
   "source": [
    "%%timeit -n10 -r7 in_field = initialize_field(NX, NY, NZ, array_order=\"C\"); out_field = np.zeros_like(in_field)\n",
    "out_field = numpy_1D_same_col(in_field, out_field)"
   ]
  },
  {
   "cell_type": "code",
   "execution_count": 61,
   "id": "ed15e06b-da81-487d-b0fe-02dc9960745c",
   "metadata": {},
   "outputs": [
    {
     "name": "stdout",
     "output_type": "stream",
     "text": [
      "108 ms ± 504 µs per loop (mean ± std. dev. of 7 runs, 10 loops each)\n"
     ]
    },
    {
     "data": {
      "text/plain": [
       "<TimeitResult : 108 ms ± 504 µs per loop (mean ± std. dev. of 7 runs, 10 loops each)>"
      ]
     },
     "execution_count": 61,
     "metadata": {},
     "output_type": "execute_result"
    }
   ],
   "source": [
    "%%timeit -n10 -r7 -o in_field = initialize_field(NX, NY, NZ, array_order=\"F\"); out_field = np.zeros_like(in_field)\n",
    "out_field = numpy_1D_same_col(in_field, out_field)"
   ]
  },
  {
   "cell_type": "code",
   "execution_count": 62,
   "id": "6834e462-dbc2-43d0-97d9-2ef582423ac9",
   "metadata": {},
   "outputs": [],
   "source": [
    "result_numpy_1D_same_col = _\n",
    "save_result(result_numpy_1D_same_col, \"numpy_1D_same_col\")"
   ]
  },
  {
   "cell_type": "markdown",
   "id": "d317b320-3576-4e65-a4bb-612f1f2d5492",
   "metadata": {},
   "source": [
    "By default, the data buffers of NumPy arrays are stored row-wise (C), but as shown above this can be changed using the NumPy kwarg `order` (in this case, `array_order` simply passes its value to `order` as one can check in [`common.py`](./common.py)). From NumPy documentation:\n",
    "\n",
    "> Data in new ndarrays is in the row-major (C) order, unless otherwise specified, but, for example, basic array slicing often produces views in a different scheme.\n",
    "> (...)\n",
    "> Several algorithms in NumPy work on arbitrarily strided arrays. However, some algorithms require single-segment arrays. When an irregularly strided array is passed in to such algorithms, a copy is automatically made.\n",
    "\n",
    "The main takeaway should be that when using vectorized NumPy code, some situations may lead to worse performance than what one would expect. This may be due to extra copies being done by NumPy internally so that the data buffers of the arrays are stored in a certain way."
   ]
  },
  {
   "cell_type": "markdown",
   "id": "55c0d914-e827-4556-9f01-f01c7905d22f",
   "metadata": {},
   "source": [
    "To gather a bit more data, let's measure the times for the two permutations ZYX and YZX of the `dim_order`, each of which in C-style and Fortran-style."
   ]
  },
  {
   "cell_type": "code",
   "execution_count": 63,
   "id": "f4fb8f8d-624a-4e41-ab5b-2b61ba83eee3",
   "metadata": {},
   "outputs": [
    {
     "name": "stdout",
     "output_type": "stream",
     "text": [
      "170 ms ± 993 µs per loop (mean ± std. dev. of 7 runs, 10 loops each)\n"
     ]
    }
   ],
   "source": [
    "%%timeit -n10 -r7 in_field = initialize_field(NX, NY, NZ, dim_order=\"ZYX\", array_order=\"C\"); out_field = np.zeros_like(in_field)\n",
    "out_field = numpy_1D_same_col(in_field, out_field)"
   ]
  },
  {
   "cell_type": "code",
   "execution_count": 64,
   "id": "ea157758-3511-4e76-92c5-bda2b7e1e820",
   "metadata": {},
   "outputs": [
    {
     "name": "stdout",
     "output_type": "stream",
     "text": [
      "109 ms ± 718 µs per loop (mean ± std. dev. of 7 runs, 10 loops each)\n"
     ]
    }
   ],
   "source": [
    "%%timeit -n10 -r7 in_field = initialize_field(NX, NY, NZ, dim_order=\"ZYX\", array_order=\"F\"); out_field = np.zeros_like(in_field)\n",
    "out_field = numpy_1D_same_col(in_field, out_field)"
   ]
  },
  {
   "cell_type": "code",
   "execution_count": 65,
   "id": "af3bdca8-af91-4667-89e0-2637ddb86237",
   "metadata": {},
   "outputs": [
    {
     "name": "stdout",
     "output_type": "stream",
     "text": [
      "169 ms ± 573 µs per loop (mean ± std. dev. of 7 runs, 10 loops each)\n"
     ]
    }
   ],
   "source": [
    "%%timeit -n10 -r7 in_field = initialize_field(NX, NY, NZ, dim_order=\"YZX\", array_order=\"C\"); out_field = np.zeros_like(in_field)\n",
    "out_field = numpy_1D_same_col(in_field, out_field)"
   ]
  },
  {
   "cell_type": "code",
   "execution_count": 66,
   "id": "16872dfa-bc85-428e-bc6e-c88d53db5b53",
   "metadata": {},
   "outputs": [
    {
     "name": "stdout",
     "output_type": "stream",
     "text": [
      "108 ms ± 334 µs per loop (mean ± std. dev. of 7 runs, 10 loops each)\n"
     ]
    }
   ],
   "source": [
    "%%timeit -n10 -r7 in_field = initialize_field(NX, NY, NZ, dim_order=\"YZX\", array_order=\"F\"); out_field = np.zeros_like(in_field)\n",
    "out_field = numpy_1D_same_col(in_field, out_field)"
   ]
  },
  {
   "cell_type": "markdown",
   "id": "df33cd2b-ef22-4ef0-bda2-ebd3a45d016f",
   "metadata": {},
   "source": [
    "There seems to be little difference between the different `dim_order` (~ 1 ms), and what matters most in this case is if the array is stored in C-style (row-major) or Fortran-style (col-major)."
   ]
  },
  {
   "cell_type": "markdown",
   "id": "d82533a9-6351-4a7a-ad3f-60563295c654",
   "metadata": {},
   "source": [
    "To explain these results we need to understand how arbitrary N-dimensional arrays are stored in a one-dimensional segment of computer memory. In particular, let's suppose that `array` is a N-dimensional array with dimensions $d=(d_0,d_1,\\dots,d_{N-1})$. The offset of element $(n_0,n_1,\\dots,n_{N-1})$, i.e., the number of bytes from the beginning of the data buffer to this particular element, is given by the formula\n",
    "\n",
    "$$\n",
    "n_\\text{offset} = \\sum_{k=0}^{N-1} s_k n_k\\,,\n",
    "$$\n",
    "\n",
    "where $s_k$ are the so-called strides of the array, i.e., the number of bytes required to advance one position in the $k$ dimension. These strides are precisely the numbers that change when we store the data in C-style or Fortran-style. In particular, we have that\n",
    "\n",
    "$$\n",
    "s_k^{\\text{Fortran-style}} = \\text{itemsize}\\times\\prod_{j=0}^{k-1}d_j\\,,\\quad s_k^{\\text{C-style}} = \\text{itemsize}\\times\\prod_{j=k+1}^{N-1}d_j\\,.\n",
    "$$\n",
    "\n",
    "The main takeaway from this is that NumPy arrays in C-style have contiguous elements from the first dimension closer to each other, and in Fortran-style is the opposite, i.e., elements from the last dimension are closer to each other.\n",
    "\n",
    "For example, for our 3D fields with $d=(\\text{NZ},\\text{NY},\\text{NX})$, we get that for Fortran-style arrays $s_Z=8$, $s_Y=8\\times\\text{NZ}=640$ and $s_X=8\\times\\text{NZ}\\times\\text{NY}=81920$, and for C-style arrays $s_Z=8\\times\\text{NY}\\times\\text{NX}=131072$, $s_Y=8\\times\\text{NY}=1024$ and $s_X=8$. Let's verify this."
   ]
  },
  {
   "cell_type": "code",
   "execution_count": 67,
   "id": "fbe3fdcc-884a-40e6-a55d-cc0e1bc9bf3a",
   "metadata": {},
   "outputs": [
    {
     "name": "stdout",
     "output_type": "stream",
     "text": [
      "C-style: (131072, 1024, 8)\n",
      "Fortran-style: (8, 640, 81920)\n"
     ]
    }
   ],
   "source": [
    "field_C = initialize_field(NX, NY, NZ, dim_order=\"ZYX\", array_order=\"C\")\n",
    "field_F = initialize_field(NX, NY, NZ, dim_order=\"ZYX\", array_order=\"F\")\n",
    "print(f\"C-style: {field_C.strides}\")\n",
    "print(f\"Fortran-style: {field_F.strides}\")"
   ]
  },
  {
   "cell_type": "markdown",
   "id": "c9b2f121-240e-4d7c-8d74-aa36621a53f8",
   "metadata": {},
   "source": [
    "Based on this we can explain the differences observed in previous benchmarks: `numpy_1D_same_col()` is always slower when the arrays are C-style because the strides are larger (due to `NZ` being smaller than `NX` and `NY`), leading to a lower cache hit ratio. This difference should go away if we make `NZ` = `NX`. Let's check."
   ]
  },
  {
   "cell_type": "code",
   "execution_count": 68,
   "id": "95affcd5-2b72-456b-80fa-757434db0be0",
   "metadata": {},
   "outputs": [],
   "source": [
    "NZ = 128"
   ]
  },
  {
   "cell_type": "code",
   "execution_count": 69,
   "id": "baff654e-1337-47a3-8cc5-224bffe497b6",
   "metadata": {},
   "outputs": [
    {
     "name": "stdout",
     "output_type": "stream",
     "text": [
      "333 ms ± 2.76 ms per loop (mean ± std. dev. of 7 runs, 10 loops each)\n"
     ]
    }
   ],
   "source": [
    "%%timeit -n10 -r7 in_field = initialize_field(NX, NY, NZ, array_order=\"C\"); out_field = np.zeros_like(in_field)\n",
    "out_field = numpy_1D_same_col(in_field, out_field)"
   ]
  },
  {
   "cell_type": "code",
   "execution_count": 70,
   "id": "6c617143-23a5-4ff1-bbe8-ad21bc0f0f30",
   "metadata": {},
   "outputs": [
    {
     "name": "stdout",
     "output_type": "stream",
     "text": [
      "270 ms ± 1.26 ms per loop (mean ± std. dev. of 7 runs, 10 loops each)\n"
     ]
    }
   ],
   "source": [
    "%%timeit -n10 -r7 in_field = initialize_field(NX, NY, NZ, array_order=\"F\"); out_field = np.zeros_like(in_field)\n",
    "out_field = numpy_1D_same_col(in_field, out_field)"
   ]
  },
  {
   "cell_type": "markdown",
   "id": "bf15a44a-ba42-4e98-8f95-e8a51776e594",
   "metadata": {},
   "source": [
    "Results are similar but they are still not equal. This might be due to how NumPy internally iterate over the different dimensions. The next experiment we can do is change the index where we apply the stencil. Since we are working with 3D fields, we have three options."
   ]
  },
  {
   "cell_type": "code",
   "execution_count": 71,
   "id": "51de46b8-c566-4e15-b03e-00bc2d547e57",
   "metadata": {},
   "outputs": [],
   "source": [
    "def numpy_1D_index_1(in_field, out_field):\n",
    "    for n in range(N_ITER):\n",
    "        out_field[:-1, :, :] = 0.5 * (in_field[1:, :, :] - in_field[:-1, :, :])\n",
    "        # Periodic boundary condition\n",
    "        out_field[-1, :, :] = 0.5 * (in_field[0, :, :] - in_field[-1, :, :])\n",
    "        if n < N_ITER - 1:\n",
    "            in_field, out_field = out_field, in_field\n",
    "    return out_field\n",
    "\n",
    "def numpy_1D_index_2(in_field, out_field):\n",
    "    for n in range(N_ITER):\n",
    "        out_field[:, :-1, :] = 0.5 * (in_field[:, 1:, :] - in_field[:, :-1, :])\n",
    "        # Periodic boundary condition\n",
    "        out_field[:, -1, :] = 0.5 * (in_field[:, 0, :] - in_field[:, -1, :])\n",
    "        if n < N_ITER - 1:\n",
    "            in_field, out_field = out_field, in_field\n",
    "    return out_field\n",
    "\n",
    "def numpy_1D_index_3(in_field, out_field):\n",
    "    for n in range(N_ITER):\n",
    "        out_field[:, :, :-1] = 0.5 * (in_field[:, :, 1:] - in_field[:, :, :-1])\n",
    "        # Periodic boundary condition\n",
    "        out_field[:, :, -1] = 0.5 * (in_field[:, :, 0] - in_field[:, :, -1])\n",
    "        if n < N_ITER - 1:\n",
    "            in_field, out_field = out_field, in_field\n",
    "    return out_field"
   ]
  },
  {
   "cell_type": "markdown",
   "id": "fc4ceb73-7734-4eed-b19e-b91fce493f20",
   "metadata": {},
   "source": [
    "Since we still have `NX` = `NY` = `NZ` = 128, this will test the impact of the dimension we update with the stencil."
   ]
  },
  {
   "cell_type": "code",
   "execution_count": 72,
   "id": "6d2ffd47-6ea1-4a87-9a39-7db677e8062c",
   "metadata": {},
   "outputs": [
    {
     "name": "stdout",
     "output_type": "stream",
     "text": [
      "273 ms ± 623 µs per loop (mean ± std. dev. of 7 runs, 10 loops each)\n"
     ]
    }
   ],
   "source": [
    "%%timeit -n10 -r7 in_field = initialize_field(NX, NY, NZ, array_order=\"C\"); out_field = np.zeros_like(in_field)\n",
    "out_field = numpy_1D_index_1(in_field, out_field)"
   ]
  },
  {
   "cell_type": "code",
   "execution_count": 73,
   "id": "944f849a-5b9a-4422-a39b-86b507987e87",
   "metadata": {},
   "outputs": [
    {
     "name": "stdout",
     "output_type": "stream",
     "text": [
      "231 ms ± 1.15 ms per loop (mean ± std. dev. of 7 runs, 10 loops each)\n"
     ]
    }
   ],
   "source": [
    "%%timeit -n10 -r7 in_field = initialize_field(NX, NY, NZ, array_order=\"C\"); out_field = np.zeros_like(in_field)\n",
    "out_field = numpy_1D_index_2(in_field, out_field)"
   ]
  },
  {
   "cell_type": "code",
   "execution_count": 74,
   "id": "badf5c22-0638-42ed-b053-90682a0b287f",
   "metadata": {},
   "outputs": [
    {
     "name": "stdout",
     "output_type": "stream",
     "text": [
      "333 ms ± 2.01 ms per loop (mean ± std. dev. of 7 runs, 10 loops each)\n"
     ]
    }
   ],
   "source": [
    "%%timeit -n10 -r7 in_field = initialize_field(NX, NY, NZ, array_order=\"C\"); out_field = np.zeros_like(in_field)\n",
    "out_field = numpy_1D_index_3(in_field, out_field)"
   ]
  },
  {
   "cell_type": "code",
   "execution_count": 75,
   "id": "97412c2c-3540-4bb1-807e-8a8c56fc5bdc",
   "metadata": {},
   "outputs": [
    {
     "name": "stdout",
     "output_type": "stream",
     "text": [
      "335 ms ± 4.56 ms per loop (mean ± std. dev. of 7 runs, 10 loops each)\n"
     ]
    }
   ],
   "source": [
    "%%timeit -n10 -r7 in_field = initialize_field(NX, NY, NZ, array_order=\"F\"); out_field = np.zeros_like(in_field)\n",
    "out_field = numpy_1D_index_1(in_field, out_field)"
   ]
  },
  {
   "cell_type": "code",
   "execution_count": 76,
   "id": "020066e1-c323-4f9f-9fcd-e07ae4384369",
   "metadata": {},
   "outputs": [
    {
     "name": "stdout",
     "output_type": "stream",
     "text": [
      "229 ms ± 593 µs per loop (mean ± std. dev. of 7 runs, 10 loops each)\n"
     ]
    }
   ],
   "source": [
    "%%timeit -n10 -r7 in_field = initialize_field(NX, NY, NZ, array_order=\"F\"); out_field = np.zeros_like(in_field)\n",
    "out_field = numpy_1D_index_2(in_field, out_field)"
   ]
  },
  {
   "cell_type": "code",
   "execution_count": 77,
   "id": "2a42d4ff-9670-487c-a235-5b6d7da250fa",
   "metadata": {},
   "outputs": [
    {
     "name": "stdout",
     "output_type": "stream",
     "text": [
      "270 ms ± 773 µs per loop (mean ± std. dev. of 7 runs, 10 loops each)\n"
     ]
    }
   ],
   "source": [
    "%%timeit -n10 -r7 in_field = initialize_field(NX, NY, NZ, array_order=\"F\"); out_field = np.zeros_like(in_field)\n",
    "out_field = numpy_1D_index_3(in_field, out_field)"
   ]
  },
  {
   "cell_type": "markdown",
   "id": "7a97881a-1bdd-4425-a7c6-63659eed8b8b",
   "metadata": {},
   "source": [
    "It seems that due to how NumPy iterates over the arrays, it is best to put the dimension that is being update in the middle index of the array. This seems to maximize the cache hit ratio."
   ]
  },
  {
   "cell_type": "code",
   "execution_count": 78,
   "id": "bf63016b-18ce-4afe-a72e-1f09e341bb25",
   "metadata": {},
   "outputs": [],
   "source": [
    "NZ = 80"
   ]
  },
  {
   "cell_type": "markdown",
   "id": "f185cf84-39d2-41c4-8298-9ab35c8d2f35",
   "metadata": {},
   "source": [
    "### Same row: $a(i,j) = \\frac{1}{2} \\Big[b(i,j+1) - b(i,j)\\Big]$"
   ]
  },
  {
   "cell_type": "markdown",
   "id": "3ca2e329-defb-4bb1-833f-600733e8284f",
   "metadata": {},
   "source": [
    "Now, in this other stencil, we want the innermost loop to iterate over the rows. This means that the optimal loop permutations are ZXY and XZY."
   ]
  },
  {
   "cell_type": "code",
   "execution_count": 79,
   "id": "87281c29-de33-4c50-963d-93a0c2a6dee6",
   "metadata": {},
   "outputs": [],
   "source": [
    "def list_1D_same_row_ZXY(in_field, out_field):\n",
    "    for n in range(N_ITER):\n",
    "        for k in range(NZ):\n",
    "            for i in range(NX):\n",
    "                for j in range(NY-1):\n",
    "                    out_field[k][j][i] = 0.5 * (in_field[k][j+1][i] - in_field[k][j][i])\n",
    "                out_field[k][NY-1][i] = 0.5 * (in_field[k][0][i] - in_field[k][NY-1][i])\n",
    "        if n < N_ITER - 1:\n",
    "            in_field, out_field = out_field, in_field"
   ]
  },
  {
   "cell_type": "code",
   "execution_count": 80,
   "id": "56019e51-ee76-4a7b-b22a-d533f7b2e4d2",
   "metadata": {},
   "outputs": [
    {
     "data": {
      "image/png": "[encoded data removed]",
      "text/plain": [
       "<Figure size 700x500 with 2 Axes>"
      ]
     },
     "metadata": {
      "needs_background": "light"
     },
     "output_type": "display_data"
    }
   ],
   "source": [
    "in_field = initialize_field(NX, NY, NZ, mode=\"horizontal-bars\")\n",
    "out_field = np.zeros_like(in_field).tolist()\n",
    "in_field = in_field.tolist()\n",
    "list_1D_same_row_ZXY(in_field, out_field)\n",
    "plot_field(out_field)"
   ]
  },
  {
   "cell_type": "code",
   "execution_count": 81,
   "id": "14912595-6ba5-4823-8517-b75c877b7f31",
   "metadata": {},
   "outputs": [
    {
     "name": "stdout",
     "output_type": "stream",
     "text": [
      "16.5 s ± 11.6 ms per loop (mean ± std. dev. of 3 runs, 1 loop each)\n"
     ]
    }
   ],
   "source": [
    "%%timeit -n1 -r3 in_field = initialize_field(NX, NY, NZ); out_field = np.zeros_like(in_field).tolist(); in_field = in_field.tolist()\n",
    "list_1D_same_row_ZXY(in_field, out_field)"
   ]
  },
  {
   "cell_type": "markdown",
   "id": "e3d689b3-6cab-411a-97b2-54b54a52c407",
   "metadata": {},
   "source": [
    "This result is quite good because the order of the loops is the right one (and we already benefit form less calls to the boundary contidion update), but we can still improve it by nesting the lists in the same way as the loops."
   ]
  },
  {
   "cell_type": "code",
   "execution_count": 82,
   "id": "c8ce49a8-ffea-4f22-a372-5f30095e1a40",
   "metadata": {},
   "outputs": [],
   "source": [
    "def list_1D_same_row_ZXY_alt(in_field, out_field):\n",
    "    for n in range(N_ITER):\n",
    "        for k in range(NZ):\n",
    "            for i in range(NX):\n",
    "                for j in range(NY-1):\n",
    "                    out_field[k][i][j] = 0.5 * (in_field[k][i][j+1] - in_field[k][i][j])\n",
    "                out_field[k][i][NY-1] = 0.5 * (in_field[k][i][0] - in_field[k][i][NY-1])\n",
    "        if n < N_ITER - 1:\n",
    "            in_field, out_field = out_field, in_field"
   ]
  },
  {
   "cell_type": "code",
   "execution_count": 83,
   "id": "0903a6bb-e089-42a7-95f0-218c6044cd75",
   "metadata": {},
   "outputs": [
    {
     "name": "stdout",
     "output_type": "stream",
     "text": [
      "15 s ± 24.5 ms per loop (mean ± std. dev. of 3 runs, 1 loop each)\n"
     ]
    },
    {
     "data": {
      "text/plain": [
       "<TimeitResult : 15 s ± 24.5 ms per loop (mean ± std. dev. of 3 runs, 1 loop each)>"
      ]
     },
     "execution_count": 83,
     "metadata": {},
     "output_type": "execute_result"
    }
   ],
   "source": [
    "%%timeit -n1 -r3 -o in_field = initialize_field(NX, NY, NZ, dim_order=\"ZXY\"); out_field = np.zeros_like(in_field).tolist(); in_field = in_field.tolist()\n",
    "list_1D_same_row_ZXY_alt(in_field, out_field)"
   ]
  },
  {
   "cell_type": "code",
   "execution_count": 84,
   "id": "d61fad05-259d-4e21-92cd-c5bbcfafcb99",
   "metadata": {},
   "outputs": [],
   "source": [
    "result_list_1D_same_row_ZXY = _\n",
    "save_result(result_list_1D_same_row_ZXY, \"list_1D_same_row_ZXY\")"
   ]
  },
  {
   "cell_type": "markdown",
   "id": "1fb0efa8-df2a-48fc-86b5-1bf9a3cd090b",
   "metadata": {},
   "source": [
    "Let's check that we get similar time with the other optimal setting."
   ]
  },
  {
   "cell_type": "code",
   "execution_count": 85,
   "id": "15fe6ca0-8d89-4f14-90d6-67af7f8b1361",
   "metadata": {},
   "outputs": [],
   "source": [
    "def list_1D_same_row_XZY(in_field, out_field):\n",
    "    for n in range(N_ITER):\n",
    "        for i in range(NX):\n",
    "            for k in range(NZ):\n",
    "                for j in range(NY-1):\n",
    "                    out_field[i][k][j] = 0.5 * (in_field[i][k][j+1] - in_field[i][k][j])\n",
    "                out_field[i][k][NY-1] = 0.5 * (in_field[i][k][0] - in_field[i][k][NY-1])\n",
    "        if n < N_ITER - 1:\n",
    "            in_field, out_field = out_field, in_field"
   ]
  },
  {
   "cell_type": "code",
   "execution_count": 86,
   "id": "72d7d93d-1473-4acc-8217-13b44a4e11c8",
   "metadata": {},
   "outputs": [
    {
     "name": "stdout",
     "output_type": "stream",
     "text": [
      "14.9 s ± 1.11 ms per loop (mean ± std. dev. of 3 runs, 1 loop each)\n"
     ]
    }
   ],
   "source": [
    "%%timeit -n1 -r3 in_field = initialize_field(NX, NY, NZ, dim_order=\"XZY\"); out_field = np.zeros_like(in_field).tolist(); in_field = in_field.tolist()\n",
    "list_1D_same_row_XZY(in_field, out_field)"
   ]
  },
  {
   "cell_type": "markdown",
   "id": "2c00b22f-20c9-461b-b959-746679c05cf5",
   "metadata": {},
   "source": [
    "Finally, let's check the vectorized NumPy code. We are now in a position to try to guess what will happen. Using our default `dim_order=\"ZYX\"`, this stencil uses values from the second dimension. This means, based on previous results, that we should see similar performance no matter if we use C-style or Fortran-style arrays."
   ]
  },
  {
   "cell_type": "code",
   "execution_count": 87,
   "id": "7039b3e9-9b56-4626-a363-e75634e0ab24",
   "metadata": {},
   "outputs": [],
   "source": [
    "def numpy_1D_same_row(in_field, out_field):\n",
    "    for n in range(N_ITER):\n",
    "        out_field[:, :-1, :] = 0.5 * (in_field[:, 1:, :] - in_field[:, :-1, :])\n",
    "        # Periodic boundary condition\n",
    "        out_field[:, -1, :] = 0.5 * (in_field[:, 0, :] - in_field[:, -1, :])\n",
    "        if n < N_ITER - 1:\n",
    "            in_field, out_field = out_field, in_field\n",
    "    return out_field"
   ]
  },
  {
   "cell_type": "code",
   "execution_count": 88,
   "id": "715f7da9-9e1b-4b0d-bbe6-ad5d8781e93a",
   "metadata": {},
   "outputs": [
    {
     "name": "stdout",
     "output_type": "stream",
     "text": [
      "106 ms ± 329 µs per loop (mean ± std. dev. of 7 runs, 10 loops each)\n"
     ]
    }
   ],
   "source": [
    "%%timeit in_field = initialize_field(NX, NY, NZ, array_order=\"C\"); out_field = np.zeros_like(in_field)\n",
    "out_field = numpy_1D_same_row(in_field, out_field)"
   ]
  },
  {
   "cell_type": "code",
   "execution_count": 89,
   "id": "1848b208-13d5-4358-97dc-0e4029e9ebc5",
   "metadata": {},
   "outputs": [
    {
     "name": "stdout",
     "output_type": "stream",
     "text": [
      "105 ms ± 291 µs per loop (mean ± std. dev. of 7 runs, 10 loops each)\n"
     ]
    },
    {
     "data": {
      "text/plain": [
       "<TimeitResult : 105 ms ± 291 µs per loop (mean ± std. dev. of 7 runs, 10 loops each)>"
      ]
     },
     "execution_count": 89,
     "metadata": {},
     "output_type": "execute_result"
    }
   ],
   "source": [
    "%%timeit -o in_field = initialize_field(NX, NY, NZ, array_order=\"F\"); out_field = np.zeros_like(in_field)\n",
    "out_field = numpy_1D_same_row(in_field, out_field)"
   ]
  },
  {
   "cell_type": "code",
   "execution_count": 90,
   "id": "b046985c-adcb-49c0-905e-691b20aabce2",
   "metadata": {},
   "outputs": [],
   "source": [
    "result_numpy_1D_same_row = _\n",
    "save_result(result_numpy_1D_same_row, \"numpy_1D_same_row\")"
   ]
  },
  {
   "cell_type": "code",
   "execution_count": 91,
   "id": "d4d0105a-4014-4082-bc0d-72dc09597e30",
   "metadata": {
    "jupyter": {
     "source_hidden": true
    },
    "tags": []
   },
   "outputs": [
    {
     "data": {
      "text/markdown": [
       "\n",
       "The 1D stencils using vectorized code NumPy are **~143 times faster\n",
       "than pure Python code with lists**.\n"
      ],
      "text/plain": [
       "<IPython.core.display.Markdown object>"
      ]
     },
     "execution_count": 91,
     "metadata": {},
     "output_type": "execute_result"
    }
   ],
   "source": [
    "time_list_1D_same_row_ZXY = read_results(\"list_1D_same_row_ZXY\")\n",
    "numpy_vs_lists = compare_results(result_numpy_1D_same_row.average, time_list_1D_same_row_ZXY, \"faster\")\n",
    "\n",
    "md(f\"\"\"\n",
    "The 1D stencils using vectorized code NumPy are **{numpy_vs_lists} times faster\n",
    "than pure Python code with lists**.\n",
    "\"\"\")"
   ]
  },
  {
   "cell_type": "markdown",
   "id": "8ee1edd6-4058-4cad-b492-66cc101646a3",
   "metadata": {},
   "source": [
    "## 2D stencil\n",
    "\n",
    "The last stencil we will check is the 4th-order non-monotonic diffusion we used during the course, which is defined in terms of the Laplace operator as\n",
    "\n",
    "$$\n",
    "a(i, j) = \\Delta(\\Delta(b(i, j)))\n",
    "$$\n",
    "\n",
    "More details about the discretization and the exact stencil can be found in [the project report](./report.pdf).\n",
    "\n",
    "Since it is already clear from the experiments with pointwise and 1D stencils, that python `for` loops are very slow. Here we will only run the NumPy implementation from `stencil2d.py` given in the course. This will set the base time to improve using the different high-level programming techniques available in Python (which will be tested in different notebooks)."
   ]
  },
  {
   "cell_type": "code",
   "execution_count": 92,
   "id": "d2fb44b5-eee4-412a-a5b6-fd4e00d6ace8",
   "metadata": {},
   "outputs": [],
   "source": [
    "from stencil2d import apply_diffusion"
   ]
  },
  {
   "cell_type": "code",
   "execution_count": 93,
   "id": "b6f03699-292c-4c7d-9246-78ec82ef57c7",
   "metadata": {},
   "outputs": [
    {
     "data": {
      "image/png": "[encoded data removed]",
      "text/plain": [
       "<Figure size 700x500 with 2 Axes>"
      ]
     },
     "metadata": {
      "needs_background": "light"
     },
     "output_type": "display_data"
    }
   ],
   "source": [
    "in_field = initialize_field(NX, NY, NZ, mode=\"square\")\n",
    "plot_field(in_field)"
   ]
  },
  {
   "cell_type": "code",
   "execution_count": 94,
   "id": "2dd6c60b-7b70-445f-9acc-280f50c362b0",
   "metadata": {},
   "outputs": [],
   "source": [
    "out_field = apply_diffusion(in_field, num_halo=2, num_iter=N_ITER)"
   ]
  },
  {
   "cell_type": "code",
   "execution_count": 95,
   "id": "fbb4eef9-7015-49ce-99b7-bfffe693145d",
   "metadata": {},
   "outputs": [
    {
     "data": {
      "image/png": "[encoded data removed]",
      "text/plain": [
       "<Figure size 700x500 with 2 Axes>"
      ]
     },
     "metadata": {
      "needs_background": "light"
     },
     "output_type": "display_data"
    }
   ],
   "source": [
    "plot_field(out_field)"
   ]
  },
  {
   "cell_type": "code",
   "execution_count": 96,
   "id": "6c3c283f-e091-4da6-bce7-094daf577b32",
   "metadata": {},
   "outputs": [
    {
     "name": "stdout",
     "output_type": "stream",
     "text": [
      "1.09 s ± 5.08 ms per loop (mean ± std. dev. of 7 runs, 1 loop each)\n"
     ]
    },
    {
     "data": {
      "text/plain": [
       "<TimeitResult : 1.09 s ± 5.08 ms per loop (mean ± std. dev. of 7 runs, 1 loop each)>"
      ]
     },
     "execution_count": 96,
     "metadata": {},
     "output_type": "execute_result"
    }
   ],
   "source": [
    "%%timeit -o in_field = initialize_field(NX, NY, NZ)\n",
    "out_field = apply_diffusion(in_field, num_halo=2, num_iter=N_ITER)"
   ]
  },
  {
   "cell_type": "code",
   "execution_count": 97,
   "id": "9f84609c-0bcd-4128-86e5-b6a6e7900d87",
   "metadata": {},
   "outputs": [],
   "source": [
    "result_numpy_2D = _\n",
    "save_result(result_numpy_2D, \"numpy_2D\")"
   ]
  },
  {
   "cell_type": "markdown",
   "id": "c180ed14-3b11-4b76-a26d-dacf765b0696",
   "metadata": {},
   "source": [
    "---\n",
    "## Appendices"
   ]
  },
  {
   "cell_type": "markdown",
   "id": "9894280d-8fd3-4af5-a710-133e624015fb",
   "metadata": {},
   "source": [
    "### np.sin() vs math.sin()\n",
    "\n",
    "There is no doubt that `np.sin()` is faster than `math.sin()` when applied to large NumPy arrays. But this function has an overhead cost when applied to single elements. Here we show that `math.sin()` is more efficient than `np.sin()` when applied to 4 or less elements. However, the overhead of a Python loop is even worse than the overhead of `np.sin()`."
   ]
  },
  {
   "cell_type": "code",
   "execution_count": 98,
   "id": "ff971006-ff67-4fc7-809f-2080063cacbc",
   "metadata": {},
   "outputs": [],
   "source": [
    "rng = np.random.default_rng()\n",
    "x = rng.random(100)"
   ]
  },
  {
   "cell_type": "code",
   "execution_count": 99,
   "id": "47289d53-ccdb-4469-a5eb-cd44679facdc",
   "metadata": {},
   "outputs": [
    {
     "name": "stdout",
     "output_type": "stream",
     "text": [
      "170 ns ± 0.601 ns per loop (mean ± std. dev. of 7 runs, 10,000,000 loops each)\n"
     ]
    }
   ],
   "source": [
    "%timeit math.sin(x[0])"
   ]
  },
  {
   "cell_type": "code",
   "execution_count": 100,
   "id": "d8de19aa-62c1-4892-9d21-0d67199b8cf8",
   "metadata": {},
   "outputs": [
    {
     "name": "stdout",
     "output_type": "stream",
     "text": [
      "799 ns ± 5.77 ns per loop (mean ± std. dev. of 7 runs, 1,000,000 loops each)\n"
     ]
    }
   ],
   "source": [
    "%timeit np.sin(x[0])"
   ]
  },
  {
   "cell_type": "markdown",
   "id": "28d5d3f4-c50d-4322-bf3f-3e8c4cf13cd0",
   "metadata": {},
   "source": [
    "`math.sin()` is ~5 times as fast as `np.sin()` when applied to a single value."
   ]
  },
  {
   "cell_type": "markdown",
   "id": "9989375d-6340-486a-b69a-b900e4248f8f",
   "metadata": {},
   "source": [
    "However, we loose part of this performance the moment we use a single `for` loop."
   ]
  },
  {
   "cell_type": "code",
   "execution_count": 101,
   "id": "1be4550f-38f7-44ba-8f32-80cae9d2e7b6",
   "metadata": {},
   "outputs": [
    {
     "name": "stdout",
     "output_type": "stream",
     "text": [
      "347 ns ± 0.47 ns per loop (mean ± std. dev. of 7 runs, 1,000,000 loops each)\n"
     ]
    }
   ],
   "source": [
    "%timeit for i in range(1): math.sin(x[i])"
   ]
  },
  {
   "cell_type": "code",
   "execution_count": 102,
   "id": "bcc5935d-6c48-4ccd-8cf7-8e77d9b87170",
   "metadata": {},
   "outputs": [
    {
     "name": "stdout",
     "output_type": "stream",
     "text": [
      "607 ns ± 5.38 ns per loop (mean ± std. dev. of 7 runs, 1,000,000 loops each)\n"
     ]
    }
   ],
   "source": [
    "%timeit np.sin(x[:1])"
   ]
  },
  {
   "cell_type": "markdown",
   "id": "b8bda154-bd2a-47a8-81e6-f6af45b0ebb5",
   "metadata": {},
   "source": [
    "In any case, even without `for` loops, `math.sin()` becomes slower than `np.sin()` the moment we need to compute more than four values."
   ]
  },
  {
   "cell_type": "code",
   "execution_count": 103,
   "id": "7d241b05-af0e-4975-82c5-c639bd2ca584",
   "metadata": {},
   "outputs": [
    {
     "name": "stdout",
     "output_type": "stream",
     "text": [
      "732 ns ± 7.94 ns per loop (mean ± std. dev. of 7 runs, 1,000,000 loops each)\n"
     ]
    }
   ],
   "source": [
    "%timeit math.sin(x[0]), math.sin(x[1]), math.sin(x[2]), math.sin(x[3])"
   ]
  },
  {
   "cell_type": "code",
   "execution_count": 104,
   "id": "eca44b31-af67-48f1-b29e-9ad6fc83adc9",
   "metadata": {},
   "outputs": [
    {
     "name": "stdout",
     "output_type": "stream",
     "text": [
      "638 ns ± 6.38 ns per loop (mean ± std. dev. of 7 runs, 1,000,000 loops each)\n"
     ]
    }
   ],
   "source": [
    "%timeit np.sin(x[:4])"
   ]
  },
  {
   "cell_type": "markdown",
   "id": "f77b3318-a859-4061-9b4f-2deeae3805d3",
   "metadata": {},
   "source": [
    "This is because `np.sin()` computes these values in parallel, while the `math.sin()` computes them sequentially."
   ]
  },
  {
   "cell_type": "markdown",
   "id": "5ac3fede-c6a6-4843-846c-b42299d9ed7c",
   "metadata": {},
   "source": [
    "### Different dtypes affect performance\n",
    "\n",
    "NumPy supports defines different data type (dtype) objects which describes how the bytes in the fixed-size block of memory corresponding to an array item should be interpreted. By default, NumPy will choose a proper dtype depending on the input passing to the constructor. However, we are free to change this default behaviour by specifying manually the dtype. As expected, and quickly demonstrated here using the `numpy_sin_pointwise()` function, this choice can also impact the performance of our stencil model."
   ]
  },
  {
   "cell_type": "code",
   "execution_count": 105,
   "id": "d8b8ac2d-6985-4bed-8fe4-6a58dced4605",
   "metadata": {},
   "outputs": [],
   "source": [
    "dtypes_ = [np.float16, np.float32, np.float64, np.float128]"
   ]
  },
  {
   "cell_type": "code",
   "execution_count": 106,
   "id": "511c5322-415b-42b5-9ba6-1a21ce467ff0",
   "metadata": {},
   "outputs": [
    {
     "name": "stdout",
     "output_type": "stream",
     "text": [
      "800 ms ± 7.31 ms per loop (mean ± std. dev. of 7 runs, 1 loop each)\n"
     ]
    }
   ],
   "source": [
    "%%timeit in_field = initialize_field(NX, NY, NZ, dtype=dtypes_[0]); out_field = np.zeros_like(in_field)\n",
    "out_field = numpy_sin_pointwise(in_field, out_field)"
   ]
  },
  {
   "cell_type": "code",
   "execution_count": 107,
   "id": "44125a7a-f1f4-446b-9124-5bfd17236873",
   "metadata": {},
   "outputs": [
    {
     "name": "stdout",
     "output_type": "stream",
     "text": [
      "101 ms ± 152 µs per loop (mean ± std. dev. of 7 runs, 10 loops each)\n"
     ]
    }
   ],
   "source": [
    "%%timeit in_field = initialize_field(NX, NY, NZ, dtype=dtypes_[1]); out_field = np.zeros_like(in_field)\n",
    "out_field = numpy_sin_pointwise(in_field, out_field)"
   ]
  },
  {
   "cell_type": "code",
   "execution_count": 108,
   "id": "a765c5ae-af68-4968-8629-02032ce28467",
   "metadata": {},
   "outputs": [
    {
     "name": "stdout",
     "output_type": "stream",
     "text": [
      "869 ms ± 6.88 ms per loop (mean ± std. dev. of 7 runs, 1 loop each)\n"
     ]
    }
   ],
   "source": [
    "%%timeit in_field = initialize_field(NX, NY, NZ, dtype=dtypes_[2]); out_field = np.zeros_like(in_field)\n",
    "out_field = numpy_sin_pointwise(in_field, out_field)"
   ]
  },
  {
   "cell_type": "code",
   "execution_count": 109,
   "id": "1b47adf2-afbe-4f56-8035-674f034ab5ef",
   "metadata": {},
   "outputs": [
    {
     "name": "stdout",
     "output_type": "stream",
     "text": [
      "2.27 s ± 8.77 ms per loop (mean ± std. dev. of 7 runs, 1 loop each)\n"
     ]
    }
   ],
   "source": [
    "%%timeit in_field = initialize_field(NX, NY, NZ, dtype=dtypes_[3]); out_field = np.zeros_like(in_field)\n",
    "out_field = numpy_sin_pointwise(in_field, out_field)"
   ]
  },
  {
   "cell_type": "markdown",
   "id": "2e9f07df-249b-437f-9f67-b7877f894f1e",
   "metadata": {},
   "source": [
    "This result is hardware specific. The reason why in this particular case we see that `np.float16` is much worse than `np.float32` or even `np.float64` is probably because the CPU does not natively support half precision floating point arithmetic, and therefore is doing all the operations via software, which is slower than what the floating-point unit (FPU) can do when dealing with single or double precision."
   ]
  },
  {
   "cell_type": "markdown",
   "id": "ad66ca8e-e493-4618-b445-b467f1195600",
   "metadata": {},
   "source": [
    "### L3 cache size from pointwise stencil using NumPy arrays <a name=\"appendix-L3\"></a>\n",
    "\n",
    "Here we explore if we can estimate the size of the CPU cache by checking the performance of copying NumPy arrays of different sizes. We will reuse the function `numpy_pointwise()` already defined above."
   ]
  },
  {
   "cell_type": "code",
   "execution_count": 110,
   "id": "730e9016-3535-47ac-a7aa-4548e3d386b5",
   "metadata": {
    "tags": []
   },
   "outputs": [],
   "source": [
    "dim_sizes = []\n",
    "times = []\n",
    "dim_size = 130"
   ]
  },
  {
   "cell_type": "code",
   "execution_count": 111,
   "id": "6f9deb8b-6f71-4833-99c3-65278ecfa8e3",
   "metadata": {
    "tags": []
   },
   "outputs": [
    {
     "name": "stdout",
     "output_type": "stream",
     "text": [
      "42.8 µs ± 264 ns per loop (mean ± std. dev. of 7 runs, 10,000 loops each)\n"
     ]
    },
    {
     "data": {
      "text/plain": [
       "<TimeitResult : 42.8 µs ± 264 ns per loop (mean ± std. dev. of 7 runs, 10,000 loops each)>"
      ]
     },
     "execution_count": 111,
     "metadata": {},
     "output_type": "execute_result"
    }
   ],
   "source": [
    "%%timeit -o in_field = initialize_field(dim_size, dim_size, dim_size); out_field = np.zeros_like(in_field)\n",
    "out_field = numpy_pointwise(in_field, out_field)"
   ]
  },
  {
   "cell_type": "code",
   "execution_count": 112,
   "id": "1873f8a5-f77c-499c-9261-db2156c2e1f8",
   "metadata": {
    "tags": []
   },
   "outputs": [],
   "source": [
    "r = _\n",
    "dim_sizes.append(dim_size)\n",
    "times.append(r.average)\n",
    "\n",
    "dim_size = 140"
   ]
  },
  {
   "cell_type": "code",
   "execution_count": 113,
   "id": "f0ea7ae4-a934-4465-8865-a4ef187d9b49",
   "metadata": {
    "tags": []
   },
   "outputs": [
    {
     "name": "stdout",
     "output_type": "stream",
     "text": [
      "47 µs ± 148 ns per loop (mean ± std. dev. of 7 runs, 10,000 loops each)\n"
     ]
    },
    {
     "data": {
      "text/plain": [
       "<TimeitResult : 47 µs ± 148 ns per loop (mean ± std. dev. of 7 runs, 10,000 loops each)>"
      ]
     },
     "execution_count": 113,
     "metadata": {},
     "output_type": "execute_result"
    }
   ],
   "source": [
    "%%timeit -o in_field = initialize_field(dim_size, dim_size, dim_size); out_field = np.zeros_like(in_field)\n",
    "out_field = numpy_pointwise(in_field, out_field)"
   ]
  },
  {
   "cell_type": "code",
   "execution_count": 114,
   "id": "30af0215-dbd9-40ea-9671-a8accf679a76",
   "metadata": {
    "tags": []
   },
   "outputs": [],
   "source": [
    "r = _\n",
    "dim_sizes.append(dim_size)\n",
    "times.append(r.average)\n",
    "\n",
    "dim_size = 150"
   ]
  },
  {
   "cell_type": "code",
   "execution_count": 115,
   "id": "ea5f9561-e3ea-44f9-a113-f0d5237f8c05",
   "metadata": {
    "tags": []
   },
   "outputs": [
    {
     "name": "stdout",
     "output_type": "stream",
     "text": [
      "48 µs ± 243 ns per loop (mean ± std. dev. of 7 runs, 10,000 loops each)\n"
     ]
    },
    {
     "data": {
      "text/plain": [
       "<TimeitResult : 48 µs ± 243 ns per loop (mean ± std. dev. of 7 runs, 10,000 loops each)>"
      ]
     },
     "execution_count": 115,
     "metadata": {},
     "output_type": "execute_result"
    }
   ],
   "source": [
    "%%timeit -o in_field = initialize_field(dim_size, dim_size, dim_size); out_field = np.zeros_like(in_field)\n",
    "out_field = numpy_pointwise(in_field, out_field)"
   ]
  },
  {
   "cell_type": "code",
   "execution_count": 116,
   "id": "f39a7134-d112-4d8b-b79e-49cd11789021",
   "metadata": {
    "tags": []
   },
   "outputs": [],
   "source": [
    "r = _\n",
    "dim_sizes.append(dim_size)\n",
    "times.append(r.average)\n",
    "\n",
    "dim_size = 154"
   ]
  },
  {
   "cell_type": "code",
   "execution_count": 117,
   "id": "46aaa5be-4bd7-4278-895b-f5c3b73b6782",
   "metadata": {
    "tags": []
   },
   "outputs": [
    {
     "name": "stdout",
     "output_type": "stream",
     "text": [
      "49 µs ± 324 ns per loop (mean ± std. dev. of 7 runs, 10,000 loops each)\n"
     ]
    },
    {
     "data": {
      "text/plain": [
       "<TimeitResult : 49 µs ± 324 ns per loop (mean ± std. dev. of 7 runs, 10,000 loops each)>"
      ]
     },
     "execution_count": 117,
     "metadata": {},
     "output_type": "execute_result"
    }
   ],
   "source": [
    "%%timeit -o in_field = initialize_field(dim_size, dim_size, dim_size); out_field = np.zeros_like(in_field)\n",
    "out_field = numpy_pointwise(in_field, out_field)"
   ]
  },
  {
   "cell_type": "code",
   "execution_count": 118,
   "id": "596c621e-c6a5-47e2-9561-4a7ce7e0ae7d",
   "metadata": {
    "tags": []
   },
   "outputs": [],
   "source": [
    "r = _\n",
    "dim_sizes.append(dim_size)\n",
    "times.append(r.average)\n",
    "\n",
    "dim_size = 158"
   ]
  },
  {
   "cell_type": "code",
   "execution_count": 119,
   "id": "8cd08d3a-4cf0-4bbb-8fbe-70bdd46f7a62",
   "metadata": {
    "tags": []
   },
   "outputs": [
    {
     "name": "stdout",
     "output_type": "stream",
     "text": [
      "202 µs ± 1.06 µs per loop (mean ± std. dev. of 7 runs, 1,000 loops each)\n"
     ]
    },
    {
     "data": {
      "text/plain": [
       "<TimeitResult : 202 µs ± 1.06 µs per loop (mean ± std. dev. of 7 runs, 1,000 loops each)>"
      ]
     },
     "execution_count": 119,
     "metadata": {},
     "output_type": "execute_result"
    }
   ],
   "source": [
    "%%timeit -o in_field = initialize_field(dim_size, dim_size, dim_size); out_field = np.zeros_like(in_field)\n",
    "out_field = numpy_pointwise(in_field, out_field)"
   ]
  },
  {
   "cell_type": "code",
   "execution_count": 120,
   "id": "60f1c11e-7d22-4063-850c-3f8c1f4636aa",
   "metadata": {
    "tags": []
   },
   "outputs": [],
   "source": [
    "r = _\n",
    "dim_sizes.append(dim_size)\n",
    "times.append(r.average)\n",
    "\n",
    "dim_size = 160"
   ]
  },
  {
   "cell_type": "code",
   "execution_count": 121,
   "id": "9c33d7ce-73e7-4500-be95-f40bd8c0d0fc",
   "metadata": {
    "tags": []
   },
   "outputs": [
    {
     "name": "stdout",
     "output_type": "stream",
     "text": [
      "207 µs ± 168 ns per loop (mean ± std. dev. of 7 runs, 1,000 loops each)\n"
     ]
    },
    {
     "data": {
      "text/plain": [
       "<TimeitResult : 207 µs ± 168 ns per loop (mean ± std. dev. of 7 runs, 1,000 loops each)>"
      ]
     },
     "execution_count": 121,
     "metadata": {},
     "output_type": "execute_result"
    }
   ],
   "source": [
    "%%timeit -o in_field = initialize_field(dim_size, dim_size, dim_size); out_field = np.zeros_like(in_field)\n",
    "out_field = numpy_pointwise(in_field, out_field)"
   ]
  },
  {
   "cell_type": "code",
   "execution_count": 122,
   "id": "64918fee-5cff-445f-8a9a-c9de05b15286",
   "metadata": {
    "tags": []
   },
   "outputs": [],
   "source": [
    "r = _\n",
    "dim_sizes.append(dim_size)\n",
    "times.append(r.average)\n",
    "\n",
    "dim_size = 162"
   ]
  },
  {
   "cell_type": "code",
   "execution_count": 123,
   "id": "18f474a5-5f61-4bdd-93c4-b09c465a546a",
   "metadata": {
    "tags": []
   },
   "outputs": [
    {
     "name": "stdout",
     "output_type": "stream",
     "text": [
      "215 µs ± 1.49 µs per loop (mean ± std. dev. of 7 runs, 1,000 loops each)\n"
     ]
    },
    {
     "data": {
      "text/plain": [
       "<TimeitResult : 215 µs ± 1.49 µs per loop (mean ± std. dev. of 7 runs, 1,000 loops each)>"
      ]
     },
     "execution_count": 123,
     "metadata": {},
     "output_type": "execute_result"
    }
   ],
   "source": [
    "%%timeit -o in_field = initialize_field(dim_size, dim_size, dim_size); out_field = np.zeros_like(in_field)\n",
    "out_field = numpy_pointwise(in_field, out_field)"
   ]
  },
  {
   "cell_type": "code",
   "execution_count": 124,
   "id": "27117619-b504-4a55-8d35-16b967aa161f",
   "metadata": {
    "tags": []
   },
   "outputs": [],
   "source": [
    "r = _\n",
    "dim_sizes.append(dim_size)\n",
    "times.append(r.average)\n",
    "\n",
    "dim_size = 164"
   ]
  },
  {
   "cell_type": "code",
   "execution_count": 125,
   "id": "58ea0965-342a-4b65-a054-b1fae0f9e071",
   "metadata": {
    "tags": []
   },
   "outputs": [
    {
     "name": "stdout",
     "output_type": "stream",
     "text": [
      "219 µs ± 241 ns per loop (mean ± std. dev. of 7 runs, 1,000 loops each)\n"
     ]
    },
    {
     "data": {
      "text/plain": [
       "<TimeitResult : 219 µs ± 241 ns per loop (mean ± std. dev. of 7 runs, 1,000 loops each)>"
      ]
     },
     "execution_count": 125,
     "metadata": {},
     "output_type": "execute_result"
    }
   ],
   "source": [
    "%%timeit -o in_field = initialize_field(dim_size, dim_size, dim_size); out_field = np.zeros_like(in_field)\n",
    "out_field = numpy_pointwise(in_field, out_field)"
   ]
  },
  {
   "cell_type": "code",
   "execution_count": 126,
   "id": "f3e0733d-a38b-43c6-860d-57ebc861c72a",
   "metadata": {
    "tags": []
   },
   "outputs": [],
   "source": [
    "r = _\n",
    "dim_sizes.append(dim_size)\n",
    "times.append(r.average)\n",
    "\n",
    "dim_size = 166"
   ]
  },
  {
   "cell_type": "code",
   "execution_count": 127,
   "id": "ca9dc96e-e3f9-4a13-855a-97ee19cff6fe",
   "metadata": {},
   "outputs": [
    {
     "name": "stdout",
     "output_type": "stream",
     "text": [
      "225 µs ± 654 ns per loop (mean ± std. dev. of 7 runs, 1,000 loops each)\n"
     ]
    },
    {
     "data": {
      "text/plain": [
       "<TimeitResult : 225 µs ± 654 ns per loop (mean ± std. dev. of 7 runs, 1,000 loops each)>"
      ]
     },
     "execution_count": 127,
     "metadata": {},
     "output_type": "execute_result"
    }
   ],
   "source": [
    "%%timeit -o in_field = initialize_field(dim_size, dim_size, dim_size); out_field = np.zeros_like(in_field)\n",
    "out_field = numpy_pointwise(in_field, out_field)"
   ]
  },
  {
   "cell_type": "code",
   "execution_count": 128,
   "id": "57bd3253-402c-49ea-af86-98e227750568",
   "metadata": {},
   "outputs": [],
   "source": [
    "r = _\n",
    "dim_sizes.append(dim_size)\n",
    "times.append(r.average)\n",
    "\n",
    "dim_size = 168"
   ]
  },
  {
   "cell_type": "code",
   "execution_count": 129,
   "id": "21d02975-73b5-4129-9f51-7a777e1703ed",
   "metadata": {},
   "outputs": [
    {
     "name": "stdout",
     "output_type": "stream",
     "text": [
      "2.02 ms ± 12.5 µs per loop (mean ± std. dev. of 7 runs, 100 loops each)\n"
     ]
    },
    {
     "data": {
      "text/plain": [
       "<TimeitResult : 2.02 ms ± 12.5 µs per loop (mean ± std. dev. of 7 runs, 100 loops each)>"
      ]
     },
     "execution_count": 129,
     "metadata": {},
     "output_type": "execute_result"
    }
   ],
   "source": [
    "%%timeit -o in_field = initialize_field(dim_size, dim_size, dim_size); out_field = np.zeros_like(in_field)\n",
    "out_field = numpy_pointwise(in_field, out_field)"
   ]
  },
  {
   "cell_type": "code",
   "execution_count": 130,
   "id": "1bad9653-7ac1-46d2-86ff-ee8e04ac4f7d",
   "metadata": {},
   "outputs": [],
   "source": [
    "r = _\n",
    "dim_sizes.append(dim_size)\n",
    "times.append(r.average)\n",
    "\n",
    "dim_size = 170"
   ]
  },
  {
   "cell_type": "code",
   "execution_count": 131,
   "id": "1984daf8-ea2d-4b43-94d7-8bd1b0434139",
   "metadata": {},
   "outputs": [
    {
     "name": "stdout",
     "output_type": "stream",
     "text": [
      "204 ms ± 243 µs per loop (mean ± std. dev. of 7 runs, 1 loop each)\n"
     ]
    },
    {
     "data": {
      "text/plain": [
       "<TimeitResult : 204 ms ± 243 µs per loop (mean ± std. dev. of 7 runs, 1 loop each)>"
      ]
     },
     "execution_count": 131,
     "metadata": {},
     "output_type": "execute_result"
    }
   ],
   "source": [
    "%%timeit -o in_field = initialize_field(dim_size, dim_size, dim_size); out_field = np.zeros_like(in_field)\n",
    "out_field = numpy_pointwise(in_field, out_field)"
   ]
  },
  {
   "cell_type": "code",
   "execution_count": 132,
   "id": "6e186e49-2a8a-4872-a832-fc72f966925e",
   "metadata": {},
   "outputs": [],
   "source": [
    "r = _\n",
    "dim_sizes.append(dim_size)\n",
    "times.append(r.average)\n",
    "\n",
    "dim_size = 180"
   ]
  },
  {
   "cell_type": "code",
   "execution_count": 133,
   "id": "dc02c016-0c46-4c0c-8df0-2d3d267092b4",
   "metadata": {},
   "outputs": [
    {
     "name": "stdout",
     "output_type": "stream",
     "text": [
      "239 ms ± 3.31 ms per loop (mean ± std. dev. of 7 runs, 1 loop each)\n"
     ]
    },
    {
     "data": {
      "text/plain": [
       "<TimeitResult : 239 ms ± 3.31 ms per loop (mean ± std. dev. of 7 runs, 1 loop each)>"
      ]
     },
     "execution_count": 133,
     "metadata": {},
     "output_type": "execute_result"
    }
   ],
   "source": [
    "%%timeit -o in_field = initialize_field(dim_size, dim_size, dim_size); out_field = np.zeros_like(in_field)\n",
    "out_field = numpy_pointwise(in_field, out_field)"
   ]
  },
  {
   "cell_type": "code",
   "execution_count": 134,
   "id": "b58a00dc-8417-4da4-bd19-df9ddade1b80",
   "metadata": {},
   "outputs": [],
   "source": [
    "r = _\n",
    "dim_sizes.append(dim_size)\n",
    "times.append(r.average)\n",
    "\n",
    "dim_size = 190"
   ]
  },
  {
   "cell_type": "code",
   "execution_count": 135,
   "id": "df307012-127a-43c2-a148-03840d241228",
   "metadata": {},
   "outputs": [
    {
     "name": "stdout",
     "output_type": "stream",
     "text": [
      "276 ms ± 412 µs per loop (mean ± std. dev. of 7 runs, 1 loop each)\n"
     ]
    },
    {
     "data": {
      "text/plain": [
       "<TimeitResult : 276 ms ± 412 µs per loop (mean ± std. dev. of 7 runs, 1 loop each)>"
      ]
     },
     "execution_count": 135,
     "metadata": {},
     "output_type": "execute_result"
    }
   ],
   "source": [
    "%%timeit -o in_field = initialize_field(dim_size, dim_size, dim_size); out_field = np.zeros_like(in_field)\n",
    "out_field = numpy_pointwise(in_field, out_field)"
   ]
  },
  {
   "cell_type": "code",
   "execution_count": 136,
   "id": "d06a5e8c-737f-4765-83bd-1340d0cf4b45",
   "metadata": {},
   "outputs": [],
   "source": [
    "r = _\n",
    "dim_sizes.append(dim_size)\n",
    "times.append(r.average)"
   ]
  },
  {
   "cell_type": "code",
   "execution_count": 137,
   "id": "f0c88916-a2d0-4b29-ab4d-ad0f928cc95b",
   "metadata": {},
   "outputs": [
    {
     "data": {
      "image/png": "[encoded data removed]",
      "text/plain": [
       "<Figure size 700x500 with 1 Axes>"
      ]
     },
     "metadata": {
      "needs_background": "light"
     },
     "output_type": "display_data"
    }
   ],
   "source": [
    "import matplotlib.pyplot as plt\n",
    "\n",
    "theoretical_limit = math.floor((30720 * 1024 / 8)**(1/3))\n",
    "\n",
    "plt.figure(figsize=(7, 5), dpi=100)\n",
    "#plt.semilogy([theoretical_limit, theoretical_limit], [1e-5, 10], \"k-.\", alpha=0.5)\n",
    "plt.semilogy(dim_sizes, times)\n",
    "plt.ylim([1e-5, 1])\n",
    "plt.xlabel(\"dim_size\")\n",
    "plt.ylabel(\"time (s)\");\n",
    "#plt.savefig(\"plots/time_vs_dim_size.png\", dpi=300, bbox_inches=\"tight\")\n",
    "#plt.savefig(\"plots/time_vs_dim_size.eps\", dpi=300, bbox_inches=\"tight\")"
   ]
  },
  {
   "cell_type": "markdown",
   "id": "0df15d1f-0513-41ad-b8a7-236f0a261839",
   "metadata": {},
   "source": [
    "We see little difference in performance until the size of the dimension is larger than 155. Later, there there is a huge increase (3 orders of magnitude!) when size of the dimension becomes larger 168. Knowing that the NumPy data buffer has size $\\text{itemsize}\\times \\text{dim_size}^3$, we can guess that the L3 cache of the CPU where we are running this code is somewhere in between"
   ]
  },
  {
   "cell_type": "code",
   "execution_count": 138,
   "id": "4e1b3b33-b2f6-4c76-a146-c00f14be5f80",
   "metadata": {},
   "outputs": [
    {
     "name": "stdout",
     "output_type": "stream",
     "text": [
      "Lower bound L3 cache: 29093 kB\n",
      "Lower bound L3 cache: 37044 kB\n"
     ]
    }
   ],
   "source": [
    "L3_lower_bound = 8 * 155**3\n",
    "L3_upper_bound = 8 * 168**3\n",
    "print(f\"Lower bound L3 cache: {L3_lower_bound / 1024:.0f} kB\")\n",
    "print(f\"Lower bound L3 cache: {L3_upper_bound / 1024:.0f} kB\")"
   ]
  },
  {
   "cell_type": "code",
   "execution_count": 139,
   "id": "6594f39c-803f-424a-a296-14cb7e089194",
   "metadata": {},
   "outputs": [
    {
     "name": "stdout",
     "output_type": "stream",
     "text": [
      "L3 cache:            30720K\n"
     ]
    }
   ],
   "source": [
    "!lscpu | grep L3"
   ]
  },
  {
   "cell_type": "markdown",
   "id": "43e57b58-0974-4f5f-9bae-6997f56c85bd",
   "metadata": {},
   "source": [
    "Theoretically, we can also find a formula for the `dim_size` we expect to see a performance hit for arbitrary L3 cache sizes\n",
    "\n",
    "$$\n",
    "\\text{dim_size} \\leq \\bigg\\lfloor \\sqrt[3]{\\frac{\\text{cache_size}}{8}}\\bigg\\rfloor\n",
    "$$"
   ]
  }
 ],
 "metadata": {
  "kernelspec": {
   "display_name": "HPC4WC_project12_kernel",
   "language": "python",
   "name": "hpc4wc_project12_kernel"
  },
  "language_info": {
   "codemirror_mode": {
    "name": "ipython",
    "version": 3
   },
   "file_extension": ".py",
   "mimetype": "text/x-python",
   "name": "python",
   "nbconvert_exporter": "python",
   "pygments_lexer": "ipython3",
   "version": "3.9.4"
  }
 },
 "nbformat": 4,
 "nbformat_minor": 5
}
