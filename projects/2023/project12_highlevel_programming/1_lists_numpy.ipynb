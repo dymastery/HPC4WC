{
 "cells": [
  {
   "cell_type": "markdown",
   "id": "c24f2f76-c257-465b-9009-94e831362cd5",
   "metadata": {},
   "source": [
    "This notebok benchmarks different simple stencils (pointwise, 1D, etc.) using pure python code (lists), numpy arrays keeping `for` loops, and numpy parallel code."
   ]
  },
  {
   "cell_type": "code",
   "execution_count": null,
   "id": "29a838a8-c1a9-4cd3-a586-74937c12be70",
   "metadata": {},
   "outputs": [],
   "source": [
    "import math\n",
    "import timeit\n",
    "import numpy as np"
   ]
  },
  {
   "cell_type": "code",
   "execution_count": null,
   "id": "9b847e0f-cd8d-42b6-abc8-ec40f8afe855",
   "metadata": {},
   "outputs": [],
   "source": [
    "from common import initialize_field, plot_field, save_result"
   ]
  },
  {
   "cell_type": "code",
   "execution_count": null,
   "id": "eb102997-3577-4c61-9efc-8cb88796775f",
   "metadata": {},
   "outputs": [],
   "source": [
    "NX = 128\n",
    "NY = 128\n",
    "NZ = 80\n",
    "N_ITER = 50"
   ]
  },
  {
   "cell_type": "markdown",
   "id": "94de7da0-929b-4acc-be34-14ed9ff40e31",
   "metadata": {},
   "source": [
    "# Pointwise stencils\n",
    "\n",
    "We consider two pointwise stencil models: a simple copy, and applying the `sin` function.\n",
    "\n",
    "$$\n",
    "a(i) = b(i)\n",
    "$$\n",
    "\n",
    "$$\n",
    "a(i) = \\sin(b(i))\n",
    "$$"
   ]
  },
  {
   "cell_type": "markdown",
   "id": "64286139-525f-4137-8a4e-456486d5beea",
   "metadata": {},
   "source": [
    "### Nested lists and `for` loops"
   ]
  },
  {
   "cell_type": "code",
   "execution_count": null,
   "id": "7a4cd203-0c69-4c9a-beda-e3a78484c742",
   "metadata": {},
   "outputs": [],
   "source": [
    "def list_pointwise(in_field, out_field):\n",
    "    for n in range(N_ITER):\n",
    "        for k in range(NZ):\n",
    "            for j in range(NY):\n",
    "                for i in range(NX):\n",
    "                    out_field[k][j][i] = in_field[k][j][i]\n",
    "        if n < N_ITER - 1:\n",
    "            in_field, out_field = out_field, in_field"
   ]
  },
  {
   "cell_type": "code",
   "execution_count": null,
   "id": "a2e910c0-bff1-4c12-879b-483ece435f13",
   "metadata": {},
   "outputs": [],
   "source": [
    "in_field = initialize_field(NX, NY, NZ, mode=\"random\")\n",
    "# We initialized out_field as zeros to verify later the copy was done correctly\n",
    "out_field = np.zeros_like(in_field).tolist()\n",
    "in_field = in_field.tolist()\n",
    "list_pointwise(in_field, out_field)\n",
    "plot_field(out_field)"
   ]
  },
  {
   "cell_type": "markdown",
   "id": "cbb2aa51-b271-40e1-9ae5-a6e4c84fa835",
   "metadata": {},
   "source": [
    "Before running the first benchmark, let's have a look at how Python lists are stored in memory."
   ]
  },
  {
   "cell_type": "markdown",
   "id": "a486aeb1-7075-46ee-9b2b-8351d1a85cd1",
   "metadata": {},
   "source": [
    "Python lists are quite big objects. Under the hood, the CPython implementation of the list object is a vector of pointers, so each element of a list is by itself a proper Python object and a pointer to it is what is stored in the list object. Essentially, after removing some comments, the implementation that can be found in [listobject.h](https://github.com/python/cpython/blob/main/Include/cpython/listobject.h) is the following:\n",
    "\n",
    "```C\n",
    "typedef struct {\n",
    "    PyObject_VAR_HEAD\n",
    "    PyObject **ob_item;\n",
    "    Py_ssize_t allocated;\n",
    "} PyListObject;\n",
    "```\n",
    "\n",
    "So our 3D fields are in fact a list containing 80 lists (dimension Z), each of these lists containing 128 lists (dimension Y), and finally each of these lists containing 128 floats. Python lists can be enlarge, reduced, and new elements can be inserted or deleted at arbitrary positions. All these make these objects extremely cache unfriendly. When accessing the field element (x,y,z) with `field[z][y][x]` a bunch of pointers have to be followed, and therefore the chances that subsequent values remain in the cache are minimal."
   ]
  },
  {
   "cell_type": "code",
   "execution_count": null,
   "id": "0b267336-1d54-4a1c-bbbc-8116a740ad29",
   "metadata": {},
   "outputs": [],
   "source": [
    "%%timeit -n1 -r3 in_field = initialize_field(NX, NY, NZ, mode=\"square\"); out_field = np.zeros_like(in_field).tolist(); in_field = in_field.tolist(); \n",
    "list_pointwise(in_field, out_field)"
   ]
  },
  {
   "cell_type": "code",
   "execution_count": null,
   "id": "9988461a-13b9-4cdb-a9b3-f297a7a53263",
   "metadata": {},
   "outputs": [],
   "source": [
    "result = _\n",
    "save_result(result, \"list_pointwise\")"
   ]
  },
  {
   "cell_type": "markdown",
   "id": "151f8a14-aaa0-48e4-8ed3-676303287b3b",
   "metadata": {},
   "source": [
    "Even though Python lists are not ideal to maximize cache hits, it is still expected to see a difference depending on the order of the `for` loops. Let's verify this trying all the possible permutations: ZYX (done above), XYZ, XZY, ZXY, YXZ, YZX."
   ]
  },
  {
   "cell_type": "code",
   "execution_count": null,
   "id": "0305991e-9e35-4da8-959b-ad797b0fb5b3",
   "metadata": {
    "jupyter": {
     "source_hidden": true
    },
    "tags": []
   },
   "outputs": [],
   "source": [
    "def list_pointwise_XYZ(in_field, out_field):\n",
    "    for n in range(N_ITER):\n",
    "        for i in range(NX):\n",
    "            for j in range(NY):\n",
    "                for k in range(NZ):\n",
    "                    out_field[k][j][i] = in_field[k][j][i]\n",
    "        if n < N_ITER - 1:\n",
    "            in_field, out_field = out_field, in_field\n",
    "\n",
    "def list_pointwise_XZY(in_field, out_field):\n",
    "    for n in range(N_ITER):\n",
    "        for i in range(NX):\n",
    "            for k in range(NZ):\n",
    "                for j in range(NY):\n",
    "                    out_field[k][j][i] = in_field[k][j][i]\n",
    "        if n < N_ITER - 1:\n",
    "            in_field, out_field = out_field, in_field\n",
    "\n",
    "def list_pointwise_ZXY(in_field, out_field):\n",
    "    for n in range(N_ITER):\n",
    "        for k in range(NZ):\n",
    "            for i in range(NX):\n",
    "                for j in range(NY):\n",
    "                    out_field[k][j][i] = in_field[k][j][i]\n",
    "        if n < N_ITER - 1:\n",
    "            in_field, out_field = out_field, in_field\n",
    "\n",
    "def list_pointwise_YXZ(in_field, out_field, plot=False):\n",
    "    for n in range(N_ITER):\n",
    "        for j in range(NY):\n",
    "            for i in range(NX):\n",
    "                for k in range(NZ):\n",
    "                    out_field[k][j][i] = in_field[k][j][i]\n",
    "        if n < N_ITER - 1:\n",
    "            in_field, out_field = out_field, in_field\n",
    "\n",
    "\n",
    "def list_pointwise_YZX(in_field, out_field):\n",
    "    for n in range(N_ITER):\n",
    "        for j in range(NY):\n",
    "            for k in range(NZ):\n",
    "                for i in range(NX):\n",
    "                    out_field[k][j][i] = in_field[k][j][i]\n",
    "        if n < N_ITER - 1:\n",
    "            in_field, out_field = out_field, in_field"
   ]
  },
  {
   "cell_type": "code",
   "execution_count": null,
   "id": "ab36e028-ec07-4c8a-ad13-bc720cb46f27",
   "metadata": {},
   "outputs": [],
   "source": [
    "%%timeit -n1 -r3 in_field = initialize_field(NX, NY, NZ, mode=\"square\"); out_field = np.zeros_like(in_field).tolist(); in_field = in_field.tolist(); \n",
    "list_pointwise_XYZ(in_field, out_field)"
   ]
  },
  {
   "cell_type": "code",
   "execution_count": null,
   "id": "13f71d3e-342f-407a-adbf-5882655202b9",
   "metadata": {},
   "outputs": [],
   "source": [
    "%%timeit -n1 -r3 in_field = initialize_field(NX, NY, NZ, mode=\"square\"); out_field = np.zeros_like(in_field).tolist(); in_field = in_field.tolist(); \n",
    "list_pointwise_XZY(in_field, out_field)"
   ]
  },
  {
   "cell_type": "code",
   "execution_count": null,
   "id": "0c352745-4626-4014-b893-0e06d2dbc0ea",
   "metadata": {},
   "outputs": [],
   "source": [
    "%%timeit -n1 -r3 in_field = initialize_field(NX, NY, NZ, mode=\"square\"); out_field = np.zeros_like(in_field).tolist(); in_field = in_field.tolist(); \n",
    "list_pointwise_ZXY(in_field, out_field)"
   ]
  },
  {
   "cell_type": "code",
   "execution_count": null,
   "id": "63e4fcd7-e798-43c7-8b6d-ba5daa5fa5ce",
   "metadata": {},
   "outputs": [],
   "source": [
    "%%timeit -n1 -r3 in_field = initialize_field(NX, NY, NZ, mode=\"square\"); out_field = np.zeros_like(in_field).tolist(); in_field = in_field.tolist(); \n",
    "list_pointwise_YXZ(in_field, out_field)"
   ]
  },
  {
   "cell_type": "code",
   "execution_count": null,
   "id": "dcb993a6-6da8-4520-ac25-64faa089a9a1",
   "metadata": {},
   "outputs": [],
   "source": [
    "%%timeit -n1 -r3 in_field = initialize_field(NX, NY, NZ, mode=\"square\"); out_field = np.zeros_like(in_field).tolist(); in_field = in_field.tolist(); \n",
    "list_pointwise_YZX(in_field, out_field)"
   ]
  },
  {
   "cell_type": "markdown",
   "id": "e141329d-a1a7-486f-ae47-0402a62f8313",
   "metadata": {},
   "source": [
    "Clearly, by looking at these times, with nested lists we should iterate in the same order as we have nested the lists, i.e., the first level should be looped the slowest, and the innermost level should be looped the fastest. The explanation for this is that to access the element `field[k][j][i+1]` the information (pointers) required to access the innermost list, i.e., `field[k][j]`, is already in the cache, while to get `field[i+1][j][k]` we have to follow a whole new path of pointers, which most likely are not in the cache if the list is large enough.\n",
    "\n",
    "Furthermore, we would expect that if the fields are initialized with the same order of the nested lists as the loop order, we should obtain similar performance. Let's check this for the cases XYZ and YZX."
   ]
  },
  {
   "cell_type": "code",
   "execution_count": null,
   "id": "c8dc3370-bc20-41e4-91ed-ee4290627b25",
   "metadata": {},
   "outputs": [],
   "source": [
    "def list_pointwise_XYZ_alt(in_field, out_field):\n",
    "    for n in range(N_ITER):\n",
    "        for i in range(NX):\n",
    "            for j in range(NY):\n",
    "                for k in range(NZ):\n",
    "                    out_field[i][j][k] = in_field[i][j][k]\n",
    "        if n < N_ITER - 1:\n",
    "            in_field, out_field = out_field, in_field\n",
    "\n",
    "def list_pointwise_YZX_alt(in_field, out_field):\n",
    "    for n in range(N_ITER):\n",
    "        for j in range(NY):\n",
    "            for k in range(NZ):\n",
    "                for i in range(NX):\n",
    "                    out_field[j][k][i] = in_field[j][k][i]\n",
    "        if n < N_ITER - 1:\n",
    "            in_field, out_field = out_field, in_field"
   ]
  },
  {
   "cell_type": "code",
   "execution_count": null,
   "id": "bc3dc992-5436-4aba-939b-ec59da584957",
   "metadata": {},
   "outputs": [],
   "source": [
    "%%timeit -n1 -r3 in_field = initialize_field(NX, NY, NZ, dim_order=\"XYZ\", mode=\"square\"); out_field = np.zeros_like(in_field).tolist(); in_field = in_field.tolist();\n",
    "list_pointwise_XYZ_alt(in_field, out_field)"
   ]
  },
  {
   "cell_type": "code",
   "execution_count": null,
   "id": "01fa43e8-33bc-43db-862c-bc6dd7eb117f",
   "metadata": {},
   "outputs": [],
   "source": [
    "%%timeit -n1 -r3 in_field = initialize_field(NX, NY, NZ, dim_order=\"YZX\", mode=\"square\"); out_field = np.zeros_like(in_field).tolist(); in_field = in_field.tolist();\n",
    "list_pointwise_YZX_alt(in_field, out_field)"
   ]
  },
  {
   "cell_type": "markdown",
   "id": "bd76cc83-914b-4569-b942-046cc6d4bc51",
   "metadata": {},
   "source": [
    "Similarly, we could replicate the worst results by using the opposite list structure to the loop order. Let's try this with the two best results from above: ZYX and and YZX."
   ]
  },
  {
   "cell_type": "code",
   "execution_count": null,
   "id": "04aed28a-3abb-403c-b135-4560d78ad9e9",
   "metadata": {},
   "outputs": [],
   "source": [
    "def list_pointwise_ZYX_alt(in_field, out_field):\n",
    "    for n in range(N_ITER):\n",
    "        for k in range(NZ):\n",
    "            for j in range(NY):\n",
    "                for i in range(NX):\n",
    "                    out_field[i][j][k] = in_field[i][j][k]\n",
    "        if n < N_ITER - 1:\n",
    "            in_field, out_field = out_field, in_field\n",
    "\n",
    "def list_pointwise_YZX_alt(in_field, out_field):\n",
    "    for n in range(N_ITER):\n",
    "        for j in range(NY):\n",
    "            for k in range(NZ):\n",
    "                for i in range(NX):\n",
    "                    out_field[i][k][j] = in_field[i][k][j]\n",
    "        if n < N_ITER - 1:\n",
    "            in_field, out_field = out_field, in_field"
   ]
  },
  {
   "cell_type": "code",
   "execution_count": null,
   "id": "e963498c-d747-451e-9d6d-664c3a8d6f04",
   "metadata": {},
   "outputs": [],
   "source": [
    "%%timeit -n1 -r3 in_field = initialize_field(NX, NY, NZ, dim_order=\"XYZ\", mode=\"square\"); out_field = np.zeros_like(in_field).tolist(); in_field = in_field.tolist();\n",
    "list_pointwise_ZYX_alt(in_field, out_field)"
   ]
  },
  {
   "cell_type": "code",
   "execution_count": null,
   "id": "162bea93-cc30-4d92-b6b7-1562c7d05951",
   "metadata": {},
   "outputs": [],
   "source": [
    "%%timeit -n1 -r3 in_field = initialize_field(NX, NY, NZ, dim_order=\"XZY\", mode=\"square\"); out_field = np.zeros_like(in_field).tolist(); in_field = in_field.tolist();\n",
    "list_pointwise_YZX_alt(in_field, out_field)"
   ]
  },
  {
   "cell_type": "markdown",
   "id": "896dc307-cd0e-4ba4-81e4-30e9f0b6fcc5",
   "metadata": {},
   "source": [
    "All these results confirm our previous explanation."
   ]
  },
  {
   "cell_type": "markdown",
   "id": "e5538ee4-c589-418f-a2e1-2d9e299b1f0b",
   "metadata": {},
   "source": [
    "Let's now check the other simple pointwise stencil computation. In this case, instead of just copying all the values, we will compute the sine of each gridpoint."
   ]
  },
  {
   "cell_type": "code",
   "execution_count": null,
   "id": "54e25f42-622e-4503-9167-52e7b0ffdb38",
   "metadata": {},
   "outputs": [],
   "source": [
    "def list_sin_pointwise(in_field, out_field):\n",
    "    for n in range(N_ITER):\n",
    "        for k in range(NZ):\n",
    "            for j in range(NY):\n",
    "                for i in range(NX):\n",
    "                    # numpy.sin() is ~7 times slower than math.sin() when applied to single values\n",
    "                    # Check Appendix for more details about this.\n",
    "                    out_field[k][j][i] = math.sin(in_field[k][j][i])\n",
    "        if n < N_ITER - 1:\n",
    "            in_field, out_field = out_field, in_field"
   ]
  },
  {
   "cell_type": "code",
   "execution_count": null,
   "id": "c5a653f3-c1e9-4524-a142-62fec2a9cab2",
   "metadata": {},
   "outputs": [],
   "source": [
    "%%timeit -n1 -r3 in_field = initialize_field(NX, NY, NZ, mode=\"square\"); out_field = np.zeros_like(in_field).tolist(); in_field = in_field.tolist(); \n",
    "list_sin_pointwise(in_field, out_field)"
   ]
  },
  {
   "cell_type": "markdown",
   "id": "1d244687-fd0f-4e04-adf4-6aacc75d9b42",
   "metadata": {},
   "source": [
    "### NumPy arrays and `for` loops"
   ]
  },
  {
   "cell_type": "markdown",
   "id": "c2c1d43b-2ad3-4b49-8bb7-9e136ae938ab",
   "metadata": {},
   "source": [
    "The following code will show the worst we can do when trying to work with NumPy arrays. Surprisingly, as we will see in [the Numba notebook](./2_numba.ipynb), this way of working with NumPy arrays is neccesary when working with certain accelerators."
   ]
  },
  {
   "cell_type": "code",
   "execution_count": null,
   "id": "56bfe1bc-b415-42a5-ae0e-a33c5447f399",
   "metadata": {},
   "outputs": [],
   "source": [
    "def array_pointwise(in_field):\n",
    "    out_field = np.empty_like(in_field)\n",
    "    for n in range(N_ITER):\n",
    "        for k in range(NZ):\n",
    "            for j in range(NY):\n",
    "                for i in range(NX):\n",
    "                    out_field[k, j, i] = in_field[k, j, i]\n",
    "        if n < N_ITER - 1:\n",
    "            in_field, out_field = out_field, in_field\n",
    "    return out_field"
   ]
  },
  {
   "cell_type": "code",
   "execution_count": null,
   "id": "b835c6de-e05e-48bf-94bf-e8c758aee8ec",
   "metadata": {},
   "outputs": [],
   "source": [
    "in_field = initialize_field(NX, NY, NZ, mode=\"random\")\n",
    "out_field = np.zeros_like(in_field)\n",
    "out_field = array_pointwise(in_field)\n",
    "plot_field(out_field)"
   ]
  },
  {
   "cell_type": "code",
   "execution_count": null,
   "id": "bb22c682-d182-4643-936d-42e8ae0d9c0f",
   "metadata": {},
   "outputs": [],
   "source": [
    "%%timeit -n1 -r3 in_field = initialize_field(NX, NY, NZ, mode=\"square\")\n",
    "out_field = array_pointwise(in_field)"
   ]
  },
  {
   "cell_type": "markdown",
   "id": "428d19c1-ec6d-4bf2-8805-d1af3b817eab",
   "metadata": {},
   "source": [
    "However, it is still interesting to try all the possible permutations of the `for` loops. Hopefully, this will give us some hints to how NumPy arrays are stored in memory."
   ]
  },
  {
   "cell_type": "code",
   "execution_count": null,
   "id": "27b60092-4f35-48b5-9043-ca08c77a667e",
   "metadata": {
    "jupyter": {
     "source_hidden": true
    },
    "tags": []
   },
   "outputs": [],
   "source": [
    "def array_pointwise_ZYX(in_field):\n",
    "    out_field = np.empty_like(in_field)\n",
    "    for n in range(N_ITER):\n",
    "        for k in range(NZ):\n",
    "            for j in range(NY):\n",
    "                for i in range(NX):\n",
    "                    out_field[k, j, i] = in_field[k, j, i]\n",
    "        if n < N_ITER - 1:\n",
    "            in_field, out_field = out_field, in_field\n",
    "    return out_field\n",
    "\n",
    "def array_pointwise_XYZ(in_field):\n",
    "    out_field = np.empty_like(in_field)\n",
    "    for n in range(N_ITER):\n",
    "        for i in range(NX):\n",
    "            for j in range(NY):\n",
    "                for k in range(NZ):\n",
    "                    out_field[k, j, i] = in_field[k, j, i]\n",
    "        if n < N_ITER - 1:\n",
    "            in_field, out_field = out_field, in_field\n",
    "    return out_field\n",
    "\n",
    "def array_pointwise_XZY(in_field):\n",
    "    out_field = np.empty_like(in_field)\n",
    "    for n in range(N_ITER):\n",
    "        for i in range(NX):\n",
    "            for k in range(NZ):\n",
    "                for j in range(NY):\n",
    "                    out_field[k, j, i] = in_field[k, j, i]\n",
    "        if n < N_ITER - 1:\n",
    "            in_field, out_field = out_field, in_field\n",
    "    return out_field\n",
    "            \n",
    "def array_pointwise_ZXY(in_field):\n",
    "    out_field = np.empty_like(in_field)\n",
    "    for n in range(N_ITER):\n",
    "        for k in range(NZ):\n",
    "            for i in range(NX):\n",
    "                for j in range(NY):\n",
    "                    out_field[k, j, i] = in_field[k, j, i]\n",
    "        if n < N_ITER - 1:\n",
    "            in_field, out_field = out_field, in_field\n",
    "    return out_field\n",
    "            \n",
    "def array_pointwise_YXZ(in_field):\n",
    "    out_field = np.empty_like(in_field)\n",
    "    for n in range(N_ITER):\n",
    "        for j in range(NY):\n",
    "            for i in range(NX):\n",
    "                for k in range(NZ):\n",
    "                    out_field[k, j, i] = in_field[k, j, i]\n",
    "        if n < N_ITER - 1:\n",
    "            in_field, out_field = out_field, in_field\n",
    "    return out_field\n",
    "\n",
    "def array_pointwise_YZX(in_field):\n",
    "    out_field = np.empty_like(in_field)\n",
    "    for n in range(N_ITER):\n",
    "        for j in range(NY):\n",
    "            for k in range(NZ):\n",
    "                for i in range(NX):\n",
    "                    out_field[k, j, i] = in_field[k, j, i]\n",
    "        if n < N_ITER - 1:\n",
    "            in_field, out_field = out_field, in_field\n",
    "    return out_field"
   ]
  },
  {
   "cell_type": "code",
   "execution_count": null,
   "id": "9b93fd07-0aef-4d52-b934-b4829be272fd",
   "metadata": {},
   "outputs": [],
   "source": [
    "%%timeit -n1 -r3 in_field = initialize_field(NX, NY, NZ, mode=\"square\")\n",
    "out_field = array_pointwise_ZYX(in_field)"
   ]
  },
  {
   "cell_type": "code",
   "execution_count": null,
   "id": "5f6fead1-4967-4912-953e-ade409a74d41",
   "metadata": {},
   "outputs": [],
   "source": [
    "%%timeit -n1 -r3 in_field = initialize_field(NX, NY, NZ, mode=\"square\")\n",
    "out_field = array_pointwise_XYZ(in_field)"
   ]
  },
  {
   "cell_type": "code",
   "execution_count": null,
   "id": "8386f863-b89a-415e-b135-e30b570a822d",
   "metadata": {},
   "outputs": [],
   "source": [
    "%%timeit -n1 -r3 in_field = initialize_field(NX, NY, NZ, mode=\"square\")\n",
    "out_field = array_pointwise_XZY(in_field)"
   ]
  },
  {
   "cell_type": "code",
   "execution_count": null,
   "id": "42475a33-72c8-495a-838f-368f13cffcde",
   "metadata": {},
   "outputs": [],
   "source": [
    "%%timeit -n1 -r3 in_field = initialize_field(NX, NY, NZ, mode=\"square\")\n",
    "out_field = array_pointwise_ZXY(in_field)"
   ]
  },
  {
   "cell_type": "code",
   "execution_count": null,
   "id": "388427cd-e8a2-4b17-a635-51faa0e4c996",
   "metadata": {},
   "outputs": [],
   "source": [
    "%%timeit -n1 -r3 in_field = initialize_field(NX, NY, NZ, mode=\"square\")\n",
    "out_field = array_pointwise_YXZ(in_field)"
   ]
  },
  {
   "cell_type": "code",
   "execution_count": null,
   "id": "d3282aaf-afd5-4eea-b8a5-c480a322b154",
   "metadata": {},
   "outputs": [],
   "source": [
    "%%timeit -n1 -r3 in_field = initialize_field(NX, NY, NZ, mode=\"square\")\n",
    "out_field = array_pointwise_YZX(in_field)"
   ]
  },
  {
   "cell_type": "markdown",
   "id": "0eb6d445-c88e-4184-be25-81877dd768cc",
   "metadata": {},
   "source": [
    "**TODO: Add interpretation**"
   ]
  },
  {
   "cell_type": "markdown",
   "id": "636b225a-3cb8-4dd5-9ba2-b0f17c3a4c8a",
   "metadata": {},
   "source": [
    "Now let's run the benchmark for the `sin()` stencil."
   ]
  },
  {
   "cell_type": "code",
   "execution_count": null,
   "id": "a45fabdc-6c4a-4d79-9bff-98e40a30a93e",
   "metadata": {},
   "outputs": [],
   "source": [
    "def array_sin_pointwise(in_field):\n",
    "    out_field = np.empty_like(in_field)\n",
    "    for n in range(N_ITER):\n",
    "        for k in range(NZ):\n",
    "            for j in range(NY):\n",
    "                for i in range(NX):\n",
    "                    out_field[k, j, i] = math.sin(in_field[k, j, i])\n",
    "        if n < N_ITER - 1:\n",
    "            in_field, out_field = out_field, in_field\n",
    "    return out_field"
   ]
  },
  {
   "cell_type": "code",
   "execution_count": null,
   "id": "e99ba649-16b8-405b-98a5-d73b4fb719f1",
   "metadata": {},
   "outputs": [],
   "source": [
    "%%timeit -n1 -r3 in_field = initialize_field(NX, NY, NZ, mode=\"square\")\n",
    "out_field = array_sin_pointwise(in_field)"
   ]
  },
  {
   "cell_type": "markdown",
   "id": "dc4f04d6-623a-4981-8329-147fd7ec6edd",
   "metadata": {},
   "source": [
    "### NumPy arrays with vectorized code\n",
    "\n",
    "Now we test the performance of the same two pointwise stencils using the vectorized NumPy that does not use `for` loops to iterate over the three spatial dimensions."
   ]
  },
  {
   "cell_type": "code",
   "execution_count": null,
   "id": "b75ae958-3d3d-46ce-9eb6-610cf4d1abef",
   "metadata": {},
   "outputs": [],
   "source": [
    "def numpy_pointwise(in_field):\n",
    "    out_field = np.empty_like(in_field)\n",
    "    for n in range(N_ITER):\n",
    "        out_field[:, :, :] = in_field[:, :, :]\n",
    "        if n < N_ITER - 1:\n",
    "            in_field, out_field = out_field, in_field\n",
    "    return out_field"
   ]
  },
  {
   "cell_type": "code",
   "execution_count": null,
   "id": "0b6f2a62-85e7-41c6-95f8-c42e11cb196d",
   "metadata": {},
   "outputs": [],
   "source": [
    "%%timeit in_field = initialize_field(NX, NY, NZ, mode=\"square\")\n",
    "out_field = numpy_pointwise(in_field)"
   ]
  },
  {
   "cell_type": "code",
   "execution_count": null,
   "id": "22ae216b-22b8-4dc0-90f7-fa85469aca68",
   "metadata": {},
   "outputs": [],
   "source": [
    "def numpy_sin_pointwise(in_field):\n",
    "    out_field = np.empty_like(in_field)\n",
    "    for n in range(N_ITER):\n",
    "        out_field = np.sin(in_field)\n",
    "        if n < N_ITER - 1:\n",
    "            in_field, out_field = out_field, in_field\n",
    "    return out_field"
   ]
  },
  {
   "cell_type": "code",
   "execution_count": null,
   "id": "470c8a18-fc60-4d74-bcd7-026a1fa5184b",
   "metadata": {},
   "outputs": [],
   "source": [
    "%%timeit in_field = initialize_field(NX, NY, NZ, mode=\"square\")\n",
    "out_field = numpy_sin_pointwise(in_field)"
   ]
  },
  {
   "cell_type": "markdown",
   "id": "058cf46e-39ba-4828-83f9-8916a8ae2cf6",
   "metadata": {},
   "source": [
    "The conclusion of these first tests is that Python loops are **terribly slow**. Python lists are not cache friendly but they are surprisingly fast if one takes into account how flexible they are. NumPy arrays can make things worse if they are used incorrectly, e.g., by iterating over the arrays. However, when used correctly, i.e., writing vectorized code, we can increase a lot the performance. The simplest pointwise stencil (copy) using NumPy vectorized code is **~150x faster** than pure Python code with lists, and the pointwise stencil applying `sin()` is **~7x faster**."
   ]
  },
  {
   "cell_type": "markdown",
   "id": "cec9655c-a9ae-40fb-b162-b0d504390185",
   "metadata": {},
   "source": [
    "# 1D stencils\n",
    "\n",
    "1D stencils updating with values from the same row or same colum only and with periodic boundary conditions.\n",
    "\n",
    "$$\n",
    "a(i,j) = \\frac{1}{2} \\Big[b(i+1,j) - b(i,j)\\Big]\n",
    "$$\n",
    "\n",
    "$$\n",
    "a(i,j) = \\frac{1}{2} \\Big[b(i,j+1) - b(i,j)\\Big]\n",
    "$$\n",
    "\n",
    "The factor 1/2 is to avoid getting huge numbers when `N_ITER` is large with the simple initialization patterns we defined before."
   ]
  },
  {
   "cell_type": "markdown",
   "id": "80842083-f25c-4257-b86d-4a906d13e9aa",
   "metadata": {},
   "source": [
    "**TODO: Redo this part with the optimal shapes of the lists. We should not care about NumPy array order in this section because we are converting them to lists. The relevant part here is the order of the nested lists. In the NumPy part we should explore the differences between C-order and Fortran-order.**"
   ]
  },
  {
   "cell_type": "markdown",
   "id": "e0ea3341-39c4-4228-a0bc-66ba39bb16b6",
   "metadata": {},
   "source": [
    "###  Same column: $a(i,j) = \\frac{1}{2} \\Big[b(i+1,j) - b(i,j)\\Big]$"
   ]
  },
  {
   "cell_type": "code",
   "execution_count": null,
   "id": "a687c19b-9579-4f94-ab55-5c1067e2b6a6",
   "metadata": {},
   "outputs": [],
   "source": [
    "def list_1D_same_col_ZXY(in_field, out_field):\n",
    "    for n in range(N_ITER):\n",
    "        for k in range(NZ):\n",
    "            for i in range(NX - 1):\n",
    "                for j in range(NY):\n",
    "                    out_field[k][j][i] = 0.5 * (in_field[k][j][i+1] - in_field[k][j][i])\n",
    "                    # Periodic boundary condition\n",
    "                    out_field[k][j][NX-1] = 0.5 * (in_field[k][j][0] - in_field[k][j][NX-1])\n",
    "        if n < N_ITER - 1:\n",
    "            in_field, out_field = out_field, in_field"
   ]
  },
  {
   "cell_type": "code",
   "execution_count": null,
   "id": "66eb00c1-1246-4e45-87ca-ca5f43d48d87",
   "metadata": {},
   "outputs": [],
   "source": [
    "in_field = initialize_field(NX, NY, NZ, mode=\"vertical-bars\")\n",
    "out_field = np.zeros_like(in_field).tolist()\n",
    "in_field = in_field.tolist()\n",
    "list_1D_same_col_ZXY(in_field, out_field)\n",
    "plot_field(out_field)"
   ]
  },
  {
   "cell_type": "code",
   "execution_count": null,
   "id": "b3eb18a2-4212-4baa-a526-dbc3230cc8c3",
   "metadata": {},
   "outputs": [],
   "source": [
    "%%timeit -n1 -r3 in_field = initialize_field(NX, NY, NZ, mode=\"vertical-bars\"); out_field = np.zeros_like(in_field).tolist(); in_field = in_field.tolist(); \n",
    "list_1D_same_col_ZXY(in_field, out_field)"
   ]
  },
  {
   "cell_type": "code",
   "execution_count": null,
   "id": "48fc5425-e110-467a-9ad3-e54d9ad59922",
   "metadata": {},
   "outputs": [],
   "source": [
    "def list_1D_same_col_col_update(in_field, out_field, plot=False):\n",
    "    # Apply 1D stencil\n",
    "    tic = timeit.default_timer()\n",
    "    for n in range(N_ITER):\n",
    "        for k in range(NZ):\n",
    "            for j in range(NY):\n",
    "                for i in range(NX - 1):\n",
    "                    out_field[k][j][i] = 0.5 * (in_field[k][j][i+1] - in_field[k][j][i])\n",
    "                out_field[k][j][NX-1] = 0.5 * (in_field[k][j][0] - in_field[k][j][NX-1])\n",
    "        if n < N_ITER - 1:\n",
    "            in_field, out_field = out_field, in_field\n",
    "    toc = timeit.default_timer()\n",
    "\n",
    "    if plot:\n",
    "        plot_field(out_field)\n",
    "        \n",
    "    return toc - tic"
   ]
  },
  {
   "cell_type": "code",
   "execution_count": null,
   "id": "f663b5c9-4a33-4300-bb23-1d2e0c0efa8b",
   "metadata": {},
   "outputs": [],
   "source": [
    "%%timeit in_field, out_field = initialize_fields(NX, NY, NZ, mode=\"vertical-bars\"); in_field = in_field.tolist(); out_field = out_field.tolist()\n",
    "list_1D_same_col_col_update(in_field, out_field)"
   ]
  },
  {
   "cell_type": "markdown",
   "id": "2cd95dbc-ea1a-493a-a9a1-4d16057f032c",
   "metadata": {},
   "source": [
    "If our stencil update only uses values from the same row, we should loop the field row-wise to maximize the cache hits. Working with python lists the performance difference is very noticeable."
   ]
  },
  {
   "cell_type": "code",
   "execution_count": null,
   "id": "cbc1ac10-24d4-41db-9b96-3b810335220d",
   "metadata": {},
   "outputs": [],
   "source": [
    "def array_1D_same_col_row_update(in_field, out_field, plot=False):\n",
    "    # Apply 1D stencil\n",
    "    tic = timeit.default_timer()\n",
    "    \n",
    "    for n in range(N_ITER):\n",
    "        for k in range(NZ):\n",
    "            for i in range(NX - 1):\n",
    "                for j in range(NY):\n",
    "                    out_field[k, j, i] = 0.5 * (in_field[k, j, i+1] - in_field[k, j, i])\n",
    "                    # Periodic boundary condition\n",
    "                    out_field[k, j, NX-1] = 0.5 * (in_field[k, j, 0] - in_field[k, j, NX-1])\n",
    "        \n",
    "        if n < N_ITER - 1:\n",
    "            in_field, out_field = out_field, in_field\n",
    "    \n",
    "    toc = timeit.default_timer()\n",
    "\n",
    "    if plot:\n",
    "        plot_field(out_field)\n",
    "        \n",
    "    return toc - tic"
   ]
  },
  {
   "cell_type": "code",
   "execution_count": null,
   "id": "e324be05-03b2-4fca-87a3-fb8c25c61262",
   "metadata": {},
   "outputs": [],
   "source": [
    "%%timeit in_field, out_field = initialize_fields(NX, NY, NZ, mode=\"vertical-bars\")\n",
    "array_1D_same_col_row_update(in_field, out_field)"
   ]
  },
  {
   "cell_type": "code",
   "execution_count": null,
   "id": "dcec644b-4014-4be5-b484-58142ad59d57",
   "metadata": {},
   "outputs": [],
   "source": [
    "def array_1D_same_col_col_update(in_field, out_field, plot=False):\n",
    "    # Apply 1D stencil\n",
    "    tic = timeit.default_timer()\n",
    "    \n",
    "    for n in range(N_ITER):\n",
    "        for k in range(NZ):\n",
    "            for j in range(NY):\n",
    "                for i in range(NX - 1):\n",
    "                    out_field[k, j, i] = 0.5 * (in_field[k, j, i+1] - in_field[k, j, i])\n",
    "                    # Periodic boundary condition\n",
    "                out_field[k, j, NX-1] = 0.5 * (in_field[k, j, 0] - in_field[k, j, NX-1])\n",
    "        \n",
    "        if n < N_ITER - 1:\n",
    "            in_field, out_field = out_field, in_field\n",
    "    \n",
    "    toc = timeit.default_timer()\n",
    "\n",
    "    if plot:\n",
    "        plot_field(out_field)\n",
    "        \n",
    "    return toc - tic"
   ]
  },
  {
   "cell_type": "code",
   "execution_count": null,
   "id": "0fb1cef8-c6a6-4b88-8cf9-c10e0ae1f26b",
   "metadata": {},
   "outputs": [],
   "source": [
    "%%timeit in_field, out_field = initialize_fields(NX, NY, NZ, mode=\"vertical-bars\")\n",
    "array_1D_same_col_col_update(in_field, out_field)"
   ]
  },
  {
   "cell_type": "code",
   "execution_count": null,
   "id": "7b2deb09-dffb-4d5e-852d-793a6031e263",
   "metadata": {},
   "outputs": [],
   "source": [
    "def numpy_1D_same_col(in_field, out_field, plot=False):    \n",
    "    # Apply 1D stencil\n",
    "    tic = timeit.default_timer()\n",
    "    for n in range(N_ITER):\n",
    "        out_field[:, :, :-1] = 0.5 * (in_field[:, :, 1:] - in_field[:, :, :-1])\n",
    "        # Periodic boundary condition\n",
    "        out_field[:, :, -1] = 0.5 * (in_field[:, :, 0] - in_field[:, :, -1])\n",
    "        if n < N_ITER - 1:\n",
    "            in_field, out_field = out_field, in_field\n",
    "    toc = timeit.default_timer()\n",
    "\n",
    "    if plot:\n",
    "        plot_field(out_field)\n",
    "\n",
    "    return toc - tic"
   ]
  },
  {
   "cell_type": "code",
   "execution_count": null,
   "id": "8d17fb46-7ba0-4fea-92ea-915264bd4df1",
   "metadata": {},
   "outputs": [],
   "source": [
    "%%timeit in_field, out_field = initialize_fields(NX, NY, NZ, mode=\"vertical-bars\", order=\"C\")\n",
    "numpy_1D_same_col(in_field, out_field)"
   ]
  },
  {
   "cell_type": "code",
   "execution_count": null,
   "id": "ed15e06b-da81-487d-b0fe-02dc9960745c",
   "metadata": {},
   "outputs": [],
   "source": [
    "%%timeit in_field, out_field = initialize_fields(NX, NY, NZ, mode=\"vertical-bars\", order=\"F\")\n",
    "numpy_1D_same_col(in_field, out_field)"
   ]
  },
  {
   "cell_type": "markdown",
   "id": "d317b320-3576-4e65-a4bb-612f1f2d5492",
   "metadata": {},
   "source": [
    "By default, NumPy arrays are stored row-wise (C style) in the data buffer, but this can be changed using the argument `order`. That is why we see a performance increase if we explicitly initialized the fields col-wise (Fortran style)."
   ]
  },
  {
   "cell_type": "markdown",
   "id": "f185cf84-39d2-41c4-8298-9ab35c8d2f35",
   "metadata": {},
   "source": [
    "## Same row: $a(i,j) = \\frac{1}{2} \\Big[b(i,j+1) - b(i,j)\\Big]$"
   ]
  },
  {
   "cell_type": "code",
   "execution_count": null,
   "id": "87281c29-de33-4c50-963d-93a0c2a6dee6",
   "metadata": {},
   "outputs": [],
   "source": [
    "def list_1D_same_row_row_update(in_field, out_field, plot=False):\n",
    "    # Apply 1D stencil\n",
    "    tic = timeit.default_timer()\n",
    "    for n in range(N_ITER):\n",
    "        for k in range(NZ):\n",
    "            for i in range(NX):\n",
    "                for j in range(NY-1):\n",
    "                    out_field[k][j][i] = 0.5 * (in_field[k][j+1][i] - in_field[k][j][i])\n",
    "                out_field[k][NY-1][i] = 0.5 * (in_field[k][0][i] - in_field[k][NY-1][i])\n",
    "        if n < N_ITER - 1:\n",
    "            in_field, out_field = out_field, in_field\n",
    "    toc = timeit.default_timer()\n",
    "\n",
    "    if plot:\n",
    "        plot_field(out_field)\n",
    "        \n",
    "    return toc - tic"
   ]
  },
  {
   "cell_type": "code",
   "execution_count": null,
   "id": "d46921bd-09ba-4710-b417-85fb1ae17a61",
   "metadata": {},
   "outputs": [],
   "source": [
    "in_field, out_field = initialize_fields(NX, NY, NZ, mode=\"horizontal-bars\", order=\"C\")\n",
    "in_field = in_field.tolist()\n",
    "out_field = out_field.tolist()\n",
    "list_1D_same_row_row_update(in_field, out_field, plot=True);"
   ]
  },
  {
   "cell_type": "code",
   "execution_count": null,
   "id": "14912595-6ba5-4823-8517-b75c877b7f31",
   "metadata": {},
   "outputs": [],
   "source": [
    "%%timeit in_field, out_field = initialize_fields(NX, NY, NZ, mode=\"horizontal-bars\", order=\"C\"); in_field = in_field.tolist(); out_field = out_field.tolist()\n",
    "list_1D_same_row_row_update(in_field, out_field)"
   ]
  },
  {
   "cell_type": "code",
   "execution_count": null,
   "id": "8f400275-3f21-45b8-b6b3-071bef9cb726",
   "metadata": {},
   "outputs": [],
   "source": [
    "def list_1D_same_row_col_update(in_field, out_field, plot=False):\n",
    "    # Apply 1D stencil\n",
    "    tic = timeit.default_timer()\n",
    "    for n in range(N_ITER):\n",
    "        for k in range(NZ):\n",
    "            for j in range(NY-1):\n",
    "                for i in range(NX):\n",
    "                    out_field[k][j][i] = 0.5 * (in_field[k][j+1][i] - in_field[k][j][i])\n",
    "                    out_field[k][NY-1][i] = 0.5 * (in_field[k][0][i] - in_field[k][NY-1][i])\n",
    "        if n < N_ITER - 1:\n",
    "            in_field, out_field = out_field, in_field\n",
    "    toc = timeit.default_timer()\n",
    "\n",
    "    if plot:\n",
    "        plot_field(out_field)\n",
    "        \n",
    "    return toc - tic"
   ]
  },
  {
   "cell_type": "code",
   "execution_count": null,
   "id": "1720077e-628e-4e1f-9724-90cf5d4ee3ba",
   "metadata": {},
   "outputs": [],
   "source": [
    "%%timeit in_field, out_field = initialize_fields(NX, NY, NZ, mode=\"horizontal-bars\", order=\"C\"); in_field = in_field.tolist(); out_field = out_field.tolist()\n",
    "list_1D_same_row_col_update(in_field.tolist(), out_field.tolist())"
   ]
  },
  {
   "cell_type": "markdown",
   "id": "2e76ae26-78c1-4776-892b-ef6cd7d88ab0",
   "metadata": {},
   "source": [
    "Similary, if our stencil update only uses values from the same col, we should loop the field col-wise to benefit from the cache."
   ]
  },
  {
   "cell_type": "code",
   "execution_count": null,
   "id": "5e5e94aa-4f04-4ac3-bde1-1e47e6b8e324",
   "metadata": {},
   "outputs": [],
   "source": [
    "def array_1D_same_row_row_update(in_field, out_field, plot=False):\n",
    "    # Apply 1D stencil\n",
    "    tic = timeit.default_timer()\n",
    "    for n in range(N_ITER):\n",
    "        for k in range(NZ):\n",
    "            for i in range(NX):\n",
    "                for j in range(NY-1):\n",
    "                    out_field[k, j, i] = 0.5 * (in_field[k, j+1, i] - in_field[k, j, i])\n",
    "                out_field[k, NY-1, i] = 0.5 * (in_field[k, 0, i] - in_field[k, NY-1, i])\n",
    "        if n < N_ITER - 1:\n",
    "            in_field, out_field = out_field, in_field\n",
    "    toc = timeit.default_timer()\n",
    "\n",
    "    if plot:\n",
    "        plot_field(out_field)\n",
    "        \n",
    "    return toc - tic"
   ]
  },
  {
   "cell_type": "code",
   "execution_count": null,
   "id": "5d6c9104-9549-4e9d-ab41-47131d5af5a9",
   "metadata": {},
   "outputs": [],
   "source": [
    "%%timeit in_field, out_field = initialize_fields(NX, NY, NZ, mode=\"horizontal-bars\")\n",
    "array_1D_same_row_row_update(in_field, out_field)"
   ]
  },
  {
   "cell_type": "code",
   "execution_count": null,
   "id": "72ef6938-7e10-4a6c-bccc-ea414cc5954a",
   "metadata": {},
   "outputs": [],
   "source": [
    "def array_1D_same_row_col_update(in_field, out_field, plot=False):\n",
    "    tic = timeit.default_timer()\n",
    "\n",
    "    # Apply 1D stencil\n",
    "    for n in range(N_ITER):\n",
    "        for k in range(NZ):\n",
    "            for j in range(NY - 1):\n",
    "                for i in range(NX):\n",
    "                    out_field[k, j, i] = 0.5 * (in_field[k, j+1, i] - in_field[k, j, i])\n",
    "                    out_field[k, NY-1, i] = 0.5 * (in_field[k, 0, i] - in_field[k, NY-1, i])\n",
    "        \n",
    "        if n < N_ITER - 1:\n",
    "            in_field, out_field = out_field, in_field\n",
    "    \n",
    "    toc = timeit.default_timer()\n",
    "\n",
    "    if plot:\n",
    "        plot_field(out_field)\n",
    "        \n",
    "    return toc - tic"
   ]
  },
  {
   "cell_type": "code",
   "execution_count": null,
   "id": "35f17818-0896-428f-bfc0-37a2d33def0d",
   "metadata": {},
   "outputs": [],
   "source": [
    "%%timeit in_field, out_field = initialize_fields(NX, NY, NZ, mode=\"horizontal-bars\")\n",
    "array_1D_same_row_col_update(in_field, out_field)"
   ]
  },
  {
   "cell_type": "code",
   "execution_count": null,
   "id": "7039b3e9-9b56-4626-a363-e75634e0ab24",
   "metadata": {},
   "outputs": [],
   "source": [
    "def numpy_1D_same_row(in_field, out_field, plot=False):    \n",
    "    # Apply 1D stencil\n",
    "    tic = timeit.default_timer()\n",
    "    for n in range(N_ITER):\n",
    "        out_field[:, :-1, :] = 0.5 * (in_field[:, 1:, :] - in_field[:, :-1, :])\n",
    "        # Periodic boundary condition\n",
    "        out_field[:, -1, :] = 0.5 * (in_field[:, 0, :] - in_field[:, -1, :])\n",
    "        if n < N_ITER - 1:\n",
    "            in_field, out_field = out_field, in_field\n",
    "    toc = timeit.default_timer()\n",
    "\n",
    "    if plot:\n",
    "        plot_field(out_field)\n",
    "\n",
    "    return toc - tic"
   ]
  },
  {
   "cell_type": "code",
   "execution_count": null,
   "id": "715f7da9-9e1b-4b0d-bbe6-ad5d8781e93a",
   "metadata": {},
   "outputs": [],
   "source": [
    "%%timeit in_field, out_field = initialize_fields(NX, NY, NZ, mode=\"horizontal-bars\", order=\"C\")\n",
    "numpy_1D_same_row(in_field, out_field)"
   ]
  },
  {
   "cell_type": "code",
   "execution_count": null,
   "id": "1848b208-13d5-4358-97dc-0e4029e9ebc5",
   "metadata": {},
   "outputs": [],
   "source": [
    "%%timeit in_field, out_field = initialize_fields(NX, NY, NZ, mode=\"horizontal-bars\", order=\"F\")\n",
    "numpy_1D_same_row(in_field, out_field)"
   ]
  },
  {
   "cell_type": "markdown",
   "id": "ac342d03-31b8-4794-b10e-3bb7ad8c0547",
   "metadata": {},
   "source": [
    "The reasons why we don't observe a difference in this case is because the C-order and Fortran-order affect all dimensions of the array not just the XY dimensions as it would happen in a 2D field. For multidimensional arrays it is more convenient to think which index is changing more rapidly and more slowly when moving through contigous elements in the data buffer. In the case of C-order arrays, the last index changes most rapidly, while in Fortran-order arrays the first does."
   ]
  },
  {
   "cell_type": "markdown",
   "id": "8ee1edd6-4058-4cad-b492-66cc101646a3",
   "metadata": {},
   "source": [
    "## 2D stencil\n",
    "\n",
    "The last stencil we will check is the 4th-order non-monotonic diffusion we used during the course, which is defined in terms of the Laplace operator as\n",
    "\n",
    "$$\n",
    "a(i, j) = \\Delta(\\Delta(b(i, j)))\n",
    "$$\n",
    "\n",
    "Since it is already clear from the experiments with pointwise and 1D stencils, that python `for` loops are very slow. Here we will only run the numpy implementation from `stencil2d.py` given in the course. This will set the base time to improve using the different high-level programming techniques available in Python (which will be tested in different notebooks)."
   ]
  },
  {
   "cell_type": "code",
   "execution_count": null,
   "id": "d2fb44b5-eee4-412a-a5b6-fd4e00d6ace8",
   "metadata": {},
   "outputs": [],
   "source": [
    "from stencil2d import apply_diffusion as numpy_2D"
   ]
  },
  {
   "cell_type": "code",
   "execution_count": null,
   "id": "b6f03699-292c-4c7d-9246-78ec82ef57c7",
   "metadata": {},
   "outputs": [],
   "source": [
    "in_field, out_field = initialize_fields(NX, NY, NZ, mode=\"square\")\n",
    "plot_field(in_field)"
   ]
  },
  {
   "cell_type": "code",
   "execution_count": null,
   "id": "2dd6c60b-7b70-445f-9acc-280f50c362b0",
   "metadata": {},
   "outputs": [],
   "source": [
    "numpy_2D(in_field, out_field, num_halo=2, num_iter=N_ITER)"
   ]
  },
  {
   "cell_type": "code",
   "execution_count": null,
   "id": "fbb4eef9-7015-49ce-99b7-bfffe693145d",
   "metadata": {},
   "outputs": [],
   "source": [
    "plot_field(out_field)"
   ]
  },
  {
   "cell_type": "code",
   "execution_count": null,
   "id": "6c3c283f-e091-4da6-bce7-094daf577b32",
   "metadata": {},
   "outputs": [],
   "source": [
    "%%timeit in_field, out_field = initialize_fields(NX, NY, NZ, mode=\"square\")\n",
    "numpy_2D(in_field, out_field, num_halo=2, num_iter=N_ITER)"
   ]
  },
  {
   "cell_type": "markdown",
   "id": "a6d6dbd2-b713-4ec3-a66b-1d5969ade942",
   "metadata": {},
   "source": [
    "# Conclusions\n",
    "\n",
    "- NumPy arrays are much faster than Python lists\n",
    "- The explanation is that (vectorized) NumPy code is much more cache friendly than Python code with nested `for` loops\n",
    "- **TODO: Verify this carefully.** Unfortunately, NumPy does not take full advantage of multithreading\n",
    "- NumPy is not very efficient about memory usage (there are some exceptions such as matrix-matrix multiplication)\n",
    "\n",
    "---"
   ]
  },
  {
   "cell_type": "markdown",
   "id": "c180ed14-3b11-4b76-a26d-dacf765b0696",
   "metadata": {},
   "source": [
    "# Appendices"
   ]
  },
  {
   "cell_type": "markdown",
   "id": "9894280d-8fd3-4af5-a710-133e624015fb",
   "metadata": {},
   "source": [
    "## np.sin() vs math.sin()\n",
    "\n",
    "There is no doubt that `np.sin()` is faster than `math.sin()` when applied to large NumPy arrays. But this function has an overhead cost when applied to single elements. Here we show that `math.sin()` is more efficient than `np.sin()` when applied to 4 or less elements. However, the overhead of a Python loop is even worse than the overhead of `np.sin()`."
   ]
  },
  {
   "cell_type": "code",
   "execution_count": null,
   "id": "ff971006-ff67-4fc7-809f-2080063cacbc",
   "metadata": {},
   "outputs": [],
   "source": [
    "rng = np.random.default_rng()\n",
    "x = rng.random(100)"
   ]
  },
  {
   "cell_type": "markdown",
   "id": "28d5d3f4-c50d-4322-bf3f-3e8c4cf13cd0",
   "metadata": {},
   "source": [
    "`np.sin()` is ~7.7 times slower than `math.sin()` when applied to a single value."
   ]
  },
  {
   "cell_type": "code",
   "execution_count": null,
   "id": "47289d53-ccdb-4469-a5eb-cd44679facdc",
   "metadata": {},
   "outputs": [],
   "source": [
    "%timeit math.sin(x[0])"
   ]
  },
  {
   "cell_type": "code",
   "execution_count": null,
   "id": "d8de19aa-62c1-4892-9d21-0d67199b8cf8",
   "metadata": {},
   "outputs": [],
   "source": [
    "%timeit np.sin(x[0])"
   ]
  },
  {
   "cell_type": "markdown",
   "id": "9989375d-6340-486a-b69a-b900e4248f8f",
   "metadata": {},
   "source": [
    "However, we loose part of this performance the moment we use a single for loop."
   ]
  },
  {
   "cell_type": "code",
   "execution_count": null,
   "id": "1be4550f-38f7-44ba-8f32-80cae9d2e7b6",
   "metadata": {},
   "outputs": [],
   "source": [
    "%timeit for i in range(1): math.sin(x[i])"
   ]
  },
  {
   "cell_type": "code",
   "execution_count": null,
   "id": "bcc5935d-6c48-4ccd-8cf7-8e77d9b87170",
   "metadata": {},
   "outputs": [],
   "source": [
    "%timeit np.sin(x[:1])"
   ]
  },
  {
   "cell_type": "markdown",
   "id": "b8bda154-bd2a-47a8-81e6-f6af45b0ebb5",
   "metadata": {},
   "source": [
    "In any case, even without for loops, `math.sin()` becomes slower than `np.sin()` the moment we need to compute more than four values."
   ]
  },
  {
   "cell_type": "code",
   "execution_count": null,
   "id": "7d241b05-af0e-4975-82c5-c639bd2ca584",
   "metadata": {},
   "outputs": [],
   "source": [
    "%timeit math.sin(x[0]), math.sin(x[1]), math.sin(x[2]), math.sin(x[3]), math.sin(x[4]), math.sin(x[5])"
   ]
  },
  {
   "cell_type": "code",
   "execution_count": null,
   "id": "eca44b31-af67-48f1-b29e-9ad6fc83adc9",
   "metadata": {},
   "outputs": [],
   "source": [
    "%timeit np.sin(x[:6])"
   ]
  },
  {
   "cell_type": "markdown",
   "id": "f77b3318-a859-4061-9b4f-2deeae3805d3",
   "metadata": {},
   "source": [
    "This is because `np.sin()` computes these values in parallel, while the `math.sin()` computes them sequentially."
   ]
  },
  {
   "cell_type": "markdown",
   "id": "5ac3fede-c6a6-4843-846c-b42299d9ed7c",
   "metadata": {},
   "source": [
    "## Different dtypes affect performance\n",
    "\n",
    "NumPy supports defines different data type (dtype) objects which describes how the bytes in the fixed-size block of memory corresponding to an array item should be interpreted. By default, NumPy will choose a proper dtype depending on the input passing to the constructor. However, we are free to change this default behaviour by specifying manually the dtype. As expected, and quickly demonstrated here using the `numpy_sin_pointwise()` function, this choice can also impact the performance of our stencil model."
   ]
  },
  {
   "cell_type": "code",
   "execution_count": null,
   "id": "d8b8ac2d-6985-4bed-8fe4-6a58dced4605",
   "metadata": {},
   "outputs": [],
   "source": [
    "dtypes_ = [np.float16, np.float32, np.float64, np.float128]"
   ]
  },
  {
   "cell_type": "code",
   "execution_count": null,
   "id": "511c5322-415b-42b5-9ba6-1a21ce467ff0",
   "metadata": {},
   "outputs": [],
   "source": [
    "%%timeit in_field, out_field = initialize_fields(NX, NY, NZ, mode=\"square\", dtype=dtypes_[0])\n",
    "numpy_sin_pointwise(in_field, out_field)"
   ]
  },
  {
   "cell_type": "code",
   "execution_count": null,
   "id": "44125a7a-f1f4-446b-9124-5bfd17236873",
   "metadata": {},
   "outputs": [],
   "source": [
    "%%timeit in_field, out_field = initialize_fields(NX, NY, NZ, mode=\"square\", dtype=dtypes_[1])\n",
    "numpy_sin_pointwise(in_field, out_field)"
   ]
  },
  {
   "cell_type": "code",
   "execution_count": null,
   "id": "a765c5ae-af68-4968-8629-02032ce28467",
   "metadata": {},
   "outputs": [],
   "source": [
    "%%timeit in_field, out_field = initialize_fields(NX, NY, NZ, mode=\"square\", dtype=dtypes_[2])\n",
    "numpy_sin_pointwise(in_field, out_field)"
   ]
  },
  {
   "cell_type": "code",
   "execution_count": null,
   "id": "1b47adf2-afbe-4f56-8035-674f034ab5ef",
   "metadata": {},
   "outputs": [],
   "source": [
    "%%timeit in_field, out_field = initialize_fields(NX, NY, NZ, mode=\"square\", dtype=dtypes_[3])\n",
    "numpy_sin_pointwise(in_field, out_field)"
   ]
  },
  {
   "cell_type": "markdown",
   "id": "2e9f07df-249b-437f-9f67-b7877f894f1e",
   "metadata": {},
   "source": [
    "More numerical precision implies moving more data from and to memory."
   ]
  },
  {
   "cell_type": "markdown",
   "id": "a3b4c69b-a3a4-4b22-9d86-cc43e9b6c4e0",
   "metadata": {},
   "source": [
    "## NumPy arrays in detail\n",
    "\n",
    "NumPy arrays have two parts: a data buffer and a metadata block containing all the relevant information to correctly interpret the data buffer. Many changes to an array (e.g. transposing or slicing) can leave the data buffer unmodified and just modify the metadata. Understanding how data is stored is crucial to understand and optimize NumPy code. For example, we might think that certain values are close to each other in memory based on the shape or the array, but maybe this is just an artifact of how the array is interpreted with its current metadata."
   ]
  },
  {
   "cell_type": "code",
   "execution_count": null,
   "id": "37cca7f3-7967-4d39-8e7b-7f0a8bd1d2a8",
   "metadata": {
    "tags": []
   },
   "outputs": [],
   "source": [
    "def array_pointwise_loop_ZYX(in_field, out_field):\n",
    "    for n in range(N_ITER):\n",
    "        for k in range(NZ):\n",
    "            for j in range(NY):\n",
    "                for i in range(NX):\n",
    "                    out_field[k, j, i] = in_field[k, j, i]\n",
    "        if n < N_ITER - 1:\n",
    "            in_field, out_field = out_field, in_field\n",
    "            \n",
    "def array_pointwise_loop_XZY(in_field, out_field):\n",
    "    for n in range(N_ITER):\n",
    "        for i in range(NX):\n",
    "            for k in range(NZ):\n",
    "                for j in range(NY):\n",
    "                    out_field[k, j, i] = in_field[k, j, i]\n",
    "        if n < N_ITER - 1:\n",
    "            in_field, out_field = out_field, in_field\n",
    "\n",
    "def array_pointwise_loop_YXZ(in_field, out_field):\n",
    "    for n in range(N_ITER):\n",
    "        for j in range(NY):\n",
    "            for i in range(NX):\n",
    "                for k in range(NZ):\n",
    "                    out_field[k, j, i] = in_field[k, j, i]\n",
    "        if n < N_ITER - 1:\n",
    "            in_field, out_field = out_field, in_field\n",
    "            \n",
    "def array_pointwise_loop_XYZ(in_field, out_field):\n",
    "    for n in range(N_ITER):\n",
    "        for i in range(NX):\n",
    "            for j in range(NY):\n",
    "                for k in range(NZ):\n",
    "                    out_field[k, j, i] = in_field[k, j, i]\n",
    "        if n < N_ITER - 1:\n",
    "            in_field, out_field = out_field, in_field\n",
    "\n",
    "def array_pointwise_loop_ZXY(in_field, out_field):\n",
    "    for n in range(N_ITER):\n",
    "        for k in range(NZ):\n",
    "            for i in range(NX):\n",
    "                for j in range(NY):\n",
    "                    out_field[k, j, i] = in_field[k, j, i]\n",
    "        if n < N_ITER - 1:\n",
    "            in_field, out_field = out_field, in_field\n",
    "\n",
    "def array_pointwise_loop_YZX(in_field, out_field):\n",
    "    for n in range(N_ITER):\n",
    "        for j in range(NY):\n",
    "            for k in range(NZ):\n",
    "                for i in range(NX):\n",
    "                    out_field[k, j, i] = in_field[k, j, i]\n",
    "        if n < N_ITER - 1:\n",
    "            in_field, out_field = out_field, in_field"
   ]
  },
  {
   "cell_type": "code",
   "execution_count": null,
   "id": "e6bd2eca-caaf-4c66-9761-b5fef3b0f5c7",
   "metadata": {},
   "outputs": [],
   "source": [
    "%%timeit in_field, out_field = initialize_fields(NX, NY, NZ, mode=\"square\")\n",
    "array_pointwise_loop_ZYX(in_field, out_field)"
   ]
  },
  {
   "cell_type": "code",
   "execution_count": null,
   "id": "ddd30c11-ae5f-471a-b7f6-72b15ea6774b",
   "metadata": {},
   "outputs": [],
   "source": [
    "%%timeit in_field, out_field = initialize_fields(NX, NY, NZ, mode=\"square\")\n",
    "array_pointwise_loop_XZY(in_field, out_field)"
   ]
  },
  {
   "cell_type": "code",
   "execution_count": null,
   "id": "747c7888-51a6-4522-92d5-2eea419a603c",
   "metadata": {},
   "outputs": [],
   "source": [
    "%%timeit in_field, out_field = initialize_fields(NX, NY, NZ, mode=\"square\")\n",
    "array_pointwise_loop_YXZ(in_field, out_field)"
   ]
  },
  {
   "cell_type": "code",
   "execution_count": null,
   "id": "ea0a05fc-557f-411e-8640-1b3a30cdfc5b",
   "metadata": {},
   "outputs": [],
   "source": [
    "%%timeit in_field, out_field = initialize_fields(NX, NY, NZ, mode=\"square\")\n",
    "array_pointwise_loop_XYZ(in_field, out_field)"
   ]
  },
  {
   "cell_type": "code",
   "execution_count": null,
   "id": "66aac10a-672a-47db-b113-23689ce506eb",
   "metadata": {},
   "outputs": [],
   "source": [
    "%%timeit in_field, out_field = initialize_fields(NX, NY, NZ, mode=\"square\")\n",
    "array_pointwise_loop_ZXY(in_field, out_field)"
   ]
  },
  {
   "cell_type": "code",
   "execution_count": null,
   "id": "42c16d1d-3e84-4509-97ca-a9c3a60d132f",
   "metadata": {},
   "outputs": [],
   "source": [
    "%%timeit in_field, out_field = initialize_fields(NX, NY, NZ, mode=\"square\")\n",
    "array_pointwise_loop_YZX(in_field, out_field)"
   ]
  },
  {
   "cell_type": "markdown",
   "id": "def173d3-09cf-47da-a9a9-8691b76da038",
   "metadata": {},
   "source": [
    "It seems that the order of the `for` loops have very little impact. Let's check what happens if we changes from C-order to Fortran-order arrays."
   ]
  },
  {
   "cell_type": "code",
   "execution_count": null,
   "id": "4ce4f655-907a-472e-9af9-cc308b9c2591",
   "metadata": {},
   "outputs": [],
   "source": [
    "%%timeit in_field, out_field = initialize_fields(NX, NY, NZ, mode=\"square\", array_order=\"F\")\n",
    "array_pointwise_loop_ZYX(in_field, out_field)"
   ]
  },
  {
   "cell_type": "code",
   "execution_count": null,
   "id": "24009824-057f-42b1-b673-976563050148",
   "metadata": {},
   "outputs": [],
   "source": [
    "%%timeit in_field, out_field = initialize_fields(NX, NY, NZ, mode=\"square\", array_order=\"F\")\n",
    "array_pointwise_loop_XZY(in_field, out_field)"
   ]
  },
  {
   "cell_type": "code",
   "execution_count": null,
   "id": "7f6bddec-2231-4564-b258-3467870b151c",
   "metadata": {},
   "outputs": [],
   "source": [
    "%%timeit in_field, out_field = initialize_fields(NX, NY, NZ, mode=\"square\", array_order=\"F\")\n",
    "array_pointwise_loop_YXZ(in_field, out_field)"
   ]
  },
  {
   "cell_type": "code",
   "execution_count": null,
   "id": "ba90ae32-5c3d-4885-8d18-740b310ca1f0",
   "metadata": {},
   "outputs": [],
   "source": [
    "%%timeit in_field, out_field = initialize_fields(NX, NY, NZ, mode=\"square\", array_order=\"F\")\n",
    "array_pointwise_loop_XYZ(in_field, out_field)"
   ]
  },
  {
   "cell_type": "code",
   "execution_count": null,
   "id": "52a7a06a-982a-4f67-83f6-be15746fbd14",
   "metadata": {},
   "outputs": [],
   "source": [
    "%%timeit in_field, out_field = initialize_fields(NX, NY, NZ, mode=\"square\", array_order=\"F\")\n",
    "array_pointwise_loop_ZXY(in_field, out_field)"
   ]
  },
  {
   "cell_type": "code",
   "execution_count": null,
   "id": "d870cd26-0253-428a-9f44-b3a0544b6a5d",
   "metadata": {},
   "outputs": [],
   "source": [
    "%%timeit in_field, out_field = initialize_fields(NX, NY, NZ, mode=\"square\", array_order=\"F\")\n",
    "array_pointwise_loop_YZX(in_field, out_field)"
   ]
  },
  {
   "cell_type": "markdown",
   "id": "d5d9902d-a1c7-4bd0-9937-6e97149a251b",
   "metadata": {},
   "source": [
    "Also, little or no differences at all. Lastly, let's check the impact of different array shapes with a fix loop order."
   ]
  },
  {
   "cell_type": "code",
   "execution_count": null,
   "id": "7025a288-0960-4cee-85d7-abdf0d5479ba",
   "metadata": {
    "tags": []
   },
   "outputs": [],
   "source": [
    "def array_pointwise_access_ZYX(in_field, out_field):\n",
    "    for n in range(N_ITER):\n",
    "        for k in range(NZ):\n",
    "            for j in range(NY):\n",
    "                for i in range(NX):\n",
    "                    out_field[k, j, i] = in_field[k, j, i]\n",
    "        if n < N_ITER - 1:\n",
    "            in_field, out_field = out_field, in_field\n",
    "            \n",
    "def array_pointwise_access_XZY(in_field, out_field):\n",
    "    for n in range(N_ITER):\n",
    "        for k in range(NZ):\n",
    "            for j in range(NY):\n",
    "                for i in range(NX):\n",
    "                    out_field[i, k, j] = in_field[i, k, j]\n",
    "        if n < N_ITER - 1:\n",
    "            in_field, out_field = out_field, in_field\n",
    "\n",
    "def array_pointwise_access_YXZ(in_field, out_field):\n",
    "    for n in range(N_ITER):\n",
    "        for k in range(NZ):\n",
    "            for j in range(NY):\n",
    "                for i in range(NX):\n",
    "                    out_field[j, i, k] = in_field[j, i, k]\n",
    "        if n < N_ITER - 1:\n",
    "            in_field, out_field = out_field, in_field\n",
    "            \n",
    "def array_pointwise_access_XYZ(in_field, out_field):\n",
    "    for n in range(N_ITER):\n",
    "        for k in range(NZ):\n",
    "            for j in range(NY):\n",
    "                for i in range(NX):\n",
    "                    out_field[i, j, k] = in_field[i, j, k]\n",
    "        if n < N_ITER - 1:\n",
    "            in_field, out_field = out_field, in_field\n",
    "\n",
    "def array_pointwise_access_ZXY(in_field, out_field):\n",
    "    for n in range(N_ITER):\n",
    "        for k in range(NZ):\n",
    "            for j in range(NY):\n",
    "                for i in range(NX):\n",
    "                    out_field[k, i, j] = in_field[k, i, j]\n",
    "        if n < N_ITER - 1:\n",
    "            in_field, out_field = out_field, in_field\n",
    "\n",
    "def array_pointwise_access_YZX(in_field, out_field):\n",
    "    for n in range(N_ITER):\n",
    "        for k in range(NZ):\n",
    "            for j in range(NY):\n",
    "                for i in range(NX):\n",
    "                    out_field[j, k, i] = in_field[j, k, i]\n",
    "        if n < N_ITER - 1:\n",
    "            in_field, out_field = out_field, in_field"
   ]
  },
  {
   "cell_type": "code",
   "execution_count": null,
   "id": "6d8d7e0f-cf1b-4125-b893-56daa56c6560",
   "metadata": {},
   "outputs": [],
   "source": [
    "%%timeit in_field, out_field = initialize_fields(NX, NY, NZ, mode=\"square\", dim_order=\"ZYX\")\n",
    "array_pointwise_access_ZYX(in_field, out_field)"
   ]
  },
  {
   "cell_type": "code",
   "execution_count": null,
   "id": "df733bfc-90dc-486f-91f4-9b5736e9bdfe",
   "metadata": {},
   "outputs": [],
   "source": [
    "%%timeit in_field, out_field = initialize_fields(NX, NY, NZ, mode=\"square\", dim_order=\"XZY\")\n",
    "array_pointwise_access_XZY(in_field, out_field)"
   ]
  },
  {
   "cell_type": "code",
   "execution_count": null,
   "id": "6974e3fa-b10e-4b22-bfc2-23c4a6486a8b",
   "metadata": {},
   "outputs": [],
   "source": [
    "%%timeit in_field, out_field = initialize_fields(NX, NY, NZ, mode=\"square\", dim_order=\"YXZ\")\n",
    "array_pointwise_access_YXZ(in_field, out_field)"
   ]
  },
  {
   "cell_type": "code",
   "execution_count": null,
   "id": "99a10ced-fc7a-43b7-9460-b8182881baa8",
   "metadata": {},
   "outputs": [],
   "source": [
    "%%timeit in_field, out_field = initialize_fields(NX, NY, NZ, mode=\"square\", dim_order=\"XYZ\")\n",
    "array_pointwise_access_XYZ(in_field, out_field)"
   ]
  },
  {
   "cell_type": "code",
   "execution_count": null,
   "id": "c6bfbcbc-483b-463f-81ac-d5014ea830b1",
   "metadata": {},
   "outputs": [],
   "source": [
    "%%timeit in_field, out_field = initialize_fields(NX, NY, NZ, mode=\"square\", dim_order=\"ZXY\")\n",
    "array_pointwise_access_ZXY(in_field, out_field)"
   ]
  },
  {
   "cell_type": "code",
   "execution_count": null,
   "id": "2393a343-2b98-457d-a10c-c00bc614c2d9",
   "metadata": {},
   "outputs": [],
   "source": []
  }
 ],
 "metadata": {
  "kernelspec": {
   "display_name": "HPC4WC_project12_kernel",
   "language": "python",
   "name": "hpc4wc_project12_kernel"
  },
  "language_info": {
   "codemirror_mode": {
    "name": "ipython",
    "version": 3
   },
   "file_extension": ".py",
   "mimetype": "text/x-python",
   "name": "python",
   "nbconvert_exporter": "python",
   "pygments_lexer": "ipython3",
   "version": "3.9.4"
  }
 },
 "nbformat": 4,
 "nbformat_minor": 5
}
