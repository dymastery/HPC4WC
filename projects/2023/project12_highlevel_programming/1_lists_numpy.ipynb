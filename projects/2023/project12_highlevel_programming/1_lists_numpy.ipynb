{
 "cells": [
  {
   "cell_type": "markdown",
   "id": "c24f2f76-c257-465b-9009-94e831362cd5",
   "metadata": {},
   "source": [
    "This notebok benchmarks different simple stencils (pointwise, 1D, etc.) using pure python code (lists), numpy arrays keeping `for` loops, and numpy parallel code."
   ]
  },
  {
   "cell_type": "code",
   "execution_count": null,
   "id": "29a838a8-c1a9-4cd3-a586-74937c12be70",
   "metadata": {},
   "outputs": [],
   "source": [
    "import math\n",
    "import numpy as np"
   ]
  },
  {
   "cell_type": "code",
   "execution_count": null,
   "id": "9b847e0f-cd8d-42b6-abc8-ec40f8afe855",
   "metadata": {},
   "outputs": [],
   "source": [
    "from common import initialize_field, plot_field, save_result"
   ]
  },
  {
   "cell_type": "code",
   "execution_count": null,
   "id": "eb102997-3577-4c61-9efc-8cb88796775f",
   "metadata": {},
   "outputs": [],
   "source": [
    "NX = 128\n",
    "NY = 128\n",
    "NZ = 80\n",
    "N_ITER = 50"
   ]
  },
  {
   "cell_type": "markdown",
   "id": "94de7da0-929b-4acc-be34-14ed9ff40e31",
   "metadata": {},
   "source": [
    "# Pointwise stencils\n",
    "\n",
    "We consider two pointwise stencil models: a simple copy, and applying the `sin` function.\n",
    "\n",
    "$$\n",
    "a(i) = b(i)\n",
    "$$\n",
    "\n",
    "$$\n",
    "a(i) = \\sin(b(i))\n",
    "$$"
   ]
  },
  {
   "cell_type": "markdown",
   "id": "64286139-525f-4137-8a4e-456486d5beea",
   "metadata": {},
   "source": [
    "### Nested lists and `for` loops"
   ]
  },
  {
   "cell_type": "code",
   "execution_count": null,
   "id": "7a4cd203-0c69-4c9a-beda-e3a78484c742",
   "metadata": {},
   "outputs": [],
   "source": [
    "def list_pointwise(in_field, out_field):\n",
    "    for n in range(N_ITER):\n",
    "        for k in range(NZ):\n",
    "            for j in range(NY):\n",
    "                for i in range(NX):\n",
    "                    out_field[k][j][i] = in_field[k][j][i]\n",
    "        if n < N_ITER - 1:\n",
    "            in_field, out_field = out_field, in_field"
   ]
  },
  {
   "cell_type": "code",
   "execution_count": null,
   "id": "a2e910c0-bff1-4c12-879b-483ece435f13",
   "metadata": {},
   "outputs": [],
   "source": [
    "in_field = initialize_field(NX, NY, NZ, mode=\"random\")\n",
    "# We initialized out_field as zeros to verify later the copy was done correctly\n",
    "out_field = np.zeros_like(in_field).tolist()\n",
    "in_field = in_field.tolist()\n",
    "list_pointwise(in_field, out_field)\n",
    "plot_field(out_field)"
   ]
  },
  {
   "cell_type": "markdown",
   "id": "cbb2aa51-b271-40e1-9ae5-a6e4c84fa835",
   "metadata": {},
   "source": [
    "Before running the first benchmark, let's have a look at how Python lists are stored in memory."
   ]
  },
  {
   "cell_type": "markdown",
   "id": "a486aeb1-7075-46ee-9b2b-8351d1a85cd1",
   "metadata": {},
   "source": [
    "Python lists are quite big objects. Under the hood, the CPython implementation of the list object is a vector of pointers, so each element of a list is by itself a proper Python object and a pointer to it is what is stored in the list object. Essentially, after removing some comments, the implementation that can be found in [listobject.h](https://github.com/python/cpython/blob/main/Include/cpython/listobject.h) is the following:\n",
    "\n",
    "```C\n",
    "typedef struct {\n",
    "    PyObject_VAR_HEAD\n",
    "    PyObject **ob_item;\n",
    "    Py_ssize_t allocated;\n",
    "} PyListObject;\n",
    "```\n",
    "\n",
    "So our 3D fields are in fact a list containing 80 lists (dimension Z), each of these lists containing 128 lists (dimension Y), and finally each of these lists containing 128 floats. Python lists can be enlarge, reduced, and new elements can be inserted or deleted at arbitrary positions. All these make these objects extremely cache unfriendly. When accessing the field element (x,y,z) with `field[z][y][x]` a bunch of pointers have to be followed, and therefore the chances that subsequent values remain in the cache are minimal."
   ]
  },
  {
   "cell_type": "code",
   "execution_count": null,
   "id": "0b267336-1d54-4a1c-bbbc-8116a740ad29",
   "metadata": {},
   "outputs": [],
   "source": [
    "%%timeit -n1 -r3 -o in_field = initialize_field(NX, NY, NZ, mode=\"square\"); out_field = np.zeros_like(in_field).tolist(); in_field = in_field.tolist(); \n",
    "list_pointwise(in_field, out_field)"
   ]
  },
  {
   "cell_type": "code",
   "execution_count": null,
   "id": "9988461a-13b9-4cdb-a9b3-f297a7a53263",
   "metadata": {},
   "outputs": [],
   "source": [
    "result = _\n",
    "save_result(result, \"list_pointwise\")"
   ]
  },
  {
   "cell_type": "markdown",
   "id": "151f8a14-aaa0-48e4-8ed3-676303287b3b",
   "metadata": {},
   "source": [
    "Even though Python lists are not ideal to maximize cache hits, it is still expected to see a difference depending on the order of the `for` loops. Let's verify this trying all the possible permutations: ZYX (done above), XYZ, XZY, ZXY, YXZ, YZX."
   ]
  },
  {
   "cell_type": "code",
   "execution_count": null,
   "id": "0305991e-9e35-4da8-959b-ad797b0fb5b3",
   "metadata": {
    "jupyter": {
     "source_hidden": true
    },
    "tags": []
   },
   "outputs": [],
   "source": [
    "def list_pointwise_XYZ(in_field, out_field):\n",
    "    for n in range(N_ITER):\n",
    "        for i in range(NX):\n",
    "            for j in range(NY):\n",
    "                for k in range(NZ):\n",
    "                    out_field[k][j][i] = in_field[k][j][i]\n",
    "        if n < N_ITER - 1:\n",
    "            in_field, out_field = out_field, in_field\n",
    "\n",
    "def list_pointwise_XZY(in_field, out_field):\n",
    "    for n in range(N_ITER):\n",
    "        for i in range(NX):\n",
    "            for k in range(NZ):\n",
    "                for j in range(NY):\n",
    "                    out_field[k][j][i] = in_field[k][j][i]\n",
    "        if n < N_ITER - 1:\n",
    "            in_field, out_field = out_field, in_field\n",
    "\n",
    "def list_pointwise_ZXY(in_field, out_field):\n",
    "    for n in range(N_ITER):\n",
    "        for k in range(NZ):\n",
    "            for i in range(NX):\n",
    "                for j in range(NY):\n",
    "                    out_field[k][j][i] = in_field[k][j][i]\n",
    "        if n < N_ITER - 1:\n",
    "            in_field, out_field = out_field, in_field\n",
    "\n",
    "def list_pointwise_YXZ(in_field, out_field, plot=False):\n",
    "    for n in range(N_ITER):\n",
    "        for j in range(NY):\n",
    "            for i in range(NX):\n",
    "                for k in range(NZ):\n",
    "                    out_field[k][j][i] = in_field[k][j][i]\n",
    "        if n < N_ITER - 1:\n",
    "            in_field, out_field = out_field, in_field\n",
    "\n",
    "\n",
    "def list_pointwise_YZX(in_field, out_field):\n",
    "    for n in range(N_ITER):\n",
    "        for j in range(NY):\n",
    "            for k in range(NZ):\n",
    "                for i in range(NX):\n",
    "                    out_field[k][j][i] = in_field[k][j][i]\n",
    "        if n < N_ITER - 1:\n",
    "            in_field, out_field = out_field, in_field"
   ]
  },
  {
   "cell_type": "code",
   "execution_count": null,
   "id": "ab36e028-ec07-4c8a-ad13-bc720cb46f27",
   "metadata": {},
   "outputs": [],
   "source": [
    "%%timeit -n1 -r3 in_field = initialize_field(NX, NY, NZ, mode=\"square\"); out_field = np.zeros_like(in_field).tolist(); in_field = in_field.tolist(); \n",
    "list_pointwise_XYZ(in_field, out_field)"
   ]
  },
  {
   "cell_type": "code",
   "execution_count": null,
   "id": "13f71d3e-342f-407a-adbf-5882655202b9",
   "metadata": {},
   "outputs": [],
   "source": [
    "%%timeit -n1 -r3 in_field = initialize_field(NX, NY, NZ, mode=\"square\"); out_field = np.zeros_like(in_field).tolist(); in_field = in_field.tolist(); \n",
    "list_pointwise_XZY(in_field, out_field)"
   ]
  },
  {
   "cell_type": "code",
   "execution_count": null,
   "id": "0c352745-4626-4014-b893-0e06d2dbc0ea",
   "metadata": {},
   "outputs": [],
   "source": [
    "%%timeit -n1 -r3 in_field = initialize_field(NX, NY, NZ, mode=\"square\"); out_field = np.zeros_like(in_field).tolist(); in_field = in_field.tolist(); \n",
    "list_pointwise_ZXY(in_field, out_field)"
   ]
  },
  {
   "cell_type": "code",
   "execution_count": null,
   "id": "63e4fcd7-e798-43c7-8b6d-ba5daa5fa5ce",
   "metadata": {},
   "outputs": [],
   "source": [
    "%%timeit -n1 -r3 in_field = initialize_field(NX, NY, NZ, mode=\"square\"); out_field = np.zeros_like(in_field).tolist(); in_field = in_field.tolist(); \n",
    "list_pointwise_YXZ(in_field, out_field)"
   ]
  },
  {
   "cell_type": "code",
   "execution_count": null,
   "id": "dcb993a6-6da8-4520-ac25-64faa089a9a1",
   "metadata": {},
   "outputs": [],
   "source": [
    "%%timeit -n1 -r3 in_field = initialize_field(NX, NY, NZ, mode=\"square\"); out_field = np.zeros_like(in_field).tolist(); in_field = in_field.tolist(); \n",
    "list_pointwise_YZX(in_field, out_field)"
   ]
  },
  {
   "cell_type": "markdown",
   "id": "e141329d-a1a7-486f-ae47-0402a62f8313",
   "metadata": {},
   "source": [
    "Clearly, by looking at these times, with nested lists we should iterate in the same order as we have nested the lists, i.e., the first level should be looped the slowest, and the innermost level should be looped the fastest. The explanation for this is that to access the element `field[k][j][i+1]` the information (pointers) required to access the innermost list, i.e., `field[k][j]`, is already in the cache, while to get `field[i+1][j][k]` we have to follow a whole new path of pointers, which most likely are not in the cache if the list is large enough.\n",
    "\n",
    "Furthermore, we would expect that if the fields are initialized with the same order of the nested lists as the loop order, we should obtain similar performance. Let's check this for the cases XYZ and YZX."
   ]
  },
  {
   "cell_type": "code",
   "execution_count": null,
   "id": "c8dc3370-bc20-41e4-91ed-ee4290627b25",
   "metadata": {},
   "outputs": [],
   "source": [
    "def list_pointwise_XYZ_alt(in_field, out_field):\n",
    "    for n in range(N_ITER):\n",
    "        for i in range(NX):\n",
    "            for j in range(NY):\n",
    "                for k in range(NZ):\n",
    "                    out_field[i][j][k] = in_field[i][j][k]\n",
    "        if n < N_ITER - 1:\n",
    "            in_field, out_field = out_field, in_field\n",
    "\n",
    "def list_pointwise_YZX_alt(in_field, out_field):\n",
    "    for n in range(N_ITER):\n",
    "        for j in range(NY):\n",
    "            for k in range(NZ):\n",
    "                for i in range(NX):\n",
    "                    out_field[j][k][i] = in_field[j][k][i]\n",
    "        if n < N_ITER - 1:\n",
    "            in_field, out_field = out_field, in_field"
   ]
  },
  {
   "cell_type": "code",
   "execution_count": null,
   "id": "bc3dc992-5436-4aba-939b-ec59da584957",
   "metadata": {},
   "outputs": [],
   "source": [
    "%%timeit -n1 -r3 in_field = initialize_field(NX, NY, NZ, dim_order=\"XYZ\", mode=\"square\"); out_field = np.zeros_like(in_field).tolist(); in_field = in_field.tolist();\n",
    "list_pointwise_XYZ_alt(in_field, out_field)"
   ]
  },
  {
   "cell_type": "code",
   "execution_count": null,
   "id": "01fa43e8-33bc-43db-862c-bc6dd7eb117f",
   "metadata": {},
   "outputs": [],
   "source": [
    "%%timeit -n1 -r3 in_field = initialize_field(NX, NY, NZ, dim_order=\"YZX\", mode=\"square\"); out_field = np.zeros_like(in_field).tolist(); in_field = in_field.tolist();\n",
    "list_pointwise_YZX_alt(in_field, out_field)"
   ]
  },
  {
   "cell_type": "markdown",
   "id": "bd76cc83-914b-4569-b942-046cc6d4bc51",
   "metadata": {},
   "source": [
    "Similarly, we could replicate the worst results by using the opposite list structure to the loop order. Let's try this with the two best results from above: ZYX and and YZX."
   ]
  },
  {
   "cell_type": "code",
   "execution_count": null,
   "id": "04aed28a-3abb-403c-b135-4560d78ad9e9",
   "metadata": {},
   "outputs": [],
   "source": [
    "def list_pointwise_ZYX_alt(in_field, out_field):\n",
    "    for n in range(N_ITER):\n",
    "        for k in range(NZ):\n",
    "            for j in range(NY):\n",
    "                for i in range(NX):\n",
    "                    out_field[i][j][k] = in_field[i][j][k]\n",
    "        if n < N_ITER - 1:\n",
    "            in_field, out_field = out_field, in_field\n",
    "\n",
    "def list_pointwise_YZX_alt(in_field, out_field):\n",
    "    for n in range(N_ITER):\n",
    "        for j in range(NY):\n",
    "            for k in range(NZ):\n",
    "                for i in range(NX):\n",
    "                    out_field[i][k][j] = in_field[i][k][j]\n",
    "        if n < N_ITER - 1:\n",
    "            in_field, out_field = out_field, in_field"
   ]
  },
  {
   "cell_type": "code",
   "execution_count": null,
   "id": "e963498c-d747-451e-9d6d-664c3a8d6f04",
   "metadata": {},
   "outputs": [],
   "source": [
    "%%timeit -n1 -r3 in_field = initialize_field(NX, NY, NZ, dim_order=\"XYZ\", mode=\"square\"); out_field = np.zeros_like(in_field).tolist(); in_field = in_field.tolist();\n",
    "list_pointwise_ZYX_alt(in_field, out_field)"
   ]
  },
  {
   "cell_type": "code",
   "execution_count": null,
   "id": "162bea93-cc30-4d92-b6b7-1562c7d05951",
   "metadata": {},
   "outputs": [],
   "source": [
    "%%timeit -n1 -r3 in_field = initialize_field(NX, NY, NZ, dim_order=\"XZY\", mode=\"square\"); out_field = np.zeros_like(in_field).tolist(); in_field = in_field.tolist();\n",
    "list_pointwise_YZX_alt(in_field, out_field)"
   ]
  },
  {
   "cell_type": "markdown",
   "id": "896dc307-cd0e-4ba4-81e4-30e9f0b6fcc5",
   "metadata": {},
   "source": [
    "All these results confirm our previous explanation."
   ]
  },
  {
   "cell_type": "markdown",
   "id": "e5538ee4-c589-418f-a2e1-2d9e299b1f0b",
   "metadata": {},
   "source": [
    "Let's now check the other simple pointwise stencil computation. In this case, instead of just copying all the values, we will compute the sine of each gridpoint."
   ]
  },
  {
   "cell_type": "code",
   "execution_count": null,
   "id": "54e25f42-622e-4503-9167-52e7b0ffdb38",
   "metadata": {},
   "outputs": [],
   "source": [
    "def list_sin_pointwise(in_field, out_field):\n",
    "    for n in range(N_ITER):\n",
    "        for k in range(NZ):\n",
    "            for j in range(NY):\n",
    "                for i in range(NX):\n",
    "                    # numpy.sin() is ~7 times slower than math.sin() when applied to single values\n",
    "                    # Check Appendix for more details about this.\n",
    "                    out_field[k][j][i] = math.sin(in_field[k][j][i])\n",
    "        if n < N_ITER - 1:\n",
    "            in_field, out_field = out_field, in_field"
   ]
  },
  {
   "cell_type": "code",
   "execution_count": null,
   "id": "c5a653f3-c1e9-4524-a142-62fec2a9cab2",
   "metadata": {},
   "outputs": [],
   "source": [
    "%%timeit -n1 -r3 -o in_field = initialize_field(NX, NY, NZ, mode=\"square\"); out_field = np.zeros_like(in_field).tolist(); in_field = in_field.tolist(); \n",
    "list_sin_pointwise(in_field, out_field)"
   ]
  },
  {
   "cell_type": "code",
   "execution_count": null,
   "id": "21e04738-3514-4b07-af0b-cd134575764f",
   "metadata": {},
   "outputs": [],
   "source": [
    "result = _\n",
    "save_result(result, \"list_sin_pointwise\")"
   ]
  },
  {
   "cell_type": "markdown",
   "id": "1d244687-fd0f-4e04-adf4-6aacc75d9b42",
   "metadata": {},
   "source": [
    "### NumPy arrays and `for` loops"
   ]
  },
  {
   "cell_type": "markdown",
   "id": "c2c1d43b-2ad3-4b49-8bb7-9e136ae938ab",
   "metadata": {},
   "source": [
    "The following code will show the worst we can do when trying to work with NumPy arrays. Surprisingly, as we will see in [the Numba notebook](./2_numba.ipynb), this way of working with NumPy arrays is neccesary when working with certain accelerators."
   ]
  },
  {
   "cell_type": "code",
   "execution_count": null,
   "id": "56bfe1bc-b415-42a5-ae0e-a33c5447f399",
   "metadata": {},
   "outputs": [],
   "source": [
    "def array_pointwise(in_field):\n",
    "    out_field = np.empty_like(in_field)\n",
    "    for n in range(N_ITER):\n",
    "        for k in range(NZ):\n",
    "            for j in range(NY):\n",
    "                for i in range(NX):\n",
    "                    out_field[k, j, i] = in_field[k, j, i]\n",
    "        if n < N_ITER - 1:\n",
    "            in_field, out_field = out_field, in_field\n",
    "    return out_field"
   ]
  },
  {
   "cell_type": "code",
   "execution_count": null,
   "id": "b835c6de-e05e-48bf-94bf-e8c758aee8ec",
   "metadata": {},
   "outputs": [],
   "source": [
    "in_field = initialize_field(NX, NY, NZ, mode=\"random\")\n",
    "out_field = np.zeros_like(in_field)\n",
    "out_field = array_pointwise(in_field)\n",
    "plot_field(out_field)"
   ]
  },
  {
   "cell_type": "code",
   "execution_count": null,
   "id": "bb22c682-d182-4643-936d-42e8ae0d9c0f",
   "metadata": {},
   "outputs": [],
   "source": [
    "%%timeit -n1 -r3 -o in_field = initialize_field(NX, NY, NZ, mode=\"square\")\n",
    "out_field = array_pointwise(in_field)"
   ]
  },
  {
   "cell_type": "code",
   "execution_count": null,
   "id": "f4b48918-d76f-4f92-83a2-a96b3bc2efc2",
   "metadata": {},
   "outputs": [],
   "source": [
    "result = _\n",
    "save_result(result, \"array_pointwise\")"
   ]
  },
  {
   "cell_type": "markdown",
   "id": "428d19c1-ec6d-4bf2-8805-d1af3b817eab",
   "metadata": {},
   "source": [
    "However, it is still interesting to try all the possible permutations of the `for` loops. Hopefully, this will give us some hints to how NumPy arrays are stored in memory."
   ]
  },
  {
   "cell_type": "code",
   "execution_count": null,
   "id": "27b60092-4f35-48b5-9043-ca08c77a667e",
   "metadata": {
    "jupyter": {
     "source_hidden": true
    },
    "tags": []
   },
   "outputs": [],
   "source": [
    "def array_pointwise_ZYX(in_field):\n",
    "    out_field = np.empty_like(in_field)\n",
    "    for n in range(N_ITER):\n",
    "        for k in range(NZ):\n",
    "            for j in range(NY):\n",
    "                for i in range(NX):\n",
    "                    out_field[k, j, i] = in_field[k, j, i]\n",
    "        if n < N_ITER - 1:\n",
    "            in_field, out_field = out_field, in_field\n",
    "    return out_field\n",
    "\n",
    "def array_pointwise_XYZ(in_field):\n",
    "    out_field = np.empty_like(in_field)\n",
    "    for n in range(N_ITER):\n",
    "        for i in range(NX):\n",
    "            for j in range(NY):\n",
    "                for k in range(NZ):\n",
    "                    out_field[k, j, i] = in_field[k, j, i]\n",
    "        if n < N_ITER - 1:\n",
    "            in_field, out_field = out_field, in_field\n",
    "    return out_field\n",
    "\n",
    "def array_pointwise_XZY(in_field):\n",
    "    out_field = np.empty_like(in_field)\n",
    "    for n in range(N_ITER):\n",
    "        for i in range(NX):\n",
    "            for k in range(NZ):\n",
    "                for j in range(NY):\n",
    "                    out_field[k, j, i] = in_field[k, j, i]\n",
    "        if n < N_ITER - 1:\n",
    "            in_field, out_field = out_field, in_field\n",
    "    return out_field\n",
    "            \n",
    "def array_pointwise_ZXY(in_field):\n",
    "    out_field = np.empty_like(in_field)\n",
    "    for n in range(N_ITER):\n",
    "        for k in range(NZ):\n",
    "            for i in range(NX):\n",
    "                for j in range(NY):\n",
    "                    out_field[k, j, i] = in_field[k, j, i]\n",
    "        if n < N_ITER - 1:\n",
    "            in_field, out_field = out_field, in_field\n",
    "    return out_field\n",
    "            \n",
    "def array_pointwise_YXZ(in_field):\n",
    "    out_field = np.empty_like(in_field)\n",
    "    for n in range(N_ITER):\n",
    "        for j in range(NY):\n",
    "            for i in range(NX):\n",
    "                for k in range(NZ):\n",
    "                    out_field[k, j, i] = in_field[k, j, i]\n",
    "        if n < N_ITER - 1:\n",
    "            in_field, out_field = out_field, in_field\n",
    "    return out_field\n",
    "\n",
    "def array_pointwise_YZX(in_field):\n",
    "    out_field = np.empty_like(in_field)\n",
    "    for n in range(N_ITER):\n",
    "        for j in range(NY):\n",
    "            for k in range(NZ):\n",
    "                for i in range(NX):\n",
    "                    out_field[k, j, i] = in_field[k, j, i]\n",
    "        if n < N_ITER - 1:\n",
    "            in_field, out_field = out_field, in_field\n",
    "    return out_field"
   ]
  },
  {
   "cell_type": "code",
   "execution_count": null,
   "id": "9b93fd07-0aef-4d52-b934-b4829be272fd",
   "metadata": {},
   "outputs": [],
   "source": [
    "%%timeit -n1 -r3 in_field = initialize_field(NX, NY, NZ, mode=\"square\")\n",
    "out_field = array_pointwise_ZYX(in_field)"
   ]
  },
  {
   "cell_type": "code",
   "execution_count": null,
   "id": "5f6fead1-4967-4912-953e-ade409a74d41",
   "metadata": {},
   "outputs": [],
   "source": [
    "%%timeit -n1 -r3 in_field = initialize_field(NX, NY, NZ, mode=\"square\")\n",
    "out_field = array_pointwise_XYZ(in_field)"
   ]
  },
  {
   "cell_type": "code",
   "execution_count": null,
   "id": "8386f863-b89a-415e-b135-e30b570a822d",
   "metadata": {},
   "outputs": [],
   "source": [
    "%%timeit -n1 -r3 in_field = initialize_field(NX, NY, NZ, mode=\"square\")\n",
    "out_field = array_pointwise_XZY(in_field)"
   ]
  },
  {
   "cell_type": "code",
   "execution_count": null,
   "id": "42475a33-72c8-495a-838f-368f13cffcde",
   "metadata": {},
   "outputs": [],
   "source": [
    "%%timeit -n1 -r3 in_field = initialize_field(NX, NY, NZ, mode=\"square\")\n",
    "out_field = array_pointwise_ZXY(in_field)"
   ]
  },
  {
   "cell_type": "code",
   "execution_count": null,
   "id": "388427cd-e8a2-4b17-a635-51faa0e4c996",
   "metadata": {},
   "outputs": [],
   "source": [
    "%%timeit -n1 -r3 in_field = initialize_field(NX, NY, NZ, mode=\"square\")\n",
    "out_field = array_pointwise_YXZ(in_field)"
   ]
  },
  {
   "cell_type": "code",
   "execution_count": null,
   "id": "d3282aaf-afd5-4eea-b8a5-c480a322b154",
   "metadata": {},
   "outputs": [],
   "source": [
    "%%timeit -n1 -r3 in_field = initialize_field(NX, NY, NZ, mode=\"square\")\n",
    "out_field = array_pointwise_YZX(in_field)"
   ]
  },
  {
   "cell_type": "markdown",
   "id": "0eb6d445-c88e-4184-be25-81877dd768cc",
   "metadata": {},
   "source": [
    "We observe some differences between some of the loop permutations. However, the important result is that they are all much slower than when working with lists. A possible explanation for this is that NumPy arrays are, by design, not cache frienly when accessed element by element. To actually understand this result we need to understand how NumPy arrays are stored in memory."
   ]
  },
  {
   "cell_type": "markdown",
   "id": "b13d3943-1eb7-4bd8-8020-859abb3fc49a",
   "metadata": {},
   "source": [
    "NumPy arrays are objects with two very different parts: a data buffer (a contiguous and fixed block of memory containing fixed-sized data items) and the metadata about the data buffer. The data buffer is very close to what C/Fortran developers would call an array. The metadata contains all the required information so that NumPy can correctly interpret the data buffer (e.g. strides, dim order, byte order, dtype, ...). NumPy deals with changes in arrays very efficiently avoiding unncessary copies. For example, reshaping an array only do changes to the metadata block but leaves the data buffer untouched. This is great but is something to have in mind when trying to optimize NumPy code or trying to explain some surprising results.\n",
    "\n",
    "For example, knowing how arrays are stored in memory we can now explain why previous tests were so terribly slow. The main reason is that every time we call `out_field[k, j, i] = in_field[k, j, i]` the metadata of both `in_field` and `out_field` arrays have to be read just to figure out how to access the desired element fields. Then, the relevant part of the data buffer is copied to cache. However, when we try to copy the next point, the metadata has to be loaded again to cache, loosing the data buffer, and so on. This code does not make good use of our CPU cache."
   ]
  },
  {
   "cell_type": "markdown",
   "id": "636b225a-3cb8-4dd5-9ba2-b0f17c3a4c8a",
   "metadata": {},
   "source": [
    "Now let's run the benchmark for the `sin()` stencil and save the results."
   ]
  },
  {
   "cell_type": "code",
   "execution_count": null,
   "id": "a45fabdc-6c4a-4d79-9bff-98e40a30a93e",
   "metadata": {},
   "outputs": [],
   "source": [
    "def array_sin_pointwise(in_field):\n",
    "    out_field = np.empty_like(in_field)\n",
    "    for n in range(N_ITER):\n",
    "        for k in range(NZ):\n",
    "            for j in range(NY):\n",
    "                for i in range(NX):\n",
    "                    out_field[k, j, i] = math.sin(in_field[k, j, i])\n",
    "        if n < N_ITER - 1:\n",
    "            in_field, out_field = out_field, in_field\n",
    "    return out_field"
   ]
  },
  {
   "cell_type": "code",
   "execution_count": null,
   "id": "e99ba649-16b8-405b-98a5-d73b4fb719f1",
   "metadata": {},
   "outputs": [],
   "source": [
    "%%timeit -n1 -r3 -o in_field = initialize_field(NX, NY, NZ, mode=\"square\")\n",
    "out_field = array_sin_pointwise(in_field)"
   ]
  },
  {
   "cell_type": "code",
   "execution_count": null,
   "id": "b5f54291-30cc-4450-9357-442e3a1ee9e8",
   "metadata": {},
   "outputs": [],
   "source": [
    "result = _\n",
    "save_result(result, \"array_sin_pointwise\")"
   ]
  },
  {
   "cell_type": "markdown",
   "id": "dc4f04d6-623a-4981-8329-147fd7ec6edd",
   "metadata": {},
   "source": [
    "### NumPy arrays with vectorized code\n",
    "\n",
    "Now we test the performance of the same two pointwise stencils using the vectorized NumPy that does not use `for` loops to iterate over the three spatial dimensions.\n",
    "\n",
    "This is how NumPy should be used. Leaving aside the overhead of Python `for` loops, this code is cache friendly because the metadata of both arrays is read only once, and then only the data buffers are read to make the actual copy. Because of this, large chuncks of the arrays are copied by reading directly from the cache."
   ]
  },
  {
   "cell_type": "code",
   "execution_count": null,
   "id": "b75ae958-3d3d-46ce-9eb6-610cf4d1abef",
   "metadata": {},
   "outputs": [],
   "source": [
    "def numpy_pointwise(in_field):\n",
    "    out_field = np.empty_like(in_field)\n",
    "    for n in range(N_ITER):\n",
    "        out_field[:, :, :] = in_field[:, :, :]\n",
    "        if n < N_ITER - 1:\n",
    "            in_field, out_field = out_field, in_field\n",
    "    return out_field"
   ]
  },
  {
   "cell_type": "code",
   "execution_count": null,
   "id": "0b6f2a62-85e7-41c6-95f8-c42e11cb196d",
   "metadata": {},
   "outputs": [],
   "source": [
    "%%timeit -o in_field = initialize_field(NX, NY, NZ, mode=\"square\")\n",
    "out_field = numpy_pointwise(in_field)"
   ]
  },
  {
   "cell_type": "code",
   "execution_count": null,
   "id": "2b95cc07-d0cb-4cb1-9821-9b40a660d2da",
   "metadata": {},
   "outputs": [],
   "source": [
    "result = _\n",
    "save_result(result, \"numpy_pointwise\")"
   ]
  },
  {
   "cell_type": "code",
   "execution_count": null,
   "id": "22ae216b-22b8-4dc0-90f7-fa85469aca68",
   "metadata": {},
   "outputs": [],
   "source": [
    "def numpy_sin_pointwise(in_field):\n",
    "    out_field = np.empty_like(in_field)\n",
    "    for n in range(N_ITER):\n",
    "        out_field = np.sin(in_field)\n",
    "        if n < N_ITER - 1:\n",
    "            in_field, out_field = out_field, in_field\n",
    "    return out_field"
   ]
  },
  {
   "cell_type": "code",
   "execution_count": null,
   "id": "470c8a18-fc60-4d74-bcd7-026a1fa5184b",
   "metadata": {},
   "outputs": [],
   "source": [
    "%%timeit -o in_field = initialize_field(NX, NY, NZ, mode=\"square\")\n",
    "out_field = numpy_sin_pointwise(in_field)"
   ]
  },
  {
   "cell_type": "code",
   "execution_count": null,
   "id": "5b31c772-303a-4451-a2ad-31480262a1e2",
   "metadata": {},
   "outputs": [],
   "source": [
    "result = _\n",
    "save_result(result, \"numpy_sin_pointwise\")"
   ]
  },
  {
   "cell_type": "markdown",
   "id": "058cf46e-39ba-4828-83f9-8916a8ae2cf6",
   "metadata": {},
   "source": [
    "The conclusion of these first tests is that Python loops are **terribly slow**. Python lists are not cache friendly but they are surprisingly fast if one takes into account how flexible they are. NumPy arrays can make things worse if they are used incorrectly, e.g., by iterating over the arrays, because they are even less cache friendly than lists. However, when used with vectorized code, performance can be increased a lot. The simplest pointwise stencil (copy) using NumPy vectorized code is **~150x faster** than pure Python code with lists, and the pointwise stencil applying `sin()` is **~7x faster**."
   ]
  },
  {
   "cell_type": "markdown",
   "id": "cec9655c-a9ae-40fb-b162-b0d504390185",
   "metadata": {},
   "source": [
    "# 1D stencils\n",
    "\n",
    "1D stencils updating with values from the same row or same colum only and with periodic boundary conditions.\n",
    "\n",
    "$$\n",
    "a(i,j) = \\frac{1}{2} \\Big[b(i+1,j) - b(i,j)\\Big]\n",
    "$$\n",
    "\n",
    "$$\n",
    "a(i,j) = \\frac{1}{2} \\Big[b(i,j+1) - b(i,j)\\Big]\n",
    "$$\n",
    "\n",
    "The factor 1/2 is to avoid getting huge numbers when `N_ITER` is large with the simple initialization patterns we defined before."
   ]
  },
  {
   "cell_type": "markdown",
   "id": "ce78abea-9043-452b-b25d-6dfee0a14260",
   "metadata": {},
   "source": [
    "The 1D stencils are the perfect opportunity to validate our explanation about why Python lists are slow. We should be able to observe and measure the effects of writing more or less cache friendly code by changing the order of the `for` loops and the order of how the lists are nested."
   ]
  },
  {
   "cell_type": "markdown",
   "id": "e0ea3341-39c4-4228-a0bc-66ba39bb16b6",
   "metadata": {},
   "source": [
    "###  Same column: $a(i,j) = \\frac{1}{2} \\Big[b(i+1,j) - b(i,j)\\Big]$\n",
    "\n",
    "This stencil updates each gridpoint with the current value and the value in the next column. For this reason, the optimal code will be the one that iterates the lists in the ZYX order, with the nested lists also stored in that order."
   ]
  },
  {
   "cell_type": "markdown",
   "id": "fa4d34c7-99d3-452b-b2db-64ca7f0b2cec",
   "metadata": {},
   "source": [
    "But let's start with our default list order, i.e. ZYX, and the ZXY order for the `for` loops."
   ]
  },
  {
   "cell_type": "code",
   "execution_count": null,
   "id": "a687c19b-9579-4f94-ab55-5c1067e2b6a6",
   "metadata": {},
   "outputs": [],
   "source": [
    "def list_1D_same_col_ZXY(in_field, out_field):\n",
    "    for n in range(N_ITER):\n",
    "        for k in range(NZ):\n",
    "            for i in range(NX - 1):\n",
    "                for j in range(NY):\n",
    "                    out_field[k][j][i] = 0.5 * (in_field[k][j][i+1] - in_field[k][j][i])\n",
    "                    # Periodic boundary condition\n",
    "                    out_field[k][j][NX-1] = 0.5 * (in_field[k][j][0] - in_field[k][j][NX-1])\n",
    "        if n < N_ITER - 1:\n",
    "            in_field, out_field = out_field, in_field"
   ]
  },
  {
   "cell_type": "code",
   "execution_count": null,
   "id": "66eb00c1-1246-4e45-87ca-ca5f43d48d87",
   "metadata": {},
   "outputs": [],
   "source": [
    "in_field = initialize_field(NX, NY, NZ, mode=\"vertical-bars\")\n",
    "out_field = np.zeros_like(in_field).tolist()\n",
    "in_field = in_field.tolist()\n",
    "list_1D_same_col_ZXY(in_field, out_field)\n",
    "plot_field(out_field)"
   ]
  },
  {
   "cell_type": "code",
   "execution_count": null,
   "id": "b3eb18a2-4212-4baa-a526-dbc3230cc8c3",
   "metadata": {},
   "outputs": [],
   "source": [
    "%%timeit -n1 -r3 in_field = initialize_field(NX, NY, NZ, mode=\"vertical-bars\"); out_field = np.zeros_like(in_field).tolist(); in_field = in_field.tolist(); \n",
    "list_1D_same_col_ZXY(in_field, out_field)"
   ]
  },
  {
   "cell_type": "code",
   "execution_count": null,
   "id": "48fc5425-e110-467a-9ad3-e54d9ad59922",
   "metadata": {},
   "outputs": [],
   "source": [
    "def list_1D_same_col_ZYX(in_field, out_field):\n",
    "    for n in range(N_ITER):\n",
    "        for k in range(NZ):\n",
    "            for j in range(NY):\n",
    "                for i in range(NX - 1):\n",
    "                    out_field[k][j][i] = 0.5 * (in_field[k][j][i+1] - in_field[k][j][i])\n",
    "                out_field[k][j][NX-1] = 0.5 * (in_field[k][j][0] - in_field[k][j][NX-1])\n",
    "        if n < N_ITER - 1:\n",
    "            in_field, out_field = out_field, in_field"
   ]
  },
  {
   "cell_type": "code",
   "execution_count": null,
   "id": "f663b5c9-4a33-4300-bb23-1d2e0c0efa8b",
   "metadata": {},
   "outputs": [],
   "source": [
    "%%timeit -n1 -r3 -o in_field = initialize_field(NX, NY, NZ, mode=\"vertical-bars\"); out_field = np.zeros_like(in_field).tolist(); in_field = in_field.tolist(); \n",
    "list_1D_same_col_ZYX(in_field, out_field)"
   ]
  },
  {
   "cell_type": "code",
   "execution_count": null,
   "id": "32d40933-d023-4493-884c-cf063cc1e96d",
   "metadata": {},
   "outputs": [],
   "source": [
    "result = _\n",
    "save_result(result, \"list_1D_same_col_ZYX\")"
   ]
  },
  {
   "cell_type": "markdown",
   "id": "f3b175cd-fb45-429d-aa7b-45cfdbba7ced",
   "metadata": {},
   "source": [
    "By looking at the identation of the code, we can also realize that by choosing the optimal way to iterate and nest the lists, we can save a few operations that implement the periodic boundary conditions. This, together with the higher cache hit ratio, explains the better performance of this scenario. We can quickly check the impact of the extra operations by identing the single line so that it belongs to the innermost loop."
   ]
  },
  {
   "cell_type": "code",
   "execution_count": null,
   "id": "121be82d-f847-4b5f-a84f-3e0a58dbbbe5",
   "metadata": {},
   "outputs": [],
   "source": [
    "def list_1D_same_col_ZYX_alt(in_field, out_field):\n",
    "    for n in range(N_ITER):\n",
    "        for k in range(NZ):\n",
    "            for j in range(NY):\n",
    "                for i in range(NX - 1):\n",
    "                    out_field[k][j][i] = 0.5 * (in_field[k][j][i+1] - in_field[k][j][i])\n",
    "                    out_field[k][j][NX-1] = 0.5 * (in_field[k][j][0] - in_field[k][j][NX-1])\n",
    "        if n < N_ITER - 1:\n",
    "            in_field, out_field = out_field, in_field"
   ]
  },
  {
   "cell_type": "code",
   "execution_count": null,
   "id": "f6d9eedc-589c-4d62-9d12-3c2c9a695371",
   "metadata": {},
   "outputs": [],
   "source": [
    "%%timeit -n1 -r3 in_field = initialize_field(NX, NY, NZ, mode=\"vertical-bars\"); out_field = np.zeros_like(in_field).tolist(); in_field = in_field.tolist(); \n",
    "list_1D_same_col_ZYX_alt(in_field, out_field)"
   ]
  },
  {
   "cell_type": "markdown",
   "id": "57317738-f201-44c8-9fea-29fd44565bf2",
   "metadata": {},
   "source": [
    "Finally, let's verify our hypothesis that the order of the two outer loops should not afffect performance as long as the nested lists follow the same order."
   ]
  },
  {
   "cell_type": "code",
   "execution_count": null,
   "id": "d3bbe1ac-f62c-4b8c-8fd8-c8e03cd495ae",
   "metadata": {},
   "outputs": [],
   "source": [
    "def list_1D_same_col_YZX(in_field, out_field):\n",
    "    for n in range(N_ITER):\n",
    "        for j in range(NY):\n",
    "            for k in range(NZ):\n",
    "                for i in range(NX - 1):\n",
    "                    out_field[k][j][i] = 0.5 * (in_field[k][j][i+1] - in_field[k][j][i])\n",
    "                out_field[k][j][NX-1] = 0.5 * (in_field[k][j][0] - in_field[k][j][NX-1])\n",
    "        if n < N_ITER - 1:\n",
    "            in_field, out_field = out_field, in_field"
   ]
  },
  {
   "cell_type": "code",
   "execution_count": null,
   "id": "9300f180-b37d-44e6-a55c-ed199f321bcd",
   "metadata": {},
   "outputs": [],
   "source": [
    "%%timeit -n1 -r3 in_field = initialize_field(NX, NY, NZ, mode=\"vertical-bars\"); out_field = np.zeros_like(in_field).tolist(); in_field = in_field.tolist(); \n",
    "list_1D_same_col_YZX(in_field, out_field)"
   ]
  },
  {
   "cell_type": "markdown",
   "id": "e6ccbbe4-b7ad-4e4b-8e49-865f48fe8384",
   "metadata": {},
   "source": [
    "Next, we will not benchmark NumPy arrays with `for` loops because we already know from the pointwise stencils that this will be much worse than lists. We have already explained why. So we will jump directly to explore the 1D stencil using vectorized NumPy code."
   ]
  },
  {
   "cell_type": "code",
   "execution_count": null,
   "id": "7b2deb09-dffb-4d5e-852d-793a6031e263",
   "metadata": {},
   "outputs": [],
   "source": [
    "def numpy_1D_same_col(in_field):\n",
    "    out_field = np.empty_like(in_field)\n",
    "    for n in range(N_ITER):\n",
    "        out_field[:, :, :-1] = 0.5 * (in_field[:, :, 1:] - in_field[:, :, :-1])\n",
    "        # Periodic boundary condition\n",
    "        out_field[:, :, -1] = 0.5 * (in_field[:, :, 0] - in_field[:, :, -1])\n",
    "        if n < N_ITER - 1:\n",
    "            in_field, out_field = out_field, in_field\n",
    "    return out_field"
   ]
  },
  {
   "cell_type": "markdown",
   "id": "6d89150e-118b-40d0-8dcb-507124230295",
   "metadata": {},
   "source": [
    "With vectorized code we cannot test different loop orders. The iteration over arrays is done internally by NumPy. However, we can explore the effects of storing the data in the data buffer differently. A first test we can do is to initialize the arrays using the Fortran-style rather than the C-style (default), and check whether this affects performance or not."
   ]
  },
  {
   "cell_type": "code",
   "execution_count": null,
   "id": "8d17fb46-7ba0-4fea-92ea-915264bd4df1",
   "metadata": {},
   "outputs": [],
   "source": [
    "%%timeit -n10 -r7 in_field = initialize_field(NX, NY, NZ, mode=\"vertical-bars\", array_order=\"C\")\n",
    "out_field = numpy_1D_same_col(in_field)"
   ]
  },
  {
   "cell_type": "code",
   "execution_count": null,
   "id": "ed15e06b-da81-487d-b0fe-02dc9960745c",
   "metadata": {},
   "outputs": [],
   "source": [
    "%%timeit -n10 -r7 in_field = initialize_field(NX, NY, NZ, mode=\"vertical-bars\", array_order=\"F\")\n",
    "out_field = numpy_1D_same_col(in_field)"
   ]
  },
  {
   "cell_type": "markdown",
   "id": "d317b320-3576-4e65-a4bb-612f1f2d5492",
   "metadata": {},
   "source": [
    "By default, the data buffers of NumPy arrays are stored row-wise (C), but as shown above this can be changed using the NumPy kwarg `order` (`array_order` simply passes this to `order` in our function as one can check in [`common.py`](./common.py)). From NumPy documentation:\n",
    "\n",
    "> Data in new ndarrays is in the row-major (C) order, unless otherwise specified, but, for example, basic array slicing often produces views in a different scheme.\n",
    "> (...)\n",
    "> Several algorithms in NumPy work on arbitrarily strided arrays. However, some algorithms require single-segment arrays. When an irregularly strided array is passed in to such algorithms, a copy is automatically made.\n",
    "\n",
    "The main takeaway should be that when using vectorized NumPy code, some situations may lead to worse performance than what one would expect. This may be due to extra copies being done by NumPy internally so that the data buffers of the arrays are stored in a certain way."
   ]
  },
  {
   "cell_type": "markdown",
   "id": "55c0d914-e827-4556-9f01-f01c7905d22f",
   "metadata": {},
   "source": [
    "We will test the performance of the 12 possible different storage configurations of the data buffers. That is, initializing the fields with the dimensions in all the possible permutations, and for each one the data buffer either in C-style or Fortran-style."
   ]
  },
  {
   "cell_type": "code",
   "execution_count": null,
   "id": "f4fb8f8d-624a-4e41-ab5b-2b61ba83eee3",
   "metadata": {},
   "outputs": [],
   "source": [
    "%%timeit -n10 -r7 in_field = initialize_field(NX, NY, NZ, mode=\"vertical-bars\", dim_order=\"ZYX\", array_order=\"C\")\n",
    "out_field = numpy_1D_same_col(in_field)"
   ]
  },
  {
   "cell_type": "code",
   "execution_count": null,
   "id": "ea157758-3511-4e76-92c5-bda2b7e1e820",
   "metadata": {},
   "outputs": [],
   "source": [
    "%%timeit -n10 -r7 in_field = initialize_field(NX, NY, NZ, mode=\"vertical-bars\", dim_order=\"ZYX\", array_order=\"F\")\n",
    "out_field = numpy_1D_same_col(in_field)"
   ]
  },
  {
   "cell_type": "code",
   "execution_count": null,
   "id": "4d1034a9-a71a-47fb-b53b-25a60e9b174f",
   "metadata": {},
   "outputs": [],
   "source": [
    "%%timeit -n10 -r7 in_field = initialize_field(NX, NY, NZ, mode=\"vertical-bars\", dim_order=\"XYZ\", array_order=\"C\")\n",
    "out_field = numpy_1D_same_col(in_field)"
   ]
  },
  {
   "cell_type": "code",
   "execution_count": null,
   "id": "9f183f2b-f3ac-4271-b857-fa06c50f7c5b",
   "metadata": {},
   "outputs": [],
   "source": [
    "%%timeit -n10 -r7 in_field = initialize_field(NX, NY, NZ, mode=\"vertical-bars\", dim_order=\"XYZ\", array_order=\"F\")\n",
    "out_field = numpy_1D_same_col(in_field)"
   ]
  },
  {
   "cell_type": "code",
   "execution_count": null,
   "id": "29681812-b8af-45ec-9b7f-576d16826ffa",
   "metadata": {},
   "outputs": [],
   "source": [
    "%%timeit -n10 -r7 in_field = initialize_field(NX, NY, NZ, mode=\"vertical-bars\", dim_order=\"XZY\", array_order=\"C\")\n",
    "out_field = numpy_1D_same_col(in_field)"
   ]
  },
  {
   "cell_type": "code",
   "execution_count": null,
   "id": "a0b42289-0610-4579-979c-a80d1e47f781",
   "metadata": {},
   "outputs": [],
   "source": [
    "%%timeit -n10 -r7 in_field = initialize_field(NX, NY, NZ, mode=\"vertical-bars\", dim_order=\"XZY\", array_order=\"F\")\n",
    "out_field = numpy_1D_same_col(in_field)"
   ]
  },
  {
   "cell_type": "code",
   "execution_count": null,
   "id": "f0a3213b-c979-463b-890a-83259acdb864",
   "metadata": {},
   "outputs": [],
   "source": [
    "%%timeit -n10 -r7 in_field = initialize_field(NX, NY, NZ, mode=\"vertical-bars\", dim_order=\"ZXY\", array_order=\"C\")\n",
    "out_field = numpy_1D_same_col(in_field)"
   ]
  },
  {
   "cell_type": "code",
   "execution_count": null,
   "id": "f37bd08e-7e79-40f5-83a7-af8081475788",
   "metadata": {},
   "outputs": [],
   "source": [
    "%%timeit -n10 -r7 in_field = initialize_field(NX, NY, NZ, mode=\"vertical-bars\", dim_order=\"ZXY\", array_order=\"F\")\n",
    "out_field = numpy_1D_same_col(in_field)"
   ]
  },
  {
   "cell_type": "code",
   "execution_count": null,
   "id": "d5c09149-975c-4ffc-b91c-e9e2b4d0534e",
   "metadata": {},
   "outputs": [],
   "source": [
    "%%timeit -n10 -r7 in_field = initialize_field(NX, NY, NZ, mode=\"vertical-bars\", dim_order=\"YXZ\", array_order=\"C\")\n",
    "out_field = numpy_1D_same_col(in_field)"
   ]
  },
  {
   "cell_type": "code",
   "execution_count": null,
   "id": "f9faa5ec-9245-4782-9ce6-9a388aa81a3b",
   "metadata": {},
   "outputs": [],
   "source": [
    "%%timeit -n10 -r7 in_field = initialize_field(NX, NY, NZ, mode=\"vertical-bars\", dim_order=\"YXZ\", array_order=\"F\")\n",
    "out_field = numpy_1D_same_col(in_field)"
   ]
  },
  {
   "cell_type": "code",
   "execution_count": null,
   "id": "af3bdca8-af91-4667-89e0-2637ddb86237",
   "metadata": {},
   "outputs": [],
   "source": [
    "%%timeit -n10 -r7 in_field = initialize_field(NX, NY, NZ, mode=\"vertical-bars\", dim_order=\"YZX\", array_order=\"C\")\n",
    "out_field = numpy_1D_same_col(in_field)"
   ]
  },
  {
   "cell_type": "code",
   "execution_count": null,
   "id": "16872dfa-bc85-428e-bc6e-c88d53db5b53",
   "metadata": {},
   "outputs": [],
   "source": [
    "%%timeit -n10 -r7 in_field = initialize_field(NX, NY, NZ, mode=\"vertical-bars\", dim_order=\"YZX\", array_order=\"F\")\n",
    "out_field = numpy_1D_same_col(in_field)"
   ]
  },
  {
   "cell_type": "markdown",
   "id": "d82533a9-6351-4a7a-ad3f-60563295c654",
   "metadata": {},
   "source": [
    "To explain these results we need to understand how arbitrary N-dimensional arrays are stored in a one-dimensional segment of computer memory. In particular, let's suppose that `array` is a N-dimensional array with dimensions $d=(d_0,d_1,\\dots,d_{N-1})$. The offset of element $(n_0,n_1,\\dots,n_{N-1})$, i.e., the number of bytes from the beginning of the data buffer to the element, is given by the formula\n",
    "\n",
    "$$\n",
    "n_\\text{offset} = \\sum_{k=0}^{N-1} s_k n_k\\,,\n",
    "$$\n",
    "\n",
    "where $s_k$ are the so-called strides of the array, i.e., the number of bytes required to advance one position in the $k$ dimension. These strides are precisely the numbers that change when we store the data in C-style or Fortran-style. In particular, we have that\n",
    "\n",
    "$$\n",
    "s_k^F = \\text{itemsize}\\times\\prod_{j=0}^{k-1}d_j\\,,\\quad s_k^{C} = \\text{itemsize}\\times\\prod_{j=k+1}^{N-1}d_j\n",
    "$$\n",
    "\n",
    "The main takeaway from this is that NumPy arrays in C-style have contiguous elements from the first dimension closer to each other, and in Fortran-style is the opposite, i.e., elements from the last dimension are closer to each other.\n",
    "\n",
    "For example, for our 3D fields with $d=(\\text{NZ},\\text{NY},\\text{NX})$, we get that for Fortran-style arrays $s_Z=8$, $s_Y=8\\times\\text{NZ}=640$ and $s_X=8\\times\\text{NZ}\\times\\text{NY}=81920$, and for C-style arrays $s_Z=8$, $s_Y=8\\times\\text{NY}=1024$ and $s_X=8\\times\\text{NZ}\\times\\text{NY}=131072$. Let's verify this."
   ]
  },
  {
   "cell_type": "code",
   "execution_count": null,
   "id": "fbe3fdcc-884a-40e6-a55d-cc0e1bc9bf3a",
   "metadata": {},
   "outputs": [],
   "source": [
    "field_C = initialize_field(NX, NY, NZ, dim_order=\"ZYX\", array_order=\"C\")\n",
    "field_F = initialize_field(NX, NY, NZ, dim_order=\"ZYX\", array_order=\"F\")\n",
    "print(f\"C-style: {field_C.strides}\")\n",
    "print(f\"Fortran-style: {field_F.strides}\")"
   ]
  },
  {
   "cell_type": "markdown",
   "id": "c9b2f121-240e-4d7c-8d74-aa36621a53f8",
   "metadata": {},
   "source": [
    "Based on this we can explain the differences observed in previous benchmarks: `numpy_1D_same_col()` is the slower when `dim_order=\"ZYX\"` and `array_order=\"C\"` because $s_X\\approx $ kB, while is the faster for `dim_order=\"ZYX\"` and `array_order=\"F\"` because $s_X=0$, maximizing the cache hit ratio. The remaining results that are in between correspond to the cases $s_X=640$ B or $s_X\\approx 1$ kB."
   ]
  },
  {
   "cell_type": "markdown",
   "id": "f185cf84-39d2-41c4-8298-9ab35c8d2f35",
   "metadata": {},
   "source": [
    "## Same row: $a(i,j) = \\frac{1}{2} \\Big[b(i,j+1) - b(i,j)\\Big]$"
   ]
  },
  {
   "cell_type": "markdown",
   "id": "3ca2e329-defb-4bb1-833f-600733e8284f",
   "metadata": {},
   "source": [
    "Now in this other stencil, we want the innermost loop to iterate over the rows. This means that the optimal loop permutations are ZXY and XZY."
   ]
  },
  {
   "cell_type": "code",
   "execution_count": null,
   "id": "87281c29-de33-4c50-963d-93a0c2a6dee6",
   "metadata": {},
   "outputs": [],
   "source": [
    "def list_1D_same_row_ZXY(in_field, out_field):\n",
    "    for n in range(N_ITER):\n",
    "        for k in range(NZ):\n",
    "            for i in range(NX):\n",
    "                for j in range(NY-1):\n",
    "                    out_field[k][j][i] = 0.5 * (in_field[k][j+1][i] - in_field[k][j][i])\n",
    "                out_field[k][NY-1][i] = 0.5 * (in_field[k][0][i] - in_field[k][NY-1][i])\n",
    "        if n < N_ITER - 1:\n",
    "            in_field, out_field = out_field, in_field"
   ]
  },
  {
   "cell_type": "code",
   "execution_count": null,
   "id": "56019e51-ee76-4a7b-b22a-d533f7b2e4d2",
   "metadata": {},
   "outputs": [],
   "source": [
    "in_field = initialize_field(NX, NY, NZ, mode=\"horizontal-bars\")\n",
    "out_field = np.zeros_like(in_field).tolist()\n",
    "in_field = in_field.tolist()\n",
    "list_1D_same_row_ZXY(in_field, out_field)\n",
    "plot_field(out_field)"
   ]
  },
  {
   "cell_type": "code",
   "execution_count": null,
   "id": "14912595-6ba5-4823-8517-b75c877b7f31",
   "metadata": {},
   "outputs": [],
   "source": [
    "%%timeit -n1 -r3 in_field = initialize_field(NX, NY, NZ, mode=\"horizontal-bars\"); out_field = np.zeros_like(in_field).tolist(); in_field = in_field.tolist()\n",
    "list_1D_same_row_ZXY(in_field, out_field)"
   ]
  },
  {
   "cell_type": "markdown",
   "id": "e3d689b3-6cab-411a-97b2-54b54a52c407",
   "metadata": {},
   "source": [
    "This result is quite good because the order of the loops is the right one (and we already benefit form less calls to the boundary contidion update), but we can still improve it by nesting the lists in the same way as the loops."
   ]
  },
  {
   "cell_type": "code",
   "execution_count": null,
   "id": "c8ce49a8-ffea-4f22-a372-5f30095e1a40",
   "metadata": {},
   "outputs": [],
   "source": [
    "def list_1D_same_row_ZXY_alt(in_field, out_field):\n",
    "    for n in range(N_ITER):\n",
    "        for k in range(NZ):\n",
    "            for i in range(NX):\n",
    "                for j in range(NY-1):\n",
    "                    out_field[k][i][j] = 0.5 * (in_field[k][i][j+1] - in_field[k][i][j])\n",
    "                out_field[k][i][NY-1] = 0.5 * (in_field[k][i][0] - in_field[k][i][NY-1])\n",
    "        if n < N_ITER - 1:\n",
    "            in_field, out_field = out_field, in_field"
   ]
  },
  {
   "cell_type": "code",
   "execution_count": null,
   "id": "0903a6bb-e089-42a7-95f0-218c6044cd75",
   "metadata": {},
   "outputs": [],
   "source": [
    "%%timeit -n1 -r3 -o in_field = initialize_field(NX, NY, NZ, dim_order=\"ZXY\", mode=\"horizontal-bars\"); out_field = np.zeros_like(in_field).tolist(); in_field = in_field.tolist()\n",
    "list_1D_same_row_ZXY_alt(in_field, out_field)"
   ]
  },
  {
   "cell_type": "code",
   "execution_count": null,
   "id": "d61fad05-259d-4e21-92cd-c5bbcfafcb99",
   "metadata": {},
   "outputs": [],
   "source": [
    "result = _\n",
    "save_result(result, \"list_1D_same_row_ZXY\")"
   ]
  },
  {
   "cell_type": "markdown",
   "id": "1fb0efa8-df2a-48fc-86b5-1bf9a3cd090b",
   "metadata": {},
   "source": [
    "Let's check that we get similar time with the other optimal setting."
   ]
  },
  {
   "cell_type": "code",
   "execution_count": null,
   "id": "15fe6ca0-8d89-4f14-90d6-67af7f8b1361",
   "metadata": {},
   "outputs": [],
   "source": [
    "def list_1D_same_row_XZY(in_field, out_field):\n",
    "    for n in range(N_ITER):\n",
    "        for i in range(NX):\n",
    "            for k in range(NZ):\n",
    "                for j in range(NY-1):\n",
    "                    out_field[i][k][j] = 0.5 * (in_field[i][k][j+1] - in_field[i][k][j])\n",
    "                out_field[i][k][NY-1] = 0.5 * (in_field[i][k][0] - in_field[i][k][NY-1])\n",
    "        if n < N_ITER - 1:\n",
    "            in_field, out_field = out_field, in_field"
   ]
  },
  {
   "cell_type": "code",
   "execution_count": null,
   "id": "72d7d93d-1473-4acc-8217-13b44a4e11c8",
   "metadata": {},
   "outputs": [],
   "source": [
    "%%timeit -n1 -r3 in_field = initialize_field(NX, NY, NZ, dim_order=\"XZY\", mode=\"horizontal-bars\"); out_field = np.zeros_like(in_field).tolist(); in_field = in_field.tolist()\n",
    "list_1D_same_row_XZY(in_field, out_field)"
   ]
  },
  {
   "cell_type": "markdown",
   "id": "2c00b22f-20c9-461b-b959-746679c05cf5",
   "metadata": {},
   "source": [
    "Finally, let's check the vectorized NumPy code. We are now in a position to try to guess what is the fastest and slowest scenarios. We don't need to try the 12 of them like we did before. In particular, for the fastest implementation, we want to minimize the stride of the second dimension, i.e., make $s_1\\equiv s_Y=0$. This happens, for example, for `dim_order=\"YXZ\"` and `array_order=\"C\"` or `dim_order=\"ZXY\"` and `array_order=\"F\"`.\n",
    "\n",
    "For this reason, with the default `dim_order=\"ZYX\"` is impossible to get the best performance observed in the same col case, no matter if we use C-style arrays or Fortran-style arrays. We will not observe the worst case either."
   ]
  },
  {
   "cell_type": "code",
   "execution_count": null,
   "id": "7039b3e9-9b56-4626-a363-e75634e0ab24",
   "metadata": {},
   "outputs": [],
   "source": [
    "def numpy_1D_same_row(in_field):\n",
    "    out_field = np.empty_like(in_field)\n",
    "    for n in range(N_ITER):\n",
    "        out_field[:, :-1, :] = 0.5 * (in_field[:, 1:, :] - in_field[:, :-1, :])\n",
    "        # Periodic boundary condition\n",
    "        out_field[:, -1, :] = 0.5 * (in_field[:, 0, :] - in_field[:, -1, :])\n",
    "        if n < N_ITER - 1:\n",
    "            in_field, out_field = out_field, in_field\n",
    "    return out_field"
   ]
  },
  {
   "cell_type": "code",
   "execution_count": null,
   "id": "715f7da9-9e1b-4b0d-bbe6-ad5d8781e93a",
   "metadata": {},
   "outputs": [],
   "source": [
    "%%timeit in_field = initialize_field(NX, NY, NZ, mode=\"horizontal-bars\", array_order=\"C\")\n",
    "out_field = numpy_1D_same_row(in_field)"
   ]
  },
  {
   "cell_type": "code",
   "execution_count": null,
   "id": "1848b208-13d5-4358-97dc-0e4029e9ebc5",
   "metadata": {},
   "outputs": [],
   "source": [
    "%%timeit in_field = initialize_field(NX, NY, NZ, mode=\"horizontal-bars\", array_order=\"F\")\n",
    "out_field = numpy_1D_same_row(in_field)"
   ]
  },
  {
   "cell_type": "markdown",
   "id": "bb94ef00-00ee-441b-97ee-d9bf1d17f98b",
   "metadata": {},
   "source": [
    "To conclude this section of 1D stencils, let's try to replicate the best and worst results we obtain in the same col case. To make it more fun, and perhaps observe some weird result due to the internals of NumPy, instead of reusing the `numpy_1D_same_row()` function with modified `dim_order` arrays, let's write a new function where the shifted index is the first, instead of the last one."
   ]
  },
  {
   "cell_type": "code",
   "execution_count": null,
   "id": "8e05e02b-1003-4fca-a244-dc513d8d4228",
   "metadata": {},
   "outputs": [],
   "source": [
    "def numpy_1D_same_row_alt(in_field):\n",
    "    out_field = np.empty_like(in_field)\n",
    "    for n in range(N_ITER):\n",
    "        out_field[:-1, :, :] = 0.5 * (in_field[1:, :, :] - in_field[:-1, :, :])\n",
    "        # Periodic boundary condition\n",
    "        out_field[-1, :, :] = 0.5 * (in_field[0, :, :] - in_field[-1, :, :])\n",
    "        if n < N_ITER - 1:\n",
    "            in_field, out_field = out_field, in_field\n",
    "    return out_field"
   ]
  },
  {
   "cell_type": "code",
   "execution_count": null,
   "id": "b6a74898-9892-4667-a3f2-2add5dc7b892",
   "metadata": {},
   "outputs": [],
   "source": [
    "%%timeit in_field = initialize_field(NX, NY, NZ, mode=\"horizontal-bars\", dim_order=\"YXZ\", array_order=\"C\")\n",
    "out_field = numpy_1D_same_row_alt(in_field)"
   ]
  },
  {
   "cell_type": "code",
   "execution_count": null,
   "id": "1bc76f30-8e37-4bde-a3f7-0bda2a4b2b79",
   "metadata": {},
   "outputs": [],
   "source": [
    "%%timeit in_field = initialize_field(NX, NY, NZ, mode=\"horizontal-bars\", dim_order=\"YXZ\", array_order=\"F\")\n",
    "out_field = numpy_1D_same_row_alt(in_field)"
   ]
  },
  {
   "cell_type": "code",
   "execution_count": null,
   "id": "34272536-e11e-4788-908e-61ede0a6be1d",
   "metadata": {},
   "outputs": [],
   "source": [
    "plot_field(out_field)"
   ]
  },
  {
   "cell_type": "markdown",
   "id": "8ee1edd6-4058-4cad-b492-66cc101646a3",
   "metadata": {},
   "source": [
    "## 2D stencil\n",
    "\n",
    "The last stencil we will check is the 4th-order non-monotonic diffusion we used during the course, which is defined in terms of the Laplace operator as\n",
    "\n",
    "$$\n",
    "a(i, j) = \\Delta(\\Delta(b(i, j)))\n",
    "$$\n",
    "\n",
    "More details about the discretization and the exact stencil can be read in [the project report](./report.pdf).\n",
    "\n",
    "Since it is already clear from the experiments with pointwise and 1D stencils, that python `for` loops are very slow. Here we will only run the numpy implementation from `stencil2d.py` given in the course. This will set the base time to improve using the different high-level programming techniques available in Python (which will be tested in different notebooks)."
   ]
  },
  {
   "cell_type": "code",
   "execution_count": null,
   "id": "d2fb44b5-eee4-412a-a5b6-fd4e00d6ace8",
   "metadata": {},
   "outputs": [],
   "source": [
    "from stencil2d import apply_diffusion as numpy_2D"
   ]
  },
  {
   "cell_type": "code",
   "execution_count": null,
   "id": "b6f03699-292c-4c7d-9246-78ec82ef57c7",
   "metadata": {},
   "outputs": [],
   "source": [
    "in_field = initialize_field(NX, NY, NZ, mode=\"square\")\n",
    "out_field = np.empty_like(in_field)\n",
    "plot_field(in_field)"
   ]
  },
  {
   "cell_type": "code",
   "execution_count": null,
   "id": "2dd6c60b-7b70-445f-9acc-280f50c362b0",
   "metadata": {},
   "outputs": [],
   "source": [
    "numpy_2D(in_field, out_field, num_halo=2, num_iter=N_ITER)"
   ]
  },
  {
   "cell_type": "code",
   "execution_count": null,
   "id": "fbb4eef9-7015-49ce-99b7-bfffe693145d",
   "metadata": {},
   "outputs": [],
   "source": [
    "plot_field(out_field)"
   ]
  },
  {
   "cell_type": "code",
   "execution_count": null,
   "id": "6c3c283f-e091-4da6-bce7-094daf577b32",
   "metadata": {},
   "outputs": [],
   "source": [
    "%%timeit -o in_field = initialize_field(NX, NY, NZ, mode=\"square\"); out_field = np.empty_like(in_field)\n",
    "numpy_2D(in_field, out_field, num_halo=2, num_iter=N_ITER)"
   ]
  },
  {
   "cell_type": "code",
   "execution_count": null,
   "id": "9f84609c-0bcd-4128-86e5-b6a6e7900d87",
   "metadata": {},
   "outputs": [],
   "source": [
    "result = _\n",
    "save_result(result, \"numpy_2D\")"
   ]
  },
  {
   "cell_type": "markdown",
   "id": "a6d6dbd2-b713-4ec3-a66b-1d5969ade942",
   "metadata": {},
   "source": [
    "# Conclusions\n",
    "\n",
    "- NumPy arrays are much faster than Python lists\n",
    "- The explanation is that (vectorized) NumPy code is much more cache friendly than Python code with nested `for` loops\n",
    "- **TODO: Verify this carefully.** Unfortunately, NumPy does not take full advantage of multithreading\n",
    "- NumPy is not very efficient about memory usage (there are some exceptions such as matrix-matrix multiplication)\n",
    "\n",
    "---"
   ]
  },
  {
   "cell_type": "markdown",
   "id": "c180ed14-3b11-4b76-a26d-dacf765b0696",
   "metadata": {},
   "source": [
    "# Appendices"
   ]
  },
  {
   "cell_type": "markdown",
   "id": "9894280d-8fd3-4af5-a710-133e624015fb",
   "metadata": {},
   "source": [
    "## np.sin() vs math.sin()\n",
    "\n",
    "There is no doubt that `np.sin()` is faster than `math.sin()` when applied to large NumPy arrays. But this function has an overhead cost when applied to single elements. Here we show that `math.sin()` is more efficient than `np.sin()` when applied to 4 or less elements. However, the overhead of a Python loop is even worse than the overhead of `np.sin()`."
   ]
  },
  {
   "cell_type": "code",
   "execution_count": null,
   "id": "ff971006-ff67-4fc7-809f-2080063cacbc",
   "metadata": {},
   "outputs": [],
   "source": [
    "rng = np.random.default_rng()\n",
    "x = rng.random(100)"
   ]
  },
  {
   "cell_type": "markdown",
   "id": "28d5d3f4-c50d-4322-bf3f-3e8c4cf13cd0",
   "metadata": {},
   "source": [
    "`np.sin()` is ~7.7 times slower than `math.sin()` when applied to a single value."
   ]
  },
  {
   "cell_type": "code",
   "execution_count": null,
   "id": "47289d53-ccdb-4469-a5eb-cd44679facdc",
   "metadata": {},
   "outputs": [],
   "source": [
    "%timeit math.sin(x[0])"
   ]
  },
  {
   "cell_type": "code",
   "execution_count": null,
   "id": "d8de19aa-62c1-4892-9d21-0d67199b8cf8",
   "metadata": {},
   "outputs": [],
   "source": [
    "%timeit np.sin(x[0])"
   ]
  },
  {
   "cell_type": "markdown",
   "id": "9989375d-6340-486a-b69a-b900e4248f8f",
   "metadata": {},
   "source": [
    "However, we loose part of this performance the moment we use a single for loop."
   ]
  },
  {
   "cell_type": "code",
   "execution_count": null,
   "id": "1be4550f-38f7-44ba-8f32-80cae9d2e7b6",
   "metadata": {},
   "outputs": [],
   "source": [
    "%timeit for i in range(1): math.sin(x[i])"
   ]
  },
  {
   "cell_type": "code",
   "execution_count": null,
   "id": "bcc5935d-6c48-4ccd-8cf7-8e77d9b87170",
   "metadata": {},
   "outputs": [],
   "source": [
    "%timeit np.sin(x[:1])"
   ]
  },
  {
   "cell_type": "markdown",
   "id": "b8bda154-bd2a-47a8-81e6-f6af45b0ebb5",
   "metadata": {},
   "source": [
    "In any case, even without for loops, `math.sin()` becomes slower than `np.sin()` the moment we need to compute more than four values."
   ]
  },
  {
   "cell_type": "code",
   "execution_count": null,
   "id": "7d241b05-af0e-4975-82c5-c639bd2ca584",
   "metadata": {},
   "outputs": [],
   "source": [
    "%timeit math.sin(x[0]), math.sin(x[1]), math.sin(x[2]), math.sin(x[3]), math.sin(x[4]), math.sin(x[5])"
   ]
  },
  {
   "cell_type": "code",
   "execution_count": null,
   "id": "eca44b31-af67-48f1-b29e-9ad6fc83adc9",
   "metadata": {},
   "outputs": [],
   "source": [
    "%timeit np.sin(x[:6])"
   ]
  },
  {
   "cell_type": "markdown",
   "id": "f77b3318-a859-4061-9b4f-2deeae3805d3",
   "metadata": {},
   "source": [
    "This is because `np.sin()` computes these values in parallel, while the `math.sin()` computes them sequentially."
   ]
  },
  {
   "cell_type": "markdown",
   "id": "5ac3fede-c6a6-4843-846c-b42299d9ed7c",
   "metadata": {},
   "source": [
    "## Different dtypes affect performance\n",
    "\n",
    "NumPy supports defines different data type (dtype) objects which describes how the bytes in the fixed-size block of memory corresponding to an array item should be interpreted. By default, NumPy will choose a proper dtype depending on the input passing to the constructor. However, we are free to change this default behaviour by specifying manually the dtype. As expected, and quickly demonstrated here using the `numpy_sin_pointwise()` function, this choice can also impact the performance of our stencil model."
   ]
  },
  {
   "cell_type": "code",
   "execution_count": null,
   "id": "d8b8ac2d-6985-4bed-8fe4-6a58dced4605",
   "metadata": {},
   "outputs": [],
   "source": [
    "dtypes_ = [np.float16, np.float32, np.float64, np.float128]"
   ]
  },
  {
   "cell_type": "code",
   "execution_count": null,
   "id": "511c5322-415b-42b5-9ba6-1a21ce467ff0",
   "metadata": {},
   "outputs": [],
   "source": [
    "%%timeit in_field, out_field = initialize_fields(NX, NY, NZ, mode=\"square\", dtype=dtypes_[0])\n",
    "numpy_sin_pointwise(in_field, out_field)"
   ]
  },
  {
   "cell_type": "code",
   "execution_count": null,
   "id": "44125a7a-f1f4-446b-9124-5bfd17236873",
   "metadata": {},
   "outputs": [],
   "source": [
    "%%timeit in_field, out_field = initialize_fields(NX, NY, NZ, mode=\"square\", dtype=dtypes_[1])\n",
    "numpy_sin_pointwise(in_field, out_field)"
   ]
  },
  {
   "cell_type": "code",
   "execution_count": null,
   "id": "a765c5ae-af68-4968-8629-02032ce28467",
   "metadata": {},
   "outputs": [],
   "source": [
    "%%timeit in_field, out_field = initialize_fields(NX, NY, NZ, mode=\"square\", dtype=dtypes_[2])\n",
    "numpy_sin_pointwise(in_field, out_field)"
   ]
  },
  {
   "cell_type": "code",
   "execution_count": null,
   "id": "1b47adf2-afbe-4f56-8035-674f034ab5ef",
   "metadata": {},
   "outputs": [],
   "source": [
    "%%timeit in_field, out_field = initialize_fields(NX, NY, NZ, mode=\"square\", dtype=dtypes_[3])\n",
    "numpy_sin_pointwise(in_field, out_field)"
   ]
  },
  {
   "cell_type": "markdown",
   "id": "2e9f07df-249b-437f-9f67-b7877f894f1e",
   "metadata": {},
   "source": [
    "More numerical precision implies moving more data from and to memory."
   ]
  }
 ],
 "metadata": {
  "kernelspec": {
   "display_name": "Python 3 (ipykernel)",
   "language": "python",
   "name": "python3"
  },
  "language_info": {
   "codemirror_mode": {
    "name": "ipython",
    "version": 3
   },
   "file_extension": ".py",
   "mimetype": "text/x-python",
   "name": "python",
   "nbconvert_exporter": "python",
   "pygments_lexer": "ipython3",
   "version": "3.11.3"
  }
 },
 "nbformat": 4,
 "nbformat_minor": 5
}
