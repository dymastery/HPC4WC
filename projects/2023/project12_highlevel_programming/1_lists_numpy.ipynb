{
 "cells": [
  {
   "cell_type": "markdown",
   "id": "c24f2f76-c257-465b-9009-94e831362cd5",
   "metadata": {},
   "source": [
    "This notebok benchmarks different simple stencils (pointwise, 1D, etc.) using pure python code (lists), numpy arrays keeping `for` loops, and numpy parallel code."
   ]
  },
  {
   "cell_type": "code",
   "execution_count": 1,
   "id": "29a838a8-c1a9-4cd3-a586-74937c12be70",
   "metadata": {},
   "outputs": [],
   "source": [
    "import random\n",
    "import math\n",
    "import timeit\n",
    "import numpy as np"
   ]
  },
  {
   "cell_type": "code",
   "execution_count": 2,
   "id": "9b847e0f-cd8d-42b6-abc8-ec40f8afe855",
   "metadata": {},
   "outputs": [],
   "source": [
    "from common import initialize_fields, plot_field"
   ]
  },
  {
   "cell_type": "code",
   "execution_count": 3,
   "id": "eb102997-3577-4c61-9efc-8cb88796775f",
   "metadata": {},
   "outputs": [],
   "source": [
    "NX = 128\n",
    "NY = 128\n",
    "NZ = 80\n",
    "N_ITER = 50"
   ]
  },
  {
   "cell_type": "markdown",
   "id": "94de7da0-929b-4acc-be34-14ed9ff40e31",
   "metadata": {},
   "source": [
    "# Pointwise stencils\n",
    "\n",
    "We consider two pointwise stencil models: a simple copy, and applying the `sin` function.\n",
    "\n",
    "$$\n",
    "a(i) = b(i)\n",
    "$$\n",
    "\n",
    "$$\n",
    "a(i) = \\sin(b(i))\n",
    "$$"
   ]
  },
  {
   "cell_type": "code",
   "execution_count": 4,
   "id": "7a4cd203-0c69-4c9a-beda-e3a78484c742",
   "metadata": {},
   "outputs": [],
   "source": [
    "def list_pointwise(in_field, out_field, plot=False):\n",
    "    \"\"\"\n",
    "    The simplest pointwise stencil (copy) with list N_ITER times.\n",
    "    The output is the time it took to run the stencil function in seconds.\n",
    "    \"\"\"   \n",
    "    # Apply pointwise copy stencil\n",
    "    tic = timeit.default_timer()\n",
    "    for iter in range(N_ITER):\n",
    "        for k in range(NZ):\n",
    "            for j in range(NY):\n",
    "                for i in range(NX):\n",
    "                    out_field[k][j][i] = in_field[k][j][i]\n",
    "        if iter < N_ITER - 1:\n",
    "            in_field, out_field = out_field, in_field\n",
    "    toc = timeit.default_timer()\n",
    "    \n",
    "    if plot:\n",
    "        plot_field(out_field)\n",
    "    \n",
    "    return toc - tic"
   ]
  },
  {
   "cell_type": "code",
   "execution_count": 5,
   "id": "ef85c586-3cee-491a-b390-5e4c3960a23f",
   "metadata": {},
   "outputs": [],
   "source": [
    "in_field, out_field = initialize_fields(NX, NY, NZ, mode=\"square\")"
   ]
  },
  {
   "cell_type": "code",
   "execution_count": 6,
   "id": "0b267336-1d54-4a1c-bbbc-8116a740ad29",
   "metadata": {},
   "outputs": [
    {
     "name": "stdout",
     "output_type": "stream",
     "text": [
      "8.4 s ± 20.8 ms per loop (mean ± std. dev. of 7 runs, 1 loop each)\n"
     ]
    }
   ],
   "source": [
    "%timeit list_pointwise(in_field.tolist(), out_field.tolist())"
   ]
  },
  {
   "cell_type": "code",
   "execution_count": 7,
   "id": "54e25f42-622e-4503-9167-52e7b0ffdb38",
   "metadata": {},
   "outputs": [],
   "source": [
    "def list_sin_pointwise(in_field, out_field, plot=False):\n",
    "    \"\"\"\n",
    "    Pointwise stencil with lists applying sin() to each point N_ITER times.\n",
    "    The output is the time it took to run the stencil function in seconds.\n",
    "    \"\"\"\n",
    "    # Apply pointwise copy stencil\n",
    "    tic = timeit.default_timer()\n",
    "    for iter in range(N_ITER):\n",
    "        for k in range(NZ):\n",
    "            for j in range(NY):\n",
    "                for i in range(NX):\n",
    "                    # numpy.sin() is ~7 times slower than math.sin() when applied to single values\n",
    "                    out_field[k][j][i] = math.sin(in_field[k][j][i])\n",
    "        if iter < N_ITER - 1:\n",
    "            in_field, out_field = out_field, in_field\n",
    "    toc = timeit.default_timer()\n",
    "\n",
    "    if plot:\n",
    "        plot_field(out_field)\n",
    "        \n",
    "    return toc - tic"
   ]
  },
  {
   "cell_type": "code",
   "execution_count": 8,
   "id": "c5a653f3-c1e9-4524-a142-62fec2a9cab2",
   "metadata": {},
   "outputs": [
    {
     "name": "stdout",
     "output_type": "stream",
     "text": [
      "13.6 s ± 193 ms per loop (mean ± std. dev. of 7 runs, 1 loop each)\n"
     ]
    }
   ],
   "source": [
    "# There is no need to initialize the fields again because tolist() already creates a copy\n",
    "# so we are not modifying the original arrays\n",
    "%timeit list_sin_pointwise(in_field.tolist(), out_field.tolist())"
   ]
  },
  {
   "cell_type": "code",
   "execution_count": 9,
   "id": "56bfe1bc-b415-42a5-ae0e-a33c5447f399",
   "metadata": {},
   "outputs": [],
   "source": [
    "def array_pointwise(in_field, out_field, plot=False):\n",
    "    \"\"\"\n",
    "    The simplest pointwise stencil (copy) with arrays N_ITER times.\n",
    "    The output is the time it took to run the stencil function in seconds.\n",
    "    \"\"\"\n",
    "    # Apply pointwise copy stencil\n",
    "    tic = timeit.default_timer()\n",
    "    for iter in range(N_ITER):\n",
    "        for k in range(NZ):\n",
    "            for j in range(NY):\n",
    "                for i in range(NX):\n",
    "                    out_field[k, j, i] = in_field[k, j, i]\n",
    "        if iter < N_ITER - 1:\n",
    "            in_field, out_field = out_field, in_field\n",
    "    toc = timeit.default_timer()\n",
    "    \n",
    "    if plot:\n",
    "        plot_field(out_field)\n",
    "    \n",
    "    return toc - tic"
   ]
  },
  {
   "cell_type": "code",
   "execution_count": 10,
   "id": "bb22c682-d182-4643-936d-42e8ae0d9c0f",
   "metadata": {},
   "outputs": [
    {
     "name": "stdout",
     "output_type": "stream",
     "text": [
      "15.3 s ± 7.77 ms per loop (mean ± std. dev. of 7 runs, 1 loop each)\n"
     ]
    }
   ],
   "source": [
    "%%timeit\n",
    "# Now we do need to initialize the fields again because we are passing the numpy\n",
    "# arrays directly to the functions, so the in_field gets modified\n",
    "in_field, out_field = initialize_fields(NX, NY, NZ, mode=\"square\")\n",
    "array_pointwise(in_field, out_field)"
   ]
  },
  {
   "cell_type": "code",
   "execution_count": 11,
   "id": "a45fabdc-6c4a-4d79-9bff-98e40a30a93e",
   "metadata": {},
   "outputs": [],
   "source": [
    "def array_sin_pointwise(in_field, out_field, plot=False):\n",
    "    \"\"\"\n",
    "    Pointwise stencil with arrays applying sin() to each point N_ITER times.\n",
    "    The output is the time it took to run the stencil function in seconds.\n",
    "    \"\"\"\n",
    "    # Apply pointwise copy stencil\n",
    "    tic = timeit.default_timer()\n",
    "    for iter in range(N_ITER):\n",
    "        for k in range(NZ):\n",
    "            for j in range(NY):\n",
    "                for i in range(NX):\n",
    "                    out_field[k, j, i] = math.sin(in_field[k, j, i])\n",
    "        if iter < N_ITER - 1:\n",
    "            in_field, out_field = out_field, in_field\n",
    "    toc = timeit.default_timer()\n",
    "\n",
    "    if plot:\n",
    "        plot_field(out_field)\n",
    "\n",
    "    return toc - tic"
   ]
  },
  {
   "cell_type": "code",
   "execution_count": 12,
   "id": "e99ba649-16b8-405b-98a5-d73b4fb719f1",
   "metadata": {},
   "outputs": [
    {
     "name": "stdout",
     "output_type": "stream",
     "text": [
      "22.8 s ± 23.4 ms per loop (mean ± std. dev. of 7 runs, 1 loop each)\n"
     ]
    }
   ],
   "source": [
    "%%timeit\n",
    "in_field, out_field = initialize_fields(NX, NY, NZ, mode=\"square\")\n",
    "array_sin_pointwise(in_field, out_field)"
   ]
  },
  {
   "cell_type": "code",
   "execution_count": 13,
   "id": "b75ae958-3d3d-46ce-9eb6-610cf4d1abef",
   "metadata": {},
   "outputs": [],
   "source": [
    "def numpy_pointwise(in_field, out_field, plot=False):\n",
    "    \"\"\"\n",
    "    The simplest pointwise stencil (copy) with arrays  N_ITER times.\n",
    "    The output is the time it took to run the stencil function in seconds.\n",
    "    \"\"\"\n",
    "    # Apply pointwise copy stencil\n",
    "    tic = timeit.default_timer()\n",
    "    for iter in range(N_ITER):\n",
    "        out_field = in_field.copy()\n",
    "        if iter < N_ITER - 1:\n",
    "            in_field, out_field = out_field, in_field\n",
    "    toc = timeit.default_timer()\n",
    "\n",
    "    if plot:\n",
    "        plot_field(out_field)\n",
    "    \n",
    "    return toc - tic"
   ]
  },
  {
   "cell_type": "code",
   "execution_count": 14,
   "id": "c33bed99-b542-4c9a-bd02-30d516fe536d",
   "metadata": {},
   "outputs": [
    {
     "name": "stdout",
     "output_type": "stream",
     "text": [
      "60.8 ms ± 562 µs per loop (mean ± std. dev. of 7 runs, 10 loops each)\n"
     ]
    }
   ],
   "source": [
    "%%timeit\n",
    "in_field, out_field = initialize_fields(NX, NY, NZ, mode=\"square\")\n",
    "numpy_pointwise(in_field, out_field)"
   ]
  },
  {
   "cell_type": "code",
   "execution_count": 15,
   "id": "22ae216b-22b8-4dc0-90f7-fa85469aca68",
   "metadata": {},
   "outputs": [],
   "source": [
    "def numpy_sin_pointwise(in_field, out_field, plot=False):\n",
    "    \"\"\"\n",
    "    Pointwise stencil with arrays and without X,Y,Z loops applying sin() to each point N_ITER times.\n",
    "    The output is the time it took to run the stencil function in seconds.\n",
    "    \"\"\"    \n",
    "    # Apply pointwise copy stencil\n",
    "    tic = timeit.default_timer()\n",
    "    for iter in range(N_ITER):\n",
    "        out_field = np.sin(in_field)\n",
    "        if iter < N_ITER - 1:\n",
    "            in_field, out_field = out_field, in_field\n",
    "    toc = timeit.default_timer()\n",
    "    \n",
    "    if plot:\n",
    "        plot_field(out_field)\n",
    "\n",
    "    return toc - tic"
   ]
  },
  {
   "cell_type": "code",
   "execution_count": 16,
   "id": "470c8a18-fc60-4d74-bcd7-026a1fa5184b",
   "metadata": {},
   "outputs": [
    {
     "name": "stdout",
     "output_type": "stream",
     "text": [
      "406 ms ± 736 µs per loop (mean ± std. dev. of 7 runs, 1 loop each)\n"
     ]
    }
   ],
   "source": [
    "%%timeit \n",
    "in_field, out_field = initialize_fields(NX, NY, NZ, mode=\"square\")\n",
    "numpy_sin_pointwise(in_field, out_field)"
   ]
  },
  {
   "cell_type": "markdown",
   "id": "058cf46e-39ba-4828-83f9-8916a8ae2cf6",
   "metadata": {},
   "source": [
    "The conclusion of these first tests is that Python loops are **terribly slow**. And using NumPy arrays incorrectly, i.e., keeping the `for` loops makes things even worse.\n",
    "\n",
    "However, if we use **NumPy arrays** correctly we increase a lot the performance. The simplest pointwise stencil (copy) is **~150x faster**, and the pointwise stencil applying `sin()` is **~7x faster**."
   ]
  },
  {
   "cell_type": "markdown",
   "id": "cec9655c-a9ae-40fb-b162-b0d504390185",
   "metadata": {},
   "source": [
    "# 1D stencils\n",
    "\n",
    "1D stencils updating with values from the same row or same colum only and with periodic boundary conditions.\n",
    "\n",
    "$$\n",
    "a(i,j) = \\frac{1}{2} \\Big[b(i+1,j) - b(i,j)\\Big]\n",
    "$$\n",
    "\n",
    "$$\n",
    "a(i,j) = \\frac{1}{2} \\Big[b(i,j+1) - b(i,j)\\Big]\n",
    "$$\n",
    "\n",
    "The facotr 1/2 is to avoid getting huge numbers when `N_ITER` is large with the simple initialization patterns we defined before."
   ]
  },
  {
   "cell_type": "markdown",
   "id": "e0ea3341-39c4-4228-a0bc-66ba39bb16b6",
   "metadata": {},
   "source": [
    "###  Same column: $a(i,j) = \\frac{1}{2} \\Big[b(i+1,j) - b(i,j)\\Big]$"
   ]
  },
  {
   "cell_type": "code",
   "execution_count": 17,
   "id": "a687c19b-9579-4f94-ab55-5c1067e2b6a6",
   "metadata": {},
   "outputs": [],
   "source": [
    "def list_1D_same_col_row_update(in_field, out_field, plot=False):\n",
    "    # Apply 1D stencil\n",
    "    tic = timeit.default_timer()\n",
    "    for iter in range(N_ITER):\n",
    "        for k in range(NZ):\n",
    "            for i in range(NX - 1):\n",
    "                for j in range(NY):\n",
    "                    out_field[k][j][i] = 0.5 * (in_field[k][j][i+1] - in_field[k][j][i])\n",
    "                    # Periodic boundary condition\n",
    "                    out_field[k][j][NX-1] = 0.5 * (in_field[k][j][0] - in_field[k][j][NX-1])\n",
    "        if iter < N_ITER - 1:\n",
    "            in_field, out_field = out_field, in_field\n",
    "    toc = timeit.default_timer()\n",
    "\n",
    "    if plot:\n",
    "        plot_field(out_field)\n",
    "        \n",
    "    return toc - tic"
   ]
  },
  {
   "cell_type": "code",
   "execution_count": 18,
   "id": "66eb00c1-1246-4e45-87ca-ca5f43d48d87",
   "metadata": {},
   "outputs": [
    {
     "data": {
      "image/png": "[encoded data removed]",
      "text/plain": [
       "<Figure size 700x500 with 2 Axes>"
      ]
     },
     "metadata": {
      "needs_background": "light"
     },
     "output_type": "display_data"
    }
   ],
   "source": [
    "in_field, out_field = initialize_fields(NX, NY, NZ, mode=\"vertical-bars\")\n",
    "list_1D_same_col_row_update(in_field.tolist(), out_field.tolist(), plot=True);"
   ]
  },
  {
   "cell_type": "code",
   "execution_count": 19,
   "id": "b3eb18a2-4212-4baa-a526-dbc3230cc8c3",
   "metadata": {},
   "outputs": [
    {
     "name": "stdout",
     "output_type": "stream",
     "text": [
      "36.7 s ± 71.4 ms per loop (mean ± std. dev. of 7 runs, 1 loop each)\n"
     ]
    }
   ],
   "source": [
    "%timeit list_1D_same_col_row_update(in_field.tolist(), out_field.tolist())"
   ]
  },
  {
   "cell_type": "code",
   "execution_count": 20,
   "id": "48fc5425-e110-467a-9ad3-e54d9ad59922",
   "metadata": {},
   "outputs": [],
   "source": [
    "def list_1D_same_col_col_update(in_field, out_field, plot=False):\n",
    "    # Apply 1D stencil\n",
    "    tic = timeit.default_timer()\n",
    "    for iter in range(N_ITER):\n",
    "        for k in range(NZ):\n",
    "            for j in range(NY):\n",
    "                for i in range(NX - 1):\n",
    "                    out_field[k][j][i] = 0.5 * (in_field[k][j][i+1] - in_field[k][j][i])\n",
    "                out_field[k][j][NX-1] = 0.5 * (in_field[k][j][0] - in_field[k][j][NX-1])\n",
    "        if iter < N_ITER - 1:\n",
    "            in_field, out_field = out_field, in_field\n",
    "    toc = timeit.default_timer()\n",
    "\n",
    "    if plot:\n",
    "        plot_field(out_field)\n",
    "        \n",
    "    return toc - tic"
   ]
  },
  {
   "cell_type": "code",
   "execution_count": 21,
   "id": "f663b5c9-4a33-4300-bb23-1d2e0c0efa8b",
   "metadata": {},
   "outputs": [
    {
     "name": "stdout",
     "output_type": "stream",
     "text": [
      "15.1 s ± 18.3 ms per loop (mean ± std. dev. of 7 runs, 1 loop each)\n"
     ]
    }
   ],
   "source": [
    "%timeit list_1D_same_col_col_update(in_field.tolist(), out_field.tolist())"
   ]
  },
  {
   "cell_type": "markdown",
   "id": "2cd95dbc-ea1a-493a-a9a1-4d16057f032c",
   "metadata": {},
   "source": [
    "If our stencil update only uses values from the same row, we should loop the field row-wise to maximize the cache hits. Working with python lists the performance difference is very noticeable."
   ]
  },
  {
   "cell_type": "code",
   "execution_count": 22,
   "id": "cbc1ac10-24d4-41db-9b96-3b810335220d",
   "metadata": {},
   "outputs": [],
   "source": [
    "def array_1D_same_col_row_update(in_field, out_field, plot=False):\n",
    "    # Apply 1D stencil\n",
    "    tic = timeit.default_timer()\n",
    "    \n",
    "    for iter in range(N_ITER):\n",
    "        for k in range(NZ):\n",
    "            for i in range(NX - 1):\n",
    "                for j in range(NY):\n",
    "                    out_field[k, j, i] = 0.5 * (in_field[k, j, i+1] - in_field[k, j, i])\n",
    "                    # Periodic boundary condition\n",
    "                    out_field[k, j, NX-1] = 0.5 * (in_field[k, j, 0] - in_field[k, j, NX-1])\n",
    "        \n",
    "        if iter < N_ITER - 1:\n",
    "            in_field, out_field = out_field, in_field\n",
    "    \n",
    "    toc = timeit.default_timer()\n",
    "\n",
    "    if plot:\n",
    "        plot_field(out_field)\n",
    "        \n",
    "    return toc - tic"
   ]
  },
  {
   "cell_type": "code",
   "execution_count": 23,
   "id": "e324be05-03b2-4fca-87a3-fb8c25c61262",
   "metadata": {},
   "outputs": [
    {
     "name": "stdout",
     "output_type": "stream",
     "text": [
      "1min 15s ± 1.19 s per loop (mean ± std. dev. of 7 runs, 1 loop each)\n"
     ]
    }
   ],
   "source": [
    "%%timeit\n",
    "in_field, out_field = initialize_fields(NX, NY, NZ, mode=\"vertical-bars\")\n",
    "array_1D_same_col_row_update(in_field, out_field)"
   ]
  },
  {
   "cell_type": "code",
   "execution_count": 24,
   "id": "dcec644b-4014-4be5-b484-58142ad59d57",
   "metadata": {},
   "outputs": [],
   "source": [
    "def array_1D_same_col_col_update(in_field, out_field, plot=False):\n",
    "    # Apply 1D stencil\n",
    "    tic = timeit.default_timer()\n",
    "    \n",
    "    for iter in range(N_ITER):\n",
    "        for k in range(NZ):\n",
    "            for j in range(NY):\n",
    "                for i in range(NX - 1):\n",
    "                    out_field[k, j, i] = 0.5 * (in_field[k, j, i+1] - in_field[k, j, i])\n",
    "                    # Periodic boundary condition\n",
    "                out_field[k, j, NX-1] = 0.5 * (in_field[k, j, 0] - in_field[k, j, NX-1])\n",
    "        \n",
    "        if iter < N_ITER - 1:\n",
    "            in_field, out_field = out_field, in_field\n",
    "    \n",
    "    toc = timeit.default_timer()\n",
    "\n",
    "    if plot:\n",
    "        plot_field(out_field)\n",
    "        \n",
    "    return toc - tic"
   ]
  },
  {
   "cell_type": "code",
   "execution_count": 25,
   "id": "0fb1cef8-c6a6-4b88-8cf9-c10e0ae1f26b",
   "metadata": {},
   "outputs": [
    {
     "name": "stdout",
     "output_type": "stream",
     "text": [
      "34.2 s ± 1.07 s per loop (mean ± std. dev. of 7 runs, 1 loop each)\n"
     ]
    }
   ],
   "source": [
    "%%timeit\n",
    "in_field, out_field = initialize_fields(NX, NY, NZ, mode=\"vertical-bars\")\n",
    "array_1D_same_col_col_update(in_field, out_field)"
   ]
  },
  {
   "cell_type": "code",
   "execution_count": 26,
   "id": "7b2deb09-dffb-4d5e-852d-793a6031e263",
   "metadata": {},
   "outputs": [],
   "source": [
    "def numpy_1D_same_col(in_field, out_field, plot=False):    \n",
    "    # Apply 1D stencil\n",
    "    tic = timeit.default_timer()\n",
    "    for iter in range(N_ITER):\n",
    "        out_field[:, :, :-1] = 0.5 * (in_field[:, :, 1:] - in_field[:, :, :-1])\n",
    "        # Periodic boundary condition\n",
    "        out_field[:, :, -1] = 0.5 * (in_field[:, :, 0] - in_field[:, :, -1])\n",
    "        if iter < N_ITER - 1:\n",
    "            in_field, out_field = out_field, in_field\n",
    "    toc = timeit.default_timer()\n",
    "\n",
    "    if plot:\n",
    "        plot_field(out_field)\n",
    "\n",
    "    return toc - tic"
   ]
  },
  {
   "cell_type": "code",
   "execution_count": 27,
   "id": "8d17fb46-7ba0-4fea-92ea-915264bd4df1",
   "metadata": {},
   "outputs": [
    {
     "name": "stdout",
     "output_type": "stream",
     "text": [
      "202 ms ± 1.81 ms per loop (mean ± std. dev. of 7 runs, 10 loops each)\n"
     ]
    }
   ],
   "source": [
    "%%timeit\n",
    "in_field, out_field = initialize_fields(NX, NY, NZ, mode=\"vertical-bars\", order=\"C\")\n",
    "numpy_1D_same_col(in_field, out_field)"
   ]
  },
  {
   "cell_type": "code",
   "execution_count": 28,
   "id": "ed15e06b-da81-487d-b0fe-02dc9960745c",
   "metadata": {},
   "outputs": [
    {
     "name": "stdout",
     "output_type": "stream",
     "text": [
      "135 ms ± 365 µs per loop (mean ± std. dev. of 7 runs, 10 loops each)\n"
     ]
    }
   ],
   "source": [
    "%%timeit \n",
    "in_field, out_field = initialize_fields(NX, NY, NZ, mode=\"vertical-bars\", order=\"F\")\n",
    "numpy_1D_same_col(in_field, out_field)"
   ]
  },
  {
   "cell_type": "markdown",
   "id": "d317b320-3576-4e65-a4bb-612f1f2d5492",
   "metadata": {},
   "source": [
    "By default, NumPy arrays are stored row-wise (C style), but this can be changed using the argument `order`. That is why we see a performance increase if we explicitly initialized the fields col-wise (Fortran style)."
   ]
  },
  {
   "cell_type": "markdown",
   "id": "f185cf84-39d2-41c4-8298-9ab35c8d2f35",
   "metadata": {},
   "source": [
    "## Same row: $a(i,j) = \\frac{1}{2} \\Big[b(i,j+1) - b(i,j)\\Big]$"
   ]
  },
  {
   "cell_type": "code",
   "execution_count": 29,
   "id": "87281c29-de33-4c50-963d-93a0c2a6dee6",
   "metadata": {},
   "outputs": [],
   "source": [
    "def list_1D_same_row_row_update(in_field, out_field, plot=False):\n",
    "    # Apply 1D stencil\n",
    "    tic = timeit.default_timer()\n",
    "    for iter in range(N_ITER):\n",
    "        for k in range(NZ):\n",
    "            for i in range(NX):\n",
    "                for j in range(NY-1):\n",
    "                    out_field[k][j][i] = 0.5 * (in_field[k][j+1][i] - in_field[k][j][i])\n",
    "                out_field[k][NY-1][i] = 0.5 * (in_field[k][0][i] - in_field[k][NY-1][i])\n",
    "        if iter < N_ITER - 1:\n",
    "            in_field, out_field = out_field, in_field\n",
    "    toc = timeit.default_timer()\n",
    "\n",
    "    if plot:\n",
    "        plot_field(out_field)\n",
    "        \n",
    "    return toc - tic"
   ]
  },
  {
   "cell_type": "code",
   "execution_count": 30,
   "id": "d46921bd-09ba-4710-b417-85fb1ae17a61",
   "metadata": {},
   "outputs": [
    {
     "data": {
      "image/png": "[encoded data removed]",
      "text/plain": [
       "<Figure size 700x500 with 2 Axes>"
      ]
     },
     "metadata": {
      "needs_background": "light"
     },
     "output_type": "display_data"
    }
   ],
   "source": [
    "in_field, out_field = initialize_fields(NX, NY, NZ, mode=\"horizontal-bars\", order=\"C\")\n",
    "list_1D_same_row_row_update(in_field.tolist(), out_field.tolist(), plot=True);"
   ]
  },
  {
   "cell_type": "code",
   "execution_count": 31,
   "id": "14912595-6ba5-4823-8517-b75c877b7f31",
   "metadata": {},
   "outputs": [
    {
     "name": "stdout",
     "output_type": "stream",
     "text": [
      "16.8 s ± 43.9 ms per loop (mean ± std. dev. of 7 runs, 1 loop each)\n"
     ]
    }
   ],
   "source": [
    "%timeit list_1D_same_row_row_update(in_field.tolist(), out_field.tolist())"
   ]
  },
  {
   "cell_type": "code",
   "execution_count": 32,
   "id": "8f400275-3f21-45b8-b6b3-071bef9cb726",
   "metadata": {},
   "outputs": [],
   "source": [
    "def list_1D_same_row_col_update(in_field, out_field, plot=False):\n",
    "    # Apply 1D stencil\n",
    "    tic = timeit.default_timer()\n",
    "    for iter in range(N_ITER):\n",
    "        for k in range(NZ):\n",
    "            for j in range(NY-1):\n",
    "                for i in range(NX):\n",
    "                    out_field[k][j][i] = 0.5 * (in_field[k][j+1][i] - in_field[k][j][i])\n",
    "                    out_field[k][NY-1][i] = 0.5 * (in_field[k][0][i] - in_field[k][NY-1][i])\n",
    "        if iter < N_ITER - 1:\n",
    "            in_field, out_field = out_field, in_field\n",
    "    toc = timeit.default_timer()\n",
    "\n",
    "    if plot:\n",
    "        plot_field(out_field)\n",
    "        \n",
    "    return toc - tic"
   ]
  },
  {
   "cell_type": "code",
   "execution_count": 33,
   "id": "1720077e-628e-4e1f-9724-90cf5d4ee3ba",
   "metadata": {},
   "outputs": [
    {
     "name": "stdout",
     "output_type": "stream",
     "text": [
      "33.9 s ± 68.5 ms per loop (mean ± std. dev. of 7 runs, 1 loop each)\n"
     ]
    }
   ],
   "source": [
    "%timeit list_1D_same_row_col_update(in_field.tolist(), out_field.tolist())"
   ]
  },
  {
   "cell_type": "markdown",
   "id": "2e76ae26-78c1-4776-892b-ef6cd7d88ab0",
   "metadata": {},
   "source": [
    "Similary, if our stencil update only uses values from the same col, we should loop the field col-wise to benefit from the cache."
   ]
  },
  {
   "cell_type": "code",
   "execution_count": 34,
   "id": "5e5e94aa-4f04-4ac3-bde1-1e47e6b8e324",
   "metadata": {},
   "outputs": [],
   "source": [
    "def array_1D_same_row_row_update(in_field, out_field, plot=False):\n",
    "    # Apply 1D stencil\n",
    "    tic = timeit.default_timer()\n",
    "    for iter in range(N_ITER):\n",
    "        for k in range(NZ):\n",
    "            for i in range(NX):\n",
    "                for j in range(NY-1):\n",
    "                    out_field[k, j, i] = 0.5 * (in_field[k, j+1, i] - in_field[k, j, i])\n",
    "                out_field[k, NY-1, i] = 0.5 * (in_field[k, 0, i] - in_field[k, NY-1, i])\n",
    "        if iter < N_ITER - 1:\n",
    "            in_field, out_field = out_field, in_field\n",
    "    toc = timeit.default_timer()\n",
    "\n",
    "    if plot:\n",
    "        plot_field(out_field)\n",
    "        \n",
    "    return toc - tic"
   ]
  },
  {
   "cell_type": "code",
   "execution_count": 35,
   "id": "5d6c9104-9549-4e9d-ab41-47131d5af5a9",
   "metadata": {},
   "outputs": [
    {
     "name": "stdout",
     "output_type": "stream",
     "text": [
      "33.6 s ± 210 ms per loop (mean ± std. dev. of 7 runs, 1 loop each)\n"
     ]
    }
   ],
   "source": [
    "%%timeit\n",
    "in_field, out_field = initialize_fields(NX, NY, NZ, mode=\"horizontal-bars\")\n",
    "array_1D_same_row_row_update(in_field, out_field)"
   ]
  },
  {
   "cell_type": "code",
   "execution_count": 36,
   "id": "72ef6938-7e10-4a6c-bccc-ea414cc5954a",
   "metadata": {},
   "outputs": [],
   "source": [
    "def array_1D_same_row_col_update(in_field, out_field, plot=False):\n",
    "    tic = timeit.default_timer()\n",
    "\n",
    "    # Apply 1D stencil\n",
    "    for iter in range(N_ITER):\n",
    "        for k in range(NZ):\n",
    "            for j in range(NY - 1):\n",
    "                for i in range(NX):\n",
    "                    out_field[k, j, i] = 0.5 * (in_field[k, j+1, i] - in_field[k, j, i])\n",
    "                    out_field[k, NY-1, i] = 0.5 * (in_field[k, 0, i] - in_field[k, NY-1, i])\n",
    "        \n",
    "        if iter < N_ITER - 1:\n",
    "            in_field, out_field = out_field, in_field\n",
    "    \n",
    "    toc = timeit.default_timer()\n",
    "\n",
    "    if plot:\n",
    "        plot_field(out_field)\n",
    "        \n",
    "    return toc - tic"
   ]
  },
  {
   "cell_type": "code",
   "execution_count": 37,
   "id": "35f17818-0896-428f-bfc0-37a2d33def0d",
   "metadata": {},
   "outputs": [
    {
     "name": "stdout",
     "output_type": "stream",
     "text": [
      "1min 13s ± 228 ms per loop (mean ± std. dev. of 7 runs, 1 loop each)\n"
     ]
    }
   ],
   "source": [
    "%%timeit\n",
    "in_field, out_field = initialize_fields(NX, NY, NZ, mode=\"horizontal-bars\")\n",
    "array_1D_same_row_col_update(in_field, out_field)"
   ]
  },
  {
   "cell_type": "code",
   "execution_count": 38,
   "id": "7039b3e9-9b56-4626-a363-e75634e0ab24",
   "metadata": {},
   "outputs": [],
   "source": [
    "def numpy_1D_same_row(in_field, out_field, plot=False):    \n",
    "    # Apply 1D stencil\n",
    "    tic = timeit.default_timer()\n",
    "    for iter in range(N_ITER):\n",
    "        out_field[:, :-1, :] = 0.5 * (in_field[:, 1:, :] - in_field[:, :-1, :])\n",
    "        # Periodic boundary condition\n",
    "        out_field[:, -1, :] = 0.5 * (in_field[:, 0, :] - in_field[:, -1, :])\n",
    "        if iter < N_ITER - 1:\n",
    "            in_field, out_field = out_field, in_field\n",
    "    toc = timeit.default_timer()\n",
    "\n",
    "    if plot:\n",
    "        plot_field(out_field)\n",
    "\n",
    "    return toc - tic"
   ]
  },
  {
   "cell_type": "code",
   "execution_count": 39,
   "id": "715f7da9-9e1b-4b0d-bbe6-ad5d8781e93a",
   "metadata": {},
   "outputs": [
    {
     "name": "stdout",
     "output_type": "stream",
     "text": [
      "126 ms ± 109 µs per loop (mean ± std. dev. of 7 runs, 10 loops each)\n"
     ]
    }
   ],
   "source": [
    "%%timeit \n",
    "in_field, out_field = initialize_fields(NX, NY, NZ, mode=\"horizontal-bars\", order=\"C\")\n",
    "numpy_1D_same_row(in_field, out_field)"
   ]
  },
  {
   "cell_type": "code",
   "execution_count": 40,
   "id": "1848b208-13d5-4358-97dc-0e4029e9ebc5",
   "metadata": {},
   "outputs": [
    {
     "name": "stdout",
     "output_type": "stream",
     "text": [
      "125 ms ± 261 µs per loop (mean ± std. dev. of 7 runs, 10 loops each)\n"
     ]
    }
   ],
   "source": [
    "%%timeit \n",
    "in_field, out_field = initialize_fields(NX, NY, NZ, mode=\"horizontal-bars\", order=\"F\")\n",
    "numpy_1D_same_row(in_field, out_field)"
   ]
  },
  {
   "cell_type": "markdown",
   "id": "ac342d03-31b8-4794-b10e-3bb7ad8c0547",
   "metadata": {},
   "source": [
    "This result is a bit surprising because we cannot replicate the effect observed before with the 1D stencil using values from the same column. In this case, how fields are stored in memory almost does not impact the time.\n",
    "\n",
    "TODO: this is weird!"
   ]
  },
  {
   "cell_type": "markdown",
   "id": "8ee1edd6-4058-4cad-b492-66cc101646a3",
   "metadata": {},
   "source": [
    "## 2D stencil\n",
    "\n",
    "The last stencil we will check is the 4th-order non-monotonic diffusion we used during the course, which is defined in terms of the Laplace operator as\n",
    "\n",
    "$$\n",
    "a(i, j) = \\Delta(\\Delta(b(i, j)))\n",
    "$$\n",
    "\n",
    "Since it is already clear from the experiments with pointwise and 1D stencils, that python `for` loops are very slow. Here we will only run the numpy implementation from `stencil2d.py` given in the course. This will set the base time to improve using the different high-level programming techniques available in Python (which will be tested in different notebooks)."
   ]
  },
  {
   "cell_type": "code",
   "execution_count": 41,
   "id": "d2fb44b5-eee4-412a-a5b6-fd4e00d6ace8",
   "metadata": {},
   "outputs": [],
   "source": [
    "from stencil2d import apply_diffusion as numpy_2D"
   ]
  },
  {
   "cell_type": "code",
   "execution_count": 42,
   "id": "b6f03699-292c-4c7d-9246-78ec82ef57c7",
   "metadata": {},
   "outputs": [
    {
     "data": {
      "image/png": "[encoded data removed]",
      "text/plain": [
       "<Figure size 700x500 with 2 Axes>"
      ]
     },
     "metadata": {
      "needs_background": "light"
     },
     "output_type": "display_data"
    }
   ],
   "source": [
    "in_field, out_field = initialize_fields(NX, NY, NZ, mode=\"square\")\n",
    "plot_field(in_field)"
   ]
  },
  {
   "cell_type": "code",
   "execution_count": 43,
   "id": "2dd6c60b-7b70-445f-9acc-280f50c362b0",
   "metadata": {},
   "outputs": [],
   "source": [
    "numpy_2D(in_field, out_field, num_halo=2, num_iter=N_ITER)"
   ]
  },
  {
   "cell_type": "code",
   "execution_count": 44,
   "id": "fbb4eef9-7015-49ce-99b7-bfffe693145d",
   "metadata": {},
   "outputs": [
    {
     "data": {
      "image/png": "[encoded data removed]",
      "text/plain": [
       "<Figure size 700x500 with 2 Axes>"
      ]
     },
     "metadata": {
      "needs_background": "light"
     },
     "output_type": "display_data"
    }
   ],
   "source": [
    "plot_field(out_field)"
   ]
  },
  {
   "cell_type": "code",
   "execution_count": 45,
   "id": "6c3c283f-e091-4da6-bce7-094daf577b32",
   "metadata": {},
   "outputs": [
    {
     "name": "stdout",
     "output_type": "stream",
     "text": [
      "1.23 s ± 287 µs per loop (mean ± std. dev. of 7 runs, 1 loop each)\n"
     ]
    }
   ],
   "source": [
    "%%timeit\n",
    "in_field, out_field = initialize_fields(NX, NY, NZ, mode=\"square\")\n",
    "numpy_2D(in_field, out_field, num_halo=2, num_iter=N_ITER)"
   ]
  },
  {
   "cell_type": "markdown",
   "id": "c180ed14-3b11-4b76-a26d-dacf765b0696",
   "metadata": {},
   "source": [
    "# Appendices"
   ]
  },
  {
   "cell_type": "markdown",
   "id": "9894280d-8fd3-4af5-a710-133e624015fb",
   "metadata": {},
   "source": [
    "## np.sin() vs math.sin()\n",
    "\n",
    "There is no doubt that `np.sin()` is faster than `math.sin()` when applied to large NumPy arrays. But this function has an overhead cost when applied to single elements. Here we show that `math.sin()` is more efficient than `np.sin()` when applied to 4 or less elements. However, the overhead of a Python loop is even worse than the overhead of `np.sin()`."
   ]
  },
  {
   "cell_type": "code",
   "execution_count": 46,
   "id": "ff971006-ff67-4fc7-809f-2080063cacbc",
   "metadata": {},
   "outputs": [],
   "source": [
    "rng = np.random.default_rng()\n",
    "x = rng.random(100)"
   ]
  },
  {
   "cell_type": "markdown",
   "id": "28d5d3f4-c50d-4322-bf3f-3e8c4cf13cd0",
   "metadata": {},
   "source": [
    "`np.sin()` is ~7.7 times slower than `math.sin()` when applied to a single value."
   ]
  },
  {
   "cell_type": "code",
   "execution_count": 47,
   "id": "47289d53-ccdb-4469-a5eb-cd44679facdc",
   "metadata": {},
   "outputs": [
    {
     "name": "stdout",
     "output_type": "stream",
     "text": [
      "174 ns ± 1.01 ns per loop (mean ± std. dev. of 7 runs, 10,000,000 loops each)\n"
     ]
    }
   ],
   "source": [
    "%timeit math.sin(x[0])"
   ]
  },
  {
   "cell_type": "code",
   "execution_count": 48,
   "id": "d8de19aa-62c1-4892-9d21-0d67199b8cf8",
   "metadata": {},
   "outputs": [
    {
     "name": "stdout",
     "output_type": "stream",
     "text": [
      "728 ns ± 1.01 ns per loop (mean ± std. dev. of 7 runs, 1,000,000 loops each)\n"
     ]
    }
   ],
   "source": [
    "%timeit np.sin(x[0])"
   ]
  },
  {
   "cell_type": "markdown",
   "id": "9989375d-6340-486a-b69a-b900e4248f8f",
   "metadata": {},
   "source": [
    "However, we loose part of this performance the moment we use a single for loop."
   ]
  },
  {
   "cell_type": "code",
   "execution_count": 49,
   "id": "1be4550f-38f7-44ba-8f32-80cae9d2e7b6",
   "metadata": {},
   "outputs": [
    {
     "name": "stdout",
     "output_type": "stream",
     "text": [
      "354 ns ± 0.344 ns per loop (mean ± std. dev. of 7 runs, 1,000,000 loops each)\n"
     ]
    }
   ],
   "source": [
    "%timeit for i in range(1): math.sin(x[i])"
   ]
  },
  {
   "cell_type": "code",
   "execution_count": 50,
   "id": "bcc5935d-6c48-4ccd-8cf7-8e77d9b87170",
   "metadata": {},
   "outputs": [
    {
     "name": "stdout",
     "output_type": "stream",
     "text": [
      "599 ns ± 0.749 ns per loop (mean ± std. dev. of 7 runs, 1,000,000 loops each)\n"
     ]
    }
   ],
   "source": [
    "%timeit np.sin(x[:1])"
   ]
  },
  {
   "cell_type": "markdown",
   "id": "b8bda154-bd2a-47a8-81e6-f6af45b0ebb5",
   "metadata": {},
   "source": [
    "In any case, even without for loops, `math.sin()` becomes slower than `np.sin()` the moment we need to compute more than four values."
   ]
  },
  {
   "cell_type": "code",
   "execution_count": 51,
   "id": "7d241b05-af0e-4975-82c5-c639bd2ca584",
   "metadata": {},
   "outputs": [
    {
     "name": "stdout",
     "output_type": "stream",
     "text": [
      "1.04 µs ± 0.707 ns per loop (mean ± std. dev. of 7 runs, 1,000,000 loops each)\n"
     ]
    }
   ],
   "source": [
    "%timeit math.sin(x[0]), math.sin(x[1]), math.sin(x[2]), math.sin(x[3]), math.sin(x[4]), math.sin(x[5])"
   ]
  },
  {
   "cell_type": "code",
   "execution_count": 52,
   "id": "eca44b31-af67-48f1-b29e-9ad6fc83adc9",
   "metadata": {},
   "outputs": [
    {
     "name": "stdout",
     "output_type": "stream",
     "text": [
      "649 ns ± 0.316 ns per loop (mean ± std. dev. of 7 runs, 1,000,000 loops each)\n"
     ]
    }
   ],
   "source": [
    "%timeit np.sin(x[:6])"
   ]
  },
  {
   "cell_type": "markdown",
   "id": "f77b3318-a859-4061-9b4f-2deeae3805d3",
   "metadata": {},
   "source": [
    "This is because `np.sin()` computes these values in parallel, while the `math.sin()` computes them sequentially."
   ]
  },
  {
   "cell_type": "markdown",
   "id": "5ac3fede-c6a6-4843-846c-b42299d9ed7c",
   "metadata": {},
   "source": [
    "## Different dtypes affect performance\n",
    "\n",
    "NumPy supports defines different data type (dtype) objects which describes how the bytes in the fixed-size block of memory corresponding to an array item should be interpreted. By default, NumPy will choose a proper dtype depending on the input passing to the constructor. However, we are free to change this default behaviour by specifying manually the dtype. As expected, and quickly demonstrated here using the `numpy_sin_pointwise()` function, this choice can also impact the performance of our stencil model."
   ]
  },
  {
   "cell_type": "code",
   "execution_count": 53,
   "id": "d8b8ac2d-6985-4bed-8fe4-6a58dced4605",
   "metadata": {},
   "outputs": [],
   "source": [
    "dtypes_ = [np.float16, np.float32, np.float64, np.float128]"
   ]
  },
  {
   "cell_type": "code",
   "execution_count": 54,
   "id": "511c5322-415b-42b5-9ba6-1a21ce467ff0",
   "metadata": {},
   "outputs": [
    {
     "name": "stdout",
     "output_type": "stream",
     "text": [
      "766 ms ± 419 µs per loop (mean ± std. dev. of 7 runs, 1 loop each)\n"
     ]
    }
   ],
   "source": [
    "%%timeit\n",
    "in_field, out_field = initialize_fields(NX, NY, NZ, mode=\"square\", dtype=dtypes_[0])\n",
    "numpy_sin_pointwise(in_field, out_field)"
   ]
  },
  {
   "cell_type": "code",
   "execution_count": 55,
   "id": "44125a7a-f1f4-446b-9124-5bfd17236873",
   "metadata": {},
   "outputs": [
    {
     "name": "stdout",
     "output_type": "stream",
     "text": [
      "102 ms ± 18.8 µs per loop (mean ± std. dev. of 7 runs, 10 loops each)\n"
     ]
    }
   ],
   "source": [
    "%%timeit\n",
    "in_field, out_field = initialize_fields(NX, NY, NZ, mode=\"square\", dtype=dtypes_[1])\n",
    "numpy_sin_pointwise(in_field, out_field)"
   ]
  },
  {
   "cell_type": "code",
   "execution_count": 56,
   "id": "a765c5ae-af68-4968-8629-02032ce28467",
   "metadata": {},
   "outputs": [
    {
     "name": "stdout",
     "output_type": "stream",
     "text": [
      "405 ms ± 323 µs per loop (mean ± std. dev. of 7 runs, 1 loop each)\n"
     ]
    }
   ],
   "source": [
    "%%timeit\n",
    "in_field, out_field = initialize_fields(NX, NY, NZ, mode=\"square\", dtype=dtypes_[2])\n",
    "numpy_sin_pointwise(in_field, out_field)"
   ]
  },
  {
   "cell_type": "code",
   "execution_count": 57,
   "id": "1b47adf2-afbe-4f56-8035-674f034ab5ef",
   "metadata": {},
   "outputs": [
    {
     "name": "stdout",
     "output_type": "stream",
     "text": [
      "977 ms ± 4.11 ms per loop (mean ± std. dev. of 7 runs, 1 loop each)\n"
     ]
    }
   ],
   "source": [
    "%%timeit\n",
    "in_field, out_field = initialize_fields(NX, NY, NZ, mode=\"square\", dtype=dtypes_[3])\n",
    "numpy_sin_pointwise(in_field, out_field)"
   ]
  },
  {
   "cell_type": "markdown",
   "id": "2e9f07df-249b-437f-9f67-b7877f894f1e",
   "metadata": {},
   "source": [
    "More numerical precision implies moving more data from and to memory."
   ]
  }
 ],
 "metadata": {
  "kernelspec": {
   "display_name": "HPC4WC_project12_kernel",
   "language": "python",
   "name": "hpc4wc_project12_kernel"
  },
  "language_info": {
   "codemirror_mode": {
    "name": "ipython",
    "version": 3
   },
   "file_extension": ".py",
   "mimetype": "text/x-python",
   "name": "python",
   "nbconvert_exporter": "python",
   "pygments_lexer": "ipython3",
   "version": "3.9.4"
  }
 },
 "nbformat": 4,
 "nbformat_minor": 5
}
